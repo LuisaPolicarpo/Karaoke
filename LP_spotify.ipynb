{
  "nbformat": 4,
  "nbformat_minor": 0,
  "metadata": {
    "colab": {
      "provenance": [],
      "mount_file_id": "1eMq7o0FFSJjgpmrx0MlS8_-_YgWnCtFZ",
      "authorship_tag": "ABX9TyNz+nbo1EWLbVsdt/06w3sp",
      "include_colab_link": true
    },
    "kernelspec": {
      "name": "python3",
      "display_name": "Python 3"
    },
    "language_info": {
      "name": "python"
    }
  },
  "cells": [
    {
      "cell_type": "markdown",
      "metadata": {
        "id": "view-in-github",
        "colab_type": "text"
      },
      "source": [
        "<a href=\"https://colab.research.google.com/github/Sebastiao199/Project4WebScrapStats/blob/main/LP_spotify.ipynb\" target=\"_parent\"><img src=\"https://colab.research.google.com/assets/colab-badge.svg\" alt=\"Open In Colab\"/></a>"
      ]
    },
    {
      "cell_type": "code",
      "execution_count": 1,
      "metadata": {
        "id": "-HOOVXbl1E-m"
      },
      "outputs": [],
      "source": [
        "import pandas as pd\n",
        "import seaborn as sns"
      ]
    },
    {
      "cell_type": "code",
      "source": [
        "spotify = pd.read_csv('https://raw.githubusercontent.com/Sebastiao199/Project4WebScrapStats/main/MainTables/spotify.csv')\n",
        "spotify"
      ],
      "metadata": {
        "colab": {
          "base_uri": "https://localhost:8080/",
          "height": 424
        },
        "id": "v0pvUGe22lEJ",
        "outputId": "3ed7047d-dfff-4d28-f744-2c28762868c8"
      },
      "execution_count": 2,
      "outputs": [
        {
          "output_type": "execute_result",
          "data": {
            "text/plain": [
              "        Unnamed: 0                track_id                 artists  \\\n",
              "0                0  5SuOikwiRyPMVoIQDJUgSV             Gen Hoshino   \n",
              "1                1  4qPNDBW1i3p13qLCt0Ki3A            Ben Woodward   \n",
              "2                2  1iJBSr7s7jYXzM8EGcbK5b  Ingrid Michaelson;ZAYN   \n",
              "3                3  6lfxq3CG4xtTiEg7opyCyx            Kina Grannis   \n",
              "4                4  5vjLSffimiIP26QG5WcN2K        Chord Overstreet   \n",
              "...            ...                     ...                     ...   \n",
              "113995      113995  2C3TZjDRiAzdyViavDJ217           Rainy Lullaby   \n",
              "113996      113996  1hIz5L4IB9hN3WRYPOCGPw           Rainy Lullaby   \n",
              "113997      113997  6x8ZfSoqDjuNa5SVP5QjvX           Cesária Evora   \n",
              "113998      113998  2e6sXL2bYv4bSz6VTdnfLs        Michael W. Smith   \n",
              "113999      113999  2hETkH7cOfqmz3LqZDHZf5           Cesária Evora   \n",
              "\n",
              "                                               album_name  \\\n",
              "0                                                  Comedy   \n",
              "1                                        Ghost (Acoustic)   \n",
              "2                                          To Begin Again   \n",
              "3       Crazy Rich Asians (Original Motion Picture Sou...   \n",
              "4                                                 Hold On   \n",
              "...                                                   ...   \n",
              "113995  #mindfulness - Soft Rain for Mindful Meditatio...   \n",
              "113996  #mindfulness - Soft Rain for Mindful Meditatio...   \n",
              "113997                                            Best Of   \n",
              "113998                                  Change Your World   \n",
              "113999                                     Miss Perfumado   \n",
              "\n",
              "                        track_name  popularity  duration_ms  explicit  \\\n",
              "0                           Comedy          73       230666     False   \n",
              "1                 Ghost - Acoustic          55       149610     False   \n",
              "2                   To Begin Again          57       210826     False   \n",
              "3       Can't Help Falling In Love          71       201933     False   \n",
              "4                          Hold On          82       198853     False   \n",
              "...                            ...         ...          ...       ...   \n",
              "113995         Sleep My Little Boy          21       384999     False   \n",
              "113996            Water Into Light          22       385000     False   \n",
              "113997              Miss Perfumado          22       271466     False   \n",
              "113998                     Friends          41       283893     False   \n",
              "113999                   Barbincor          22       241826     False   \n",
              "\n",
              "        danceability  energy  ...  loudness  mode  speechiness  acousticness  \\\n",
              "0              0.676  0.4610  ...    -6.746     0       0.1430        0.0322   \n",
              "1              0.420  0.1660  ...   -17.235     1       0.0763        0.9240   \n",
              "2              0.438  0.3590  ...    -9.734     1       0.0557        0.2100   \n",
              "3              0.266  0.0596  ...   -18.515     1       0.0363        0.9050   \n",
              "4              0.618  0.4430  ...    -9.681     1       0.0526        0.4690   \n",
              "...              ...     ...  ...       ...   ...          ...           ...   \n",
              "113995         0.172  0.2350  ...   -16.393     1       0.0422        0.6400   \n",
              "113996         0.174  0.1170  ...   -18.318     0       0.0401        0.9940   \n",
              "113997         0.629  0.3290  ...   -10.895     0       0.0420        0.8670   \n",
              "113998         0.587  0.5060  ...   -10.889     1       0.0297        0.3810   \n",
              "113999         0.526  0.4870  ...   -10.204     0       0.0725        0.6810   \n",
              "\n",
              "        instrumentalness  liveness  valence    tempo  time_signature  \\\n",
              "0               0.000001    0.3580   0.7150   87.917               4   \n",
              "1               0.000006    0.1010   0.2670   77.489               4   \n",
              "2               0.000000    0.1170   0.1200   76.332               4   \n",
              "3               0.000071    0.1320   0.1430  181.740               3   \n",
              "4               0.000000    0.0829   0.1670  119.949               4   \n",
              "...                  ...       ...      ...      ...             ...   \n",
              "113995          0.928000    0.0863   0.0339  125.995               5   \n",
              "113996          0.976000    0.1050   0.0350   85.239               4   \n",
              "113997          0.000000    0.0839   0.7430  132.378               4   \n",
              "113998          0.000000    0.2700   0.4130  135.960               4   \n",
              "113999          0.000000    0.0893   0.7080   79.198               4   \n",
              "\n",
              "        track_genre  \n",
              "0          acoustic  \n",
              "1          acoustic  \n",
              "2          acoustic  \n",
              "3          acoustic  \n",
              "4          acoustic  \n",
              "...             ...  \n",
              "113995  world-music  \n",
              "113996  world-music  \n",
              "113997  world-music  \n",
              "113998  world-music  \n",
              "113999  world-music  \n",
              "\n",
              "[114000 rows x 21 columns]"
            ],
            "text/html": [
              "\n",
              "  <div id=\"df-00eda465-84e4-4d59-a1ec-8103092fc4d5\">\n",
              "    <div class=\"colab-df-container\">\n",
              "      <div>\n",
              "<style scoped>\n",
              "    .dataframe tbody tr th:only-of-type {\n",
              "        vertical-align: middle;\n",
              "    }\n",
              "\n",
              "    .dataframe tbody tr th {\n",
              "        vertical-align: top;\n",
              "    }\n",
              "\n",
              "    .dataframe thead th {\n",
              "        text-align: right;\n",
              "    }\n",
              "</style>\n",
              "<table border=\"1\" class=\"dataframe\">\n",
              "  <thead>\n",
              "    <tr style=\"text-align: right;\">\n",
              "      <th></th>\n",
              "      <th>Unnamed: 0</th>\n",
              "      <th>track_id</th>\n",
              "      <th>artists</th>\n",
              "      <th>album_name</th>\n",
              "      <th>track_name</th>\n",
              "      <th>popularity</th>\n",
              "      <th>duration_ms</th>\n",
              "      <th>explicit</th>\n",
              "      <th>danceability</th>\n",
              "      <th>energy</th>\n",
              "      <th>...</th>\n",
              "      <th>loudness</th>\n",
              "      <th>mode</th>\n",
              "      <th>speechiness</th>\n",
              "      <th>acousticness</th>\n",
              "      <th>instrumentalness</th>\n",
              "      <th>liveness</th>\n",
              "      <th>valence</th>\n",
              "      <th>tempo</th>\n",
              "      <th>time_signature</th>\n",
              "      <th>track_genre</th>\n",
              "    </tr>\n",
              "  </thead>\n",
              "  <tbody>\n",
              "    <tr>\n",
              "      <th>0</th>\n",
              "      <td>0</td>\n",
              "      <td>5SuOikwiRyPMVoIQDJUgSV</td>\n",
              "      <td>Gen Hoshino</td>\n",
              "      <td>Comedy</td>\n",
              "      <td>Comedy</td>\n",
              "      <td>73</td>\n",
              "      <td>230666</td>\n",
              "      <td>False</td>\n",
              "      <td>0.676</td>\n",
              "      <td>0.4610</td>\n",
              "      <td>...</td>\n",
              "      <td>-6.746</td>\n",
              "      <td>0</td>\n",
              "      <td>0.1430</td>\n",
              "      <td>0.0322</td>\n",
              "      <td>0.000001</td>\n",
              "      <td>0.3580</td>\n",
              "      <td>0.7150</td>\n",
              "      <td>87.917</td>\n",
              "      <td>4</td>\n",
              "      <td>acoustic</td>\n",
              "    </tr>\n",
              "    <tr>\n",
              "      <th>1</th>\n",
              "      <td>1</td>\n",
              "      <td>4qPNDBW1i3p13qLCt0Ki3A</td>\n",
              "      <td>Ben Woodward</td>\n",
              "      <td>Ghost (Acoustic)</td>\n",
              "      <td>Ghost - Acoustic</td>\n",
              "      <td>55</td>\n",
              "      <td>149610</td>\n",
              "      <td>False</td>\n",
              "      <td>0.420</td>\n",
              "      <td>0.1660</td>\n",
              "      <td>...</td>\n",
              "      <td>-17.235</td>\n",
              "      <td>1</td>\n",
              "      <td>0.0763</td>\n",
              "      <td>0.9240</td>\n",
              "      <td>0.000006</td>\n",
              "      <td>0.1010</td>\n",
              "      <td>0.2670</td>\n",
              "      <td>77.489</td>\n",
              "      <td>4</td>\n",
              "      <td>acoustic</td>\n",
              "    </tr>\n",
              "    <tr>\n",
              "      <th>2</th>\n",
              "      <td>2</td>\n",
              "      <td>1iJBSr7s7jYXzM8EGcbK5b</td>\n",
              "      <td>Ingrid Michaelson;ZAYN</td>\n",
              "      <td>To Begin Again</td>\n",
              "      <td>To Begin Again</td>\n",
              "      <td>57</td>\n",
              "      <td>210826</td>\n",
              "      <td>False</td>\n",
              "      <td>0.438</td>\n",
              "      <td>0.3590</td>\n",
              "      <td>...</td>\n",
              "      <td>-9.734</td>\n",
              "      <td>1</td>\n",
              "      <td>0.0557</td>\n",
              "      <td>0.2100</td>\n",
              "      <td>0.000000</td>\n",
              "      <td>0.1170</td>\n",
              "      <td>0.1200</td>\n",
              "      <td>76.332</td>\n",
              "      <td>4</td>\n",
              "      <td>acoustic</td>\n",
              "    </tr>\n",
              "    <tr>\n",
              "      <th>3</th>\n",
              "      <td>3</td>\n",
              "      <td>6lfxq3CG4xtTiEg7opyCyx</td>\n",
              "      <td>Kina Grannis</td>\n",
              "      <td>Crazy Rich Asians (Original Motion Picture Sou...</td>\n",
              "      <td>Can't Help Falling In Love</td>\n",
              "      <td>71</td>\n",
              "      <td>201933</td>\n",
              "      <td>False</td>\n",
              "      <td>0.266</td>\n",
              "      <td>0.0596</td>\n",
              "      <td>...</td>\n",
              "      <td>-18.515</td>\n",
              "      <td>1</td>\n",
              "      <td>0.0363</td>\n",
              "      <td>0.9050</td>\n",
              "      <td>0.000071</td>\n",
              "      <td>0.1320</td>\n",
              "      <td>0.1430</td>\n",
              "      <td>181.740</td>\n",
              "      <td>3</td>\n",
              "      <td>acoustic</td>\n",
              "    </tr>\n",
              "    <tr>\n",
              "      <th>4</th>\n",
              "      <td>4</td>\n",
              "      <td>5vjLSffimiIP26QG5WcN2K</td>\n",
              "      <td>Chord Overstreet</td>\n",
              "      <td>Hold On</td>\n",
              "      <td>Hold On</td>\n",
              "      <td>82</td>\n",
              "      <td>198853</td>\n",
              "      <td>False</td>\n",
              "      <td>0.618</td>\n",
              "      <td>0.4430</td>\n",
              "      <td>...</td>\n",
              "      <td>-9.681</td>\n",
              "      <td>1</td>\n",
              "      <td>0.0526</td>\n",
              "      <td>0.4690</td>\n",
              "      <td>0.000000</td>\n",
              "      <td>0.0829</td>\n",
              "      <td>0.1670</td>\n",
              "      <td>119.949</td>\n",
              "      <td>4</td>\n",
              "      <td>acoustic</td>\n",
              "    </tr>\n",
              "    <tr>\n",
              "      <th>...</th>\n",
              "      <td>...</td>\n",
              "      <td>...</td>\n",
              "      <td>...</td>\n",
              "      <td>...</td>\n",
              "      <td>...</td>\n",
              "      <td>...</td>\n",
              "      <td>...</td>\n",
              "      <td>...</td>\n",
              "      <td>...</td>\n",
              "      <td>...</td>\n",
              "      <td>...</td>\n",
              "      <td>...</td>\n",
              "      <td>...</td>\n",
              "      <td>...</td>\n",
              "      <td>...</td>\n",
              "      <td>...</td>\n",
              "      <td>...</td>\n",
              "      <td>...</td>\n",
              "      <td>...</td>\n",
              "      <td>...</td>\n",
              "      <td>...</td>\n",
              "    </tr>\n",
              "    <tr>\n",
              "      <th>113995</th>\n",
              "      <td>113995</td>\n",
              "      <td>2C3TZjDRiAzdyViavDJ217</td>\n",
              "      <td>Rainy Lullaby</td>\n",
              "      <td>#mindfulness - Soft Rain for Mindful Meditatio...</td>\n",
              "      <td>Sleep My Little Boy</td>\n",
              "      <td>21</td>\n",
              "      <td>384999</td>\n",
              "      <td>False</td>\n",
              "      <td>0.172</td>\n",
              "      <td>0.2350</td>\n",
              "      <td>...</td>\n",
              "      <td>-16.393</td>\n",
              "      <td>1</td>\n",
              "      <td>0.0422</td>\n",
              "      <td>0.6400</td>\n",
              "      <td>0.928000</td>\n",
              "      <td>0.0863</td>\n",
              "      <td>0.0339</td>\n",
              "      <td>125.995</td>\n",
              "      <td>5</td>\n",
              "      <td>world-music</td>\n",
              "    </tr>\n",
              "    <tr>\n",
              "      <th>113996</th>\n",
              "      <td>113996</td>\n",
              "      <td>1hIz5L4IB9hN3WRYPOCGPw</td>\n",
              "      <td>Rainy Lullaby</td>\n",
              "      <td>#mindfulness - Soft Rain for Mindful Meditatio...</td>\n",
              "      <td>Water Into Light</td>\n",
              "      <td>22</td>\n",
              "      <td>385000</td>\n",
              "      <td>False</td>\n",
              "      <td>0.174</td>\n",
              "      <td>0.1170</td>\n",
              "      <td>...</td>\n",
              "      <td>-18.318</td>\n",
              "      <td>0</td>\n",
              "      <td>0.0401</td>\n",
              "      <td>0.9940</td>\n",
              "      <td>0.976000</td>\n",
              "      <td>0.1050</td>\n",
              "      <td>0.0350</td>\n",
              "      <td>85.239</td>\n",
              "      <td>4</td>\n",
              "      <td>world-music</td>\n",
              "    </tr>\n",
              "    <tr>\n",
              "      <th>113997</th>\n",
              "      <td>113997</td>\n",
              "      <td>6x8ZfSoqDjuNa5SVP5QjvX</td>\n",
              "      <td>Cesária Evora</td>\n",
              "      <td>Best Of</td>\n",
              "      <td>Miss Perfumado</td>\n",
              "      <td>22</td>\n",
              "      <td>271466</td>\n",
              "      <td>False</td>\n",
              "      <td>0.629</td>\n",
              "      <td>0.3290</td>\n",
              "      <td>...</td>\n",
              "      <td>-10.895</td>\n",
              "      <td>0</td>\n",
              "      <td>0.0420</td>\n",
              "      <td>0.8670</td>\n",
              "      <td>0.000000</td>\n",
              "      <td>0.0839</td>\n",
              "      <td>0.7430</td>\n",
              "      <td>132.378</td>\n",
              "      <td>4</td>\n",
              "      <td>world-music</td>\n",
              "    </tr>\n",
              "    <tr>\n",
              "      <th>113998</th>\n",
              "      <td>113998</td>\n",
              "      <td>2e6sXL2bYv4bSz6VTdnfLs</td>\n",
              "      <td>Michael W. Smith</td>\n",
              "      <td>Change Your World</td>\n",
              "      <td>Friends</td>\n",
              "      <td>41</td>\n",
              "      <td>283893</td>\n",
              "      <td>False</td>\n",
              "      <td>0.587</td>\n",
              "      <td>0.5060</td>\n",
              "      <td>...</td>\n",
              "      <td>-10.889</td>\n",
              "      <td>1</td>\n",
              "      <td>0.0297</td>\n",
              "      <td>0.3810</td>\n",
              "      <td>0.000000</td>\n",
              "      <td>0.2700</td>\n",
              "      <td>0.4130</td>\n",
              "      <td>135.960</td>\n",
              "      <td>4</td>\n",
              "      <td>world-music</td>\n",
              "    </tr>\n",
              "    <tr>\n",
              "      <th>113999</th>\n",
              "      <td>113999</td>\n",
              "      <td>2hETkH7cOfqmz3LqZDHZf5</td>\n",
              "      <td>Cesária Evora</td>\n",
              "      <td>Miss Perfumado</td>\n",
              "      <td>Barbincor</td>\n",
              "      <td>22</td>\n",
              "      <td>241826</td>\n",
              "      <td>False</td>\n",
              "      <td>0.526</td>\n",
              "      <td>0.4870</td>\n",
              "      <td>...</td>\n",
              "      <td>-10.204</td>\n",
              "      <td>0</td>\n",
              "      <td>0.0725</td>\n",
              "      <td>0.6810</td>\n",
              "      <td>0.000000</td>\n",
              "      <td>0.0893</td>\n",
              "      <td>0.7080</td>\n",
              "      <td>79.198</td>\n",
              "      <td>4</td>\n",
              "      <td>world-music</td>\n",
              "    </tr>\n",
              "  </tbody>\n",
              "</table>\n",
              "<p>114000 rows × 21 columns</p>\n",
              "</div>\n",
              "      <button class=\"colab-df-convert\" onclick=\"convertToInteractive('df-00eda465-84e4-4d59-a1ec-8103092fc4d5')\"\n",
              "              title=\"Convert this dataframe to an interactive table.\"\n",
              "              style=\"display:none;\">\n",
              "        \n",
              "  <svg xmlns=\"http://www.w3.org/2000/svg\" height=\"24px\"viewBox=\"0 0 24 24\"\n",
              "       width=\"24px\">\n",
              "    <path d=\"M0 0h24v24H0V0z\" fill=\"none\"/>\n",
              "    <path d=\"M18.56 5.44l.94 2.06.94-2.06 2.06-.94-2.06-.94-.94-2.06-.94 2.06-2.06.94zm-11 1L8.5 8.5l.94-2.06 2.06-.94-2.06-.94L8.5 2.5l-.94 2.06-2.06.94zm10 10l.94 2.06.94-2.06 2.06-.94-2.06-.94-.94-2.06-.94 2.06-2.06.94z\"/><path d=\"M17.41 7.96l-1.37-1.37c-.4-.4-.92-.59-1.43-.59-.52 0-1.04.2-1.43.59L10.3 9.45l-7.72 7.72c-.78.78-.78 2.05 0 2.83L4 21.41c.39.39.9.59 1.41.59.51 0 1.02-.2 1.41-.59l7.78-7.78 2.81-2.81c.8-.78.8-2.07 0-2.86zM5.41 20L4 18.59l7.72-7.72 1.47 1.35L5.41 20z\"/>\n",
              "  </svg>\n",
              "      </button>\n",
              "      \n",
              "  <style>\n",
              "    .colab-df-container {\n",
              "      display:flex;\n",
              "      flex-wrap:wrap;\n",
              "      gap: 12px;\n",
              "    }\n",
              "\n",
              "    .colab-df-convert {\n",
              "      background-color: #E8F0FE;\n",
              "      border: none;\n",
              "      border-radius: 50%;\n",
              "      cursor: pointer;\n",
              "      display: none;\n",
              "      fill: #1967D2;\n",
              "      height: 32px;\n",
              "      padding: 0 0 0 0;\n",
              "      width: 32px;\n",
              "    }\n",
              "\n",
              "    .colab-df-convert:hover {\n",
              "      background-color: #E2EBFA;\n",
              "      box-shadow: 0px 1px 2px rgba(60, 64, 67, 0.3), 0px 1px 3px 1px rgba(60, 64, 67, 0.15);\n",
              "      fill: #174EA6;\n",
              "    }\n",
              "\n",
              "    [theme=dark] .colab-df-convert {\n",
              "      background-color: #3B4455;\n",
              "      fill: #D2E3FC;\n",
              "    }\n",
              "\n",
              "    [theme=dark] .colab-df-convert:hover {\n",
              "      background-color: #434B5C;\n",
              "      box-shadow: 0px 1px 3px 1px rgba(0, 0, 0, 0.15);\n",
              "      filter: drop-shadow(0px 1px 2px rgba(0, 0, 0, 0.3));\n",
              "      fill: #FFFFFF;\n",
              "    }\n",
              "  </style>\n",
              "\n",
              "      <script>\n",
              "        const buttonEl =\n",
              "          document.querySelector('#df-00eda465-84e4-4d59-a1ec-8103092fc4d5 button.colab-df-convert');\n",
              "        buttonEl.style.display =\n",
              "          google.colab.kernel.accessAllowed ? 'block' : 'none';\n",
              "\n",
              "        async function convertToInteractive(key) {\n",
              "          const element = document.querySelector('#df-00eda465-84e4-4d59-a1ec-8103092fc4d5');\n",
              "          const dataTable =\n",
              "            await google.colab.kernel.invokeFunction('convertToInteractive',\n",
              "                                                     [key], {});\n",
              "          if (!dataTable) return;\n",
              "\n",
              "          const docLinkHtml = 'Like what you see? Visit the ' +\n",
              "            '<a target=\"_blank\" href=https://colab.research.google.com/notebooks/data_table.ipynb>data table notebook</a>'\n",
              "            + ' to learn more about interactive tables.';\n",
              "          element.innerHTML = '';\n",
              "          dataTable['output_type'] = 'display_data';\n",
              "          await google.colab.output.renderOutput(dataTable, element);\n",
              "          const docLink = document.createElement('div');\n",
              "          docLink.innerHTML = docLinkHtml;\n",
              "          element.appendChild(docLink);\n",
              "        }\n",
              "      </script>\n",
              "    </div>\n",
              "  </div>\n",
              "  "
            ]
          },
          "metadata": {},
          "execution_count": 2
        }
      ]
    },
    {
      "cell_type": "code",
      "source": [
        "spotify.drop(['Unnamed: 0'], axis = 1, inplace = True)"
      ],
      "metadata": {
        "id": "EgBMop0MFpYS"
      },
      "execution_count": 3,
      "outputs": []
    },
    {
      "cell_type": "code",
      "source": [
        "spotify.dropna(inplace= True)\n"
      ],
      "metadata": {
        "id": "gdsPHTqHGlt2"
      },
      "execution_count": 4,
      "outputs": []
    },
    {
      "cell_type": "code",
      "source": [
        "spotify.info()"
      ],
      "metadata": {
        "colab": {
          "base_uri": "https://localhost:8080/"
        },
        "id": "duGCbiu1G_N1",
        "outputId": "ad54208d-7988-4e28-e5b5-50c0abb79d6b"
      },
      "execution_count": 5,
      "outputs": [
        {
          "output_type": "stream",
          "name": "stdout",
          "text": [
            "<class 'pandas.core.frame.DataFrame'>\n",
            "Int64Index: 113999 entries, 0 to 113999\n",
            "Data columns (total 20 columns):\n",
            " #   Column            Non-Null Count   Dtype  \n",
            "---  ------            --------------   -----  \n",
            " 0   track_id          113999 non-null  object \n",
            " 1   artists           113999 non-null  object \n",
            " 2   album_name        113999 non-null  object \n",
            " 3   track_name        113999 non-null  object \n",
            " 4   popularity        113999 non-null  int64  \n",
            " 5   duration_ms       113999 non-null  int64  \n",
            " 6   explicit          113999 non-null  bool   \n",
            " 7   danceability      113999 non-null  float64\n",
            " 8   energy            113999 non-null  float64\n",
            " 9   key               113999 non-null  int64  \n",
            " 10  loudness          113999 non-null  float64\n",
            " 11  mode              113999 non-null  int64  \n",
            " 12  speechiness       113999 non-null  float64\n",
            " 13  acousticness      113999 non-null  float64\n",
            " 14  instrumentalness  113999 non-null  float64\n",
            " 15  liveness          113999 non-null  float64\n",
            " 16  valence           113999 non-null  float64\n",
            " 17  tempo             113999 non-null  float64\n",
            " 18  time_signature    113999 non-null  int64  \n",
            " 19  track_genre       113999 non-null  object \n",
            "dtypes: bool(1), float64(9), int64(5), object(5)\n",
            "memory usage: 17.5+ MB\n"
          ]
        }
      ]
    },
    {
      "cell_type": "code",
      "source": [
        "spotify['track_genre'].nunique()"
      ],
      "metadata": {
        "colab": {
          "base_uri": "https://localhost:8080/"
        },
        "id": "WyCRlt89HDBG",
        "outputId": "76a333f0-5c23-4ee2-802a-467e13412e12"
      },
      "execution_count": 6,
      "outputs": [
        {
          "output_type": "execute_result",
          "data": {
            "text/plain": [
              "114"
            ]
          },
          "metadata": {},
          "execution_count": 6
        }
      ]
    },
    {
      "cell_type": "code",
      "source": [
        "spotify['time_signature'].nunique()"
      ],
      "metadata": {
        "colab": {
          "base_uri": "https://localhost:8080/"
        },
        "id": "mSpYBVlZHbIB",
        "outputId": "847408e2-dcf1-442b-d8bf-e50992b329d0"
      },
      "execution_count": 7,
      "outputs": [
        {
          "output_type": "execute_result",
          "data": {
            "text/plain": [
              "5"
            ]
          },
          "metadata": {},
          "execution_count": 7
        }
      ]
    },
    {
      "cell_type": "code",
      "source": [
        "spotify['time_signature'].value_counts()"
      ],
      "metadata": {
        "colab": {
          "base_uri": "https://localhost:8080/"
        },
        "id": "EJ-b70yRHfto",
        "outputId": "8f2e8a2a-ebf8-485d-affa-1269af05501a"
      },
      "execution_count": 8,
      "outputs": [
        {
          "output_type": "execute_result",
          "data": {
            "text/plain": [
              "4    101842\n",
              "3      9195\n",
              "5      1826\n",
              "1       973\n",
              "0       163\n",
              "Name: time_signature, dtype: int64"
            ]
          },
          "metadata": {},
          "execution_count": 8
        }
      ]
    },
    {
      "cell_type": "code",
      "source": [
        "spotify['tempo'].value_counts()"
      ],
      "metadata": {
        "colab": {
          "base_uri": "https://localhost:8080/"
        },
        "id": "47FFT_tyH2Tl",
        "outputId": "8930767c-8847-4aba-ff98-3d5608b4716a"
      },
      "execution_count": 9,
      "outputs": [
        {
          "output_type": "execute_result",
          "data": {
            "text/plain": [
              "0.000      157\n",
              "151.925    146\n",
              "95.004      95\n",
              "87.925      76\n",
              "130.594     76\n",
              "          ... \n",
              "110.931      1\n",
              "125.227      1\n",
              "110.922      1\n",
              "106.132      1\n",
              "79.198       1\n",
              "Name: tempo, Length: 45652, dtype: int64"
            ]
          },
          "metadata": {},
          "execution_count": 9
        }
      ]
    },
    {
      "cell_type": "code",
      "source": [
        "spotify['valence'].nunique()"
      ],
      "metadata": {
        "colab": {
          "base_uri": "https://localhost:8080/"
        },
        "id": "v9pFc4ZIHkjJ",
        "outputId": "a1b7ea97-8544-4577-8583-d646de45ad33"
      },
      "execution_count": 10,
      "outputs": [
        {
          "output_type": "execute_result",
          "data": {
            "text/plain": [
              "1790"
            ]
          },
          "metadata": {},
          "execution_count": 10
        }
      ]
    },
    {
      "cell_type": "code",
      "source": [
        "spotify['liveness'].nunique()"
      ],
      "metadata": {
        "colab": {
          "base_uri": "https://localhost:8080/"
        },
        "id": "rv2fjz7fHycT",
        "outputId": "00087ff9-fcda-42de-a210-378a1f71b273"
      },
      "execution_count": 11,
      "outputs": [
        {
          "output_type": "execute_result",
          "data": {
            "text/plain": [
              "1722"
            ]
          },
          "metadata": {},
          "execution_count": 11
        }
      ]
    },
    {
      "cell_type": "code",
      "source": [
        "spotify['liveness'].value_counts()"
      ],
      "metadata": {
        "colab": {
          "base_uri": "https://localhost:8080/"
        },
        "id": "vC0iGxs6IJaa",
        "outputId": "e4c2dc86-7328-4a55-ad25-43bed061c561"
      },
      "execution_count": 12,
      "outputs": [
        {
          "output_type": "execute_result",
          "data": {
            "text/plain": [
              "0.1080    1353\n",
              "0.1110    1318\n",
              "0.1090    1198\n",
              "0.1100    1179\n",
              "0.1050    1114\n",
              "          ... \n",
              "0.0205       1\n",
              "0.0301       1\n",
              "0.0145       1\n",
              "0.0225       1\n",
              "0.0118       1\n",
              "Name: liveness, Length: 1722, dtype: int64"
            ]
          },
          "metadata": {},
          "execution_count": 12
        }
      ]
    },
    {
      "cell_type": "code",
      "source": [
        "spotify['instrumentalness'].nunique()"
      ],
      "metadata": {
        "colab": {
          "base_uri": "https://localhost:8080/"
        },
        "id": "EgWMLKEzIQre",
        "outputId": "b0814d61-16a8-4ff3-93ce-b6763dde82f4"
      },
      "execution_count": 13,
      "outputs": [
        {
          "output_type": "execute_result",
          "data": {
            "text/plain": [
              "5346"
            ]
          },
          "metadata": {},
          "execution_count": 13
        }
      ]
    },
    {
      "cell_type": "code",
      "source": [
        "spotify['track_genre'].value_counts()"
      ],
      "metadata": {
        "id": "_om8hEbabVsz",
        "outputId": "b9e94844-dbc2-4af9-f1b8-604fee0f828b",
        "colab": {
          "base_uri": "https://localhost:8080/"
        }
      },
      "execution_count": 64,
      "outputs": [
        {
          "output_type": "execute_result",
          "data": {
            "text/plain": [
              "acoustic             1000\n",
              "afrobeat             1000\n",
              "psych-rock           1000\n",
              "progressive-house    1000\n",
              "power-pop            1000\n",
              "                     ... \n",
              "emo                  1000\n",
              "electronic           1000\n",
              "electro              1000\n",
              "world-music          1000\n",
              "k-pop                 999\n",
              "Name: track_genre, Length: 114, dtype: int64"
            ]
          },
          "metadata": {},
          "execution_count": 64
        }
      ]
    },
    {
      "cell_type": "code",
      "source": [
        "spotify[['track_genre','popularity', 'danceability','energy','instrumentalness']].sample(n=500, random_state=5)"
      ],
      "metadata": {
        "id": "QcUraqTxbNsN",
        "outputId": "a34557e3-8aba-4cfd-b888-11c058321bec",
        "colab": {
          "base_uri": "https://localhost:8080/",
          "height": 424
        }
      },
      "execution_count": 69,
      "outputs": [
        {
          "output_type": "execute_result",
          "data": {
            "text/plain": [
              "       track_genre  popularity  danceability  energy  instrumentalness\n",
              "16663    classical           0         0.193  0.0371          0.937000\n",
              "112615     turkish          39         0.717  0.9310          0.000004\n",
              "74421          mpb          42         0.401  0.3300          0.000000\n",
              "18920       comedy          20         0.677  0.6430          0.000002\n",
              "28193          dub          39         0.790  0.8140          0.010200\n",
              "...            ...         ...           ...     ...               ...\n",
              "71064        metal           1         0.500  0.9820          0.000043\n",
              "54908          idm           9         0.539  0.7730          0.725000\n",
              "104468     spanish          73         0.570  0.4740          0.000000\n",
              "104798     spanish          27         0.689  0.8110          0.000017\n",
              "28531          dub          55         0.518  0.8950          0.000053\n",
              "\n",
              "[500 rows x 5 columns]"
            ],
            "text/html": [
              "\n",
              "  <div id=\"df-a0e6f3f0-fee9-4279-a286-e54fd756a4b5\">\n",
              "    <div class=\"colab-df-container\">\n",
              "      <div>\n",
              "<style scoped>\n",
              "    .dataframe tbody tr th:only-of-type {\n",
              "        vertical-align: middle;\n",
              "    }\n",
              "\n",
              "    .dataframe tbody tr th {\n",
              "        vertical-align: top;\n",
              "    }\n",
              "\n",
              "    .dataframe thead th {\n",
              "        text-align: right;\n",
              "    }\n",
              "</style>\n",
              "<table border=\"1\" class=\"dataframe\">\n",
              "  <thead>\n",
              "    <tr style=\"text-align: right;\">\n",
              "      <th></th>\n",
              "      <th>track_genre</th>\n",
              "      <th>popularity</th>\n",
              "      <th>danceability</th>\n",
              "      <th>energy</th>\n",
              "      <th>instrumentalness</th>\n",
              "    </tr>\n",
              "  </thead>\n",
              "  <tbody>\n",
              "    <tr>\n",
              "      <th>16663</th>\n",
              "      <td>classical</td>\n",
              "      <td>0</td>\n",
              "      <td>0.193</td>\n",
              "      <td>0.0371</td>\n",
              "      <td>0.937000</td>\n",
              "    </tr>\n",
              "    <tr>\n",
              "      <th>112615</th>\n",
              "      <td>turkish</td>\n",
              "      <td>39</td>\n",
              "      <td>0.717</td>\n",
              "      <td>0.9310</td>\n",
              "      <td>0.000004</td>\n",
              "    </tr>\n",
              "    <tr>\n",
              "      <th>74421</th>\n",
              "      <td>mpb</td>\n",
              "      <td>42</td>\n",
              "      <td>0.401</td>\n",
              "      <td>0.3300</td>\n",
              "      <td>0.000000</td>\n",
              "    </tr>\n",
              "    <tr>\n",
              "      <th>18920</th>\n",
              "      <td>comedy</td>\n",
              "      <td>20</td>\n",
              "      <td>0.677</td>\n",
              "      <td>0.6430</td>\n",
              "      <td>0.000002</td>\n",
              "    </tr>\n",
              "    <tr>\n",
              "      <th>28193</th>\n",
              "      <td>dub</td>\n",
              "      <td>39</td>\n",
              "      <td>0.790</td>\n",
              "      <td>0.8140</td>\n",
              "      <td>0.010200</td>\n",
              "    </tr>\n",
              "    <tr>\n",
              "      <th>...</th>\n",
              "      <td>...</td>\n",
              "      <td>...</td>\n",
              "      <td>...</td>\n",
              "      <td>...</td>\n",
              "      <td>...</td>\n",
              "    </tr>\n",
              "    <tr>\n",
              "      <th>71064</th>\n",
              "      <td>metal</td>\n",
              "      <td>1</td>\n",
              "      <td>0.500</td>\n",
              "      <td>0.9820</td>\n",
              "      <td>0.000043</td>\n",
              "    </tr>\n",
              "    <tr>\n",
              "      <th>54908</th>\n",
              "      <td>idm</td>\n",
              "      <td>9</td>\n",
              "      <td>0.539</td>\n",
              "      <td>0.7730</td>\n",
              "      <td>0.725000</td>\n",
              "    </tr>\n",
              "    <tr>\n",
              "      <th>104468</th>\n",
              "      <td>spanish</td>\n",
              "      <td>73</td>\n",
              "      <td>0.570</td>\n",
              "      <td>0.4740</td>\n",
              "      <td>0.000000</td>\n",
              "    </tr>\n",
              "    <tr>\n",
              "      <th>104798</th>\n",
              "      <td>spanish</td>\n",
              "      <td>27</td>\n",
              "      <td>0.689</td>\n",
              "      <td>0.8110</td>\n",
              "      <td>0.000017</td>\n",
              "    </tr>\n",
              "    <tr>\n",
              "      <th>28531</th>\n",
              "      <td>dub</td>\n",
              "      <td>55</td>\n",
              "      <td>0.518</td>\n",
              "      <td>0.8950</td>\n",
              "      <td>0.000053</td>\n",
              "    </tr>\n",
              "  </tbody>\n",
              "</table>\n",
              "<p>500 rows × 5 columns</p>\n",
              "</div>\n",
              "      <button class=\"colab-df-convert\" onclick=\"convertToInteractive('df-a0e6f3f0-fee9-4279-a286-e54fd756a4b5')\"\n",
              "              title=\"Convert this dataframe to an interactive table.\"\n",
              "              style=\"display:none;\">\n",
              "        \n",
              "  <svg xmlns=\"http://www.w3.org/2000/svg\" height=\"24px\"viewBox=\"0 0 24 24\"\n",
              "       width=\"24px\">\n",
              "    <path d=\"M0 0h24v24H0V0z\" fill=\"none\"/>\n",
              "    <path d=\"M18.56 5.44l.94 2.06.94-2.06 2.06-.94-2.06-.94-.94-2.06-.94 2.06-2.06.94zm-11 1L8.5 8.5l.94-2.06 2.06-.94-2.06-.94L8.5 2.5l-.94 2.06-2.06.94zm10 10l.94 2.06.94-2.06 2.06-.94-2.06-.94-.94-2.06-.94 2.06-2.06.94z\"/><path d=\"M17.41 7.96l-1.37-1.37c-.4-.4-.92-.59-1.43-.59-.52 0-1.04.2-1.43.59L10.3 9.45l-7.72 7.72c-.78.78-.78 2.05 0 2.83L4 21.41c.39.39.9.59 1.41.59.51 0 1.02-.2 1.41-.59l7.78-7.78 2.81-2.81c.8-.78.8-2.07 0-2.86zM5.41 20L4 18.59l7.72-7.72 1.47 1.35L5.41 20z\"/>\n",
              "  </svg>\n",
              "      </button>\n",
              "      \n",
              "  <style>\n",
              "    .colab-df-container {\n",
              "      display:flex;\n",
              "      flex-wrap:wrap;\n",
              "      gap: 12px;\n",
              "    }\n",
              "\n",
              "    .colab-df-convert {\n",
              "      background-color: #E8F0FE;\n",
              "      border: none;\n",
              "      border-radius: 50%;\n",
              "      cursor: pointer;\n",
              "      display: none;\n",
              "      fill: #1967D2;\n",
              "      height: 32px;\n",
              "      padding: 0 0 0 0;\n",
              "      width: 32px;\n",
              "    }\n",
              "\n",
              "    .colab-df-convert:hover {\n",
              "      background-color: #E2EBFA;\n",
              "      box-shadow: 0px 1px 2px rgba(60, 64, 67, 0.3), 0px 1px 3px 1px rgba(60, 64, 67, 0.15);\n",
              "      fill: #174EA6;\n",
              "    }\n",
              "\n",
              "    [theme=dark] .colab-df-convert {\n",
              "      background-color: #3B4455;\n",
              "      fill: #D2E3FC;\n",
              "    }\n",
              "\n",
              "    [theme=dark] .colab-df-convert:hover {\n",
              "      background-color: #434B5C;\n",
              "      box-shadow: 0px 1px 3px 1px rgba(0, 0, 0, 0.15);\n",
              "      filter: drop-shadow(0px 1px 2px rgba(0, 0, 0, 0.3));\n",
              "      fill: #FFFFFF;\n",
              "    }\n",
              "  </style>\n",
              "\n",
              "      <script>\n",
              "        const buttonEl =\n",
              "          document.querySelector('#df-a0e6f3f0-fee9-4279-a286-e54fd756a4b5 button.colab-df-convert');\n",
              "        buttonEl.style.display =\n",
              "          google.colab.kernel.accessAllowed ? 'block' : 'none';\n",
              "\n",
              "        async function convertToInteractive(key) {\n",
              "          const element = document.querySelector('#df-a0e6f3f0-fee9-4279-a286-e54fd756a4b5');\n",
              "          const dataTable =\n",
              "            await google.colab.kernel.invokeFunction('convertToInteractive',\n",
              "                                                     [key], {});\n",
              "          if (!dataTable) return;\n",
              "\n",
              "          const docLinkHtml = 'Like what you see? Visit the ' +\n",
              "            '<a target=\"_blank\" href=https://colab.research.google.com/notebooks/data_table.ipynb>data table notebook</a>'\n",
              "            + ' to learn more about interactive tables.';\n",
              "          element.innerHTML = '';\n",
              "          dataTable['output_type'] = 'display_data';\n",
              "          await google.colab.output.renderOutput(dataTable, element);\n",
              "          const docLink = document.createElement('div');\n",
              "          docLink.innerHTML = docLinkHtml;\n",
              "          element.appendChild(docLink);\n",
              "        }\n",
              "      </script>\n",
              "    </div>\n",
              "  </div>\n",
              "  "
            ]
          },
          "metadata": {},
          "execution_count": 69
        }
      ]
    },
    {
      "cell_type": "code",
      "source": [
        "spotify['acousticness'].nunique()"
      ],
      "metadata": {
        "colab": {
          "base_uri": "https://localhost:8080/"
        },
        "id": "cSWv-IC2IXg3",
        "outputId": "77255ba3-32f7-4585-df5e-4ce3ae154083"
      },
      "execution_count": 14,
      "outputs": [
        {
          "output_type": "execute_result",
          "data": {
            "text/plain": [
              "5061"
            ]
          },
          "metadata": {},
          "execution_count": 14
        }
      ]
    },
    {
      "cell_type": "code",
      "source": [
        "\n",
        "spotify['speechiness'].nunique()"
      ],
      "metadata": {
        "colab": {
          "base_uri": "https://localhost:8080/"
        },
        "id": "KHQxT5P4IgwS",
        "outputId": "251d95d5-9064-4bf7-bda6-f80e1a1d27b9"
      },
      "execution_count": 15,
      "outputs": [
        {
          "output_type": "execute_result",
          "data": {
            "text/plain": [
              "1489"
            ]
          },
          "metadata": {},
          "execution_count": 15
        }
      ]
    },
    {
      "cell_type": "code",
      "source": [
        "spotify['speechiness'].value_counts()"
      ],
      "metadata": {
        "colab": {
          "base_uri": "https://localhost:8080/"
        },
        "id": "_w4gsLpkIrhF",
        "outputId": "bb471c48-3655-4194-fac7-b21f531f0e75"
      },
      "execution_count": 16,
      "outputs": [
        {
          "output_type": "execute_result",
          "data": {
            "text/plain": [
              "0.0323    400\n",
              "0.0324    376\n",
              "0.0322    373\n",
              "0.0328    363\n",
              "0.0295    358\n",
              "         ... \n",
              "0.8150      1\n",
              "0.6730      1\n",
              "0.8030      1\n",
              "0.7750      1\n",
              "0.0229      1\n",
              "Name: speechiness, Length: 1489, dtype: int64"
            ]
          },
          "metadata": {},
          "execution_count": 16
        }
      ]
    },
    {
      "cell_type": "code",
      "source": [
        "spotify['mode'].nunique()"
      ],
      "metadata": {
        "colab": {
          "base_uri": "https://localhost:8080/"
        },
        "id": "VQtOgsOBIkTD",
        "outputId": "341a137d-e45e-4a87-e020-a018e6a51d35"
      },
      "execution_count": 17,
      "outputs": [
        {
          "output_type": "execute_result",
          "data": {
            "text/plain": [
              "2"
            ]
          },
          "metadata": {},
          "execution_count": 17
        }
      ]
    },
    {
      "cell_type": "code",
      "source": [
        "spotify['mode'].value_counts()"
      ],
      "metadata": {
        "colab": {
          "base_uri": "https://localhost:8080/"
        },
        "id": "D1sDRo3vIvds",
        "outputId": "4859751b-e520-4a9b-d540-354c80ce8b7d"
      },
      "execution_count": 18,
      "outputs": [
        {
          "output_type": "execute_result",
          "data": {
            "text/plain": [
              "1    72681\n",
              "0    41318\n",
              "Name: mode, dtype: int64"
            ]
          },
          "metadata": {},
          "execution_count": 18
        }
      ]
    },
    {
      "cell_type": "code",
      "source": [
        "spotify.drop(['mode'], axis = 1, inplace = True)"
      ],
      "metadata": {
        "id": "Mdo_zyPVJiG_"
      },
      "execution_count": 19,
      "outputs": []
    },
    {
      "cell_type": "code",
      "source": [
        "spotify['loudness'].nunique()"
      ],
      "metadata": {
        "colab": {
          "base_uri": "https://localhost:8080/"
        },
        "id": "Nwg32JhgJn_S",
        "outputId": "5438f73c-c295-4e61-9976-9e8778ac05ec"
      },
      "execution_count": 20,
      "outputs": [
        {
          "output_type": "execute_result",
          "data": {
            "text/plain": [
              "19480"
            ]
          },
          "metadata": {},
          "execution_count": 20
        }
      ]
    },
    {
      "cell_type": "code",
      "source": [
        "spotify.drop(['key'], axis = 1, inplace = True)"
      ],
      "metadata": {
        "id": "W6xhuuYpKyYU"
      },
      "execution_count": 21,
      "outputs": []
    },
    {
      "cell_type": "code",
      "source": [
        "spotify.corr()"
      ],
      "metadata": {
        "colab": {
          "base_uri": "https://localhost:8080/",
          "height": 457
        },
        "id": "8-vZ9j9UJzg7",
        "outputId": "b6894b4e-3bcb-4de9-afad-bebc1bde0ea0"
      },
      "execution_count": 22,
      "outputs": [
        {
          "output_type": "execute_result",
          "data": {
            "text/plain": [
              "                  popularity  duration_ms  explicit  danceability    energy  \\\n",
              "popularity          1.000000    -0.007129  0.044078      0.035444  0.001053   \n",
              "duration_ms        -0.007129     1.000000 -0.065270     -0.073435  0.058520   \n",
              "explicit            0.044078    -0.065270  1.000000      0.122506  0.096954   \n",
              "danceability        0.035444    -0.073435  0.122506      1.000000  0.134325   \n",
              "energy              0.001053     0.058520  0.096954      0.134325  1.000000   \n",
              "loudness            0.050420    -0.003475  0.108587      0.259076  0.761690   \n",
              "speechiness        -0.044930    -0.062605  0.307951      0.108625  0.142508   \n",
              "acousticness       -0.025458    -0.103770 -0.094400     -0.171531 -0.733908   \n",
              "instrumentalness   -0.095147     0.124364 -0.103405     -0.185608 -0.181880   \n",
              "liveness           -0.005397     0.010308  0.032547     -0.131620  0.184795   \n",
              "valence            -0.040522    -0.154464 -0.003378      0.477347  0.258937   \n",
              "tempo               0.013212     0.024356 -0.002815     -0.050448  0.247852   \n",
              "time_signature      0.031076     0.018229  0.038387      0.207219  0.187127   \n",
              "\n",
              "                  loudness  speechiness  acousticness  instrumentalness  \\\n",
              "popularity        0.050420    -0.044930     -0.025458         -0.095147   \n",
              "duration_ms      -0.003475    -0.062605     -0.103770          0.124364   \n",
              "explicit          0.108587     0.307951     -0.094400         -0.103405   \n",
              "danceability      0.259076     0.108625     -0.171531         -0.185608   \n",
              "energy            0.761690     0.142508     -0.733908         -0.181880   \n",
              "loudness          1.000000     0.060826     -0.589804         -0.433478   \n",
              "speechiness       0.060826     1.000000     -0.002184         -0.089617   \n",
              "acousticness     -0.589804    -0.002184      1.000000          0.104033   \n",
              "instrumentalness -0.433478    -0.089617      0.104033          1.000000   \n",
              "liveness          0.076897     0.205218     -0.020693         -0.079896   \n",
              "valence           0.279851     0.036637     -0.107081         -0.324310   \n",
              "tempo             0.212447     0.017274     -0.208231         -0.050328   \n",
              "time_signature    0.191992    -0.000011     -0.176142         -0.082580   \n",
              "\n",
              "                  liveness   valence     tempo  time_signature  \n",
              "popularity       -0.005397 -0.040522  0.013212        0.031076  \n",
              "duration_ms       0.010308 -0.154464  0.024356        0.018229  \n",
              "explicit          0.032547 -0.003378 -0.002815        0.038387  \n",
              "danceability     -0.131620  0.477347 -0.050448        0.207219  \n",
              "energy            0.184795  0.258937  0.247852        0.187127  \n",
              "loudness          0.076897  0.279851  0.212447        0.191992  \n",
              "speechiness       0.205218  0.036637  0.017274       -0.000011  \n",
              "acousticness     -0.020693 -0.107081 -0.208231       -0.176142  \n",
              "instrumentalness -0.079896 -0.324310 -0.050328       -0.082580  \n",
              "liveness          1.000000  0.019093  0.000603       -0.023649  \n",
              "valence           0.019093  1.000000  0.078269        0.133685  \n",
              "tempo             0.000603  0.078269  1.000000        0.066640  \n",
              "time_signature   -0.023649  0.133685  0.066640        1.000000  "
            ],
            "text/html": [
              "\n",
              "  <div id=\"df-6e07fe12-3451-4dab-84e3-459c8f23cae2\">\n",
              "    <div class=\"colab-df-container\">\n",
              "      <div>\n",
              "<style scoped>\n",
              "    .dataframe tbody tr th:only-of-type {\n",
              "        vertical-align: middle;\n",
              "    }\n",
              "\n",
              "    .dataframe tbody tr th {\n",
              "        vertical-align: top;\n",
              "    }\n",
              "\n",
              "    .dataframe thead th {\n",
              "        text-align: right;\n",
              "    }\n",
              "</style>\n",
              "<table border=\"1\" class=\"dataframe\">\n",
              "  <thead>\n",
              "    <tr style=\"text-align: right;\">\n",
              "      <th></th>\n",
              "      <th>popularity</th>\n",
              "      <th>duration_ms</th>\n",
              "      <th>explicit</th>\n",
              "      <th>danceability</th>\n",
              "      <th>energy</th>\n",
              "      <th>loudness</th>\n",
              "      <th>speechiness</th>\n",
              "      <th>acousticness</th>\n",
              "      <th>instrumentalness</th>\n",
              "      <th>liveness</th>\n",
              "      <th>valence</th>\n",
              "      <th>tempo</th>\n",
              "      <th>time_signature</th>\n",
              "    </tr>\n",
              "  </thead>\n",
              "  <tbody>\n",
              "    <tr>\n",
              "      <th>popularity</th>\n",
              "      <td>1.000000</td>\n",
              "      <td>-0.007129</td>\n",
              "      <td>0.044078</td>\n",
              "      <td>0.035444</td>\n",
              "      <td>0.001053</td>\n",
              "      <td>0.050420</td>\n",
              "      <td>-0.044930</td>\n",
              "      <td>-0.025458</td>\n",
              "      <td>-0.095147</td>\n",
              "      <td>-0.005397</td>\n",
              "      <td>-0.040522</td>\n",
              "      <td>0.013212</td>\n",
              "      <td>0.031076</td>\n",
              "    </tr>\n",
              "    <tr>\n",
              "      <th>duration_ms</th>\n",
              "      <td>-0.007129</td>\n",
              "      <td>1.000000</td>\n",
              "      <td>-0.065270</td>\n",
              "      <td>-0.073435</td>\n",
              "      <td>0.058520</td>\n",
              "      <td>-0.003475</td>\n",
              "      <td>-0.062605</td>\n",
              "      <td>-0.103770</td>\n",
              "      <td>0.124364</td>\n",
              "      <td>0.010308</td>\n",
              "      <td>-0.154464</td>\n",
              "      <td>0.024356</td>\n",
              "      <td>0.018229</td>\n",
              "    </tr>\n",
              "    <tr>\n",
              "      <th>explicit</th>\n",
              "      <td>0.044078</td>\n",
              "      <td>-0.065270</td>\n",
              "      <td>1.000000</td>\n",
              "      <td>0.122506</td>\n",
              "      <td>0.096954</td>\n",
              "      <td>0.108587</td>\n",
              "      <td>0.307951</td>\n",
              "      <td>-0.094400</td>\n",
              "      <td>-0.103405</td>\n",
              "      <td>0.032547</td>\n",
              "      <td>-0.003378</td>\n",
              "      <td>-0.002815</td>\n",
              "      <td>0.038387</td>\n",
              "    </tr>\n",
              "    <tr>\n",
              "      <th>danceability</th>\n",
              "      <td>0.035444</td>\n",
              "      <td>-0.073435</td>\n",
              "      <td>0.122506</td>\n",
              "      <td>1.000000</td>\n",
              "      <td>0.134325</td>\n",
              "      <td>0.259076</td>\n",
              "      <td>0.108625</td>\n",
              "      <td>-0.171531</td>\n",
              "      <td>-0.185608</td>\n",
              "      <td>-0.131620</td>\n",
              "      <td>0.477347</td>\n",
              "      <td>-0.050448</td>\n",
              "      <td>0.207219</td>\n",
              "    </tr>\n",
              "    <tr>\n",
              "      <th>energy</th>\n",
              "      <td>0.001053</td>\n",
              "      <td>0.058520</td>\n",
              "      <td>0.096954</td>\n",
              "      <td>0.134325</td>\n",
              "      <td>1.000000</td>\n",
              "      <td>0.761690</td>\n",
              "      <td>0.142508</td>\n",
              "      <td>-0.733908</td>\n",
              "      <td>-0.181880</td>\n",
              "      <td>0.184795</td>\n",
              "      <td>0.258937</td>\n",
              "      <td>0.247852</td>\n",
              "      <td>0.187127</td>\n",
              "    </tr>\n",
              "    <tr>\n",
              "      <th>loudness</th>\n",
              "      <td>0.050420</td>\n",
              "      <td>-0.003475</td>\n",
              "      <td>0.108587</td>\n",
              "      <td>0.259076</td>\n",
              "      <td>0.761690</td>\n",
              "      <td>1.000000</td>\n",
              "      <td>0.060826</td>\n",
              "      <td>-0.589804</td>\n",
              "      <td>-0.433478</td>\n",
              "      <td>0.076897</td>\n",
              "      <td>0.279851</td>\n",
              "      <td>0.212447</td>\n",
              "      <td>0.191992</td>\n",
              "    </tr>\n",
              "    <tr>\n",
              "      <th>speechiness</th>\n",
              "      <td>-0.044930</td>\n",
              "      <td>-0.062605</td>\n",
              "      <td>0.307951</td>\n",
              "      <td>0.108625</td>\n",
              "      <td>0.142508</td>\n",
              "      <td>0.060826</td>\n",
              "      <td>1.000000</td>\n",
              "      <td>-0.002184</td>\n",
              "      <td>-0.089617</td>\n",
              "      <td>0.205218</td>\n",
              "      <td>0.036637</td>\n",
              "      <td>0.017274</td>\n",
              "      <td>-0.000011</td>\n",
              "    </tr>\n",
              "    <tr>\n",
              "      <th>acousticness</th>\n",
              "      <td>-0.025458</td>\n",
              "      <td>-0.103770</td>\n",
              "      <td>-0.094400</td>\n",
              "      <td>-0.171531</td>\n",
              "      <td>-0.733908</td>\n",
              "      <td>-0.589804</td>\n",
              "      <td>-0.002184</td>\n",
              "      <td>1.000000</td>\n",
              "      <td>0.104033</td>\n",
              "      <td>-0.020693</td>\n",
              "      <td>-0.107081</td>\n",
              "      <td>-0.208231</td>\n",
              "      <td>-0.176142</td>\n",
              "    </tr>\n",
              "    <tr>\n",
              "      <th>instrumentalness</th>\n",
              "      <td>-0.095147</td>\n",
              "      <td>0.124364</td>\n",
              "      <td>-0.103405</td>\n",
              "      <td>-0.185608</td>\n",
              "      <td>-0.181880</td>\n",
              "      <td>-0.433478</td>\n",
              "      <td>-0.089617</td>\n",
              "      <td>0.104033</td>\n",
              "      <td>1.000000</td>\n",
              "      <td>-0.079896</td>\n",
              "      <td>-0.324310</td>\n",
              "      <td>-0.050328</td>\n",
              "      <td>-0.082580</td>\n",
              "    </tr>\n",
              "    <tr>\n",
              "      <th>liveness</th>\n",
              "      <td>-0.005397</td>\n",
              "      <td>0.010308</td>\n",
              "      <td>0.032547</td>\n",
              "      <td>-0.131620</td>\n",
              "      <td>0.184795</td>\n",
              "      <td>0.076897</td>\n",
              "      <td>0.205218</td>\n",
              "      <td>-0.020693</td>\n",
              "      <td>-0.079896</td>\n",
              "      <td>1.000000</td>\n",
              "      <td>0.019093</td>\n",
              "      <td>0.000603</td>\n",
              "      <td>-0.023649</td>\n",
              "    </tr>\n",
              "    <tr>\n",
              "      <th>valence</th>\n",
              "      <td>-0.040522</td>\n",
              "      <td>-0.154464</td>\n",
              "      <td>-0.003378</td>\n",
              "      <td>0.477347</td>\n",
              "      <td>0.258937</td>\n",
              "      <td>0.279851</td>\n",
              "      <td>0.036637</td>\n",
              "      <td>-0.107081</td>\n",
              "      <td>-0.324310</td>\n",
              "      <td>0.019093</td>\n",
              "      <td>1.000000</td>\n",
              "      <td>0.078269</td>\n",
              "      <td>0.133685</td>\n",
              "    </tr>\n",
              "    <tr>\n",
              "      <th>tempo</th>\n",
              "      <td>0.013212</td>\n",
              "      <td>0.024356</td>\n",
              "      <td>-0.002815</td>\n",
              "      <td>-0.050448</td>\n",
              "      <td>0.247852</td>\n",
              "      <td>0.212447</td>\n",
              "      <td>0.017274</td>\n",
              "      <td>-0.208231</td>\n",
              "      <td>-0.050328</td>\n",
              "      <td>0.000603</td>\n",
              "      <td>0.078269</td>\n",
              "      <td>1.000000</td>\n",
              "      <td>0.066640</td>\n",
              "    </tr>\n",
              "    <tr>\n",
              "      <th>time_signature</th>\n",
              "      <td>0.031076</td>\n",
              "      <td>0.018229</td>\n",
              "      <td>0.038387</td>\n",
              "      <td>0.207219</td>\n",
              "      <td>0.187127</td>\n",
              "      <td>0.191992</td>\n",
              "      <td>-0.000011</td>\n",
              "      <td>-0.176142</td>\n",
              "      <td>-0.082580</td>\n",
              "      <td>-0.023649</td>\n",
              "      <td>0.133685</td>\n",
              "      <td>0.066640</td>\n",
              "      <td>1.000000</td>\n",
              "    </tr>\n",
              "  </tbody>\n",
              "</table>\n",
              "</div>\n",
              "      <button class=\"colab-df-convert\" onclick=\"convertToInteractive('df-6e07fe12-3451-4dab-84e3-459c8f23cae2')\"\n",
              "              title=\"Convert this dataframe to an interactive table.\"\n",
              "              style=\"display:none;\">\n",
              "        \n",
              "  <svg xmlns=\"http://www.w3.org/2000/svg\" height=\"24px\"viewBox=\"0 0 24 24\"\n",
              "       width=\"24px\">\n",
              "    <path d=\"M0 0h24v24H0V0z\" fill=\"none\"/>\n",
              "    <path d=\"M18.56 5.44l.94 2.06.94-2.06 2.06-.94-2.06-.94-.94-2.06-.94 2.06-2.06.94zm-11 1L8.5 8.5l.94-2.06 2.06-.94-2.06-.94L8.5 2.5l-.94 2.06-2.06.94zm10 10l.94 2.06.94-2.06 2.06-.94-2.06-.94-.94-2.06-.94 2.06-2.06.94z\"/><path d=\"M17.41 7.96l-1.37-1.37c-.4-.4-.92-.59-1.43-.59-.52 0-1.04.2-1.43.59L10.3 9.45l-7.72 7.72c-.78.78-.78 2.05 0 2.83L4 21.41c.39.39.9.59 1.41.59.51 0 1.02-.2 1.41-.59l7.78-7.78 2.81-2.81c.8-.78.8-2.07 0-2.86zM5.41 20L4 18.59l7.72-7.72 1.47 1.35L5.41 20z\"/>\n",
              "  </svg>\n",
              "      </button>\n",
              "      \n",
              "  <style>\n",
              "    .colab-df-container {\n",
              "      display:flex;\n",
              "      flex-wrap:wrap;\n",
              "      gap: 12px;\n",
              "    }\n",
              "\n",
              "    .colab-df-convert {\n",
              "      background-color: #E8F0FE;\n",
              "      border: none;\n",
              "      border-radius: 50%;\n",
              "      cursor: pointer;\n",
              "      display: none;\n",
              "      fill: #1967D2;\n",
              "      height: 32px;\n",
              "      padding: 0 0 0 0;\n",
              "      width: 32px;\n",
              "    }\n",
              "\n",
              "    .colab-df-convert:hover {\n",
              "      background-color: #E2EBFA;\n",
              "      box-shadow: 0px 1px 2px rgba(60, 64, 67, 0.3), 0px 1px 3px 1px rgba(60, 64, 67, 0.15);\n",
              "      fill: #174EA6;\n",
              "    }\n",
              "\n",
              "    [theme=dark] .colab-df-convert {\n",
              "      background-color: #3B4455;\n",
              "      fill: #D2E3FC;\n",
              "    }\n",
              "\n",
              "    [theme=dark] .colab-df-convert:hover {\n",
              "      background-color: #434B5C;\n",
              "      box-shadow: 0px 1px 3px 1px rgba(0, 0, 0, 0.15);\n",
              "      filter: drop-shadow(0px 1px 2px rgba(0, 0, 0, 0.3));\n",
              "      fill: #FFFFFF;\n",
              "    }\n",
              "  </style>\n",
              "\n",
              "      <script>\n",
              "        const buttonEl =\n",
              "          document.querySelector('#df-6e07fe12-3451-4dab-84e3-459c8f23cae2 button.colab-df-convert');\n",
              "        buttonEl.style.display =\n",
              "          google.colab.kernel.accessAllowed ? 'block' : 'none';\n",
              "\n",
              "        async function convertToInteractive(key) {\n",
              "          const element = document.querySelector('#df-6e07fe12-3451-4dab-84e3-459c8f23cae2');\n",
              "          const dataTable =\n",
              "            await google.colab.kernel.invokeFunction('convertToInteractive',\n",
              "                                                     [key], {});\n",
              "          if (!dataTable) return;\n",
              "\n",
              "          const docLinkHtml = 'Like what you see? Visit the ' +\n",
              "            '<a target=\"_blank\" href=https://colab.research.google.com/notebooks/data_table.ipynb>data table notebook</a>'\n",
              "            + ' to learn more about interactive tables.';\n",
              "          element.innerHTML = '';\n",
              "          dataTable['output_type'] = 'display_data';\n",
              "          await google.colab.output.renderOutput(dataTable, element);\n",
              "          const docLink = document.createElement('div');\n",
              "          docLink.innerHTML = docLinkHtml;\n",
              "          element.appendChild(docLink);\n",
              "        }\n",
              "      </script>\n",
              "    </div>\n",
              "  </div>\n",
              "  "
            ]
          },
          "metadata": {},
          "execution_count": 22
        }
      ]
    },
    {
      "cell_type": "code",
      "source": [
        "list(spotify.columns)"
      ],
      "metadata": {
        "colab": {
          "base_uri": "https://localhost:8080/"
        },
        "id": "OU8YvtKlKWJ0",
        "outputId": "d97aa68c-6b1c-4919-8148-3264c3968739"
      },
      "execution_count": 23,
      "outputs": [
        {
          "output_type": "execute_result",
          "data": {
            "text/plain": [
              "['track_id',\n",
              " 'artists',\n",
              " 'album_name',\n",
              " 'track_name',\n",
              " 'popularity',\n",
              " 'duration_ms',\n",
              " 'explicit',\n",
              " 'danceability',\n",
              " 'energy',\n",
              " 'loudness',\n",
              " 'speechiness',\n",
              " 'acousticness',\n",
              " 'instrumentalness',\n",
              " 'liveness',\n",
              " 'valence',\n",
              " 'tempo',\n",
              " 'time_signature',\n",
              " 'track_genre']"
            ]
          },
          "metadata": {},
          "execution_count": 23
        }
      ]
    },
    {
      "cell_type": "code",
      "source": [
        "spotify.describe()"
      ],
      "metadata": {
        "colab": {
          "base_uri": "https://localhost:8080/",
          "height": 301
        },
        "id": "FG5QKaNjJ71F",
        "outputId": "16378d2c-bd11-4ac0-e4b1-6227f1726f6c"
      },
      "execution_count": 24,
      "outputs": [
        {
          "output_type": "execute_result",
          "data": {
            "text/plain": [
              "          popularity   duration_ms   danceability         energy  \\\n",
              "count  113999.000000  1.139990e+05  113999.000000  113999.000000   \n",
              "mean       33.238827  2.280312e+05       0.566801       0.641383   \n",
              "std        22.304959  1.072961e+05       0.173543       0.251530   \n",
              "min         0.000000  8.586000e+03       0.000000       0.000000   \n",
              "25%        17.000000  1.740660e+05       0.456000       0.472000   \n",
              "50%        35.000000  2.129060e+05       0.580000       0.685000   \n",
              "75%        50.000000  2.615060e+05       0.695000       0.854000   \n",
              "max       100.000000  5.237295e+06       0.985000       1.000000   \n",
              "\n",
              "            loudness    speechiness   acousticness  instrumentalness  \\\n",
              "count  113999.000000  113999.000000  113999.000000     113999.000000   \n",
              "mean       -8.258950       0.084652       0.314907          0.156051   \n",
              "std         5.029357       0.105733       0.332522          0.309556   \n",
              "min       -49.531000       0.000000       0.000000          0.000000   \n",
              "25%       -10.013000       0.035900       0.016900          0.000000   \n",
              "50%        -7.004000       0.048900       0.169000          0.000042   \n",
              "75%        -5.003000       0.084500       0.597500          0.049000   \n",
              "max         4.532000       0.965000       0.996000          1.000000   \n",
              "\n",
              "            liveness        valence          tempo  time_signature  \n",
              "count  113999.000000  113999.000000  113999.000000   113999.000000  \n",
              "mean        0.213554       0.474066     122.147695        3.904034  \n",
              "std         0.190378       0.259261      29.978290        0.432623  \n",
              "min         0.000000       0.000000       0.000000        0.000000  \n",
              "25%         0.098000       0.260000      99.218500        4.000000  \n",
              "50%         0.132000       0.464000     122.017000        4.000000  \n",
              "75%         0.273000       0.683000     140.071000        4.000000  \n",
              "max         1.000000       0.995000     243.372000        5.000000  "
            ],
            "text/html": [
              "\n",
              "  <div id=\"df-c3eaafda-839a-413d-b508-5f6453261869\">\n",
              "    <div class=\"colab-df-container\">\n",
              "      <div>\n",
              "<style scoped>\n",
              "    .dataframe tbody tr th:only-of-type {\n",
              "        vertical-align: middle;\n",
              "    }\n",
              "\n",
              "    .dataframe tbody tr th {\n",
              "        vertical-align: top;\n",
              "    }\n",
              "\n",
              "    .dataframe thead th {\n",
              "        text-align: right;\n",
              "    }\n",
              "</style>\n",
              "<table border=\"1\" class=\"dataframe\">\n",
              "  <thead>\n",
              "    <tr style=\"text-align: right;\">\n",
              "      <th></th>\n",
              "      <th>popularity</th>\n",
              "      <th>duration_ms</th>\n",
              "      <th>danceability</th>\n",
              "      <th>energy</th>\n",
              "      <th>loudness</th>\n",
              "      <th>speechiness</th>\n",
              "      <th>acousticness</th>\n",
              "      <th>instrumentalness</th>\n",
              "      <th>liveness</th>\n",
              "      <th>valence</th>\n",
              "      <th>tempo</th>\n",
              "      <th>time_signature</th>\n",
              "    </tr>\n",
              "  </thead>\n",
              "  <tbody>\n",
              "    <tr>\n",
              "      <th>count</th>\n",
              "      <td>113999.000000</td>\n",
              "      <td>1.139990e+05</td>\n",
              "      <td>113999.000000</td>\n",
              "      <td>113999.000000</td>\n",
              "      <td>113999.000000</td>\n",
              "      <td>113999.000000</td>\n",
              "      <td>113999.000000</td>\n",
              "      <td>113999.000000</td>\n",
              "      <td>113999.000000</td>\n",
              "      <td>113999.000000</td>\n",
              "      <td>113999.000000</td>\n",
              "      <td>113999.000000</td>\n",
              "    </tr>\n",
              "    <tr>\n",
              "      <th>mean</th>\n",
              "      <td>33.238827</td>\n",
              "      <td>2.280312e+05</td>\n",
              "      <td>0.566801</td>\n",
              "      <td>0.641383</td>\n",
              "      <td>-8.258950</td>\n",
              "      <td>0.084652</td>\n",
              "      <td>0.314907</td>\n",
              "      <td>0.156051</td>\n",
              "      <td>0.213554</td>\n",
              "      <td>0.474066</td>\n",
              "      <td>122.147695</td>\n",
              "      <td>3.904034</td>\n",
              "    </tr>\n",
              "    <tr>\n",
              "      <th>std</th>\n",
              "      <td>22.304959</td>\n",
              "      <td>1.072961e+05</td>\n",
              "      <td>0.173543</td>\n",
              "      <td>0.251530</td>\n",
              "      <td>5.029357</td>\n",
              "      <td>0.105733</td>\n",
              "      <td>0.332522</td>\n",
              "      <td>0.309556</td>\n",
              "      <td>0.190378</td>\n",
              "      <td>0.259261</td>\n",
              "      <td>29.978290</td>\n",
              "      <td>0.432623</td>\n",
              "    </tr>\n",
              "    <tr>\n",
              "      <th>min</th>\n",
              "      <td>0.000000</td>\n",
              "      <td>8.586000e+03</td>\n",
              "      <td>0.000000</td>\n",
              "      <td>0.000000</td>\n",
              "      <td>-49.531000</td>\n",
              "      <td>0.000000</td>\n",
              "      <td>0.000000</td>\n",
              "      <td>0.000000</td>\n",
              "      <td>0.000000</td>\n",
              "      <td>0.000000</td>\n",
              "      <td>0.000000</td>\n",
              "      <td>0.000000</td>\n",
              "    </tr>\n",
              "    <tr>\n",
              "      <th>25%</th>\n",
              "      <td>17.000000</td>\n",
              "      <td>1.740660e+05</td>\n",
              "      <td>0.456000</td>\n",
              "      <td>0.472000</td>\n",
              "      <td>-10.013000</td>\n",
              "      <td>0.035900</td>\n",
              "      <td>0.016900</td>\n",
              "      <td>0.000000</td>\n",
              "      <td>0.098000</td>\n",
              "      <td>0.260000</td>\n",
              "      <td>99.218500</td>\n",
              "      <td>4.000000</td>\n",
              "    </tr>\n",
              "    <tr>\n",
              "      <th>50%</th>\n",
              "      <td>35.000000</td>\n",
              "      <td>2.129060e+05</td>\n",
              "      <td>0.580000</td>\n",
              "      <td>0.685000</td>\n",
              "      <td>-7.004000</td>\n",
              "      <td>0.048900</td>\n",
              "      <td>0.169000</td>\n",
              "      <td>0.000042</td>\n",
              "      <td>0.132000</td>\n",
              "      <td>0.464000</td>\n",
              "      <td>122.017000</td>\n",
              "      <td>4.000000</td>\n",
              "    </tr>\n",
              "    <tr>\n",
              "      <th>75%</th>\n",
              "      <td>50.000000</td>\n",
              "      <td>2.615060e+05</td>\n",
              "      <td>0.695000</td>\n",
              "      <td>0.854000</td>\n",
              "      <td>-5.003000</td>\n",
              "      <td>0.084500</td>\n",
              "      <td>0.597500</td>\n",
              "      <td>0.049000</td>\n",
              "      <td>0.273000</td>\n",
              "      <td>0.683000</td>\n",
              "      <td>140.071000</td>\n",
              "      <td>4.000000</td>\n",
              "    </tr>\n",
              "    <tr>\n",
              "      <th>max</th>\n",
              "      <td>100.000000</td>\n",
              "      <td>5.237295e+06</td>\n",
              "      <td>0.985000</td>\n",
              "      <td>1.000000</td>\n",
              "      <td>4.532000</td>\n",
              "      <td>0.965000</td>\n",
              "      <td>0.996000</td>\n",
              "      <td>1.000000</td>\n",
              "      <td>1.000000</td>\n",
              "      <td>0.995000</td>\n",
              "      <td>243.372000</td>\n",
              "      <td>5.000000</td>\n",
              "    </tr>\n",
              "  </tbody>\n",
              "</table>\n",
              "</div>\n",
              "      <button class=\"colab-df-convert\" onclick=\"convertToInteractive('df-c3eaafda-839a-413d-b508-5f6453261869')\"\n",
              "              title=\"Convert this dataframe to an interactive table.\"\n",
              "              style=\"display:none;\">\n",
              "        \n",
              "  <svg xmlns=\"http://www.w3.org/2000/svg\" height=\"24px\"viewBox=\"0 0 24 24\"\n",
              "       width=\"24px\">\n",
              "    <path d=\"M0 0h24v24H0V0z\" fill=\"none\"/>\n",
              "    <path d=\"M18.56 5.44l.94 2.06.94-2.06 2.06-.94-2.06-.94-.94-2.06-.94 2.06-2.06.94zm-11 1L8.5 8.5l.94-2.06 2.06-.94-2.06-.94L8.5 2.5l-.94 2.06-2.06.94zm10 10l.94 2.06.94-2.06 2.06-.94-2.06-.94-.94-2.06-.94 2.06-2.06.94z\"/><path d=\"M17.41 7.96l-1.37-1.37c-.4-.4-.92-.59-1.43-.59-.52 0-1.04.2-1.43.59L10.3 9.45l-7.72 7.72c-.78.78-.78 2.05 0 2.83L4 21.41c.39.39.9.59 1.41.59.51 0 1.02-.2 1.41-.59l7.78-7.78 2.81-2.81c.8-.78.8-2.07 0-2.86zM5.41 20L4 18.59l7.72-7.72 1.47 1.35L5.41 20z\"/>\n",
              "  </svg>\n",
              "      </button>\n",
              "      \n",
              "  <style>\n",
              "    .colab-df-container {\n",
              "      display:flex;\n",
              "      flex-wrap:wrap;\n",
              "      gap: 12px;\n",
              "    }\n",
              "\n",
              "    .colab-df-convert {\n",
              "      background-color: #E8F0FE;\n",
              "      border: none;\n",
              "      border-radius: 50%;\n",
              "      cursor: pointer;\n",
              "      display: none;\n",
              "      fill: #1967D2;\n",
              "      height: 32px;\n",
              "      padding: 0 0 0 0;\n",
              "      width: 32px;\n",
              "    }\n",
              "\n",
              "    .colab-df-convert:hover {\n",
              "      background-color: #E2EBFA;\n",
              "      box-shadow: 0px 1px 2px rgba(60, 64, 67, 0.3), 0px 1px 3px 1px rgba(60, 64, 67, 0.15);\n",
              "      fill: #174EA6;\n",
              "    }\n",
              "\n",
              "    [theme=dark] .colab-df-convert {\n",
              "      background-color: #3B4455;\n",
              "      fill: #D2E3FC;\n",
              "    }\n",
              "\n",
              "    [theme=dark] .colab-df-convert:hover {\n",
              "      background-color: #434B5C;\n",
              "      box-shadow: 0px 1px 3px 1px rgba(0, 0, 0, 0.15);\n",
              "      filter: drop-shadow(0px 1px 2px rgba(0, 0, 0, 0.3));\n",
              "      fill: #FFFFFF;\n",
              "    }\n",
              "  </style>\n",
              "\n",
              "      <script>\n",
              "        const buttonEl =\n",
              "          document.querySelector('#df-c3eaafda-839a-413d-b508-5f6453261869 button.colab-df-convert');\n",
              "        buttonEl.style.display =\n",
              "          google.colab.kernel.accessAllowed ? 'block' : 'none';\n",
              "\n",
              "        async function convertToInteractive(key) {\n",
              "          const element = document.querySelector('#df-c3eaafda-839a-413d-b508-5f6453261869');\n",
              "          const dataTable =\n",
              "            await google.colab.kernel.invokeFunction('convertToInteractive',\n",
              "                                                     [key], {});\n",
              "          if (!dataTable) return;\n",
              "\n",
              "          const docLinkHtml = 'Like what you see? Visit the ' +\n",
              "            '<a target=\"_blank\" href=https://colab.research.google.com/notebooks/data_table.ipynb>data table notebook</a>'\n",
              "            + ' to learn more about interactive tables.';\n",
              "          element.innerHTML = '';\n",
              "          dataTable['output_type'] = 'display_data';\n",
              "          await google.colab.output.renderOutput(dataTable, element);\n",
              "          const docLink = document.createElement('div');\n",
              "          docLink.innerHTML = docLinkHtml;\n",
              "          element.appendChild(docLink);\n",
              "        }\n",
              "      </script>\n",
              "    </div>\n",
              "  </div>\n",
              "  "
            ]
          },
          "metadata": {},
          "execution_count": 24
        }
      ]
    },
    {
      "cell_type": "code",
      "source": [
        "# from google.colab import files\n",
        "# files.download(\"spotify.csv\")\n",
        "\n",
        "from google.colab import files\n",
        "spotify.to_csv('output.csv', encoding = 'utf-8-sig') \n",
        "files.download('output.csv')"
      ],
      "metadata": {
        "id": "aGMDz_DXLYL1",
        "outputId": "12957413-a5fd-44f6-c563-38fd98707878",
        "colab": {
          "base_uri": "https://localhost:8080/",
          "height": 17
        }
      },
      "execution_count": 25,
      "outputs": [
        {
          "output_type": "display_data",
          "data": {
            "text/plain": [
              "<IPython.core.display.Javascript object>"
            ],
            "application/javascript": [
              "\n",
              "    async function download(id, filename, size) {\n",
              "      if (!google.colab.kernel.accessAllowed) {\n",
              "        return;\n",
              "      }\n",
              "      const div = document.createElement('div');\n",
              "      const label = document.createElement('label');\n",
              "      label.textContent = `Downloading \"${filename}\": `;\n",
              "      div.appendChild(label);\n",
              "      const progress = document.createElement('progress');\n",
              "      progress.max = size;\n",
              "      div.appendChild(progress);\n",
              "      document.body.appendChild(div);\n",
              "\n",
              "      const buffers = [];\n",
              "      let downloaded = 0;\n",
              "\n",
              "      const channel = await google.colab.kernel.comms.open(id);\n",
              "      // Send a message to notify the kernel that we're ready.\n",
              "      channel.send({})\n",
              "\n",
              "      for await (const message of channel.messages) {\n",
              "        // Send a message to notify the kernel that we're ready.\n",
              "        channel.send({})\n",
              "        if (message.buffers) {\n",
              "          for (const buffer of message.buffers) {\n",
              "            buffers.push(buffer);\n",
              "            downloaded += buffer.byteLength;\n",
              "            progress.value = downloaded;\n",
              "          }\n",
              "        }\n",
              "      }\n",
              "      const blob = new Blob(buffers, {type: 'application/binary'});\n",
              "      const a = document.createElement('a');\n",
              "      a.href = window.URL.createObjectURL(blob);\n",
              "      a.download = filename;\n",
              "      div.appendChild(a);\n",
              "      a.click();\n",
              "      div.remove();\n",
              "    }\n",
              "  "
            ]
          },
          "metadata": {}
        },
        {
          "output_type": "display_data",
          "data": {
            "text/plain": [
              "<IPython.core.display.Javascript object>"
            ],
            "application/javascript": [
              "download(\"download_18da2993-4fc7-42d5-ad8d-c67e4ecc70c1\", \"output.csv\", 19645391)"
            ]
          },
          "metadata": {}
        }
      ]
    },
    {
      "cell_type": "code",
      "source": [
        "print('Mean of energy:', spotify['liveness'].mean())\n",
        "print('Median of energy:', spotify['liveness'].median())"
      ],
      "metadata": {
        "colab": {
          "base_uri": "https://localhost:8080/"
        },
        "id": "--WAU89xKS0V",
        "outputId": "f42cd8f6-7b36-465b-d73a-325bdaf5d6ad"
      },
      "execution_count": 26,
      "outputs": [
        {
          "output_type": "stream",
          "name": "stdout",
          "text": [
            "Mean of energy: 0.2135540540706497\n",
            "Median of energy: 0.132\n"
          ]
        }
      ]
    },
    {
      "cell_type": "code",
      "source": [
        "print('Mean of energy:', spotify['instrumentalness'].mean())\n",
        "print('Median of energy:', spotify['instrumentalness'].median())"
      ],
      "metadata": {
        "colab": {
          "base_uri": "https://localhost:8080/"
        },
        "id": "B6taF7gLKk4c",
        "outputId": "b8325aea-3b48-4b95-d5fc-bc4dc1a492c4"
      },
      "execution_count": 27,
      "outputs": [
        {
          "output_type": "stream",
          "name": "stdout",
          "text": [
            "Mean of energy: 0.15605092335213466\n",
            "Median of energy: 4.16e-05\n"
          ]
        }
      ]
    },
    {
      "cell_type": "code",
      "source": [
        "print('Mean of energy:', spotify['acousticness'].mean())\n",
        "print('Median of energy:', spotify['acousticness'].median())  "
      ],
      "metadata": {
        "colab": {
          "base_uri": "https://localhost:8080/"
        },
        "id": "KRMLtuhbKs6X",
        "outputId": "5c965c42-5a81-47cf-d0ab-40d404cdbbd6"
      },
      "execution_count": 28,
      "outputs": [
        {
          "output_type": "stream",
          "name": "stdout",
          "text": [
            "Mean of energy: 0.314906772188528\n",
            "Median of energy: 0.169\n"
          ]
        }
      ]
    },
    {
      "cell_type": "code",
      "source": [
        "print('Mean of energy:', spotify['speechiness'].mean())\n",
        "print('Median of energy:', spotify['speechiness'].median())  "
      ],
      "metadata": {
        "colab": {
          "base_uri": "https://localhost:8080/"
        },
        "id": "JiFtNvbpLHoF",
        "outputId": "df350511-1ff1-4ddc-fdad-729dceec8eee"
      },
      "execution_count": 29,
      "outputs": [
        {
          "output_type": "stream",
          "name": "stdout",
          "text": [
            "Mean of energy: 0.08465232414319424\n",
            "Median of energy: 0.0489\n"
          ]
        }
      ]
    },
    {
      "cell_type": "code",
      "source": [
        "sns.heatmap(spotify.corr())"
      ],
      "metadata": {
        "colab": {
          "base_uri": "https://localhost:8080/",
          "height": 363
        },
        "id": "C_LzkTYkLoV9",
        "outputId": "f82d670f-2f22-4bd5-8551-0ef57ebd68f0"
      },
      "execution_count": 30,
      "outputs": [
        {
          "output_type": "execute_result",
          "data": {
            "text/plain": [
              "<matplotlib.axes._subplots.AxesSubplot at 0x7fc47042ed60>"
            ]
          },
          "metadata": {},
          "execution_count": 30
        },
        {
          "output_type": "display_data",
          "data": {
            "text/plain": [
              "<Figure size 432x288 with 2 Axes>"
            ],
            "image/png": "[encoded data removed]"
          },
          "metadata": {
            "needs_background": "light"
          }
        }
      ]
    },
    {
      "cell_type": "code",
      "source": [
        "spotify.columns"
      ],
      "metadata": {
        "colab": {
          "base_uri": "https://localhost:8080/"
        },
        "id": "ZgMCZGPvMu8A",
        "outputId": "00156061-066e-47c2-d9ac-8fa31fece059"
      },
      "execution_count": 32,
      "outputs": [
        {
          "output_type": "execute_result",
          "data": {
            "text/plain": [
              "Index(['track_id', 'artists', 'album_name', 'track_name', 'popularity',\n",
              "       'duration_ms', 'explicit', 'danceability', 'energy', 'loudness',\n",
              "       'speechiness', 'acousticness', 'instrumentalness', 'liveness',\n",
              "       'valence', 'tempo', 'time_signature', 'track_genre'],\n",
              "      dtype='object')"
            ]
          },
          "metadata": {},
          "execution_count": 32
        }
      ]
    },
    {
      "cell_type": "code",
      "source": [
        "spotify_genre = spotify.groupby(['track_genre']).agg({'popularity': 'mean','track_id' : 'count'}).reset_index()\n",
        "s_g = spotify_genre.sort_values(by=('popularity'), ascending=False)"
      ],
      "metadata": {
        "id": "3fHIa26jMi74"
      },
      "execution_count": 34,
      "outputs": []
    },
    {
      "cell_type": "code",
      "source": [
        "df_music_popularity= s_g.head(10)"
      ],
      "metadata": {
        "id": "82uRIj-fM-pa"
      },
      "execution_count": 41,
      "outputs": []
    },
    {
      "cell_type": "code",
      "source": [
        "import matplotlib.pyplot as plt\n",
        "# sns.set_palette(\"pastel\")\n",
        "fig, ax = plt.subplots(figsize = (20,10))\n",
        "sns.barplot(y = 'track_genre', x = 'popularity', data = df_music_popularity, errcolor=\".5\", linewidth=3, edgecolor=\".5\", facecolor=(0, 0, 0, 0),)"
      ],
      "metadata": {
        "colab": {
          "base_uri": "https://localhost:8080/",
          "height": 623
        },
        "id": "4hW9YfeNMLkz",
        "outputId": "f24d22e4-5521-45ed-8878-53bbe42a2a32"
      },
      "execution_count": 58,
      "outputs": [
        {
          "output_type": "execute_result",
          "data": {
            "text/plain": [
              "<matplotlib.axes._subplots.AxesSubplot at 0x7fc45fcb2460>"
            ]
          },
          "metadata": {},
          "execution_count": 58
        },
        {
          "output_type": "display_data",
          "data": {
            "text/plain": [
              "<Figure size 1440x720 with 1 Axes>"
            ],
            "image/png": "[encoded data removed]"
          },
          "metadata": {
            "needs_background": "light"
          }
        }
      ]
    },
    {
      "cell_type": "code",
      "source": [
        "spotify_genre_dance = spotify.groupby(['track_genre']).agg({'danceability': 'mean','track_id' : 'count'}).reset_index()\n",
        "s_g_d = spotify_genre_dance.sort_values(by=('danceability'), ascending=False)"
      ],
      "metadata": {
        "id": "30t2ivxqNo5i"
      },
      "execution_count": 45,
      "outputs": []
    },
    {
      "cell_type": "code",
      "source": [
        "df_music_dance= s_g_d.head(10)"
      ],
      "metadata": {
        "id": "bfo-bXr4N656"
      },
      "execution_count": 47,
      "outputs": []
    },
    {
      "cell_type": "code",
      "source": [
        "fig, ax = plt.subplots(figsize = (20,10))\n",
        "sns.barplot(y = 'track_genre', x = 'danceability', data = df_music_dance, errcolor=\".5\", linewidth=3, edgecolor=\".5\", facecolor=(0, 0, 0, 0),)"
      ],
      "metadata": {
        "colab": {
          "base_uri": "https://localhost:8080/",
          "height": 623
        },
        "id": "j4tW0gzuOAlZ",
        "outputId": "99e29fbb-bda3-40b4-da92-20f492d7e7b3"
      },
      "execution_count": 59,
      "outputs": [
        {
          "output_type": "execute_result",
          "data": {
            "text/plain": [
              "<matplotlib.axes._subplots.AxesSubplot at 0x7fc45fc99190>"
            ]
          },
          "metadata": {},
          "execution_count": 59
        },
        {
          "output_type": "display_data",
          "data": {
            "text/plain": [
              "<Figure size 1440x720 with 1 Axes>"
            ],
            "image/png": "[encoded data removed]"
          },
          "metadata": {
            "needs_background": "light"
          }
        }
      ]
    },
    {
      "cell_type": "code",
      "source": [
        "spotify_genre_energy = spotify.groupby(['track_genre']).agg({'energy': 'mean','track_id' : 'count'}).reset_index()\n",
        "s_g_e = spotify_genre_energy.sort_values(by=('energy'), ascending=False)"
      ],
      "metadata": {
        "id": "KdgNEIsrOZ_R"
      },
      "execution_count": 53,
      "outputs": []
    },
    {
      "cell_type": "code",
      "source": [
        "df_music_energy= s_g_e.head(10)"
      ],
      "metadata": {
        "id": "4Qh07-KDO2qk"
      },
      "execution_count": 54,
      "outputs": []
    },
    {
      "cell_type": "code",
      "source": [
        "fig, ax = plt.subplots(figsize = (20,10))\n",
        "sns.barplot(y = 'track_genre', x = 'energy', data = df_music_energy, errcolor=\".5\", linewidth=3, edgecolor=\".5\", facecolor=(0, 0, 0, 0),)"
      ],
      "metadata": {
        "colab": {
          "base_uri": "https://localhost:8080/",
          "height": 623
        },
        "id": "kL6n__ntO7gb",
        "outputId": "b4b9b866-d65e-4a37-c72b-080de7a0319d"
      },
      "execution_count": 60,
      "outputs": [
        {
          "output_type": "execute_result",
          "data": {
            "text/plain": [
              "<matplotlib.axes._subplots.AxesSubplot at 0x7fc45fc08d00>"
            ]
          },
          "metadata": {},
          "execution_count": 60
        },
        {
          "output_type": "display_data",
          "data": {
            "text/plain": [
              "<Figure size 1440x720 with 1 Axes>"
            ],
            "image/png": "[encoded data removed]"
          },
          "metadata": {
            "needs_background": "light"
          }
        }
      ]
    },
    {
      "cell_type": "code",
      "source": [
        "spotify_genre_instrumentalness = spotify.groupby(['track_genre']).agg({'instrumentalness': 'mean','track_id' : 'count'}).reset_index()\n",
        "s_g_i = spotify_genre_instrumentalness.sort_values(by=('instrumentalness'), ascending=False)\n",
        "df_music_i= s_g_i.head(10)\n",
        "fig, ax = plt.subplots(figsize = (20,10))\n",
        "sns.barplot(y = 'track_genre', x = 'instrumentalness', data = df_music_i, errcolor=\".5\", linewidth=3, edgecolor=\".5\", facecolor=(0, 0, 0, 0),)"
      ],
      "metadata": {
        "colab": {
          "base_uri": "https://localhost:8080/",
          "height": 623
        },
        "id": "0VyUTWI3PGDS",
        "outputId": "c71515c5-17b9-4366-fd52-5e5112867a6b"
      },
      "execution_count": 61,
      "outputs": [
        {
          "output_type": "execute_result",
          "data": {
            "text/plain": [
              "<matplotlib.axes._subplots.AxesSubplot at 0x7fc45fbf5610>"
            ]
          },
          "metadata": {},
          "execution_count": 61
        },
        {
          "output_type": "display_data",
          "data": {
            "text/plain": [
              "<Figure size 1440x720 with 1 Axes>"
            ],
            "image/png": "[encoded data removed]"
          },
          "metadata": {
            "needs_background": "light"
          }
        }
      ]
    }
  ]
}