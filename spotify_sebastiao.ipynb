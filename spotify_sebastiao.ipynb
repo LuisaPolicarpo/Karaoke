{
  "nbformat": 4,
  "nbformat_minor": 0,
  "metadata": {
    "colab": {
      "provenance": [],
      "authorship_tag": "ABX9TyNALQrxOL0M4iASr1F57aip",
      "include_colab_link": true
    },
    "kernelspec": {
      "name": "python3",
      "display_name": "Python 3"
    },
    "language_info": {
      "name": "python"
    }
  },
  "cells": [
    {
      "cell_type": "markdown",
      "metadata": {
        "id": "view-in-github",
        "colab_type": "text"
      },
      "source": [
        "<a href=\"https://colab.research.google.com/github/Sebastiao199/Project4WebScrapStats/blob/main/spotify_sebastiao.ipynb\" target=\"_parent\"><img src=\"https://colab.research.google.com/assets/colab-badge.svg\" alt=\"Open In Colab\"/></a>"
      ]
    },
    {
      "cell_type": "code",
      "execution_count": 27,
      "metadata": {
        "id": "G-xqo2U93Xdj"
      },
      "outputs": [],
      "source": [
        "import pandas as pd"
      ]
    },
    {
      "cell_type": "code",
      "source": [
        "spotify = pd.read_csv('https://raw.githubusercontent.com/Sebastiao199/Project4WebScrapStats/main/MainTables/spotify.csv')\n",
        "spotify"
      ],
      "metadata": {
        "id": "oS-PuSP23980",
        "colab": {
          "base_uri": "https://localhost:8080/",
          "height": 783
        },
        "outputId": "6d47ccb6-f57d-4881-bcb3-0fa41e6263b0"
      },
      "execution_count": 28,
      "outputs": [
        {
          "output_type": "execute_result",
          "data": {
            "text/plain": [
              "        Unnamed: 0                track_id                 artists  \\\n",
              "0                0  5SuOikwiRyPMVoIQDJUgSV             Gen Hoshino   \n",
              "1                1  4qPNDBW1i3p13qLCt0Ki3A            Ben Woodward   \n",
              "2                2  1iJBSr7s7jYXzM8EGcbK5b  Ingrid Michaelson;ZAYN   \n",
              "3                3  6lfxq3CG4xtTiEg7opyCyx            Kina Grannis   \n",
              "4                4  5vjLSffimiIP26QG5WcN2K        Chord Overstreet   \n",
              "...            ...                     ...                     ...   \n",
              "113995      113995  2C3TZjDRiAzdyViavDJ217           Rainy Lullaby   \n",
              "113996      113996  1hIz5L4IB9hN3WRYPOCGPw           Rainy Lullaby   \n",
              "113997      113997  6x8ZfSoqDjuNa5SVP5QjvX           Cesária Evora   \n",
              "113998      113998  2e6sXL2bYv4bSz6VTdnfLs        Michael W. Smith   \n",
              "113999      113999  2hETkH7cOfqmz3LqZDHZf5           Cesária Evora   \n",
              "\n",
              "                                               album_name  \\\n",
              "0                                                  Comedy   \n",
              "1                                        Ghost (Acoustic)   \n",
              "2                                          To Begin Again   \n",
              "3       Crazy Rich Asians (Original Motion Picture Sou...   \n",
              "4                                                 Hold On   \n",
              "...                                                   ...   \n",
              "113995  #mindfulness - Soft Rain for Mindful Meditatio...   \n",
              "113996  #mindfulness - Soft Rain for Mindful Meditatio...   \n",
              "113997                                            Best Of   \n",
              "113998                                  Change Your World   \n",
              "113999                                     Miss Perfumado   \n",
              "\n",
              "                        track_name  popularity  duration_ms  explicit  \\\n",
              "0                           Comedy          73       230666     False   \n",
              "1                 Ghost - Acoustic          55       149610     False   \n",
              "2                   To Begin Again          57       210826     False   \n",
              "3       Can't Help Falling In Love          71       201933     False   \n",
              "4                          Hold On          82       198853     False   \n",
              "...                            ...         ...          ...       ...   \n",
              "113995         Sleep My Little Boy          21       384999     False   \n",
              "113996            Water Into Light          22       385000     False   \n",
              "113997              Miss Perfumado          22       271466     False   \n",
              "113998                     Friends          41       283893     False   \n",
              "113999                   Barbincor          22       241826     False   \n",
              "\n",
              "        danceability  energy  ...  loudness  mode  speechiness  acousticness  \\\n",
              "0              0.676  0.4610  ...    -6.746     0       0.1430        0.0322   \n",
              "1              0.420  0.1660  ...   -17.235     1       0.0763        0.9240   \n",
              "2              0.438  0.3590  ...    -9.734     1       0.0557        0.2100   \n",
              "3              0.266  0.0596  ...   -18.515     1       0.0363        0.9050   \n",
              "4              0.618  0.4430  ...    -9.681     1       0.0526        0.4690   \n",
              "...              ...     ...  ...       ...   ...          ...           ...   \n",
              "113995         0.172  0.2350  ...   -16.393     1       0.0422        0.6400   \n",
              "113996         0.174  0.1170  ...   -18.318     0       0.0401        0.9940   \n",
              "113997         0.629  0.3290  ...   -10.895     0       0.0420        0.8670   \n",
              "113998         0.587  0.5060  ...   -10.889     1       0.0297        0.3810   \n",
              "113999         0.526  0.4870  ...   -10.204     0       0.0725        0.6810   \n",
              "\n",
              "        instrumentalness  liveness  valence    tempo  time_signature  \\\n",
              "0               0.000001    0.3580   0.7150   87.917               4   \n",
              "1               0.000006    0.1010   0.2670   77.489               4   \n",
              "2               0.000000    0.1170   0.1200   76.332               4   \n",
              "3               0.000071    0.1320   0.1430  181.740               3   \n",
              "4               0.000000    0.0829   0.1670  119.949               4   \n",
              "...                  ...       ...      ...      ...             ...   \n",
              "113995          0.928000    0.0863   0.0339  125.995               5   \n",
              "113996          0.976000    0.1050   0.0350   85.239               4   \n",
              "113997          0.000000    0.0839   0.7430  132.378               4   \n",
              "113998          0.000000    0.2700   0.4130  135.960               4   \n",
              "113999          0.000000    0.0893   0.7080   79.198               4   \n",
              "\n",
              "        track_genre  \n",
              "0          acoustic  \n",
              "1          acoustic  \n",
              "2          acoustic  \n",
              "3          acoustic  \n",
              "4          acoustic  \n",
              "...             ...  \n",
              "113995  world-music  \n",
              "113996  world-music  \n",
              "113997  world-music  \n",
              "113998  world-music  \n",
              "113999  world-music  \n",
              "\n",
              "[114000 rows x 21 columns]"
            ],
            "text/html": [
              "\n",
              "  <div id=\"df-e5baba1c-f1b8-44fc-a890-b0dcc50746b1\">\n",
              "    <div class=\"colab-df-container\">\n",
              "      <div>\n",
              "<style scoped>\n",
              "    .dataframe tbody tr th:only-of-type {\n",
              "        vertical-align: middle;\n",
              "    }\n",
              "\n",
              "    .dataframe tbody tr th {\n",
              "        vertical-align: top;\n",
              "    }\n",
              "\n",
              "    .dataframe thead th {\n",
              "        text-align: right;\n",
              "    }\n",
              "</style>\n",
              "<table border=\"1\" class=\"dataframe\">\n",
              "  <thead>\n",
              "    <tr style=\"text-align: right;\">\n",
              "      <th></th>\n",
              "      <th>Unnamed: 0</th>\n",
              "      <th>track_id</th>\n",
              "      <th>artists</th>\n",
              "      <th>album_name</th>\n",
              "      <th>track_name</th>\n",
              "      <th>popularity</th>\n",
              "      <th>duration_ms</th>\n",
              "      <th>explicit</th>\n",
              "      <th>danceability</th>\n",
              "      <th>energy</th>\n",
              "      <th>...</th>\n",
              "      <th>loudness</th>\n",
              "      <th>mode</th>\n",
              "      <th>speechiness</th>\n",
              "      <th>acousticness</th>\n",
              "      <th>instrumentalness</th>\n",
              "      <th>liveness</th>\n",
              "      <th>valence</th>\n",
              "      <th>tempo</th>\n",
              "      <th>time_signature</th>\n",
              "      <th>track_genre</th>\n",
              "    </tr>\n",
              "  </thead>\n",
              "  <tbody>\n",
              "    <tr>\n",
              "      <th>0</th>\n",
              "      <td>0</td>\n",
              "      <td>5SuOikwiRyPMVoIQDJUgSV</td>\n",
              "      <td>Gen Hoshino</td>\n",
              "      <td>Comedy</td>\n",
              "      <td>Comedy</td>\n",
              "      <td>73</td>\n",
              "      <td>230666</td>\n",
              "      <td>False</td>\n",
              "      <td>0.676</td>\n",
              "      <td>0.4610</td>\n",
              "      <td>...</td>\n",
              "      <td>-6.746</td>\n",
              "      <td>0</td>\n",
              "      <td>0.1430</td>\n",
              "      <td>0.0322</td>\n",
              "      <td>0.000001</td>\n",
              "      <td>0.3580</td>\n",
              "      <td>0.7150</td>\n",
              "      <td>87.917</td>\n",
              "      <td>4</td>\n",
              "      <td>acoustic</td>\n",
              "    </tr>\n",
              "    <tr>\n",
              "      <th>1</th>\n",
              "      <td>1</td>\n",
              "      <td>4qPNDBW1i3p13qLCt0Ki3A</td>\n",
              "      <td>Ben Woodward</td>\n",
              "      <td>Ghost (Acoustic)</td>\n",
              "      <td>Ghost - Acoustic</td>\n",
              "      <td>55</td>\n",
              "      <td>149610</td>\n",
              "      <td>False</td>\n",
              "      <td>0.420</td>\n",
              "      <td>0.1660</td>\n",
              "      <td>...</td>\n",
              "      <td>-17.235</td>\n",
              "      <td>1</td>\n",
              "      <td>0.0763</td>\n",
              "      <td>0.9240</td>\n",
              "      <td>0.000006</td>\n",
              "      <td>0.1010</td>\n",
              "      <td>0.2670</td>\n",
              "      <td>77.489</td>\n",
              "      <td>4</td>\n",
              "      <td>acoustic</td>\n",
              "    </tr>\n",
              "    <tr>\n",
              "      <th>2</th>\n",
              "      <td>2</td>\n",
              "      <td>1iJBSr7s7jYXzM8EGcbK5b</td>\n",
              "      <td>Ingrid Michaelson;ZAYN</td>\n",
              "      <td>To Begin Again</td>\n",
              "      <td>To Begin Again</td>\n",
              "      <td>57</td>\n",
              "      <td>210826</td>\n",
              "      <td>False</td>\n",
              "      <td>0.438</td>\n",
              "      <td>0.3590</td>\n",
              "      <td>...</td>\n",
              "      <td>-9.734</td>\n",
              "      <td>1</td>\n",
              "      <td>0.0557</td>\n",
              "      <td>0.2100</td>\n",
              "      <td>0.000000</td>\n",
              "      <td>0.1170</td>\n",
              "      <td>0.1200</td>\n",
              "      <td>76.332</td>\n",
              "      <td>4</td>\n",
              "      <td>acoustic</td>\n",
              "    </tr>\n",
              "    <tr>\n",
              "      <th>3</th>\n",
              "      <td>3</td>\n",
              "      <td>6lfxq3CG4xtTiEg7opyCyx</td>\n",
              "      <td>Kina Grannis</td>\n",
              "      <td>Crazy Rich Asians (Original Motion Picture Sou...</td>\n",
              "      <td>Can't Help Falling In Love</td>\n",
              "      <td>71</td>\n",
              "      <td>201933</td>\n",
              "      <td>False</td>\n",
              "      <td>0.266</td>\n",
              "      <td>0.0596</td>\n",
              "      <td>...</td>\n",
              "      <td>-18.515</td>\n",
              "      <td>1</td>\n",
              "      <td>0.0363</td>\n",
              "      <td>0.9050</td>\n",
              "      <td>0.000071</td>\n",
              "      <td>0.1320</td>\n",
              "      <td>0.1430</td>\n",
              "      <td>181.740</td>\n",
              "      <td>3</td>\n",
              "      <td>acoustic</td>\n",
              "    </tr>\n",
              "    <tr>\n",
              "      <th>4</th>\n",
              "      <td>4</td>\n",
              "      <td>5vjLSffimiIP26QG5WcN2K</td>\n",
              "      <td>Chord Overstreet</td>\n",
              "      <td>Hold On</td>\n",
              "      <td>Hold On</td>\n",
              "      <td>82</td>\n",
              "      <td>198853</td>\n",
              "      <td>False</td>\n",
              "      <td>0.618</td>\n",
              "      <td>0.4430</td>\n",
              "      <td>...</td>\n",
              "      <td>-9.681</td>\n",
              "      <td>1</td>\n",
              "      <td>0.0526</td>\n",
              "      <td>0.4690</td>\n",
              "      <td>0.000000</td>\n",
              "      <td>0.0829</td>\n",
              "      <td>0.1670</td>\n",
              "      <td>119.949</td>\n",
              "      <td>4</td>\n",
              "      <td>acoustic</td>\n",
              "    </tr>\n",
              "    <tr>\n",
              "      <th>...</th>\n",
              "      <td>...</td>\n",
              "      <td>...</td>\n",
              "      <td>...</td>\n",
              "      <td>...</td>\n",
              "      <td>...</td>\n",
              "      <td>...</td>\n",
              "      <td>...</td>\n",
              "      <td>...</td>\n",
              "      <td>...</td>\n",
              "      <td>...</td>\n",
              "      <td>...</td>\n",
              "      <td>...</td>\n",
              "      <td>...</td>\n",
              "      <td>...</td>\n",
              "      <td>...</td>\n",
              "      <td>...</td>\n",
              "      <td>...</td>\n",
              "      <td>...</td>\n",
              "      <td>...</td>\n",
              "      <td>...</td>\n",
              "      <td>...</td>\n",
              "    </tr>\n",
              "    <tr>\n",
              "      <th>113995</th>\n",
              "      <td>113995</td>\n",
              "      <td>2C3TZjDRiAzdyViavDJ217</td>\n",
              "      <td>Rainy Lullaby</td>\n",
              "      <td>#mindfulness - Soft Rain for Mindful Meditatio...</td>\n",
              "      <td>Sleep My Little Boy</td>\n",
              "      <td>21</td>\n",
              "      <td>384999</td>\n",
              "      <td>False</td>\n",
              "      <td>0.172</td>\n",
              "      <td>0.2350</td>\n",
              "      <td>...</td>\n",
              "      <td>-16.393</td>\n",
              "      <td>1</td>\n",
              "      <td>0.0422</td>\n",
              "      <td>0.6400</td>\n",
              "      <td>0.928000</td>\n",
              "      <td>0.0863</td>\n",
              "      <td>0.0339</td>\n",
              "      <td>125.995</td>\n",
              "      <td>5</td>\n",
              "      <td>world-music</td>\n",
              "    </tr>\n",
              "    <tr>\n",
              "      <th>113996</th>\n",
              "      <td>113996</td>\n",
              "      <td>1hIz5L4IB9hN3WRYPOCGPw</td>\n",
              "      <td>Rainy Lullaby</td>\n",
              "      <td>#mindfulness - Soft Rain for Mindful Meditatio...</td>\n",
              "      <td>Water Into Light</td>\n",
              "      <td>22</td>\n",
              "      <td>385000</td>\n",
              "      <td>False</td>\n",
              "      <td>0.174</td>\n",
              "      <td>0.1170</td>\n",
              "      <td>...</td>\n",
              "      <td>-18.318</td>\n",
              "      <td>0</td>\n",
              "      <td>0.0401</td>\n",
              "      <td>0.9940</td>\n",
              "      <td>0.976000</td>\n",
              "      <td>0.1050</td>\n",
              "      <td>0.0350</td>\n",
              "      <td>85.239</td>\n",
              "      <td>4</td>\n",
              "      <td>world-music</td>\n",
              "    </tr>\n",
              "    <tr>\n",
              "      <th>113997</th>\n",
              "      <td>113997</td>\n",
              "      <td>6x8ZfSoqDjuNa5SVP5QjvX</td>\n",
              "      <td>Cesária Evora</td>\n",
              "      <td>Best Of</td>\n",
              "      <td>Miss Perfumado</td>\n",
              "      <td>22</td>\n",
              "      <td>271466</td>\n",
              "      <td>False</td>\n",
              "      <td>0.629</td>\n",
              "      <td>0.3290</td>\n",
              "      <td>...</td>\n",
              "      <td>-10.895</td>\n",
              "      <td>0</td>\n",
              "      <td>0.0420</td>\n",
              "      <td>0.8670</td>\n",
              "      <td>0.000000</td>\n",
              "      <td>0.0839</td>\n",
              "      <td>0.7430</td>\n",
              "      <td>132.378</td>\n",
              "      <td>4</td>\n",
              "      <td>world-music</td>\n",
              "    </tr>\n",
              "    <tr>\n",
              "      <th>113998</th>\n",
              "      <td>113998</td>\n",
              "      <td>2e6sXL2bYv4bSz6VTdnfLs</td>\n",
              "      <td>Michael W. Smith</td>\n",
              "      <td>Change Your World</td>\n",
              "      <td>Friends</td>\n",
              "      <td>41</td>\n",
              "      <td>283893</td>\n",
              "      <td>False</td>\n",
              "      <td>0.587</td>\n",
              "      <td>0.5060</td>\n",
              "      <td>...</td>\n",
              "      <td>-10.889</td>\n",
              "      <td>1</td>\n",
              "      <td>0.0297</td>\n",
              "      <td>0.3810</td>\n",
              "      <td>0.000000</td>\n",
              "      <td>0.2700</td>\n",
              "      <td>0.4130</td>\n",
              "      <td>135.960</td>\n",
              "      <td>4</td>\n",
              "      <td>world-music</td>\n",
              "    </tr>\n",
              "    <tr>\n",
              "      <th>113999</th>\n",
              "      <td>113999</td>\n",
              "      <td>2hETkH7cOfqmz3LqZDHZf5</td>\n",
              "      <td>Cesária Evora</td>\n",
              "      <td>Miss Perfumado</td>\n",
              "      <td>Barbincor</td>\n",
              "      <td>22</td>\n",
              "      <td>241826</td>\n",
              "      <td>False</td>\n",
              "      <td>0.526</td>\n",
              "      <td>0.4870</td>\n",
              "      <td>...</td>\n",
              "      <td>-10.204</td>\n",
              "      <td>0</td>\n",
              "      <td>0.0725</td>\n",
              "      <td>0.6810</td>\n",
              "      <td>0.000000</td>\n",
              "      <td>0.0893</td>\n",
              "      <td>0.7080</td>\n",
              "      <td>79.198</td>\n",
              "      <td>4</td>\n",
              "      <td>world-music</td>\n",
              "    </tr>\n",
              "  </tbody>\n",
              "</table>\n",
              "<p>114000 rows × 21 columns</p>\n",
              "</div>\n",
              "      <button class=\"colab-df-convert\" onclick=\"convertToInteractive('df-e5baba1c-f1b8-44fc-a890-b0dcc50746b1')\"\n",
              "              title=\"Convert this dataframe to an interactive table.\"\n",
              "              style=\"display:none;\">\n",
              "        \n",
              "  <svg xmlns=\"http://www.w3.org/2000/svg\" height=\"24px\"viewBox=\"0 0 24 24\"\n",
              "       width=\"24px\">\n",
              "    <path d=\"M0 0h24v24H0V0z\" fill=\"none\"/>\n",
              "    <path d=\"M18.56 5.44l.94 2.06.94-2.06 2.06-.94-2.06-.94-.94-2.06-.94 2.06-2.06.94zm-11 1L8.5 8.5l.94-2.06 2.06-.94-2.06-.94L8.5 2.5l-.94 2.06-2.06.94zm10 10l.94 2.06.94-2.06 2.06-.94-2.06-.94-.94-2.06-.94 2.06-2.06.94z\"/><path d=\"M17.41 7.96l-1.37-1.37c-.4-.4-.92-.59-1.43-.59-.52 0-1.04.2-1.43.59L10.3 9.45l-7.72 7.72c-.78.78-.78 2.05 0 2.83L4 21.41c.39.39.9.59 1.41.59.51 0 1.02-.2 1.41-.59l7.78-7.78 2.81-2.81c.8-.78.8-2.07 0-2.86zM5.41 20L4 18.59l7.72-7.72 1.47 1.35L5.41 20z\"/>\n",
              "  </svg>\n",
              "      </button>\n",
              "      \n",
              "  <style>\n",
              "    .colab-df-container {\n",
              "      display:flex;\n",
              "      flex-wrap:wrap;\n",
              "      gap: 12px;\n",
              "    }\n",
              "\n",
              "    .colab-df-convert {\n",
              "      background-color: #E8F0FE;\n",
              "      border: none;\n",
              "      border-radius: 50%;\n",
              "      cursor: pointer;\n",
              "      display: none;\n",
              "      fill: #1967D2;\n",
              "      height: 32px;\n",
              "      padding: 0 0 0 0;\n",
              "      width: 32px;\n",
              "    }\n",
              "\n",
              "    .colab-df-convert:hover {\n",
              "      background-color: #E2EBFA;\n",
              "      box-shadow: 0px 1px 2px rgba(60, 64, 67, 0.3), 0px 1px 3px 1px rgba(60, 64, 67, 0.15);\n",
              "      fill: #174EA6;\n",
              "    }\n",
              "\n",
              "    [theme=dark] .colab-df-convert {\n",
              "      background-color: #3B4455;\n",
              "      fill: #D2E3FC;\n",
              "    }\n",
              "\n",
              "    [theme=dark] .colab-df-convert:hover {\n",
              "      background-color: #434B5C;\n",
              "      box-shadow: 0px 1px 3px 1px rgba(0, 0, 0, 0.15);\n",
              "      filter: drop-shadow(0px 1px 2px rgba(0, 0, 0, 0.3));\n",
              "      fill: #FFFFFF;\n",
              "    }\n",
              "  </style>\n",
              "\n",
              "      <script>\n",
              "        const buttonEl =\n",
              "          document.querySelector('#df-e5baba1c-f1b8-44fc-a890-b0dcc50746b1 button.colab-df-convert');\n",
              "        buttonEl.style.display =\n",
              "          google.colab.kernel.accessAllowed ? 'block' : 'none';\n",
              "\n",
              "        async function convertToInteractive(key) {\n",
              "          const element = document.querySelector('#df-e5baba1c-f1b8-44fc-a890-b0dcc50746b1');\n",
              "          const dataTable =\n",
              "            await google.colab.kernel.invokeFunction('convertToInteractive',\n",
              "                                                     [key], {});\n",
              "          if (!dataTable) return;\n",
              "\n",
              "          const docLinkHtml = 'Like what you see? Visit the ' +\n",
              "            '<a target=\"_blank\" href=https://colab.research.google.com/notebooks/data_table.ipynb>data table notebook</a>'\n",
              "            + ' to learn more about interactive tables.';\n",
              "          element.innerHTML = '';\n",
              "          dataTable['output_type'] = 'display_data';\n",
              "          await google.colab.output.renderOutput(dataTable, element);\n",
              "          const docLink = document.createElement('div');\n",
              "          docLink.innerHTML = docLinkHtml;\n",
              "          element.appendChild(docLink);\n",
              "        }\n",
              "      </script>\n",
              "    </div>\n",
              "  </div>\n",
              "  "
            ]
          },
          "metadata": {},
          "execution_count": 28
        }
      ]
    },
    {
      "cell_type": "code",
      "source": [
        "spotify.head()"
      ],
      "metadata": {
        "colab": {
          "base_uri": "https://localhost:8080/",
          "height": 438
        },
        "id": "PrwSqq8A4Doo",
        "outputId": "b262b92f-f65d-42a5-8500-fd0cf23b66b6"
      },
      "execution_count": 29,
      "outputs": [
        {
          "output_type": "execute_result",
          "data": {
            "text/plain": [
              "   Unnamed: 0                track_id                 artists  \\\n",
              "0           0  5SuOikwiRyPMVoIQDJUgSV             Gen Hoshino   \n",
              "1           1  4qPNDBW1i3p13qLCt0Ki3A            Ben Woodward   \n",
              "2           2  1iJBSr7s7jYXzM8EGcbK5b  Ingrid Michaelson;ZAYN   \n",
              "3           3  6lfxq3CG4xtTiEg7opyCyx            Kina Grannis   \n",
              "4           4  5vjLSffimiIP26QG5WcN2K        Chord Overstreet   \n",
              "\n",
              "                                          album_name  \\\n",
              "0                                             Comedy   \n",
              "1                                   Ghost (Acoustic)   \n",
              "2                                     To Begin Again   \n",
              "3  Crazy Rich Asians (Original Motion Picture Sou...   \n",
              "4                                            Hold On   \n",
              "\n",
              "                   track_name  popularity  duration_ms  explicit  \\\n",
              "0                      Comedy          73       230666     False   \n",
              "1            Ghost - Acoustic          55       149610     False   \n",
              "2              To Begin Again          57       210826     False   \n",
              "3  Can't Help Falling In Love          71       201933     False   \n",
              "4                     Hold On          82       198853     False   \n",
              "\n",
              "   danceability  energy  ...  loudness  mode  speechiness  acousticness  \\\n",
              "0         0.676  0.4610  ...    -6.746     0       0.1430        0.0322   \n",
              "1         0.420  0.1660  ...   -17.235     1       0.0763        0.9240   \n",
              "2         0.438  0.3590  ...    -9.734     1       0.0557        0.2100   \n",
              "3         0.266  0.0596  ...   -18.515     1       0.0363        0.9050   \n",
              "4         0.618  0.4430  ...    -9.681     1       0.0526        0.4690   \n",
              "\n",
              "   instrumentalness  liveness  valence    tempo  time_signature  track_genre  \n",
              "0          0.000001    0.3580    0.715   87.917               4     acoustic  \n",
              "1          0.000006    0.1010    0.267   77.489               4     acoustic  \n",
              "2          0.000000    0.1170    0.120   76.332               4     acoustic  \n",
              "3          0.000071    0.1320    0.143  181.740               3     acoustic  \n",
              "4          0.000000    0.0829    0.167  119.949               4     acoustic  \n",
              "\n",
              "[5 rows x 21 columns]"
            ],
            "text/html": [
              "\n",
              "  <div id=\"df-5d4ec7f0-6a48-4d09-b916-6f27bd061eb5\">\n",
              "    <div class=\"colab-df-container\">\n",
              "      <div>\n",
              "<style scoped>\n",
              "    .dataframe tbody tr th:only-of-type {\n",
              "        vertical-align: middle;\n",
              "    }\n",
              "\n",
              "    .dataframe tbody tr th {\n",
              "        vertical-align: top;\n",
              "    }\n",
              "\n",
              "    .dataframe thead th {\n",
              "        text-align: right;\n",
              "    }\n",
              "</style>\n",
              "<table border=\"1\" class=\"dataframe\">\n",
              "  <thead>\n",
              "    <tr style=\"text-align: right;\">\n",
              "      <th></th>\n",
              "      <th>Unnamed: 0</th>\n",
              "      <th>track_id</th>\n",
              "      <th>artists</th>\n",
              "      <th>album_name</th>\n",
              "      <th>track_name</th>\n",
              "      <th>popularity</th>\n",
              "      <th>duration_ms</th>\n",
              "      <th>explicit</th>\n",
              "      <th>danceability</th>\n",
              "      <th>energy</th>\n",
              "      <th>...</th>\n",
              "      <th>loudness</th>\n",
              "      <th>mode</th>\n",
              "      <th>speechiness</th>\n",
              "      <th>acousticness</th>\n",
              "      <th>instrumentalness</th>\n",
              "      <th>liveness</th>\n",
              "      <th>valence</th>\n",
              "      <th>tempo</th>\n",
              "      <th>time_signature</th>\n",
              "      <th>track_genre</th>\n",
              "    </tr>\n",
              "  </thead>\n",
              "  <tbody>\n",
              "    <tr>\n",
              "      <th>0</th>\n",
              "      <td>0</td>\n",
              "      <td>5SuOikwiRyPMVoIQDJUgSV</td>\n",
              "      <td>Gen Hoshino</td>\n",
              "      <td>Comedy</td>\n",
              "      <td>Comedy</td>\n",
              "      <td>73</td>\n",
              "      <td>230666</td>\n",
              "      <td>False</td>\n",
              "      <td>0.676</td>\n",
              "      <td>0.4610</td>\n",
              "      <td>...</td>\n",
              "      <td>-6.746</td>\n",
              "      <td>0</td>\n",
              "      <td>0.1430</td>\n",
              "      <td>0.0322</td>\n",
              "      <td>0.000001</td>\n",
              "      <td>0.3580</td>\n",
              "      <td>0.715</td>\n",
              "      <td>87.917</td>\n",
              "      <td>4</td>\n",
              "      <td>acoustic</td>\n",
              "    </tr>\n",
              "    <tr>\n",
              "      <th>1</th>\n",
              "      <td>1</td>\n",
              "      <td>4qPNDBW1i3p13qLCt0Ki3A</td>\n",
              "      <td>Ben Woodward</td>\n",
              "      <td>Ghost (Acoustic)</td>\n",
              "      <td>Ghost - Acoustic</td>\n",
              "      <td>55</td>\n",
              "      <td>149610</td>\n",
              "      <td>False</td>\n",
              "      <td>0.420</td>\n",
              "      <td>0.1660</td>\n",
              "      <td>...</td>\n",
              "      <td>-17.235</td>\n",
              "      <td>1</td>\n",
              "      <td>0.0763</td>\n",
              "      <td>0.9240</td>\n",
              "      <td>0.000006</td>\n",
              "      <td>0.1010</td>\n",
              "      <td>0.267</td>\n",
              "      <td>77.489</td>\n",
              "      <td>4</td>\n",
              "      <td>acoustic</td>\n",
              "    </tr>\n",
              "    <tr>\n",
              "      <th>2</th>\n",
              "      <td>2</td>\n",
              "      <td>1iJBSr7s7jYXzM8EGcbK5b</td>\n",
              "      <td>Ingrid Michaelson;ZAYN</td>\n",
              "      <td>To Begin Again</td>\n",
              "      <td>To Begin Again</td>\n",
              "      <td>57</td>\n",
              "      <td>210826</td>\n",
              "      <td>False</td>\n",
              "      <td>0.438</td>\n",
              "      <td>0.3590</td>\n",
              "      <td>...</td>\n",
              "      <td>-9.734</td>\n",
              "      <td>1</td>\n",
              "      <td>0.0557</td>\n",
              "      <td>0.2100</td>\n",
              "      <td>0.000000</td>\n",
              "      <td>0.1170</td>\n",
              "      <td>0.120</td>\n",
              "      <td>76.332</td>\n",
              "      <td>4</td>\n",
              "      <td>acoustic</td>\n",
              "    </tr>\n",
              "    <tr>\n",
              "      <th>3</th>\n",
              "      <td>3</td>\n",
              "      <td>6lfxq3CG4xtTiEg7opyCyx</td>\n",
              "      <td>Kina Grannis</td>\n",
              "      <td>Crazy Rich Asians (Original Motion Picture Sou...</td>\n",
              "      <td>Can't Help Falling In Love</td>\n",
              "      <td>71</td>\n",
              "      <td>201933</td>\n",
              "      <td>False</td>\n",
              "      <td>0.266</td>\n",
              "      <td>0.0596</td>\n",
              "      <td>...</td>\n",
              "      <td>-18.515</td>\n",
              "      <td>1</td>\n",
              "      <td>0.0363</td>\n",
              "      <td>0.9050</td>\n",
              "      <td>0.000071</td>\n",
              "      <td>0.1320</td>\n",
              "      <td>0.143</td>\n",
              "      <td>181.740</td>\n",
              "      <td>3</td>\n",
              "      <td>acoustic</td>\n",
              "    </tr>\n",
              "    <tr>\n",
              "      <th>4</th>\n",
              "      <td>4</td>\n",
              "      <td>5vjLSffimiIP26QG5WcN2K</td>\n",
              "      <td>Chord Overstreet</td>\n",
              "      <td>Hold On</td>\n",
              "      <td>Hold On</td>\n",
              "      <td>82</td>\n",
              "      <td>198853</td>\n",
              "      <td>False</td>\n",
              "      <td>0.618</td>\n",
              "      <td>0.4430</td>\n",
              "      <td>...</td>\n",
              "      <td>-9.681</td>\n",
              "      <td>1</td>\n",
              "      <td>0.0526</td>\n",
              "      <td>0.4690</td>\n",
              "      <td>0.000000</td>\n",
              "      <td>0.0829</td>\n",
              "      <td>0.167</td>\n",
              "      <td>119.949</td>\n",
              "      <td>4</td>\n",
              "      <td>acoustic</td>\n",
              "    </tr>\n",
              "  </tbody>\n",
              "</table>\n",
              "<p>5 rows × 21 columns</p>\n",
              "</div>\n",
              "      <button class=\"colab-df-convert\" onclick=\"convertToInteractive('df-5d4ec7f0-6a48-4d09-b916-6f27bd061eb5')\"\n",
              "              title=\"Convert this dataframe to an interactive table.\"\n",
              "              style=\"display:none;\">\n",
              "        \n",
              "  <svg xmlns=\"http://www.w3.org/2000/svg\" height=\"24px\"viewBox=\"0 0 24 24\"\n",
              "       width=\"24px\">\n",
              "    <path d=\"M0 0h24v24H0V0z\" fill=\"none\"/>\n",
              "    <path d=\"M18.56 5.44l.94 2.06.94-2.06 2.06-.94-2.06-.94-.94-2.06-.94 2.06-2.06.94zm-11 1L8.5 8.5l.94-2.06 2.06-.94-2.06-.94L8.5 2.5l-.94 2.06-2.06.94zm10 10l.94 2.06.94-2.06 2.06-.94-2.06-.94-.94-2.06-.94 2.06-2.06.94z\"/><path d=\"M17.41 7.96l-1.37-1.37c-.4-.4-.92-.59-1.43-.59-.52 0-1.04.2-1.43.59L10.3 9.45l-7.72 7.72c-.78.78-.78 2.05 0 2.83L4 21.41c.39.39.9.59 1.41.59.51 0 1.02-.2 1.41-.59l7.78-7.78 2.81-2.81c.8-.78.8-2.07 0-2.86zM5.41 20L4 18.59l7.72-7.72 1.47 1.35L5.41 20z\"/>\n",
              "  </svg>\n",
              "      </button>\n",
              "      \n",
              "  <style>\n",
              "    .colab-df-container {\n",
              "      display:flex;\n",
              "      flex-wrap:wrap;\n",
              "      gap: 12px;\n",
              "    }\n",
              "\n",
              "    .colab-df-convert {\n",
              "      background-color: #E8F0FE;\n",
              "      border: none;\n",
              "      border-radius: 50%;\n",
              "      cursor: pointer;\n",
              "      display: none;\n",
              "      fill: #1967D2;\n",
              "      height: 32px;\n",
              "      padding: 0 0 0 0;\n",
              "      width: 32px;\n",
              "    }\n",
              "\n",
              "    .colab-df-convert:hover {\n",
              "      background-color: #E2EBFA;\n",
              "      box-shadow: 0px 1px 2px rgba(60, 64, 67, 0.3), 0px 1px 3px 1px rgba(60, 64, 67, 0.15);\n",
              "      fill: #174EA6;\n",
              "    }\n",
              "\n",
              "    [theme=dark] .colab-df-convert {\n",
              "      background-color: #3B4455;\n",
              "      fill: #D2E3FC;\n",
              "    }\n",
              "\n",
              "    [theme=dark] .colab-df-convert:hover {\n",
              "      background-color: #434B5C;\n",
              "      box-shadow: 0px 1px 3px 1px rgba(0, 0, 0, 0.15);\n",
              "      filter: drop-shadow(0px 1px 2px rgba(0, 0, 0, 0.3));\n",
              "      fill: #FFFFFF;\n",
              "    }\n",
              "  </style>\n",
              "\n",
              "      <script>\n",
              "        const buttonEl =\n",
              "          document.querySelector('#df-5d4ec7f0-6a48-4d09-b916-6f27bd061eb5 button.colab-df-convert');\n",
              "        buttonEl.style.display =\n",
              "          google.colab.kernel.accessAllowed ? 'block' : 'none';\n",
              "\n",
              "        async function convertToInteractive(key) {\n",
              "          const element = document.querySelector('#df-5d4ec7f0-6a48-4d09-b916-6f27bd061eb5');\n",
              "          const dataTable =\n",
              "            await google.colab.kernel.invokeFunction('convertToInteractive',\n",
              "                                                     [key], {});\n",
              "          if (!dataTable) return;\n",
              "\n",
              "          const docLinkHtml = 'Like what you see? Visit the ' +\n",
              "            '<a target=\"_blank\" href=https://colab.research.google.com/notebooks/data_table.ipynb>data table notebook</a>'\n",
              "            + ' to learn more about interactive tables.';\n",
              "          element.innerHTML = '';\n",
              "          dataTable['output_type'] = 'display_data';\n",
              "          await google.colab.output.renderOutput(dataTable, element);\n",
              "          const docLink = document.createElement('div');\n",
              "          docLink.innerHTML = docLinkHtml;\n",
              "          element.appendChild(docLink);\n",
              "        }\n",
              "      </script>\n",
              "    </div>\n",
              "  </div>\n",
              "  "
            ]
          },
          "metadata": {},
          "execution_count": 29
        }
      ]
    },
    {
      "cell_type": "code",
      "source": [
        "spotify.drop(['Unnamed: 0'], axis = 1, inplace = True)"
      ],
      "metadata": {
        "id": "-SWJaFQhqKAX"
      },
      "execution_count": 30,
      "outputs": []
    },
    {
      "cell_type": "code",
      "source": [
        "spotify.dropna(inplace= True)"
      ],
      "metadata": {
        "id": "h9pSyaOaqLsa"
      },
      "execution_count": 31,
      "outputs": []
    },
    {
      "cell_type": "code",
      "source": [
        "spotify.drop(['mode'], axis = 1, inplace = True)"
      ],
      "metadata": {
        "id": "9X2fWvwdqR-u"
      },
      "execution_count": 32,
      "outputs": []
    },
    {
      "cell_type": "code",
      "source": [
        "spotify.drop(['key'], axis = 1, inplace = True)"
      ],
      "metadata": {
        "id": "VUmRoV2tqU7m"
      },
      "execution_count": 33,
      "outputs": []
    },
    {
      "cell_type": "code",
      "source": [
        "spotify.info()"
      ],
      "metadata": {
        "colab": {
          "base_uri": "https://localhost:8080/"
        },
        "id": "C0kjpEZWqZiO",
        "outputId": "bb5c3f60-bc34-4402-b795-8832549354d9"
      },
      "execution_count": 34,
      "outputs": [
        {
          "output_type": "stream",
          "name": "stdout",
          "text": [
            "<class 'pandas.core.frame.DataFrame'>\n",
            "Int64Index: 113999 entries, 0 to 113999\n",
            "Data columns (total 18 columns):\n",
            " #   Column            Non-Null Count   Dtype  \n",
            "---  ------            --------------   -----  \n",
            " 0   track_id          113999 non-null  object \n",
            " 1   artists           113999 non-null  object \n",
            " 2   album_name        113999 non-null  object \n",
            " 3   track_name        113999 non-null  object \n",
            " 4   popularity        113999 non-null  int64  \n",
            " 5   duration_ms       113999 non-null  int64  \n",
            " 6   explicit          113999 non-null  bool   \n",
            " 7   danceability      113999 non-null  float64\n",
            " 8   energy            113999 non-null  float64\n",
            " 9   loudness          113999 non-null  float64\n",
            " 10  speechiness       113999 non-null  float64\n",
            " 11  acousticness      113999 non-null  float64\n",
            " 12  instrumentalness  113999 non-null  float64\n",
            " 13  liveness          113999 non-null  float64\n",
            " 14  valence           113999 non-null  float64\n",
            " 15  tempo             113999 non-null  float64\n",
            " 16  time_signature    113999 non-null  int64  \n",
            " 17  track_genre       113999 non-null  object \n",
            "dtypes: bool(1), float64(9), int64(3), object(5)\n",
            "memory usage: 15.8+ MB\n"
          ]
        }
      ]
    },
    {
      "cell_type": "code",
      "source": [
        "spotify['track_id'].value_counts()"
      ],
      "metadata": {
        "colab": {
          "base_uri": "https://localhost:8080/"
        },
        "id": "xCV_UuXzrcvW",
        "outputId": "b0629bb6-9f04-4397-80c5-e4e1de658bca"
      },
      "execution_count": 35,
      "outputs": [
        {
          "output_type": "execute_result",
          "data": {
            "text/plain": [
              "6S3JlDAGk3uu3NtZbPnuhS    9\n",
              "2Ey6v4Sekh3Z0RUSISRosD    8\n",
              "2kkvB3RNRzwjFdGhaUA0tz    8\n",
              "08kTa3SL9sV6Iy8KLKtGql    7\n",
              "4XYieGKSlJlHpzB3bl6WMP    7\n",
              "                         ..\n",
              "0kJ7eKX6aWl8X1W5Xrosn6    1\n",
              "4bYH5445Bn2w9UiGM0NxQw    1\n",
              "1T5C6ENvpM3IiYeezsK9uI    1\n",
              "34SatKRJgtXfL0bcgk7HMA    1\n",
              "2hETkH7cOfqmz3LqZDHZf5    1\n",
              "Name: track_id, Length: 89740, dtype: int64"
            ]
          },
          "metadata": {},
          "execution_count": 35
        }
      ]
    },
    {
      "cell_type": "code",
      "source": [
        "spotify['track_name'].value_counts()"
      ],
      "metadata": {
        "colab": {
          "base_uri": "https://localhost:8080/"
        },
        "id": "Qt3XFfmYsFDn",
        "outputId": "e35aa924-16bf-4c7e-f806-302762342ff1"
      },
      "execution_count": 36,
      "outputs": [
        {
          "output_type": "execute_result",
          "data": {
            "text/plain": [
              "Run Rudolph Run                      151\n",
              "Halloween                             88\n",
              "Frosty The Snowman                    81\n",
              "Little Saint Nick - 1991 Remix        76\n",
              "Last Last                             75\n",
              "                                    ... \n",
              "Mitt Gullbergs kaj paradis (Live)      1\n",
              "Vill Inte Längre                       1\n",
              "Så länge du är med mig                 1\n",
              "Just Plain Bad                         1\n",
              "Barbincor                              1\n",
              "Name: track_name, Length: 73608, dtype: int64"
            ]
          },
          "metadata": {},
          "execution_count": 36
        }
      ]
    },
    {
      "cell_type": "code",
      "source": [
        "spotify['album_name'].value_counts()"
      ],
      "metadata": {
        "colab": {
          "base_uri": "https://localhost:8080/"
        },
        "id": "_qEB2vTCsFsy",
        "outputId": "555e12b5-15d5-4935-81c8-ed69748caf16"
      },
      "execution_count": 37,
      "outputs": [
        {
          "output_type": "execute_result",
          "data": {
            "text/plain": [
              "Alternative Christmas 2022     195\n",
              "Feliz Cumpleaños con Perreo    184\n",
              "Metal                          143\n",
              "Halloween con perreito         123\n",
              "Halloween Party 2022           115\n",
              "                              ... \n",
              "Me Alcançou                      1\n",
              "Comunhão e Adoração              1\n",
              "Força Pra Encarar                1\n",
              "The Way of the Fist              1\n",
              "Revelation Songs                 1\n",
              "Name: album_name, Length: 46589, dtype: int64"
            ]
          },
          "metadata": {},
          "execution_count": 37
        }
      ]
    },
    {
      "cell_type": "code",
      "source": [
        "spotify['artists'].value_counts()"
      ],
      "metadata": {
        "colab": {
          "base_uri": "https://localhost:8080/"
        },
        "id": "pBEn1vMysGIi",
        "outputId": "b9e409f9-7d69-4e57-ebf9-6314ebb877fc"
      },
      "execution_count": 38,
      "outputs": [
        {
          "output_type": "execute_result",
          "data": {
            "text/plain": [
              "The Beatles                                                                 279\n",
              "George Jones                                                                271\n",
              "Stevie Wonder                                                               236\n",
              "Linkin Park                                                                 224\n",
              "Ella Fitzgerald                                                             222\n",
              "                                                                           ... \n",
              "Automatic Tasty                                                               1\n",
              "o9                                                                            1\n",
              "Pyotr Ilyich Tchaikovsky;National Philharmonic Orchestra;Richard Bonynge      1\n",
              "tstewart;Ólafur Arnalds                                                       1\n",
              "Jesus Culture                                                                 1\n",
              "Name: artists, Length: 31437, dtype: int64"
            ]
          },
          "metadata": {},
          "execution_count": 38
        }
      ]
    },
    {
      "cell_type": "code",
      "source": [
        "spotify['track_id'].nunique()"
      ],
      "metadata": {
        "colab": {
          "base_uri": "https://localhost:8080/"
        },
        "id": "bLmFKcQ0rmqx",
        "outputId": "1a286538-8297-4ad9-9fb5-4af368f86d8d"
      },
      "execution_count": 39,
      "outputs": [
        {
          "output_type": "execute_result",
          "data": {
            "text/plain": [
              "89740"
            ]
          },
          "metadata": {},
          "execution_count": 39
        }
      ]
    },
    {
      "cell_type": "code",
      "source": [
        "spotify['track_name'].nunique()"
      ],
      "metadata": {
        "colab": {
          "base_uri": "https://localhost:8080/"
        },
        "id": "oD1GP8o3rsI2",
        "outputId": "4f38e334-22fa-48f5-9dfd-7600e05cf3d9"
      },
      "execution_count": 40,
      "outputs": [
        {
          "output_type": "execute_result",
          "data": {
            "text/plain": [
              "73608"
            ]
          },
          "metadata": {},
          "execution_count": 40
        }
      ]
    },
    {
      "cell_type": "code",
      "source": [
        "spotify['album_name'].nunique()"
      ],
      "metadata": {
        "colab": {
          "base_uri": "https://localhost:8080/"
        },
        "id": "izUwWUbPr42P",
        "outputId": "27fa2563-5c18-4211-9518-4a5d9d2f0cb9"
      },
      "execution_count": 41,
      "outputs": [
        {
          "output_type": "execute_result",
          "data": {
            "text/plain": [
              "46589"
            ]
          },
          "metadata": {},
          "execution_count": 41
        }
      ]
    },
    {
      "cell_type": "code",
      "source": [
        "spotify['artists'].nunique()"
      ],
      "metadata": {
        "colab": {
          "base_uri": "https://localhost:8080/"
        },
        "id": "1vSfEXsorq8z",
        "outputId": "2208f36c-d459-4bb2-965f-b566dfe1a4dc"
      },
      "execution_count": 42,
      "outputs": [
        {
          "output_type": "execute_result",
          "data": {
            "text/plain": [
              "31437"
            ]
          },
          "metadata": {},
          "execution_count": 42
        }
      ]
    },
    {
      "cell_type": "code",
      "source": [
        "print(spotify['explicit'].value_counts())\n",
        "print('\\nPercentage of explicit musics is:', (9747*100)/113999)"
      ],
      "metadata": {
        "colab": {
          "base_uri": "https://localhost:8080/"
        },
        "id": "_Goa6rI6sZFe",
        "outputId": "189f32a3-7cb2-4288-c9d9-ba55b2e28c28"
      },
      "execution_count": 43,
      "outputs": [
        {
          "output_type": "stream",
          "name": "stdout",
          "text": [
            "False    104252\n",
            "True       9747\n",
            "Name: explicit, dtype: int64\n",
            "\n",
            "Percentage of explicit musics is: 8.5500750006579\n"
          ]
        }
      ]
    },
    {
      "cell_type": "code",
      "source": [
        "'popularity','duration_ms', 'danceability', 'energy'"
      ],
      "metadata": {
        "colab": {
          "base_uri": "https://localhost:8080/"
        },
        "id": "iAX2LLAHtcus",
        "outputId": "2723634f-b823-4303-f875-314d3a542fa9"
      },
      "execution_count": 44,
      "outputs": [
        {
          "output_type": "execute_result",
          "data": {
            "text/plain": [
              "('popularity', 'duration_ms', 'danceability', 'energy')"
            ]
          },
          "metadata": {},
          "execution_count": 44
        }
      ]
    },
    {
      "cell_type": "code",
      "source": [
        "spotify.rename(columns={'duration_ms': 'duration'},\n",
        "          inplace=True, errors='raise')"
      ],
      "metadata": {
        "id": "OPeeftoCuUCF"
      },
      "execution_count": 45,
      "outputs": []
    },
    {
      "cell_type": "code",
      "source": [
        "spotify['duration'] = spotify['duration'].apply(lambda time: round(time/1000))\n",
        "spotify['duration']"
      ],
      "metadata": {
        "colab": {
          "base_uri": "https://localhost:8080/"
        },
        "id": "qU7jZOEDvWpp",
        "outputId": "f3aa4905-bb4d-4444-a53d-d53fe120555c"
      },
      "execution_count": 46,
      "outputs": [
        {
          "output_type": "execute_result",
          "data": {
            "text/plain": [
              "0         231\n",
              "1         150\n",
              "2         211\n",
              "3         202\n",
              "4         199\n",
              "         ... \n",
              "113995    385\n",
              "113996    385\n",
              "113997    271\n",
              "113998    284\n",
              "113999    242\n",
              "Name: duration, Length: 113999, dtype: int64"
            ]
          },
          "metadata": {},
          "execution_count": 46
        }
      ]
    },
    {
      "cell_type": "code",
      "source": [
        "print('Mean of popularity:', spotify['popularity'].mean())\n",
        "print('Median of popularity:', spotify['popularity'].median())"
      ],
      "metadata": {
        "colab": {
          "base_uri": "https://localhost:8080/"
        },
        "id": "WYHocutdtgoE",
        "outputId": "c13ff52b-75be-430a-abcc-d6f815fad1fa"
      },
      "execution_count": 47,
      "outputs": [
        {
          "output_type": "stream",
          "name": "stdout",
          "text": [
            "Mean of popularity: 33.23882665637418\n",
            "Median of popularity: 35.0\n"
          ]
        }
      ]
    },
    {
      "cell_type": "code",
      "source": [
        "print('Mean of duration:', spotify['duration'].mean())\n",
        "print('Median of duration:', spotify['duration'].median())"
      ],
      "metadata": {
        "colab": {
          "base_uri": "https://localhost:8080/"
        },
        "id": "JOK-dunCtsRk",
        "outputId": "071b570e-bec8-465c-c564-10ea158e345b"
      },
      "execution_count": 48,
      "outputs": [
        {
          "output_type": "stream",
          "name": "stdout",
          "text": [
            "Mean of duration: 228.0314739602979\n",
            "Median of duration: 213.0\n"
          ]
        }
      ]
    },
    {
      "cell_type": "code",
      "source": [
        "print('Mean of danceability:', spotify['danceability'].mean())\n",
        "print('Median of danceability:', spotify['danceability'].median())"
      ],
      "metadata": {
        "colab": {
          "base_uri": "https://localhost:8080/"
        },
        "id": "C3fq3y0st0yY",
        "outputId": "38a526de-928e-4e24-8654-c7cce88552fa"
      },
      "execution_count": 49,
      "outputs": [
        {
          "output_type": "stream",
          "name": "stdout",
          "text": [
            "Mean of danceability: 0.5668006429880964\n",
            "Median of danceability: 0.58\n"
          ]
        }
      ]
    },
    {
      "cell_type": "code",
      "source": [
        "print('Mean of energy:', spotify['energy'].mean())\n",
        "print('Median of energy:', spotify['energy'].median())"
      ],
      "metadata": {
        "colab": {
          "base_uri": "https://localhost:8080/"
        },
        "id": "yy1iMbdRt1jH",
        "outputId": "5ee4cca6-3896-4ec1-d109-8c7d1cb54235"
      },
      "execution_count": 50,
      "outputs": [
        {
          "output_type": "stream",
          "name": "stdout",
          "text": [
            "Mean of energy: 0.6413832705304432\n",
            "Median of energy: 0.685\n"
          ]
        }
      ]
    },
    {
      "cell_type": "code",
      "source": [
        "!pip install spotipy"
      ],
      "metadata": {
        "colab": {
          "base_uri": "https://localhost:8080/"
        },
        "id": "1fW6lEZ24gzc",
        "outputId": "b683172f-52f7-4551-bb2c-0d59093b0088"
      },
      "execution_count": 51,
      "outputs": [
        {
          "output_type": "stream",
          "name": "stdout",
          "text": [
            "Looking in indexes: https://pypi.org/simple, https://us-python.pkg.dev/colab-wheels/public/simple/\n",
            "Collecting spotipy\n",
            "  Downloading spotipy-2.21.0-py3-none-any.whl (28 kB)\n",
            "Collecting urllib3>=1.26.0\n",
            "  Downloading urllib3-1.26.13-py2.py3-none-any.whl (140 kB)\n",
            "\u001b[K     |████████████████████████████████| 140 kB 7.7 MB/s \n",
            "\u001b[?25hCollecting requests>=2.25.0\n",
            "  Downloading requests-2.28.1-py3-none-any.whl (62 kB)\n",
            "\u001b[K     |████████████████████████████████| 62 kB 1.5 MB/s \n",
            "\u001b[?25hRequirement already satisfied: six>=1.15.0 in /usr/local/lib/python3.8/dist-packages (from spotipy) (1.15.0)\n",
            "Collecting redis>=3.5.3\n",
            "  Downloading redis-4.4.0-py3-none-any.whl (236 kB)\n",
            "\u001b[K     |████████████████████████████████| 236 kB 47.1 MB/s \n",
            "\u001b[?25hRequirement already satisfied: async-timeout>=4.0.2 in /usr/local/lib/python3.8/dist-packages (from redis>=3.5.3->spotipy) (4.0.2)\n",
            "Requirement already satisfied: idna<4,>=2.5 in /usr/local/lib/python3.8/dist-packages (from requests>=2.25.0->spotipy) (2.10)\n",
            "Requirement already satisfied: charset-normalizer<3,>=2 in /usr/local/lib/python3.8/dist-packages (from requests>=2.25.0->spotipy) (2.1.1)\n",
            "Requirement already satisfied: certifi>=2017.4.17 in /usr/local/lib/python3.8/dist-packages (from requests>=2.25.0->spotipy) (2022.9.24)\n",
            "Installing collected packages: urllib3, requests, redis, spotipy\n",
            "  Attempting uninstall: urllib3\n",
            "    Found existing installation: urllib3 1.24.3\n",
            "    Uninstalling urllib3-1.24.3:\n",
            "      Successfully uninstalled urllib3-1.24.3\n",
            "  Attempting uninstall: requests\n",
            "    Found existing installation: requests 2.23.0\n",
            "    Uninstalling requests-2.23.0:\n",
            "      Successfully uninstalled requests-2.23.0\n",
            "Successfully installed redis-4.4.0 requests-2.28.1 spotipy-2.21.0 urllib3-1.26.13\n"
          ]
        }
      ]
    },
    {
      "cell_type": "code",
      "source": [
        "import spotipy \n",
        "from spotipy.oauth2 import SpotifyClientCredentials\n",
        "from spotipy.oauth2 import SpotifyOAuth\n"
      ],
      "metadata": {
        "id": "4nVHn0ZJ4fa1"
      },
      "execution_count": 56,
      "outputs": []
    },
    {
      "cell_type": "code",
      "source": [
        "# auth_manager = SpotifyClientCredentials()\n",
        "\n",
        "# SET SPOTIPY_CLIENT_ID = '094d90a8396d4a0d91e37841553e9f2e'\n",
        "# SET SPOTIPY_CLIENT_SECRET= '41926bcfc7e0439883d527e68fc4ddbb'\n",
        "# SET SPOTIPY_REDIRECT_URI = 'https://developer.spotify.com/'\n",
        "\n",
        "# sp = spotipy.Spotify(client_credentials_manager=SpotifyOAuth(client_id=\"094d90a8396d4a0d91e37841553e9f2e\",\n",
        "#                                                client_secret=\"41926bcfc7e0439883d527e68fc4ddbb\",\n",
        "#                                                redirect_uri=\"https://developer.spotify.com/\",\n",
        "#                                                scope='user-read-playback-state,user-modify-playback-state'))\n",
        "\n",
        "# results = sp.current_user_saved_tracks()\n",
        "# for idx, item in enumerate(results['items']):\n",
        "#     track = item['track']\n",
        "#     print(idx, track['artists'][0]['name'], \" – \", track['name'])\n",
        "\n",
        "# playlists = sp.user_playlists('spotify')\n",
        "# while playlists:\n",
        "#     for i, playlist in enumerate(playlists['items']):\n",
        "#         print(\"%4d %s %s\" % (i + 1 + playlists['offset'], playlist['uri'],  playlist['name']))\n",
        "#     if playlists['next']:\n",
        "#         playlists = sp.next(playlists)\n",
        "#     else:\n",
        "#         playlists = None"
      ],
      "metadata": {
        "id": "qhBZvyBq4ngE"
      },
      "execution_count": 71,
      "outputs": []
    },
    {
      "cell_type": "code",
      "source": [
        "#Authentication - without user\n",
        "client_credentials_manager = SpotifyClientCredentials(client_id=\"094d90a8396d4a0d91e37841553e9f2e\", client_secret=\"41926bcfc7e0439883d527e68fc4ddbb\")\n",
        "sp = spotipy.Spotify(client_credentials_manager = client_credentials_manager)"
      ],
      "metadata": {
        "id": "n852Ax947QUk"
      },
      "execution_count": 66,
      "outputs": []
    },
    {
      "cell_type": "code",
      "source": [
        "playlist_link = \"https://open.spotify.com/playlist/37i9dQZEVXbNG2KDcFcKOF?si=1333723a6eff4b7f\"\n",
        "playlist_URI = playlist_link.split(\"/\")[-1].split(\"?\")[0]\n",
        "track_uris = [x[\"track\"][\"uri\"] for x in sp.playlist_tracks(playlist_URI)[\"items\"]]"
      ],
      "metadata": {
        "id": "ZszM7np37pkQ"
      },
      "execution_count": 67,
      "outputs": []
    },
    {
      "cell_type": "code",
      "source": [
        "for track in sp.playlist_tracks(playlist_URI)[\"items\"]:\n",
        "    #URI\n",
        "    track_uri = track[\"track\"][\"uri\"]\n",
        "    \n",
        "    #Track name\n",
        "    track_name = track[\"track\"][\"name\"]\n",
        "    \n",
        "    #Main Artist\n",
        "    artist_uri = track[\"track\"][\"artists\"][0][\"uri\"]\n",
        "    artist_info = sp.artist(artist_uri)\n",
        "    \n",
        "    #Name, popularity, genre\n",
        "    artist_name = track[\"track\"][\"artists\"][0][\"name\"]\n",
        "    artist_pop = artist_info[\"popularity\"]\n",
        "    artist_genres = artist_info[\"genres\"]\n",
        "    \n",
        "    #Album\n",
        "    album = track[\"track\"][\"album\"][\"name\"]\n",
        "    \n",
        "    #Popularity of the track\n",
        "    track_pop = track[\"track\"][\"popularity\"]"
      ],
      "metadata": {
        "id": "Sh4sXX-L7tHS"
      },
      "execution_count": 68,
      "outputs": []
    },
    {
      "cell_type": "code",
      "source": [
        "sp.audio_features(track_uri)[0]"
      ],
      "metadata": {
        "colab": {
          "base_uri": "https://localhost:8080/"
        },
        "id": "RSmun5n57vN7",
        "outputId": "bc9d81ba-6c85-4847-fe1f-305259f52592"
      },
      "execution_count": 69,
      "outputs": [
        {
          "output_type": "execute_result",
          "data": {
            "text/plain": [
              "{'danceability': 0.486,\n",
              " 'energy': 0.545,\n",
              " 'key': 11,\n",
              " 'loudness': -7.924,\n",
              " 'mode': 1,\n",
              " 'speechiness': 0.0336,\n",
              " 'acousticness': 0.0652,\n",
              " 'instrumentalness': 0.00474,\n",
              " 'liveness': 0.0642,\n",
              " 'valence': 0.0385,\n",
              " 'tempo': 150.187,\n",
              " 'type': 'audio_features',\n",
              " 'id': '4FyesJzVpA39hbYvcseO2d',\n",
              " 'uri': 'spotify:track:4FyesJzVpA39hbYvcseO2d',\n",
              " 'track_href': 'https://api.spotify.com/v1/tracks/4FyesJzVpA39hbYvcseO2d',\n",
              " 'analysis_url': 'https://api.spotify.com/v1/audio-analysis/4FyesJzVpA39hbYvcseO2d',\n",
              " 'duration_ms': 123891,\n",
              " 'time_signature': 4}"
            ]
          },
          "metadata": {},
          "execution_count": 69
        }
      ]
    },
    {
      "cell_type": "code",
      "source": [
        "len(sp.audio_features(track_uri))"
      ],
      "metadata": {
        "colab": {
          "base_uri": "https://localhost:8080/"
        },
        "id": "VQw9HYR_7-Bg",
        "outputId": "deafeb95-3fcd-4719-dc70-2dad17fafb8c"
      },
      "execution_count": 70,
      "outputs": [
        {
          "output_type": "execute_result",
          "data": {
            "text/plain": [
              "1"
            ]
          },
          "metadata": {},
          "execution_count": 70
        }
      ]
    }
  ]
}