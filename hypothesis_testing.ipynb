{
 "cells": [
  {
   "cell_type": "code",
   "execution_count": 2,
   "metadata": {},
   "outputs": [],
   "source": [
    "import pandas as pd"
   ]
  },
  {
   "cell_type": "code",
   "execution_count": 3,
   "metadata": {},
   "outputs": [],
   "source": [
    "spotify_with_lyrics = pd.read_pickle('spotify_with_lyrics.pkl')"
   ]
  },
  {
   "cell_type": "code",
   "execution_count": 5,
   "metadata": {},
   "outputs": [
    {
     "name": "stdout",
     "output_type": "stream",
     "text": [
      "<class 'pandas.core.frame.DataFrame'>\n",
      "RangeIndex: 113999 entries, 0 to 113998\n",
      "Data columns (total 20 columns):\n",
      " #   Column            Non-Null Count   Dtype  \n",
      "---  ------            --------------   -----  \n",
      " 0   Unnamed: 0        113999 non-null  int64  \n",
      " 1   track_id          113999 non-null  object \n",
      " 2   artists           113999 non-null  object \n",
      " 3   album_name        113999 non-null  object \n",
      " 4   track_name        113999 non-null  object \n",
      " 5   popularity        113999 non-null  int64  \n",
      " 6   duration_ms       113999 non-null  int64  \n",
      " 7   explicit          113999 non-null  bool   \n",
      " 8   danceability      113999 non-null  float64\n",
      " 9   energy            113999 non-null  float64\n",
      " 10  loudness          113999 non-null  float64\n",
      " 11  speechiness       113999 non-null  float64\n",
      " 12  acousticness      113999 non-null  float64\n",
      " 13  instrumentalness  113999 non-null  float64\n",
      " 14  liveness          113999 non-null  float64\n",
      " 15  valence           113999 non-null  float64\n",
      " 16  tempo             113999 non-null  float64\n",
      " 17  time_signature    113999 non-null  int64  \n",
      " 18  track_genre       113999 non-null  object \n",
      " 19  lyrics            113999 non-null  object \n",
      "dtypes: bool(1), float64(9), int64(4), object(6)\n",
      "memory usage: 16.6+ MB\n"
     ]
    }
   ],
   "source": [
    "spotify_with_lyrics.info()"
   ]
  },
  {
   "cell_type": "code",
   "execution_count": 9,
   "metadata": {},
   "outputs": [],
   "source": [
    "spotify_23 = pd.read_csv('https://raw.githubusercontent.com/Sebastiao199/Project4WebScrapStats/main/MainTables/spotify_top50.csv')"
   ]
  },
  {
   "cell_type": "code",
   "execution_count": 10,
   "metadata": {},
   "outputs": [
    {
     "name": "stdout",
     "output_type": "stream",
     "text": [
      "<class 'pandas.core.frame.DataFrame'>\n",
      "RangeIndex: 55 entries, 0 to 54\n",
      "Data columns (total 18 columns):\n",
      " #   Column            Non-Null Count  Dtype  \n",
      "---  ------            --------------  -----  \n",
      " 0   Unnamed: 0        55 non-null     int64  \n",
      " 1   track_id          55 non-null     object \n",
      " 2   artists           55 non-null     object \n",
      " 3   album_name        55 non-null     object \n",
      " 4   track_name        55 non-null     object \n",
      " 5   track_genre       55 non-null     object \n",
      " 6   popularity        55 non-null     int64  \n",
      " 7   danceability      55 non-null     float64\n",
      " 8   energy            55 non-null     float64\n",
      " 9   loudness          55 non-null     float64\n",
      " 10  speechiness       55 non-null     float64\n",
      " 11  acousticness      55 non-null     float64\n",
      " 12  instrumentalness  55 non-null     float64\n",
      " 13  liveness          55 non-null     float64\n",
      " 14  valence           55 non-null     float64\n",
      " 15  id                55 non-null     object \n",
      " 16  duration          55 non-null     int64  \n",
      " 17  time_signature    55 non-null     int64  \n",
      "dtypes: float64(8), int64(4), object(6)\n",
      "memory usage: 7.9+ KB\n"
     ]
    }
   ],
   "source": [
    "spotify_23.info()"
   ]
  },
  {
   "cell_type": "code",
   "execution_count": null,
   "metadata": {},
   "outputs": [],
   "source": [
    "spotify_23.info()"
   ]
  },
  {
   "cell_type": "code",
   "execution_count": 11,
   "metadata": {},
   "outputs": [],
   "source": [
    "spotify_23_drop = spotify_23.drop_duplicates(subset = [\"track_name\"])"
   ]
  },
  {
   "cell_type": "code",
   "execution_count": 12,
   "metadata": {},
   "outputs": [
    {
     "name": "stdout",
     "output_type": "stream",
     "text": [
      "<class 'pandas.core.frame.DataFrame'>\n",
      "Int64Index: 22 entries, 0 to 54\n",
      "Data columns (total 18 columns):\n",
      " #   Column            Non-Null Count  Dtype  \n",
      "---  ------            --------------  -----  \n",
      " 0   Unnamed: 0        22 non-null     int64  \n",
      " 1   track_id          22 non-null     object \n",
      " 2   artists           22 non-null     object \n",
      " 3   album_name        22 non-null     object \n",
      " 4   track_name        22 non-null     object \n",
      " 5   track_genre       22 non-null     object \n",
      " 6   popularity        22 non-null     int64  \n",
      " 7   danceability      22 non-null     float64\n",
      " 8   energy            22 non-null     float64\n",
      " 9   loudness          22 non-null     float64\n",
      " 10  speechiness       22 non-null     float64\n",
      " 11  acousticness      22 non-null     float64\n",
      " 12  instrumentalness  22 non-null     float64\n",
      " 13  liveness          22 non-null     float64\n",
      " 14  valence           22 non-null     float64\n",
      " 15  id                22 non-null     object \n",
      " 16  duration          22 non-null     int64  \n",
      " 17  time_signature    22 non-null     int64  \n",
      "dtypes: float64(8), int64(4), object(6)\n",
      "memory usage: 3.3+ KB\n"
     ]
    }
   ],
   "source": [
    "spotify_23_drop.info()"
   ]
  },
  {
   "cell_type": "code",
   "execution_count": 13,
   "metadata": {},
   "outputs": [],
   "source": [
    "spotify_playlist_20_popular = spotify_23_drop.nlargest(20, 'popularity')"
   ]
  },
  {
   "cell_type": "code",
   "execution_count": 14,
   "metadata": {},
   "outputs": [
    {
     "name": "stdout",
     "output_type": "stream",
     "text": [
      "<class 'pandas.core.frame.DataFrame'>\n",
      "Int64Index: 20 entries, 7 to 13\n",
      "Data columns (total 18 columns):\n",
      " #   Column            Non-Null Count  Dtype  \n",
      "---  ------            --------------  -----  \n",
      " 0   Unnamed: 0        20 non-null     int64  \n",
      " 1   track_id          20 non-null     object \n",
      " 2   artists           20 non-null     object \n",
      " 3   album_name        20 non-null     object \n",
      " 4   track_name        20 non-null     object \n",
      " 5   track_genre       20 non-null     object \n",
      " 6   popularity        20 non-null     int64  \n",
      " 7   danceability      20 non-null     float64\n",
      " 8   energy            20 non-null     float64\n",
      " 9   loudness          20 non-null     float64\n",
      " 10  speechiness       20 non-null     float64\n",
      " 11  acousticness      20 non-null     float64\n",
      " 12  instrumentalness  20 non-null     float64\n",
      " 13  liveness          20 non-null     float64\n",
      " 14  valence           20 non-null     float64\n",
      " 15  id                20 non-null     object \n",
      " 16  duration          20 non-null     int64  \n",
      " 17  time_signature    20 non-null     int64  \n",
      "dtypes: float64(8), int64(4), object(6)\n",
      "memory usage: 3.0+ KB\n"
     ]
    }
   ],
   "source": [
    "spotify_playlist_20_popular.info()"
   ]
  },
  {
   "cell_type": "code",
   "execution_count": 15,
   "metadata": {},
   "outputs": [],
   "source": [
    "spotify_playlist_lyrics = spotify_with_lyrics.merge(spotify_playlist_20_popular, left_on=\"track_id\", right_on=\"id\")"
   ]
  },
  {
   "cell_type": "code",
   "execution_count": 16,
   "metadata": {},
   "outputs": [
    {
     "name": "stdout",
     "output_type": "stream",
     "text": [
      "<class 'pandas.core.frame.DataFrame'>\n",
      "Int64Index: 53 entries, 0 to 52\n",
      "Data columns (total 38 columns):\n",
      " #   Column              Non-Null Count  Dtype  \n",
      "---  ------              --------------  -----  \n",
      " 0   Unnamed: 0_x        53 non-null     int64  \n",
      " 1   track_id_x          53 non-null     object \n",
      " 2   artists_x           53 non-null     object \n",
      " 3   album_name_x        53 non-null     object \n",
      " 4   track_name_x        53 non-null     object \n",
      " 5   popularity_x        53 non-null     int64  \n",
      " 6   duration_ms         53 non-null     int64  \n",
      " 7   explicit            53 non-null     bool   \n",
      " 8   danceability_x      53 non-null     float64\n",
      " 9   energy_x            53 non-null     float64\n",
      " 10  loudness_x          53 non-null     float64\n",
      " 11  speechiness_x       53 non-null     float64\n",
      " 12  acousticness_x      53 non-null     float64\n",
      " 13  instrumentalness_x  53 non-null     float64\n",
      " 14  liveness_x          53 non-null     float64\n",
      " 15  valence_x           53 non-null     float64\n",
      " 16  tempo               53 non-null     float64\n",
      " 17  time_signature_x    53 non-null     int64  \n",
      " 18  track_genre_x       53 non-null     object \n",
      " 19  lyrics              53 non-null     object \n",
      " 20  Unnamed: 0_y        53 non-null     int64  \n",
      " 21  track_id_y          53 non-null     object \n",
      " 22  artists_y           53 non-null     object \n",
      " 23  album_name_y        53 non-null     object \n",
      " 24  track_name_y        53 non-null     object \n",
      " 25  track_genre_y       53 non-null     object \n",
      " 26  popularity_y        53 non-null     int64  \n",
      " 27  danceability_y      53 non-null     float64\n",
      " 28  energy_y            53 non-null     float64\n",
      " 29  loudness_y          53 non-null     float64\n",
      " 30  speechiness_y       53 non-null     float64\n",
      " 31  acousticness_y      53 non-null     float64\n",
      " 32  instrumentalness_y  53 non-null     float64\n",
      " 33  liveness_y          53 non-null     float64\n",
      " 34  valence_y           53 non-null     float64\n",
      " 35  id                  53 non-null     object \n",
      " 36  duration            53 non-null     int64  \n",
      " 37  time_signature_y    53 non-null     int64  \n",
      "dtypes: bool(1), float64(17), int64(8), object(12)\n",
      "memory usage: 15.8+ KB\n"
     ]
    }
   ],
   "source": [
    "spotify_playlist_lyrics.info()"
   ]
  },
  {
   "cell_type": "code",
   "execution_count": 18,
   "metadata": {},
   "outputs": [],
   "source": [
    "spotify_playlist_20_popular_drop = spotify_playlist_lyrics.drop_duplicates(subset = [\"track_name_x\"])"
   ]
  },
  {
   "cell_type": "code",
   "execution_count": 19,
   "metadata": {},
   "outputs": [
    {
     "name": "stdout",
     "output_type": "stream",
     "text": [
      "<class 'pandas.core.frame.DataFrame'>\n",
      "Int64Index: 20 entries, 0 to 52\n",
      "Data columns (total 38 columns):\n",
      " #   Column              Non-Null Count  Dtype  \n",
      "---  ------              --------------  -----  \n",
      " 0   Unnamed: 0_x        20 non-null     int64  \n",
      " 1   track_id_x          20 non-null     object \n",
      " 2   artists_x           20 non-null     object \n",
      " 3   album_name_x        20 non-null     object \n",
      " 4   track_name_x        20 non-null     object \n",
      " 5   popularity_x        20 non-null     int64  \n",
      " 6   duration_ms         20 non-null     int64  \n",
      " 7   explicit            20 non-null     bool   \n",
      " 8   danceability_x      20 non-null     float64\n",
      " 9   energy_x            20 non-null     float64\n",
      " 10  loudness_x          20 non-null     float64\n",
      " 11  speechiness_x       20 non-null     float64\n",
      " 12  acousticness_x      20 non-null     float64\n",
      " 13  instrumentalness_x  20 non-null     float64\n",
      " 14  liveness_x          20 non-null     float64\n",
      " 15  valence_x           20 non-null     float64\n",
      " 16  tempo               20 non-null     float64\n",
      " 17  time_signature_x    20 non-null     int64  \n",
      " 18  track_genre_x       20 non-null     object \n",
      " 19  lyrics              20 non-null     object \n",
      " 20  Unnamed: 0_y        20 non-null     int64  \n",
      " 21  track_id_y          20 non-null     object \n",
      " 22  artists_y           20 non-null     object \n",
      " 23  album_name_y        20 non-null     object \n",
      " 24  track_name_y        20 non-null     object \n",
      " 25  track_genre_y       20 non-null     object \n",
      " 26  popularity_y        20 non-null     int64  \n",
      " 27  danceability_y      20 non-null     float64\n",
      " 28  energy_y            20 non-null     float64\n",
      " 29  loudness_y          20 non-null     float64\n",
      " 30  speechiness_y       20 non-null     float64\n",
      " 31  acousticness_y      20 non-null     float64\n",
      " 32  instrumentalness_y  20 non-null     float64\n",
      " 33  liveness_y          20 non-null     float64\n",
      " 34  valence_y           20 non-null     float64\n",
      " 35  id                  20 non-null     object \n",
      " 36  duration            20 non-null     int64  \n",
      " 37  time_signature_y    20 non-null     int64  \n",
      "dtypes: bool(1), float64(17), int64(8), object(12)\n",
      "memory usage: 6.0+ KB\n"
     ]
    }
   ],
   "source": [
    "spotify_playlist_20_popular_drop.info()"
   ]
  },
  {
   "cell_type": "code",
   "execution_count": 20,
   "metadata": {},
   "outputs": [],
   "source": [
    "spotify_with_lyrics_popular_20 = spotify_with_lyrics.nlargest(20, 'popularity')"
   ]
  },
  {
   "cell_type": "code",
   "execution_count": 21,
   "metadata": {},
   "outputs": [
    {
     "name": "stdout",
     "output_type": "stream",
     "text": [
      "<class 'pandas.core.frame.DataFrame'>\n",
      "Int64Index: 20 entries, 20001 to 67558\n",
      "Data columns (total 20 columns):\n",
      " #   Column            Non-Null Count  Dtype  \n",
      "---  ------            --------------  -----  \n",
      " 0   Unnamed: 0        20 non-null     int64  \n",
      " 1   track_id          20 non-null     object \n",
      " 2   artists           20 non-null     object \n",
      " 3   album_name        20 non-null     object \n",
      " 4   track_name        20 non-null     object \n",
      " 5   popularity        20 non-null     int64  \n",
      " 6   duration_ms       20 non-null     int64  \n",
      " 7   explicit          20 non-null     bool   \n",
      " 8   danceability      20 non-null     float64\n",
      " 9   energy            20 non-null     float64\n",
      " 10  loudness          20 non-null     float64\n",
      " 11  speechiness       20 non-null     float64\n",
      " 12  acousticness      20 non-null     float64\n",
      " 13  instrumentalness  20 non-null     float64\n",
      " 14  liveness          20 non-null     float64\n",
      " 15  valence           20 non-null     float64\n",
      " 16  tempo             20 non-null     float64\n",
      " 17  time_signature    20 non-null     int64  \n",
      " 18  track_genre       20 non-null     object \n",
      " 19  lyrics            20 non-null     object \n",
      "dtypes: bool(1), float64(9), int64(4), object(6)\n",
      "memory usage: 3.1+ KB\n"
     ]
    }
   ],
   "source": [
    "spotify_with_lyrics_popular_20.info()"
   ]
  },
  {
   "cell_type": "code",
   "execution_count": 31,
   "metadata": {},
   "outputs": [
    {
     "data": {
      "text/plain": [
       "1557"
      ]
     },
     "execution_count": 31,
     "metadata": {},
     "output_type": "execute_result"
    }
   ],
   "source": [
    "len(spotify_with_lyrics_popular_20['lyrics'].iloc[0])"
   ]
  },
  {
   "cell_type": "code",
   "execution_count": 32,
   "metadata": {},
   "outputs": [],
   "source": [
    "spotify_with_lyrics_popular_20['number_carac_on_lyrics'] = spotify_with_lyrics_popular_20['lyrics'].apply(lambda x: len(x))"
   ]
  },
  {
   "cell_type": "code",
   "execution_count": 33,
   "metadata": {},
   "outputs": [
    {
     "data": {
      "text/plain": [
       "20001    1557\n",
       "81050    1557\n",
       "51664    2082\n",
       "20008    1047\n",
       "30003    1047\n",
       "67355    1293\n",
       "68302    1293\n",
       "81209    1047\n",
       "88409    1293\n",
       "89410    1293\n",
       "67357    1745\n",
       "67358    2601\n",
       "68303    2601\n",
       "68304    1745\n",
       "88404    1745\n",
       "88406    2601\n",
       "89404    2601\n",
       "89406    1745\n",
       "20000    1158\n",
       "67558    1455\n",
       "Name: number_carac_on_lyrics, dtype: int64"
      ]
     },
     "execution_count": 33,
     "metadata": {},
     "output_type": "execute_result"
    }
   ],
   "source": [
    "spotify_with_lyrics_popular_20['number_carac_on_lyrics']"
   ]
  },
  {
   "cell_type": "code",
   "execution_count": 34,
   "metadata": {},
   "outputs": [
    {
     "name": "stderr",
     "output_type": "stream",
     "text": [
      "C:\\Users\\sebas\\AppData\\Local\\Temp\\ipykernel_14568\\487146577.py:1: SettingWithCopyWarning: \n",
      "A value is trying to be set on a copy of a slice from a DataFrame.\n",
      "Try using .loc[row_indexer,col_indexer] = value instead\n",
      "\n",
      "See the caveats in the documentation: https://pandas.pydata.org/pandas-docs/stable/user_guide/indexing.html#returning-a-view-versus-a-copy\n",
      "  spotify_playlist_20_popular_drop['number_carac_on_lyrics'] = spotify_playlist_20_popular_drop['lyrics'].apply(lambda x: len(x))\n"
     ]
    }
   ],
   "source": [
    "spotify_playlist_20_popular_drop['number_carac_on_lyrics'] = spotify_playlist_20_popular_drop['lyrics'].apply(lambda x: len(x))"
   ]
  },
  {
   "cell_type": "code",
   "execution_count": 35,
   "metadata": {},
   "outputs": [
    {
     "data": {
      "text/plain": [
       "0     1707\n",
       "4     1386\n",
       "5     1158\n",
       "7     1557\n",
       "9     1047\n",
       "12    1250\n",
       "13    1698\n",
       "15    1150\n",
       "18    2082\n",
       "19     974\n",
       "21    1990\n",
       "24    1293\n",
       "28    1745\n",
       "32    2601\n",
       "36    2166\n",
       "40    1455\n",
       "44    2350\n",
       "48    1390\n",
       "51    2360\n",
       "52    1054\n",
       "Name: number_carac_on_lyrics, dtype: int64"
      ]
     },
     "execution_count": 35,
     "metadata": {},
     "output_type": "execute_result"
    }
   ],
   "source": [
    "spotify_playlist_20_popular_drop['number_carac_on_lyrics']"
   ]
  },
  {
   "cell_type": "code",
   "execution_count": 38,
   "metadata": {},
   "outputs": [
    {
     "name": "stderr",
     "output_type": "stream",
     "text": [
      "C:\\Users\\sebas\\AppData\\Local\\Temp\\ipykernel_14568\\1261477193.py:1: SettingWithCopyWarning: \n",
      "A value is trying to be set on a copy of a slice from a DataFrame.\n",
      "Try using .loc[row_indexer,col_indexer] = value instead\n",
      "\n",
      "See the caveats in the documentation: https://pandas.pydata.org/pandas-docs/stable/user_guide/indexing.html#returning-a-view-versus-a-copy\n",
      "  spotify_playlist_20_popular_drop['binary'] = 1\n"
     ]
    }
   ],
   "source": [
    "spotify_playlist_20_popular_drop['binary'] = 1"
   ]
  },
  {
   "cell_type": "code",
   "execution_count": 85,
   "metadata": {},
   "outputs": [
    {
     "name": "stdout",
     "output_type": "stream",
     "text": [
      "<class 'pandas.core.series.Series'>\n",
      "Int64Index: 20 entries, 0 to 52\n",
      "Series name: energy_x\n",
      "Non-Null Count  Dtype  \n",
      "--------------  -----  \n",
      "20 non-null     float64\n",
      "dtypes: float64(1)\n",
      "memory usage: 876.0 bytes\n"
     ]
    }
   ],
   "source": [
    "spotify_playlist_20_popular_drop['energy_x'].info()"
   ]
  },
  {
   "cell_type": "code",
   "execution_count": 86,
   "metadata": {},
   "outputs": [
    {
     "name": "stdout",
     "output_type": "stream",
     "text": [
      "<class 'pandas.core.series.Series'>\n",
      "Int64Index: 20 entries, 20001 to 67558\n",
      "Series name: energy\n",
      "Non-Null Count  Dtype  \n",
      "--------------  -----  \n",
      "20 non-null     float64\n",
      "dtypes: float64(1)\n",
      "memory usage: 876.0 bytes\n"
     ]
    }
   ],
   "source": [
    "spotify_with_lyrics_popular_20['energy'].info()"
   ]
  },
  {
   "cell_type": "code",
   "execution_count": 63,
   "metadata": {},
   "outputs": [],
   "source": [
    "spotify_final_df = pd.concat([spotify_playlist_20_popular_drop, spotify_with_lyrics_popular_20], ignore_index=True)"
   ]
  },
  {
   "cell_type": "code",
   "execution_count": 64,
   "metadata": {},
   "outputs": [
    {
     "name": "stdout",
     "output_type": "stream",
     "text": [
      "<class 'pandas.core.frame.DataFrame'>\n",
      "RangeIndex: 40 entries, 0 to 39\n",
      "Data columns (total 56 columns):\n",
      " #   Column                  Non-Null Count  Dtype  \n",
      "---  ------                  --------------  -----  \n",
      " 0   Unnamed: 0_x            20 non-null     float64\n",
      " 1   track_id_x              20 non-null     object \n",
      " 2   artists_x               20 non-null     object \n",
      " 3   album_name_x            20 non-null     object \n",
      " 4   track_name_x            20 non-null     object \n",
      " 5   popularity_x            20 non-null     float64\n",
      " 6   duration_ms             40 non-null     int64  \n",
      " 7   explicit                40 non-null     bool   \n",
      " 8   danceability_x          20 non-null     float64\n",
      " 9   energy_x                20 non-null     float64\n",
      " 10  loudness_x              20 non-null     float64\n",
      " 11  speechiness_x           20 non-null     float64\n",
      " 12  acousticness_x          20 non-null     float64\n",
      " 13  instrumentalness_x      20 non-null     float64\n",
      " 14  liveness_x              20 non-null     float64\n",
      " 15  valence_x               20 non-null     float64\n",
      " 16  tempo                   40 non-null     float64\n",
      " 17  time_signature_x        20 non-null     float64\n",
      " 18  track_genre_x           20 non-null     object \n",
      " 19  lyrics                  40 non-null     object \n",
      " 20  Unnamed: 0_y            20 non-null     float64\n",
      " 21  track_id_y              20 non-null     object \n",
      " 22  artists_y               20 non-null     object \n",
      " 23  album_name_y            20 non-null     object \n",
      " 24  track_name_y            20 non-null     object \n",
      " 25  track_genre_y           20 non-null     object \n",
      " 26  popularity_y            20 non-null     float64\n",
      " 27  danceability_y          20 non-null     float64\n",
      " 28  energy_y                20 non-null     float64\n",
      " 29  loudness_y              20 non-null     float64\n",
      " 30  speechiness_y           20 non-null     float64\n",
      " 31  acousticness_y          20 non-null     float64\n",
      " 32  instrumentalness_y      20 non-null     float64\n",
      " 33  liveness_y              20 non-null     float64\n",
      " 34  valence_y               20 non-null     float64\n",
      " 35  id                      20 non-null     object \n",
      " 36  duration                20 non-null     float64\n",
      " 37  time_signature_y        20 non-null     float64\n",
      " 38  number_carac_on_lyrics  40 non-null     int64  \n",
      " 39  binary                  20 non-null     float64\n",
      " 40  Unnamed: 0              20 non-null     float64\n",
      " 41  track_id                20 non-null     object \n",
      " 42  artists                 20 non-null     object \n",
      " 43  album_name              20 non-null     object \n",
      " 44  track_name              20 non-null     object \n",
      " 45  popularity              20 non-null     float64\n",
      " 46  danceability            20 non-null     float64\n",
      " 47  energy                  20 non-null     float64\n",
      " 48  loudness                20 non-null     float64\n",
      " 49  speechiness             20 non-null     float64\n",
      " 50  acousticness            20 non-null     float64\n",
      " 51  instrumentalness        20 non-null     float64\n",
      " 52  liveness                20 non-null     float64\n",
      " 53  valence                 20 non-null     float64\n",
      " 54  time_signature          20 non-null     float64\n",
      " 55  track_genre             20 non-null     object \n",
      "dtypes: bool(1), float64(36), int64(2), object(17)\n",
      "memory usage: 17.4+ KB\n"
     ]
    }
   ],
   "source": [
    "spotify_final_df.info()"
   ]
  },
  {
   "cell_type": "code",
   "execution_count": 66,
   "metadata": {},
   "outputs": [],
   "source": [
    "spotify_final_df['binary'] = spotify_final_df['binary'].fillna(0)"
   ]
  },
  {
   "cell_type": "code",
   "execution_count": 67,
   "metadata": {},
   "outputs": [
    {
     "data": {
      "text/plain": [
       "1.0    20\n",
       "0.0    20\n",
       "Name: binary, dtype: int64"
      ]
     },
     "execution_count": 67,
     "metadata": {},
     "output_type": "execute_result"
    }
   ],
   "source": [
    "spotify_final_df['binary'].value_counts()"
   ]
  },
  {
   "attachments": {},
   "cell_type": "markdown",
   "metadata": {},
   "source": [
    "Hypothesis Testing"
   ]
  },
  {
   "cell_type": "code",
   "execution_count": 36,
   "metadata": {},
   "outputs": [],
   "source": [
    "from scipy.stats import ttest_ind"
   ]
  },
  {
   "cell_type": "code",
   "execution_count": 73,
   "metadata": {},
   "outputs": [
    {
     "data": {
      "text/plain": [
       "array([  nan, 0.472, 0.782, 0.965, 0.679, 0.712, 0.715, 0.69 , 0.475])"
      ]
     },
     "execution_count": 73,
     "metadata": {},
     "output_type": "execute_result"
    }
   ],
   "source": [
    "spotify_final_df['energy'].unique()"
   ]
  },
  {
   "cell_type": "code",
   "execution_count": 87,
   "metadata": {},
   "outputs": [
    {
     "name": "stdout",
     "output_type": "stream",
     "text": [
      "<class 'pandas.core.series.Series'>\n",
      "RangeIndex: 40 entries, 0 to 39\n",
      "Series name: energy\n",
      "Non-Null Count  Dtype  \n",
      "--------------  -----  \n",
      "20 non-null     float64\n",
      "dtypes: float64(1)\n",
      "memory usage: 448.0 bytes\n"
     ]
    }
   ],
   "source": [
    "spotify_final_df['energy'].info()"
   ]
  },
  {
   "cell_type": "code",
   "execution_count": 97,
   "metadata": {},
   "outputs": [],
   "source": [
    "energy_playlist = spotify_final_df[spotify_final_df['binary'] == 1]['energy_x']\n",
    "energy_kaggle = spotify_final_df[spotify_final_df['binary'] == 0]['energy']"
   ]
  },
  {
   "cell_type": "code",
   "execution_count": 98,
   "metadata": {},
   "outputs": [
    {
     "data": {
      "text/plain": [
       "Ttest_indResult(statistic=-1.149220137436557, pvalue=0.2576473898465682)"
      ]
     },
     "execution_count": 98,
     "metadata": {},
     "output_type": "execute_result"
    }
   ],
   "source": [
    "alpha = 0.001\n",
    "ttest_ind(energy_playlist, energy_kaggle, nan_policy='omit')\n",
    "# We can't reject the Null Hypothesis because pvalue < alpha, so they are different"
   ]
  },
  {
   "cell_type": "code",
   "execution_count": 99,
   "metadata": {},
   "outputs": [],
   "source": [
    "danceability_playlist = spotify_final_df[spotify_final_df['binary'] == 1]['danceability_x']\n",
    "danceability_kaggle = spotify_final_df[spotify_final_df['binary'] == 0]['danceability']"
   ]
  },
  {
   "cell_type": "code",
   "execution_count": 100,
   "metadata": {},
   "outputs": [
    {
     "data": {
      "text/plain": [
       "Ttest_indResult(statistic=-1.3325374576061013, pvalue=0.19061949374718126)"
      ]
     },
     "execution_count": 100,
     "metadata": {},
     "output_type": "execute_result"
    }
   ],
   "source": [
    "alpha = 0.001\n",
    "ttest_ind(danceability_playlist, danceability_kaggle, nan_policy='omit')"
   ]
  },
  {
   "cell_type": "code",
   "execution_count": 101,
   "metadata": {},
   "outputs": [],
   "source": [
    "lyrics_playlist = spotify_final_df[spotify_final_df['binary'] == 1]['number_carac_on_lyrics']\n",
    "lyrics_kaggle = spotify_final_df[spotify_final_df['binary'] == 0]['number_carac_on_lyrics']"
   ]
  },
  {
   "cell_type": "code",
   "execution_count": 102,
   "metadata": {},
   "outputs": [
    {
     "data": {
      "text/plain": [
       "Ttest_indResult(statistic=-0.3314741431740108, pvalue=0.7421075708089281)"
      ]
     },
     "execution_count": 102,
     "metadata": {},
     "output_type": "execute_result"
    }
   ],
   "source": [
    "alpha = 0.001\n",
    "ttest_ind(lyrics_playlist, lyrics_kaggle, nan_policy='omit')"
   ]
  },
  {
   "cell_type": "code",
   "execution_count": 103,
   "metadata": {},
   "outputs": [],
   "source": [
    "import seaborn as sns\n",
    "import matplotlib.pyplot as plt"
   ]
  },
  {
   "cell_type": "code",
   "execution_count": 127,
   "metadata": {},
   "outputs": [
    {
     "data": {
      "text/plain": [
       "Text(0, 0.5, 'Energy')"
      ]
     },
     "execution_count": 127,
     "metadata": {},
     "output_type": "execute_result"
    },
    {
     "data": {
      "image/png": "[encoded data removed]",
      "text/plain": [
       "<Figure size 800x500 with 1 Axes>"
      ]
     },
     "metadata": {},
     "output_type": "display_data"
    }
   ],
   "source": [
    "# sns.violinplot(x=\"binary\", y=\"energy\", data=spotify_final_df, color= \"#020202\")\n",
    "# sns.violinplot(x=\"binary\", y=\"energy_x\", data=spotify_final_df, color= \"#1CBA54\")\n",
    "fig, ax = plt.subplots(figsize = (8,5))\n",
    "sns.violinplot(x=\"binary\", y=\"energy\", data=spotify_final_df, color= \"#1CBA54\")\n",
    "sns.violinplot(x=\"binary\", y=\"energy_x\", data=spotify_final_df, color= \"#020202\")\n",
    "plt.title(\"Energy distribution on both datasets\")\n",
    "plt.xlabel(\"Top vs Top 50\")\n",
    "plt.ylabel(\"Energy\")"
   ]
  },
  {
   "cell_type": "code",
   "execution_count": 128,
   "metadata": {},
   "outputs": [
    {
     "data": {
      "text/plain": [
       "Text(0, 0.5, 'Danceability')"
      ]
     },
     "execution_count": 128,
     "metadata": {},
     "output_type": "execute_result"
    },
    {
     "data": {
      "image/png": "[encoded data removed]",
      "text/plain": [
       "<Figure size 800x500 with 1 Axes>"
      ]
     },
     "metadata": {},
     "output_type": "display_data"
    }
   ],
   "source": [
    "fig, ax = plt.subplots(figsize = (8,5))\n",
    "sns.violinplot(x=\"binary\", y=\"danceability\", data=spotify_final_df, color= \"#1CBA54\")\n",
    "sns.violinplot(x=\"binary\", y=\"danceability_x\", data=spotify_final_df, color= \"#020202\")\n",
    "plt.title(\"Danceability distribution on both datasets\")\n",
    "plt.xlabel(\"Top vs Top 50\")\n",
    "plt.ylabel(\"Danceability\")"
   ]
  },
  {
   "cell_type": "code",
   "execution_count": 129,
   "metadata": {},
   "outputs": [
    {
     "data": {
      "text/plain": [
       "Text(0, 0.5, '#Characters on Lyrics')"
      ]
     },
     "execution_count": 129,
     "metadata": {},
     "output_type": "execute_result"
    },
    {
     "data": {
      "image/png": "[encoded data removed]",
      "text/plain": [
       "<Figure size 800x500 with 1 Axes>"
      ]
     },
     "metadata": {},
     "output_type": "display_data"
    }
   ],
   "source": [
    "fig, ax = plt.subplots(figsize = (8,5))\n",
    "color_palette = [\"#1CBA54\", \"#020202\"]\n",
    "sns.violinplot(x=\"binary\", y=\"number_carac_on_lyrics\", data=spotify_final_df, palette=color_palette)\n",
    "plt.title(\"Number of Characters on the Lyrics distribution on both datasets\")\n",
    "plt.xlabel(\"Top vs Top 50\")\n",
    "plt.ylabel(\"#Characters on Lyrics\")"
   ]
  },
  {
   "cell_type": "code",
   "execution_count": 90,
   "metadata": {},
   "outputs": [],
   "source": [
    "# alpha = 0.001\n",
    "# ttest_ind(spotify_with_lyrics_popular_20['energy'].mean(), spotify_playlist_20_popular_drop['energy_x'].mean())\n",
    "# # We can reject the Null Hypothesis because pvalue < alpha, so they are different"
   ]
  }
 ],
 "metadata": {
  "kernelspec": {
   "display_name": "data",
   "language": "python",
   "name": "python3"
  },
  "language_info": {
   "codemirror_mode": {
    "name": "ipython",
    "version": 3
   },
   "file_extension": ".py",
   "mimetype": "text/x-python",
   "name": "python",
   "nbconvert_exporter": "python",
   "pygments_lexer": "ipython3",
   "version": "3.9.13"
  },
  "orig_nbformat": 4,
  "vscode": {
   "interpreter": {
    "hash": "a1a309976f40221a4d9c5ee4120d5c998cc1550a57c70eb64e3478c1b2cccad8"
   }
  }
 },
 "nbformat": 4,
 "nbformat_minor": 2
}
