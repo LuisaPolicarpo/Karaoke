{
  "nbformat": 4,
  "nbformat_minor": 0,
  "metadata": {
    "colab": {
      "provenance": [],
      "mount_file_id": "1eMq7o0FFSJjgpmrx0MlS8_-_YgWnCtFZ",
      "authorship_tag": "ABX9TyMYOHybd75hnrtG9ehjNKxQ",
      "include_colab_link": true
    },
    "kernelspec": {
      "name": "python3",
      "display_name": "Python 3"
    },
    "language_info": {
      "name": "python"
    }
  },
  "cells": [
    {
      "cell_type": "markdown",
      "metadata": {
        "id": "view-in-github",
        "colab_type": "text"
      },
      "source": [
        "<a href=\"https://colab.research.google.com/github/Sebastiao199/Project4WebScrapStats/blob/main/Spotify_top.ipynb\" target=\"_parent\"><img src=\"https://colab.research.google.com/assets/colab-badge.svg\" alt=\"Open In Colab\"/></a>"
      ]
    },
    {
      "cell_type": "code",
      "execution_count": 1,
      "metadata": {
        "id": "-HOOVXbl1E-m"
      },
      "outputs": [],
      "source": [
        "import pandas as pd\n",
        "import seaborn as sns"
      ]
    },
    {
      "cell_type": "code",
      "source": [
        "spotify2 = pd.read_csv('https://raw.githubusercontent.com/Sebastiao199/Project4WebScrapStats/main/MainTables/spotify.csv')\n",
        "spotify2"
      ],
      "metadata": {
        "colab": {
          "base_uri": "https://localhost:8080/",
          "height": 424
        },
        "id": "v0pvUGe22lEJ",
        "outputId": "72259de6-22fc-4567-de61-a7b6a939892a"
      },
      "execution_count": 2,
      "outputs": [
        {
          "output_type": "execute_result",
          "data": {
            "text/plain": [
              "        Unnamed: 0                track_id                 artists  \\\n",
              "0                0  5SuOikwiRyPMVoIQDJUgSV             Gen Hoshino   \n",
              "1                1  4qPNDBW1i3p13qLCt0Ki3A            Ben Woodward   \n",
              "2                2  1iJBSr7s7jYXzM8EGcbK5b  Ingrid Michaelson;ZAYN   \n",
              "3                3  6lfxq3CG4xtTiEg7opyCyx            Kina Grannis   \n",
              "4                4  5vjLSffimiIP26QG5WcN2K        Chord Overstreet   \n",
              "...            ...                     ...                     ...   \n",
              "113995      113995  2C3TZjDRiAzdyViavDJ217           Rainy Lullaby   \n",
              "113996      113996  1hIz5L4IB9hN3WRYPOCGPw           Rainy Lullaby   \n",
              "113997      113997  6x8ZfSoqDjuNa5SVP5QjvX           Cesária Evora   \n",
              "113998      113998  2e6sXL2bYv4bSz6VTdnfLs        Michael W. Smith   \n",
              "113999      113999  2hETkH7cOfqmz3LqZDHZf5           Cesária Evora   \n",
              "\n",
              "                                               album_name  \\\n",
              "0                                                  Comedy   \n",
              "1                                        Ghost (Acoustic)   \n",
              "2                                          To Begin Again   \n",
              "3       Crazy Rich Asians (Original Motion Picture Sou...   \n",
              "4                                                 Hold On   \n",
              "...                                                   ...   \n",
              "113995  #mindfulness - Soft Rain for Mindful Meditatio...   \n",
              "113996  #mindfulness - Soft Rain for Mindful Meditatio...   \n",
              "113997                                            Best Of   \n",
              "113998                                  Change Your World   \n",
              "113999                                     Miss Perfumado   \n",
              "\n",
              "                        track_name  popularity  duration_ms  explicit  \\\n",
              "0                           Comedy          73       230666     False   \n",
              "1                 Ghost - Acoustic          55       149610     False   \n",
              "2                   To Begin Again          57       210826     False   \n",
              "3       Can't Help Falling In Love          71       201933     False   \n",
              "4                          Hold On          82       198853     False   \n",
              "...                            ...         ...          ...       ...   \n",
              "113995         Sleep My Little Boy          21       384999     False   \n",
              "113996            Water Into Light          22       385000     False   \n",
              "113997              Miss Perfumado          22       271466     False   \n",
              "113998                     Friends          41       283893     False   \n",
              "113999                   Barbincor          22       241826     False   \n",
              "\n",
              "        danceability  energy  ...  loudness  mode  speechiness  acousticness  \\\n",
              "0              0.676  0.4610  ...    -6.746     0       0.1430        0.0322   \n",
              "1              0.420  0.1660  ...   -17.235     1       0.0763        0.9240   \n",
              "2              0.438  0.3590  ...    -9.734     1       0.0557        0.2100   \n",
              "3              0.266  0.0596  ...   -18.515     1       0.0363        0.9050   \n",
              "4              0.618  0.4430  ...    -9.681     1       0.0526        0.4690   \n",
              "...              ...     ...  ...       ...   ...          ...           ...   \n",
              "113995         0.172  0.2350  ...   -16.393     1       0.0422        0.6400   \n",
              "113996         0.174  0.1170  ...   -18.318     0       0.0401        0.9940   \n",
              "113997         0.629  0.3290  ...   -10.895     0       0.0420        0.8670   \n",
              "113998         0.587  0.5060  ...   -10.889     1       0.0297        0.3810   \n",
              "113999         0.526  0.4870  ...   -10.204     0       0.0725        0.6810   \n",
              "\n",
              "        instrumentalness  liveness  valence    tempo  time_signature  \\\n",
              "0               0.000001    0.3580   0.7150   87.917               4   \n",
              "1               0.000006    0.1010   0.2670   77.489               4   \n",
              "2               0.000000    0.1170   0.1200   76.332               4   \n",
              "3               0.000071    0.1320   0.1430  181.740               3   \n",
              "4               0.000000    0.0829   0.1670  119.949               4   \n",
              "...                  ...       ...      ...      ...             ...   \n",
              "113995          0.928000    0.0863   0.0339  125.995               5   \n",
              "113996          0.976000    0.1050   0.0350   85.239               4   \n",
              "113997          0.000000    0.0839   0.7430  132.378               4   \n",
              "113998          0.000000    0.2700   0.4130  135.960               4   \n",
              "113999          0.000000    0.0893   0.7080   79.198               4   \n",
              "\n",
              "        track_genre  \n",
              "0          acoustic  \n",
              "1          acoustic  \n",
              "2          acoustic  \n",
              "3          acoustic  \n",
              "4          acoustic  \n",
              "...             ...  \n",
              "113995  world-music  \n",
              "113996  world-music  \n",
              "113997  world-music  \n",
              "113998  world-music  \n",
              "113999  world-music  \n",
              "\n",
              "[114000 rows x 21 columns]"
            ],
            "text/html": [
              "\n",
              "  <div id=\"df-4c7d3b1f-ec91-44c4-a76f-0f06d8f24029\">\n",
              "    <div class=\"colab-df-container\">\n",
              "      <div>\n",
              "<style scoped>\n",
              "    .dataframe tbody tr th:only-of-type {\n",
              "        vertical-align: middle;\n",
              "    }\n",
              "\n",
              "    .dataframe tbody tr th {\n",
              "        vertical-align: top;\n",
              "    }\n",
              "\n",
              "    .dataframe thead th {\n",
              "        text-align: right;\n",
              "    }\n",
              "</style>\n",
              "<table border=\"1\" class=\"dataframe\">\n",
              "  <thead>\n",
              "    <tr style=\"text-align: right;\">\n",
              "      <th></th>\n",
              "      <th>Unnamed: 0</th>\n",
              "      <th>track_id</th>\n",
              "      <th>artists</th>\n",
              "      <th>album_name</th>\n",
              "      <th>track_name</th>\n",
              "      <th>popularity</th>\n",
              "      <th>duration_ms</th>\n",
              "      <th>explicit</th>\n",
              "      <th>danceability</th>\n",
              "      <th>energy</th>\n",
              "      <th>...</th>\n",
              "      <th>loudness</th>\n",
              "      <th>mode</th>\n",
              "      <th>speechiness</th>\n",
              "      <th>acousticness</th>\n",
              "      <th>instrumentalness</th>\n",
              "      <th>liveness</th>\n",
              "      <th>valence</th>\n",
              "      <th>tempo</th>\n",
              "      <th>time_signature</th>\n",
              "      <th>track_genre</th>\n",
              "    </tr>\n",
              "  </thead>\n",
              "  <tbody>\n",
              "    <tr>\n",
              "      <th>0</th>\n",
              "      <td>0</td>\n",
              "      <td>5SuOikwiRyPMVoIQDJUgSV</td>\n",
              "      <td>Gen Hoshino</td>\n",
              "      <td>Comedy</td>\n",
              "      <td>Comedy</td>\n",
              "      <td>73</td>\n",
              "      <td>230666</td>\n",
              "      <td>False</td>\n",
              "      <td>0.676</td>\n",
              "      <td>0.4610</td>\n",
              "      <td>...</td>\n",
              "      <td>-6.746</td>\n",
              "      <td>0</td>\n",
              "      <td>0.1430</td>\n",
              "      <td>0.0322</td>\n",
              "      <td>0.000001</td>\n",
              "      <td>0.3580</td>\n",
              "      <td>0.7150</td>\n",
              "      <td>87.917</td>\n",
              "      <td>4</td>\n",
              "      <td>acoustic</td>\n",
              "    </tr>\n",
              "    <tr>\n",
              "      <th>1</th>\n",
              "      <td>1</td>\n",
              "      <td>4qPNDBW1i3p13qLCt0Ki3A</td>\n",
              "      <td>Ben Woodward</td>\n",
              "      <td>Ghost (Acoustic)</td>\n",
              "      <td>Ghost - Acoustic</td>\n",
              "      <td>55</td>\n",
              "      <td>149610</td>\n",
              "      <td>False</td>\n",
              "      <td>0.420</td>\n",
              "      <td>0.1660</td>\n",
              "      <td>...</td>\n",
              "      <td>-17.235</td>\n",
              "      <td>1</td>\n",
              "      <td>0.0763</td>\n",
              "      <td>0.9240</td>\n",
              "      <td>0.000006</td>\n",
              "      <td>0.1010</td>\n",
              "      <td>0.2670</td>\n",
              "      <td>77.489</td>\n",
              "      <td>4</td>\n",
              "      <td>acoustic</td>\n",
              "    </tr>\n",
              "    <tr>\n",
              "      <th>2</th>\n",
              "      <td>2</td>\n",
              "      <td>1iJBSr7s7jYXzM8EGcbK5b</td>\n",
              "      <td>Ingrid Michaelson;ZAYN</td>\n",
              "      <td>To Begin Again</td>\n",
              "      <td>To Begin Again</td>\n",
              "      <td>57</td>\n",
              "      <td>210826</td>\n",
              "      <td>False</td>\n",
              "      <td>0.438</td>\n",
              "      <td>0.3590</td>\n",
              "      <td>...</td>\n",
              "      <td>-9.734</td>\n",
              "      <td>1</td>\n",
              "      <td>0.0557</td>\n",
              "      <td>0.2100</td>\n",
              "      <td>0.000000</td>\n",
              "      <td>0.1170</td>\n",
              "      <td>0.1200</td>\n",
              "      <td>76.332</td>\n",
              "      <td>4</td>\n",
              "      <td>acoustic</td>\n",
              "    </tr>\n",
              "    <tr>\n",
              "      <th>3</th>\n",
              "      <td>3</td>\n",
              "      <td>6lfxq3CG4xtTiEg7opyCyx</td>\n",
              "      <td>Kina Grannis</td>\n",
              "      <td>Crazy Rich Asians (Original Motion Picture Sou...</td>\n",
              "      <td>Can't Help Falling In Love</td>\n",
              "      <td>71</td>\n",
              "      <td>201933</td>\n",
              "      <td>False</td>\n",
              "      <td>0.266</td>\n",
              "      <td>0.0596</td>\n",
              "      <td>...</td>\n",
              "      <td>-18.515</td>\n",
              "      <td>1</td>\n",
              "      <td>0.0363</td>\n",
              "      <td>0.9050</td>\n",
              "      <td>0.000071</td>\n",
              "      <td>0.1320</td>\n",
              "      <td>0.1430</td>\n",
              "      <td>181.740</td>\n",
              "      <td>3</td>\n",
              "      <td>acoustic</td>\n",
              "    </tr>\n",
              "    <tr>\n",
              "      <th>4</th>\n",
              "      <td>4</td>\n",
              "      <td>5vjLSffimiIP26QG5WcN2K</td>\n",
              "      <td>Chord Overstreet</td>\n",
              "      <td>Hold On</td>\n",
              "      <td>Hold On</td>\n",
              "      <td>82</td>\n",
              "      <td>198853</td>\n",
              "      <td>False</td>\n",
              "      <td>0.618</td>\n",
              "      <td>0.4430</td>\n",
              "      <td>...</td>\n",
              "      <td>-9.681</td>\n",
              "      <td>1</td>\n",
              "      <td>0.0526</td>\n",
              "      <td>0.4690</td>\n",
              "      <td>0.000000</td>\n",
              "      <td>0.0829</td>\n",
              "      <td>0.1670</td>\n",
              "      <td>119.949</td>\n",
              "      <td>4</td>\n",
              "      <td>acoustic</td>\n",
              "    </tr>\n",
              "    <tr>\n",
              "      <th>...</th>\n",
              "      <td>...</td>\n",
              "      <td>...</td>\n",
              "      <td>...</td>\n",
              "      <td>...</td>\n",
              "      <td>...</td>\n",
              "      <td>...</td>\n",
              "      <td>...</td>\n",
              "      <td>...</td>\n",
              "      <td>...</td>\n",
              "      <td>...</td>\n",
              "      <td>...</td>\n",
              "      <td>...</td>\n",
              "      <td>...</td>\n",
              "      <td>...</td>\n",
              "      <td>...</td>\n",
              "      <td>...</td>\n",
              "      <td>...</td>\n",
              "      <td>...</td>\n",
              "      <td>...</td>\n",
              "      <td>...</td>\n",
              "      <td>...</td>\n",
              "    </tr>\n",
              "    <tr>\n",
              "      <th>113995</th>\n",
              "      <td>113995</td>\n",
              "      <td>2C3TZjDRiAzdyViavDJ217</td>\n",
              "      <td>Rainy Lullaby</td>\n",
              "      <td>#mindfulness - Soft Rain for Mindful Meditatio...</td>\n",
              "      <td>Sleep My Little Boy</td>\n",
              "      <td>21</td>\n",
              "      <td>384999</td>\n",
              "      <td>False</td>\n",
              "      <td>0.172</td>\n",
              "      <td>0.2350</td>\n",
              "      <td>...</td>\n",
              "      <td>-16.393</td>\n",
              "      <td>1</td>\n",
              "      <td>0.0422</td>\n",
              "      <td>0.6400</td>\n",
              "      <td>0.928000</td>\n",
              "      <td>0.0863</td>\n",
              "      <td>0.0339</td>\n",
              "      <td>125.995</td>\n",
              "      <td>5</td>\n",
              "      <td>world-music</td>\n",
              "    </tr>\n",
              "    <tr>\n",
              "      <th>113996</th>\n",
              "      <td>113996</td>\n",
              "      <td>1hIz5L4IB9hN3WRYPOCGPw</td>\n",
              "      <td>Rainy Lullaby</td>\n",
              "      <td>#mindfulness - Soft Rain for Mindful Meditatio...</td>\n",
              "      <td>Water Into Light</td>\n",
              "      <td>22</td>\n",
              "      <td>385000</td>\n",
              "      <td>False</td>\n",
              "      <td>0.174</td>\n",
              "      <td>0.1170</td>\n",
              "      <td>...</td>\n",
              "      <td>-18.318</td>\n",
              "      <td>0</td>\n",
              "      <td>0.0401</td>\n",
              "      <td>0.9940</td>\n",
              "      <td>0.976000</td>\n",
              "      <td>0.1050</td>\n",
              "      <td>0.0350</td>\n",
              "      <td>85.239</td>\n",
              "      <td>4</td>\n",
              "      <td>world-music</td>\n",
              "    </tr>\n",
              "    <tr>\n",
              "      <th>113997</th>\n",
              "      <td>113997</td>\n",
              "      <td>6x8ZfSoqDjuNa5SVP5QjvX</td>\n",
              "      <td>Cesária Evora</td>\n",
              "      <td>Best Of</td>\n",
              "      <td>Miss Perfumado</td>\n",
              "      <td>22</td>\n",
              "      <td>271466</td>\n",
              "      <td>False</td>\n",
              "      <td>0.629</td>\n",
              "      <td>0.3290</td>\n",
              "      <td>...</td>\n",
              "      <td>-10.895</td>\n",
              "      <td>0</td>\n",
              "      <td>0.0420</td>\n",
              "      <td>0.8670</td>\n",
              "      <td>0.000000</td>\n",
              "      <td>0.0839</td>\n",
              "      <td>0.7430</td>\n",
              "      <td>132.378</td>\n",
              "      <td>4</td>\n",
              "      <td>world-music</td>\n",
              "    </tr>\n",
              "    <tr>\n",
              "      <th>113998</th>\n",
              "      <td>113998</td>\n",
              "      <td>2e6sXL2bYv4bSz6VTdnfLs</td>\n",
              "      <td>Michael W. Smith</td>\n",
              "      <td>Change Your World</td>\n",
              "      <td>Friends</td>\n",
              "      <td>41</td>\n",
              "      <td>283893</td>\n",
              "      <td>False</td>\n",
              "      <td>0.587</td>\n",
              "      <td>0.5060</td>\n",
              "      <td>...</td>\n",
              "      <td>-10.889</td>\n",
              "      <td>1</td>\n",
              "      <td>0.0297</td>\n",
              "      <td>0.3810</td>\n",
              "      <td>0.000000</td>\n",
              "      <td>0.2700</td>\n",
              "      <td>0.4130</td>\n",
              "      <td>135.960</td>\n",
              "      <td>4</td>\n",
              "      <td>world-music</td>\n",
              "    </tr>\n",
              "    <tr>\n",
              "      <th>113999</th>\n",
              "      <td>113999</td>\n",
              "      <td>2hETkH7cOfqmz3LqZDHZf5</td>\n",
              "      <td>Cesária Evora</td>\n",
              "      <td>Miss Perfumado</td>\n",
              "      <td>Barbincor</td>\n",
              "      <td>22</td>\n",
              "      <td>241826</td>\n",
              "      <td>False</td>\n",
              "      <td>0.526</td>\n",
              "      <td>0.4870</td>\n",
              "      <td>...</td>\n",
              "      <td>-10.204</td>\n",
              "      <td>0</td>\n",
              "      <td>0.0725</td>\n",
              "      <td>0.6810</td>\n",
              "      <td>0.000000</td>\n",
              "      <td>0.0893</td>\n",
              "      <td>0.7080</td>\n",
              "      <td>79.198</td>\n",
              "      <td>4</td>\n",
              "      <td>world-music</td>\n",
              "    </tr>\n",
              "  </tbody>\n",
              "</table>\n",
              "<p>114000 rows × 21 columns</p>\n",
              "</div>\n",
              "      <button class=\"colab-df-convert\" onclick=\"convertToInteractive('df-4c7d3b1f-ec91-44c4-a76f-0f06d8f24029')\"\n",
              "              title=\"Convert this dataframe to an interactive table.\"\n",
              "              style=\"display:none;\">\n",
              "        \n",
              "  <svg xmlns=\"http://www.w3.org/2000/svg\" height=\"24px\"viewBox=\"0 0 24 24\"\n",
              "       width=\"24px\">\n",
              "    <path d=\"M0 0h24v24H0V0z\" fill=\"none\"/>\n",
              "    <path d=\"M18.56 5.44l.94 2.06.94-2.06 2.06-.94-2.06-.94-.94-2.06-.94 2.06-2.06.94zm-11 1L8.5 8.5l.94-2.06 2.06-.94-2.06-.94L8.5 2.5l-.94 2.06-2.06.94zm10 10l.94 2.06.94-2.06 2.06-.94-2.06-.94-.94-2.06-.94 2.06-2.06.94z\"/><path d=\"M17.41 7.96l-1.37-1.37c-.4-.4-.92-.59-1.43-.59-.52 0-1.04.2-1.43.59L10.3 9.45l-7.72 7.72c-.78.78-.78 2.05 0 2.83L4 21.41c.39.39.9.59 1.41.59.51 0 1.02-.2 1.41-.59l7.78-7.78 2.81-2.81c.8-.78.8-2.07 0-2.86zM5.41 20L4 18.59l7.72-7.72 1.47 1.35L5.41 20z\"/>\n",
              "  </svg>\n",
              "      </button>\n",
              "      \n",
              "  <style>\n",
              "    .colab-df-container {\n",
              "      display:flex;\n",
              "      flex-wrap:wrap;\n",
              "      gap: 12px;\n",
              "    }\n",
              "\n",
              "    .colab-df-convert {\n",
              "      background-color: #E8F0FE;\n",
              "      border: none;\n",
              "      border-radius: 50%;\n",
              "      cursor: pointer;\n",
              "      display: none;\n",
              "      fill: #1967D2;\n",
              "      height: 32px;\n",
              "      padding: 0 0 0 0;\n",
              "      width: 32px;\n",
              "    }\n",
              "\n",
              "    .colab-df-convert:hover {\n",
              "      background-color: #E2EBFA;\n",
              "      box-shadow: 0px 1px 2px rgba(60, 64, 67, 0.3), 0px 1px 3px 1px rgba(60, 64, 67, 0.15);\n",
              "      fill: #174EA6;\n",
              "    }\n",
              "\n",
              "    [theme=dark] .colab-df-convert {\n",
              "      background-color: #3B4455;\n",
              "      fill: #D2E3FC;\n",
              "    }\n",
              "\n",
              "    [theme=dark] .colab-df-convert:hover {\n",
              "      background-color: #434B5C;\n",
              "      box-shadow: 0px 1px 3px 1px rgba(0, 0, 0, 0.15);\n",
              "      filter: drop-shadow(0px 1px 2px rgba(0, 0, 0, 0.3));\n",
              "      fill: #FFFFFF;\n",
              "    }\n",
              "  </style>\n",
              "\n",
              "      <script>\n",
              "        const buttonEl =\n",
              "          document.querySelector('#df-4c7d3b1f-ec91-44c4-a76f-0f06d8f24029 button.colab-df-convert');\n",
              "        buttonEl.style.display =\n",
              "          google.colab.kernel.accessAllowed ? 'block' : 'none';\n",
              "\n",
              "        async function convertToInteractive(key) {\n",
              "          const element = document.querySelector('#df-4c7d3b1f-ec91-44c4-a76f-0f06d8f24029');\n",
              "          const dataTable =\n",
              "            await google.colab.kernel.invokeFunction('convertToInteractive',\n",
              "                                                     [key], {});\n",
              "          if (!dataTable) return;\n",
              "\n",
              "          const docLinkHtml = 'Like what you see? Visit the ' +\n",
              "            '<a target=\"_blank\" href=https://colab.research.google.com/notebooks/data_table.ipynb>data table notebook</a>'\n",
              "            + ' to learn more about interactive tables.';\n",
              "          element.innerHTML = '';\n",
              "          dataTable['output_type'] = 'display_data';\n",
              "          await google.colab.output.renderOutput(dataTable, element);\n",
              "          const docLink = document.createElement('div');\n",
              "          docLink.innerHTML = docLinkHtml;\n",
              "          element.appendChild(docLink);\n",
              "        }\n",
              "      </script>\n",
              "    </div>\n",
              "  </div>\n",
              "  "
            ]
          },
          "metadata": {},
          "execution_count": 2
        }
      ]
    },
    {
      "cell_type": "markdown",
      "source": [
        "***EDA for Kaggle dataset Spotify***"
      ],
      "metadata": {
        "id": "wyvOH7jZLhuS"
      }
    },
    {
      "cell_type": "code",
      "source": [
        "spotify2['mode'].nunique()\n",
        "spotify2['loudness'].nunique()"
      ],
      "metadata": {
        "colab": {
          "base_uri": "https://localhost:8080/",
          "height": 501
        },
        "id": "5nwUzAWAMkcR",
        "outputId": "f79a93fd-a0be-40f0-d47a-d87f1b8fe9a1"
      },
      "execution_count": null,
      "outputs": [
        {
          "output_type": "error",
          "ename": "KeyError",
          "evalue": "ignored",
          "traceback": [
            "\u001b[0;31m---------------------------------------------------------------------------\u001b[0m",
            "\u001b[0;31mKeyError\u001b[0m                                  Traceback (most recent call last)",
            "\u001b[0;32m/usr/local/lib/python3.8/dist-packages/pandas/core/indexes/base.py\u001b[0m in \u001b[0;36mget_loc\u001b[0;34m(self, key, method, tolerance)\u001b[0m\n\u001b[1;32m   3360\u001b[0m             \u001b[0;32mtry\u001b[0m\u001b[0;34m:\u001b[0m\u001b[0;34m\u001b[0m\u001b[0;34m\u001b[0m\u001b[0m\n\u001b[0;32m-> 3361\u001b[0;31m                 \u001b[0;32mreturn\u001b[0m \u001b[0mself\u001b[0m\u001b[0;34m.\u001b[0m\u001b[0m_engine\u001b[0m\u001b[0;34m.\u001b[0m\u001b[0mget_loc\u001b[0m\u001b[0;34m(\u001b[0m\u001b[0mcasted_key\u001b[0m\u001b[0;34m)\u001b[0m\u001b[0;34m\u001b[0m\u001b[0;34m\u001b[0m\u001b[0m\n\u001b[0m\u001b[1;32m   3362\u001b[0m             \u001b[0;32mexcept\u001b[0m \u001b[0mKeyError\u001b[0m \u001b[0;32mas\u001b[0m \u001b[0merr\u001b[0m\u001b[0;34m:\u001b[0m\u001b[0;34m\u001b[0m\u001b[0;34m\u001b[0m\u001b[0m\n",
            "\u001b[0;32m/usr/local/lib/python3.8/dist-packages/pandas/_libs/index.pyx\u001b[0m in \u001b[0;36mpandas._libs.index.IndexEngine.get_loc\u001b[0;34m()\u001b[0m\n",
            "\u001b[0;32m/usr/local/lib/python3.8/dist-packages/pandas/_libs/index.pyx\u001b[0m in \u001b[0;36mpandas._libs.index.IndexEngine.get_loc\u001b[0;34m()\u001b[0m\n",
            "\u001b[0;32mpandas/_libs/hashtable_class_helper.pxi\u001b[0m in \u001b[0;36mpandas._libs.hashtable.PyObjectHashTable.get_item\u001b[0;34m()\u001b[0m\n",
            "\u001b[0;32mpandas/_libs/hashtable_class_helper.pxi\u001b[0m in \u001b[0;36mpandas._libs.hashtable.PyObjectHashTable.get_item\u001b[0;34m()\u001b[0m\n",
            "\u001b[0;31mKeyError\u001b[0m: 'mode'",
            "\nThe above exception was the direct cause of the following exception:\n",
            "\u001b[0;31mKeyError\u001b[0m                                  Traceback (most recent call last)",
            "\u001b[0;32m<ipython-input-55-4531f25b09c8>\u001b[0m in \u001b[0;36m<module>\u001b[0;34m\u001b[0m\n\u001b[0;32m----> 1\u001b[0;31m \u001b[0mspotify2\u001b[0m\u001b[0;34m[\u001b[0m\u001b[0;34m'mode'\u001b[0m\u001b[0;34m]\u001b[0m\u001b[0;34m.\u001b[0m\u001b[0mnunique\u001b[0m\u001b[0;34m(\u001b[0m\u001b[0;34m)\u001b[0m\u001b[0;34m\u001b[0m\u001b[0;34m\u001b[0m\u001b[0m\n\u001b[0m\u001b[1;32m      2\u001b[0m \u001b[0mspotify2\u001b[0m\u001b[0;34m[\u001b[0m\u001b[0;34m'loudness'\u001b[0m\u001b[0;34m]\u001b[0m\u001b[0;34m.\u001b[0m\u001b[0mnunique\u001b[0m\u001b[0;34m(\u001b[0m\u001b[0;34m)\u001b[0m\u001b[0;34m\u001b[0m\u001b[0;34m\u001b[0m\u001b[0m\n",
            "\u001b[0;32m/usr/local/lib/python3.8/dist-packages/pandas/core/frame.py\u001b[0m in \u001b[0;36m__getitem__\u001b[0;34m(self, key)\u001b[0m\n\u001b[1;32m   3456\u001b[0m             \u001b[0;32mif\u001b[0m \u001b[0mself\u001b[0m\u001b[0;34m.\u001b[0m\u001b[0mcolumns\u001b[0m\u001b[0;34m.\u001b[0m\u001b[0mnlevels\u001b[0m \u001b[0;34m>\u001b[0m \u001b[0;36m1\u001b[0m\u001b[0;34m:\u001b[0m\u001b[0;34m\u001b[0m\u001b[0;34m\u001b[0m\u001b[0m\n\u001b[1;32m   3457\u001b[0m                 \u001b[0;32mreturn\u001b[0m \u001b[0mself\u001b[0m\u001b[0;34m.\u001b[0m\u001b[0m_getitem_multilevel\u001b[0m\u001b[0;34m(\u001b[0m\u001b[0mkey\u001b[0m\u001b[0;34m)\u001b[0m\u001b[0;34m\u001b[0m\u001b[0;34m\u001b[0m\u001b[0m\n\u001b[0;32m-> 3458\u001b[0;31m             \u001b[0mindexer\u001b[0m \u001b[0;34m=\u001b[0m \u001b[0mself\u001b[0m\u001b[0;34m.\u001b[0m\u001b[0mcolumns\u001b[0m\u001b[0;34m.\u001b[0m\u001b[0mget_loc\u001b[0m\u001b[0;34m(\u001b[0m\u001b[0mkey\u001b[0m\u001b[0;34m)\u001b[0m\u001b[0;34m\u001b[0m\u001b[0;34m\u001b[0m\u001b[0m\n\u001b[0m\u001b[1;32m   3459\u001b[0m             \u001b[0;32mif\u001b[0m \u001b[0mis_integer\u001b[0m\u001b[0;34m(\u001b[0m\u001b[0mindexer\u001b[0m\u001b[0;34m)\u001b[0m\u001b[0;34m:\u001b[0m\u001b[0;34m\u001b[0m\u001b[0;34m\u001b[0m\u001b[0m\n\u001b[1;32m   3460\u001b[0m                 \u001b[0mindexer\u001b[0m \u001b[0;34m=\u001b[0m \u001b[0;34m[\u001b[0m\u001b[0mindexer\u001b[0m\u001b[0;34m]\u001b[0m\u001b[0;34m\u001b[0m\u001b[0;34m\u001b[0m\u001b[0m\n",
            "\u001b[0;32m/usr/local/lib/python3.8/dist-packages/pandas/core/indexes/base.py\u001b[0m in \u001b[0;36mget_loc\u001b[0;34m(self, key, method, tolerance)\u001b[0m\n\u001b[1;32m   3361\u001b[0m                 \u001b[0;32mreturn\u001b[0m \u001b[0mself\u001b[0m\u001b[0;34m.\u001b[0m\u001b[0m_engine\u001b[0m\u001b[0;34m.\u001b[0m\u001b[0mget_loc\u001b[0m\u001b[0;34m(\u001b[0m\u001b[0mcasted_key\u001b[0m\u001b[0;34m)\u001b[0m\u001b[0;34m\u001b[0m\u001b[0;34m\u001b[0m\u001b[0m\n\u001b[1;32m   3362\u001b[0m             \u001b[0;32mexcept\u001b[0m \u001b[0mKeyError\u001b[0m \u001b[0;32mas\u001b[0m \u001b[0merr\u001b[0m\u001b[0;34m:\u001b[0m\u001b[0;34m\u001b[0m\u001b[0;34m\u001b[0m\u001b[0m\n\u001b[0;32m-> 3363\u001b[0;31m                 \u001b[0;32mraise\u001b[0m \u001b[0mKeyError\u001b[0m\u001b[0;34m(\u001b[0m\u001b[0mkey\u001b[0m\u001b[0;34m)\u001b[0m \u001b[0;32mfrom\u001b[0m \u001b[0merr\u001b[0m\u001b[0;34m\u001b[0m\u001b[0;34m\u001b[0m\u001b[0m\n\u001b[0m\u001b[1;32m   3364\u001b[0m \u001b[0;34m\u001b[0m\u001b[0m\n\u001b[1;32m   3365\u001b[0m         \u001b[0;32mif\u001b[0m \u001b[0mis_scalar\u001b[0m\u001b[0;34m(\u001b[0m\u001b[0mkey\u001b[0m\u001b[0;34m)\u001b[0m \u001b[0;32mand\u001b[0m \u001b[0misna\u001b[0m\u001b[0;34m(\u001b[0m\u001b[0mkey\u001b[0m\u001b[0;34m)\u001b[0m \u001b[0;32mand\u001b[0m \u001b[0;32mnot\u001b[0m \u001b[0mself\u001b[0m\u001b[0;34m.\u001b[0m\u001b[0mhasnans\u001b[0m\u001b[0;34m:\u001b[0m\u001b[0;34m\u001b[0m\u001b[0;34m\u001b[0m\u001b[0m\n",
            "\u001b[0;31mKeyError\u001b[0m: 'mode'"
          ]
        }
      ]
    },
    {
      "cell_type": "code",
      "source": [
        "spotify2['track_genre'].value_counts().sort_values(ascending= False)"
      ],
      "metadata": {
        "id": "GqlAsEfbw-Be",
        "outputId": "f9e0cda3-3e2c-4cf7-ac5d-1ca8932f5c8f",
        "colab": {
          "base_uri": "https://localhost:8080/"
        }
      },
      "execution_count": 8,
      "outputs": [
        {
          "output_type": "execute_result",
          "data": {
            "text/plain": [
              "acoustic         1000\n",
              "drum-and-bass    1000\n",
              "alternative      1000\n",
              "ambient          1000\n",
              "anime            1000\n",
              "                 ... \n",
              "techno           1000\n",
              "trance           1000\n",
              "trip-hop         1000\n",
              "turkish          1000\n",
              "world-music      1000\n",
              "Name: track_genre, Length: 114, dtype: int64"
            ]
          },
          "metadata": {},
          "execution_count": 8
        }
      ]
    },
    {
      "cell_type": "code",
      "source": [
        "print(spotify2['energy'].std())"
      ],
      "metadata": {
        "id": "RceDrq8kx01Y",
        "outputId": "d622c80d-fa8f-4994-b9c4-245adda612d6",
        "colab": {
          "base_uri": "https://localhost:8080/"
        }
      },
      "execution_count": 25,
      "outputs": [
        {
          "output_type": "stream",
          "name": "stdout",
          "text": [
            "0.2515290688025413\n"
          ]
        }
      ]
    },
    {
      "cell_type": "code",
      "source": [
        "print(spotify2['popularity'].std())"
      ],
      "metadata": {
        "id": "FjCK0ENXPKGP",
        "outputId": "224ce6cf-99bd-4898-aee3-70241a2a2552",
        "colab": {
          "base_uri": "https://localhost:8080/"
        }
      },
      "execution_count": 26,
      "outputs": [
        {
          "output_type": "stream",
          "name": "stdout",
          "text": [
            "22.305078493372164\n"
          ]
        }
      ]
    },
    {
      "cell_type": "code",
      "source": [
        "print('Mean of energy:', spotify2['energy'].mean())\n",
        "print('Standard deviation of energy:', spotify2['energy'].std())"
      ],
      "metadata": {
        "id": "SODk2BdIPr_o",
        "outputId": "ac748b7c-34ac-4ebf-c0b8-46dc5ae9e03c",
        "colab": {
          "base_uri": "https://localhost:8080/"
        }
      },
      "execution_count": 29,
      "outputs": [
        {
          "output_type": "stream",
          "name": "stdout",
          "text": [
            "Mean of energy: 0.6413827583964912\n",
            "Standard deviation of energy: 0.2515290688025413\n"
          ]
        }
      ]
    },
    {
      "cell_type": "code",
      "source": [
        "print('Mean of popularity:', spotify2['popularity'].mean())\n",
        "print('Standard deviation of popularity:', spotify2['popularity'].std())"
      ],
      "metadata": {
        "id": "B70TDMFDPgHP",
        "outputId": "a8b36134-d3ba-49ee-f2bd-125c593243f1",
        "colab": {
          "base_uri": "https://localhost:8080/"
        }
      },
      "execution_count": 28,
      "outputs": [
        {
          "output_type": "stream",
          "name": "stdout",
          "text": [
            "Mean of popularity: 33.2385350877193\n",
            "Standard deviation of popularity: 22.305078493372164\n"
          ]
        }
      ]
    },
    {
      "cell_type": "code",
      "source": [
        "print('Mean of danceability:', spotify2['danceability'].mean())\n",
        "print('Standard deviation of danceability:', spotify2['danceability'].std())"
      ],
      "metadata": {
        "id": "JjeU-v6qPSzl",
        "outputId": "0d4aef8a-fe91-4b48-de3b-f75c05ed9364",
        "colab": {
          "base_uri": "https://localhost:8080/"
        }
      },
      "execution_count": 27,
      "outputs": [
        {
          "output_type": "stream",
          "name": "stdout",
          "text": [
            "Mean of danceability: 0.5668000657894738\n",
            "standard deviation of danceability: 0.17354217360214558\n"
          ]
        }
      ]
    },
    {
      "cell_type": "code",
      "source": [
        "#Drop columns that we decided we wouldn´t use for sure\n",
        "\n",
        "spotify2.drop(['Unnamed: 0'], axis = 1, inplace = True)\n",
        "\n",
        "spotify2.drop(['mode'], axis = 1, inplace = True)\n",
        "spotify2.drop(['key'], axis = 1, inplace = True)"
      ],
      "metadata": {
        "id": "EgBMop0MFpYS"
      },
      "execution_count": null,
      "outputs": []
    },
    {
      "cell_type": "code",
      "source": [
        "# Drop NaN\n",
        "spotify2.dropna(inplace= True)\n"
      ],
      "metadata": {
        "id": "gdsPHTqHGlt2"
      },
      "execution_count": null,
      "outputs": []
    },
    {
      "cell_type": "code",
      "source": [
        "#pickle\n",
        "\n",
        "spotify2.to_pickle('/content/sptf.pickle')\n"
      ],
      "metadata": {
        "id": "Esef9hREGADY"
      },
      "execution_count": null,
      "outputs": []
    },
    {
      "cell_type": "code",
      "source": [
        "spotify = pd.read_pickle(\"/content/sptf.pickle\")"
      ],
      "metadata": {
        "id": "bNrJ7VpRGYDT"
      },
      "execution_count": null,
      "outputs": []
    },
    {
      "cell_type": "code",
      "source": [
        "spotify.info()"
      ],
      "metadata": {
        "colab": {
          "base_uri": "https://localhost:8080/"
        },
        "id": "duGCbiu1G_N1",
        "outputId": "8b32e218-c1cd-436d-b0ac-bbdd6c9119c7"
      },
      "execution_count": null,
      "outputs": [
        {
          "output_type": "stream",
          "name": "stdout",
          "text": [
            "<class 'pandas.core.frame.DataFrame'>\n",
            "Int64Index: 113999 entries, 0 to 113999\n",
            "Data columns (total 18 columns):\n",
            " #   Column            Non-Null Count   Dtype  \n",
            "---  ------            --------------   -----  \n",
            " 0   track_id          113999 non-null  object \n",
            " 1   artists           113999 non-null  object \n",
            " 2   album_name        113999 non-null  object \n",
            " 3   track_name        113999 non-null  object \n",
            " 4   popularity        113999 non-null  int64  \n",
            " 5   duration_ms       113999 non-null  int64  \n",
            " 6   explicit          113999 non-null  bool   \n",
            " 7   danceability      113999 non-null  float64\n",
            " 8   energy            113999 non-null  float64\n",
            " 9   loudness          113999 non-null  float64\n",
            " 10  speechiness       113999 non-null  float64\n",
            " 11  acousticness      113999 non-null  float64\n",
            " 12  instrumentalness  113999 non-null  float64\n",
            " 13  liveness          113999 non-null  float64\n",
            " 14  valence           113999 non-null  float64\n",
            " 15  tempo             113999 non-null  float64\n",
            " 16  time_signature    113999 non-null  int64  \n",
            " 17  track_genre       113999 non-null  object \n",
            "dtypes: bool(1), float64(9), int64(3), object(5)\n",
            "memory usage: 15.8+ MB\n"
          ]
        }
      ]
    },
    {
      "cell_type": "code",
      "source": [
        "spotify.columns"
      ],
      "metadata": {
        "id": "-bB2YPbG8Dju",
        "outputId": "c3a98761-73c5-4db9-a209-d0efabea0fd5",
        "colab": {
          "base_uri": "https://localhost:8080/"
        }
      },
      "execution_count": null,
      "outputs": [
        {
          "output_type": "execute_result",
          "data": {
            "text/plain": [
              "Index(['track_id', 'artists', 'album_name', 'track_name', 'popularity',\n",
              "       'duration', 'explicit', 'danceability', 'energy', 'loudness',\n",
              "       'speechiness', 'acousticness', 'instrumentalness', 'liveness',\n",
              "       'valence', 'tempo', 'time_signature', 'track_genre'],\n",
              "      dtype='object')"
            ]
          },
          "metadata": {},
          "execution_count": 176
        }
      ]
    },
    {
      "cell_type": "code",
      "source": [
        "spotify_to_sample = spotify.drop_duplicates(subset = \"track_name\")[['danceability','energy','loudness','speechiness','acousticness','instrumentalness','liveness','valence','tempo','popularity','duration']].sample(frac = 0.07)\n",
        "spotify_to_sample.shape"
      ],
      "metadata": {
        "id": "MeYKakOn7tEO",
        "outputId": "f814e937-4faa-4079-e228-9f40d4e06916",
        "colab": {
          "base_uri": "https://localhost:8080/"
        }
      },
      "execution_count": null,
      "outputs": [
        {
          "output_type": "execute_result",
          "data": {
            "text/plain": [
              "(5153, 11)"
            ]
          },
          "metadata": {},
          "execution_count": 180
        }
      ]
    },
    {
      "cell_type": "code",
      "source": [
        "new_spotify= spotify_to_sample.merge(spotify, how='inner')"
      ],
      "metadata": {
        "id": "6llx32Rb9c9A"
      },
      "execution_count": null,
      "outputs": []
    },
    {
      "cell_type": "code",
      "source": [
        "condition = spotify['track_id'] == '6S3JlDAGk3uu3NtZbPnuhS'\n",
        "\n",
        "x = spotify[condition][['track_id','album_name','track_name','track_genre']]\n",
        "\n",
        "x"
      ],
      "metadata": {
        "id": "81px_plawZIP"
      },
      "execution_count": null,
      "outputs": []
    },
    {
      "cell_type": "code",
      "source": [
        "from matplotlib import pyplot as plt\n",
        "import numpy as np\n"
      ],
      "metadata": {
        "id": "CDqZ7sgByjJz"
      },
      "execution_count": 14,
      "outputs": []
    },
    {
      "cell_type": "code",
      "source": [
        "spotify2.boxplot(vert = False, figsize = (13,7), showfliers = False, showmeans = True, \n",
        "                 patch_artist=True, boxprops=dict(linestyle='-', linewidth=1.5),\n",
        "                 flierprops=dict(linestyle='-', linewidth=1.5),\n",
        "                 medianprops=dict(linestyle='-', linewidth=1.5),\n",
        "                 whiskerprops=dict(linestyle='-', linewidth=1.5),\n",
        "                 capprops=dict(linestyle='-', linewidth=1.5))\n",
        "\n",
        "plt.title(\"Party II Playlist's Box Plot\", fontsize=16, fontweight='heavy')\n",
        "plt.show()\n"
      ],
      "metadata": {
        "id": "EJ0tN0I6yaGY",
        "outputId": "79dd865a-c27a-4020-ac92-519766aafc0b",
        "colab": {
          "base_uri": "https://localhost:8080/",
          "height": 446
        }
      },
      "execution_count": 11,
      "outputs": [
        {
          "output_type": "display_data",
          "data": {
            "text/plain": [
              "<Figure size 936x504 with 1 Axes>"
            ],
            "image/png": "[encoded data removed]"
          },
          "metadata": {
            "needs_background": "light"
          }
        }
      ]
    },
    {
      "cell_type": "code",
      "source": [
        "fig, ax = plt.subplots(figsize=(15,4))\n",
        "boxplot = spotify2.boxplot(column=['danceability', 'energy', 'popularity']) "
      ],
      "metadata": {
        "id": "h8vlZ1SXy2Yg",
        "outputId": "2598bbc9-d25d-448d-a95a-c412f34c6657",
        "colab": {
          "base_uri": "https://localhost:8080/",
          "height": 265
        }
      },
      "execution_count": 20,
      "outputs": [
        {
          "output_type": "display_data",
          "data": {
            "text/plain": [
              "<Figure size 1080x288 with 1 Axes>"
            ],
            "image/png": "[encoded data removed]"
          },
          "metadata": {
            "needs_background": "light"
          }
        }
      ]
    },
    {
      "cell_type": "code",
      "source": [
        "fig, ax = plt.subplots(figsize=(15,4))\n",
        "sns.set_style(\"white\")\n",
        "boxplot = spotify2.boxplot(column=['danceability']) "
      ],
      "metadata": {
        "id": "gCL-WAgfz_hu",
        "outputId": "a8416f75-a99f-4a67-bba4-6badf270e404",
        "colab": {
          "base_uri": "https://localhost:8080/",
          "height": 265
        }
      },
      "execution_count": 22,
      "outputs": [
        {
          "output_type": "display_data",
          "data": {
            "text/plain": [
              "<Figure size 1080x288 with 1 Axes>"
            ],
            "image/png": "[encoded data removed]"
          },
          "metadata": {
            "needs_background": "light"
          }
        }
      ]
    },
    {
      "cell_type": "code",
      "source": [],
      "metadata": {
        "id": "JTD998ng0ge7"
      },
      "execution_count": null,
      "outputs": []
    },
    {
      "cell_type": "code",
      "source": [],
      "metadata": {
        "id": "W6OZ_dsG0DsX"
      },
      "execution_count": null,
      "outputs": []
    },
    {
      "cell_type": "code",
      "source": [
        "sns.boxplot(data=spotify2, x=\"danceability\", y=\"track_genre\")"
      ],
      "metadata": {
        "id": "LRzy5Q_7zvW0",
        "outputId": "68c1ac03-1261-4f3c-c01e-bb5dc4144b19",
        "colab": {
          "base_uri": "https://localhost:8080/",
          "height": 299
        }
      },
      "execution_count": 23,
      "outputs": [
        {
          "output_type": "execute_result",
          "data": {
            "text/plain": [
              "<matplotlib.axes._subplots.AxesSubplot at 0x7f235f807ee0>"
            ]
          },
          "metadata": {},
          "execution_count": 23
        },
        {
          "output_type": "display_data",
          "data": {
            "text/plain": [
              "<Figure size 432x288 with 1 Axes>"
            ],
            "image/png": "[encoded data removed]"
          },
          "metadata": {}
        }
      ]
    },
    {
      "cell_type": "code",
      "source": [
        "from google.colab import files\n",
        "new_spotify.to_csv('sample_spotify.csv') \n",
        "files.download('sample_spotify.csv')"
      ],
      "metadata": {
        "id": "mmf7kPCn96l_",
        "outputId": "43538348-4e39-4686-c702-cd83a2b27515",
        "colab": {
          "base_uri": "https://localhost:8080/",
          "height": 17
        }
      },
      "execution_count": null,
      "outputs": [
        {
          "output_type": "display_data",
          "data": {
            "text/plain": [
              "<IPython.core.display.Javascript object>"
            ],
            "application/javascript": [
              "\n",
              "    async function download(id, filename, size) {\n",
              "      if (!google.colab.kernel.accessAllowed) {\n",
              "        return;\n",
              "      }\n",
              "      const div = document.createElement('div');\n",
              "      const label = document.createElement('label');\n",
              "      label.textContent = `Downloading \"${filename}\": `;\n",
              "      div.appendChild(label);\n",
              "      const progress = document.createElement('progress');\n",
              "      progress.max = size;\n",
              "      div.appendChild(progress);\n",
              "      document.body.appendChild(div);\n",
              "\n",
              "      const buffers = [];\n",
              "      let downloaded = 0;\n",
              "\n",
              "      const channel = await google.colab.kernel.comms.open(id);\n",
              "      // Send a message to notify the kernel that we're ready.\n",
              "      channel.send({})\n",
              "\n",
              "      for await (const message of channel.messages) {\n",
              "        // Send a message to notify the kernel that we're ready.\n",
              "        channel.send({})\n",
              "        if (message.buffers) {\n",
              "          for (const buffer of message.buffers) {\n",
              "            buffers.push(buffer);\n",
              "            downloaded += buffer.byteLength;\n",
              "            progress.value = downloaded;\n",
              "          }\n",
              "        }\n",
              "      }\n",
              "      const blob = new Blob(buffers, {type: 'application/binary'});\n",
              "      const a = document.createElement('a');\n",
              "      a.href = window.URL.createObjectURL(blob);\n",
              "      a.download = filename;\n",
              "      div.appendChild(a);\n",
              "      a.click();\n",
              "      div.remove();\n",
              "    }\n",
              "  "
            ]
          },
          "metadata": {}
        },
        {
          "output_type": "display_data",
          "data": {
            "text/plain": [
              "<IPython.core.display.Javascript object>"
            ],
            "application/javascript": [
              "download(\"download_dc963e26-dc1f-436b-99c1-9b5abf59dd06\", \"sample_spotify.csv\", 1120772)"
            ]
          },
          "metadata": {}
        }
      ]
    },
    {
      "cell_type": "code",
      "source": [
        "new_spotify['album_name'].value_counts()"
      ],
      "metadata": {
        "id": "M645NbVp9xHJ",
        "outputId": "5241e46a-a13d-47ac-848e-7844f0ac3afc",
        "colab": {
          "base_uri": "https://localhost:8080/"
        }
      },
      "execution_count": null,
      "outputs": [
        {
          "output_type": "execute_result",
          "data": {
            "text/plain": [
              "Halloween Metal Nights           19\n",
              "Coffee Moment                    12\n",
              "On air 70's Hits                 11\n",
              "The Complete Hank Williams       11\n",
              "Homecoming Latin Party           10\n",
              "                                 ..\n",
              "Arcano 19                         1\n",
              "In League With Satan              1\n",
              "Recovery                          1\n",
              "SUEDE!                            1\n",
              "Fernandinho Em Casa (ao Vivo)     1\n",
              "Name: album_name, Length: 4743, dtype: int64"
            ]
          },
          "metadata": {},
          "execution_count": 187
        }
      ]
    },
    {
      "cell_type": "code",
      "source": [
        "spotify_to_sample.head() inner marge"
      ],
      "metadata": {
        "id": "NqJw4W8v87c2",
        "outputId": "23ae85c2-348d-4aff-9be2-d718d76d3e4e",
        "colab": {
          "base_uri": "https://localhost:8080/",
          "height": 206
        }
      },
      "execution_count": null,
      "outputs": [
        {
          "output_type": "execute_result",
          "data": {
            "text/plain": [
              "        danceability  energy  loudness  speechiness  acousticness  \\\n",
              "110622         0.615   0.736    -7.635       0.0604      0.015500   \n",
              "103404         0.482   0.706    -5.762       0.0607      0.135000   \n",
              "106801         0.795   0.595    -8.073       0.0698      0.082300   \n",
              "45001          0.631   0.489    -6.966       0.1010      0.580000   \n",
              "48467          0.419   0.972    -3.895       0.0838      0.000013   \n",
              "\n",
              "        instrumentalness  liveness  valence    tempo  popularity  duration  \n",
              "110622           0.72400    0.0978   0.0772  139.999          25       398  \n",
              "103404           0.00106    0.1050   0.1440   92.513          77       225  \n",
              "106801           0.00000    0.1280   0.5020   91.025          54       196  \n",
              "45001            0.82100    0.1200   0.4180  203.953          55       117  \n",
              "48467            0.00844    0.3290   0.1900   92.487          32       215  "
            ],
            "text/html": [
              "\n",
              "  <div id=\"df-de6bc690-6d6e-48ef-a5be-33f2a2252aff\">\n",
              "    <div class=\"colab-df-container\">\n",
              "      <div>\n",
              "<style scoped>\n",
              "    .dataframe tbody tr th:only-of-type {\n",
              "        vertical-align: middle;\n",
              "    }\n",
              "\n",
              "    .dataframe tbody tr th {\n",
              "        vertical-align: top;\n",
              "    }\n",
              "\n",
              "    .dataframe thead th {\n",
              "        text-align: right;\n",
              "    }\n",
              "</style>\n",
              "<table border=\"1\" class=\"dataframe\">\n",
              "  <thead>\n",
              "    <tr style=\"text-align: right;\">\n",
              "      <th></th>\n",
              "      <th>danceability</th>\n",
              "      <th>energy</th>\n",
              "      <th>loudness</th>\n",
              "      <th>speechiness</th>\n",
              "      <th>acousticness</th>\n",
              "      <th>instrumentalness</th>\n",
              "      <th>liveness</th>\n",
              "      <th>valence</th>\n",
              "      <th>tempo</th>\n",
              "      <th>popularity</th>\n",
              "      <th>duration</th>\n",
              "    </tr>\n",
              "  </thead>\n",
              "  <tbody>\n",
              "    <tr>\n",
              "      <th>110622</th>\n",
              "      <td>0.615</td>\n",
              "      <td>0.736</td>\n",
              "      <td>-7.635</td>\n",
              "      <td>0.0604</td>\n",
              "      <td>0.015500</td>\n",
              "      <td>0.72400</td>\n",
              "      <td>0.0978</td>\n",
              "      <td>0.0772</td>\n",
              "      <td>139.999</td>\n",
              "      <td>25</td>\n",
              "      <td>398</td>\n",
              "    </tr>\n",
              "    <tr>\n",
              "      <th>103404</th>\n",
              "      <td>0.482</td>\n",
              "      <td>0.706</td>\n",
              "      <td>-5.762</td>\n",
              "      <td>0.0607</td>\n",
              "      <td>0.135000</td>\n",
              "      <td>0.00106</td>\n",
              "      <td>0.1050</td>\n",
              "      <td>0.1440</td>\n",
              "      <td>92.513</td>\n",
              "      <td>77</td>\n",
              "      <td>225</td>\n",
              "    </tr>\n",
              "    <tr>\n",
              "      <th>106801</th>\n",
              "      <td>0.795</td>\n",
              "      <td>0.595</td>\n",
              "      <td>-8.073</td>\n",
              "      <td>0.0698</td>\n",
              "      <td>0.082300</td>\n",
              "      <td>0.00000</td>\n",
              "      <td>0.1280</td>\n",
              "      <td>0.5020</td>\n",
              "      <td>91.025</td>\n",
              "      <td>54</td>\n",
              "      <td>196</td>\n",
              "    </tr>\n",
              "    <tr>\n",
              "      <th>45001</th>\n",
              "      <td>0.631</td>\n",
              "      <td>0.489</td>\n",
              "      <td>-6.966</td>\n",
              "      <td>0.1010</td>\n",
              "      <td>0.580000</td>\n",
              "      <td>0.82100</td>\n",
              "      <td>0.1200</td>\n",
              "      <td>0.4180</td>\n",
              "      <td>203.953</td>\n",
              "      <td>55</td>\n",
              "      <td>117</td>\n",
              "    </tr>\n",
              "    <tr>\n",
              "      <th>48467</th>\n",
              "      <td>0.419</td>\n",
              "      <td>0.972</td>\n",
              "      <td>-3.895</td>\n",
              "      <td>0.0838</td>\n",
              "      <td>0.000013</td>\n",
              "      <td>0.00844</td>\n",
              "      <td>0.3290</td>\n",
              "      <td>0.1900</td>\n",
              "      <td>92.487</td>\n",
              "      <td>32</td>\n",
              "      <td>215</td>\n",
              "    </tr>\n",
              "  </tbody>\n",
              "</table>\n",
              "</div>\n",
              "      <button class=\"colab-df-convert\" onclick=\"convertToInteractive('df-de6bc690-6d6e-48ef-a5be-33f2a2252aff')\"\n",
              "              title=\"Convert this dataframe to an interactive table.\"\n",
              "              style=\"display:none;\">\n",
              "        \n",
              "  <svg xmlns=\"http://www.w3.org/2000/svg\" height=\"24px\"viewBox=\"0 0 24 24\"\n",
              "       width=\"24px\">\n",
              "    <path d=\"M0 0h24v24H0V0z\" fill=\"none\"/>\n",
              "    <path d=\"M18.56 5.44l.94 2.06.94-2.06 2.06-.94-2.06-.94-.94-2.06-.94 2.06-2.06.94zm-11 1L8.5 8.5l.94-2.06 2.06-.94-2.06-.94L8.5 2.5l-.94 2.06-2.06.94zm10 10l.94 2.06.94-2.06 2.06-.94-2.06-.94-.94-2.06-.94 2.06-2.06.94z\"/><path d=\"M17.41 7.96l-1.37-1.37c-.4-.4-.92-.59-1.43-.59-.52 0-1.04.2-1.43.59L10.3 9.45l-7.72 7.72c-.78.78-.78 2.05 0 2.83L4 21.41c.39.39.9.59 1.41.59.51 0 1.02-.2 1.41-.59l7.78-7.78 2.81-2.81c.8-.78.8-2.07 0-2.86zM5.41 20L4 18.59l7.72-7.72 1.47 1.35L5.41 20z\"/>\n",
              "  </svg>\n",
              "      </button>\n",
              "      \n",
              "  <style>\n",
              "    .colab-df-container {\n",
              "      display:flex;\n",
              "      flex-wrap:wrap;\n",
              "      gap: 12px;\n",
              "    }\n",
              "\n",
              "    .colab-df-convert {\n",
              "      background-color: #E8F0FE;\n",
              "      border: none;\n",
              "      border-radius: 50%;\n",
              "      cursor: pointer;\n",
              "      display: none;\n",
              "      fill: #1967D2;\n",
              "      height: 32px;\n",
              "      padding: 0 0 0 0;\n",
              "      width: 32px;\n",
              "    }\n",
              "\n",
              "    .colab-df-convert:hover {\n",
              "      background-color: #E2EBFA;\n",
              "      box-shadow: 0px 1px 2px rgba(60, 64, 67, 0.3), 0px 1px 3px 1px rgba(60, 64, 67, 0.15);\n",
              "      fill: #174EA6;\n",
              "    }\n",
              "\n",
              "    [theme=dark] .colab-df-convert {\n",
              "      background-color: #3B4455;\n",
              "      fill: #D2E3FC;\n",
              "    }\n",
              "\n",
              "    [theme=dark] .colab-df-convert:hover {\n",
              "      background-color: #434B5C;\n",
              "      box-shadow: 0px 1px 3px 1px rgba(0, 0, 0, 0.15);\n",
              "      filter: drop-shadow(0px 1px 2px rgba(0, 0, 0, 0.3));\n",
              "      fill: #FFFFFF;\n",
              "    }\n",
              "  </style>\n",
              "\n",
              "      <script>\n",
              "        const buttonEl =\n",
              "          document.querySelector('#df-de6bc690-6d6e-48ef-a5be-33f2a2252aff button.colab-df-convert');\n",
              "        buttonEl.style.display =\n",
              "          google.colab.kernel.accessAllowed ? 'block' : 'none';\n",
              "\n",
              "        async function convertToInteractive(key) {\n",
              "          const element = document.querySelector('#df-de6bc690-6d6e-48ef-a5be-33f2a2252aff');\n",
              "          const dataTable =\n",
              "            await google.colab.kernel.invokeFunction('convertToInteractive',\n",
              "                                                     [key], {});\n",
              "          if (!dataTable) return;\n",
              "\n",
              "          const docLinkHtml = 'Like what you see? Visit the ' +\n",
              "            '<a target=\"_blank\" href=https://colab.research.google.com/notebooks/data_table.ipynb>data table notebook</a>'\n",
              "            + ' to learn more about interactive tables.';\n",
              "          element.innerHTML = '';\n",
              "          dataTable['output_type'] = 'display_data';\n",
              "          await google.colab.output.renderOutput(dataTable, element);\n",
              "          const docLink = document.createElement('div');\n",
              "          docLink.innerHTML = docLinkHtml;\n",
              "          element.appendChild(docLink);\n",
              "        }\n",
              "      </script>\n",
              "    </div>\n",
              "  </div>\n",
              "  "
            ]
          },
          "metadata": {},
          "execution_count": 181
        }
      ]
    },
    {
      "cell_type": "code",
      "source": [],
      "metadata": {
        "id": "hwCTnivZ9Iuk"
      },
      "execution_count": null,
      "outputs": []
    },
    {
      "cell_type": "code",
      "source": [
        "spotify['track_id'].value_counts()"
      ],
      "metadata": {
        "colab": {
          "base_uri": "https://localhost:8080/"
        },
        "id": "eY2-TQtbuPAj",
        "outputId": "864beb0c-1727-4573-c056-de6bbcfc08a5"
      },
      "execution_count": null,
      "outputs": [
        {
          "output_type": "execute_result",
          "data": {
            "text/plain": [
              "6S3JlDAGk3uu3NtZbPnuhS    9\n",
              "2Ey6v4Sekh3Z0RUSISRosD    8\n",
              "2kkvB3RNRzwjFdGhaUA0tz    8\n",
              "08kTa3SL9sV6Iy8KLKtGql    7\n",
              "4XYieGKSlJlHpzB3bl6WMP    7\n",
              "                         ..\n",
              "0kJ7eKX6aWl8X1W5Xrosn6    1\n",
              "4bYH5445Bn2w9UiGM0NxQw    1\n",
              "1T5C6ENvpM3IiYeezsK9uI    1\n",
              "34SatKRJgtXfL0bcgk7HMA    1\n",
              "2hETkH7cOfqmz3LqZDHZf5    1\n",
              "Name: track_id, Length: 89740, dtype: int64"
            ]
          },
          "metadata": {},
          "execution_count": 24
        }
      ]
    },
    {
      "cell_type": "code",
      "source": [
        "spotify['track_name'].value_counts()"
      ],
      "metadata": {
        "colab": {
          "base_uri": "https://localhost:8080/"
        },
        "id": "H68le5B9uSG5",
        "outputId": "9ad2e155-a3a2-41e4-88d7-02ce9e72ab38"
      },
      "execution_count": null,
      "outputs": [
        {
          "output_type": "execute_result",
          "data": {
            "text/plain": [
              "Run Rudolph Run                      151\n",
              "Halloween                             88\n",
              "Frosty The Snowman                    81\n",
              "Little Saint Nick - 1991 Remix        76\n",
              "Last Last                             75\n",
              "                                    ... \n",
              "Mitt Gullbergs kaj paradis (Live)      1\n",
              "Vill Inte Längre                       1\n",
              "Så länge du är med mig                 1\n",
              "Just Plain Bad                         1\n",
              "Barbincor                              1\n",
              "Name: track_name, Length: 73608, dtype: int64"
            ]
          },
          "metadata": {},
          "execution_count": 25
        }
      ]
    },
    {
      "cell_type": "code",
      "source": [
        "spotify['album_name'].value_counts()"
      ],
      "metadata": {
        "id": "Q8Te4LtPuTdS",
        "colab": {
          "base_uri": "https://localhost:8080/"
        },
        "outputId": "2c022a0b-8328-45ec-b1bb-4bc95c4112d5"
      },
      "execution_count": null,
      "outputs": [
        {
          "output_type": "execute_result",
          "data": {
            "text/plain": [
              "Alternative Christmas 2022     195\n",
              "Feliz Cumpleaños con Perreo    184\n",
              "Metal                          143\n",
              "Halloween con perreito         123\n",
              "Halloween Party 2022           115\n",
              "                              ... \n",
              "Me Alcançou                      1\n",
              "Comunhão e Adoração              1\n",
              "Força Pra Encarar                1\n",
              "The Way of the Fist              1\n",
              "Revelation Songs                 1\n",
              "Name: album_name, Length: 46589, dtype: int64"
            ]
          },
          "metadata": {},
          "execution_count": 26
        }
      ]
    },
    {
      "cell_type": "code",
      "source": [
        "spotify['artists'].value_counts()"
      ],
      "metadata": {
        "id": "f3XX0Bt5uUIJ",
        "colab": {
          "base_uri": "https://localhost:8080/"
        },
        "outputId": "bbf9c6c6-c9ce-4e4d-e919-b81b74c1287c"
      },
      "execution_count": null,
      "outputs": [
        {
          "output_type": "execute_result",
          "data": {
            "text/plain": [
              "The Beatles                                                                 279\n",
              "George Jones                                                                271\n",
              "Stevie Wonder                                                               236\n",
              "Linkin Park                                                                 224\n",
              "Ella Fitzgerald                                                             222\n",
              "                                                                           ... \n",
              "Automatic Tasty                                                               1\n",
              "o9                                                                            1\n",
              "Pyotr Ilyich Tchaikovsky;National Philharmonic Orchestra;Richard Bonynge      1\n",
              "tstewart;Ólafur Arnalds                                                       1\n",
              "Jesus Culture                                                                 1\n",
              "Name: artists, Length: 31437, dtype: int64"
            ]
          },
          "metadata": {},
          "execution_count": 27
        }
      ]
    },
    {
      "cell_type": "code",
      "source": [
        "spotify['track_id'].nunique()"
      ],
      "metadata": {
        "id": "MjvT35ojuWAZ",
        "colab": {
          "base_uri": "https://localhost:8080/"
        },
        "outputId": "78e91eb9-8c44-447d-ac45-059da52b3ca7"
      },
      "execution_count": null,
      "outputs": [
        {
          "output_type": "execute_result",
          "data": {
            "text/plain": [
              "89740"
            ]
          },
          "metadata": {},
          "execution_count": 28
        }
      ]
    },
    {
      "cell_type": "code",
      "source": [
        "spotify['track_name'].nunique()"
      ],
      "metadata": {
        "id": "SqRgzHjduW-S",
        "colab": {
          "base_uri": "https://localhost:8080/"
        },
        "outputId": "d1ae97d5-24f1-464d-a1c9-0608afe3b8aa"
      },
      "execution_count": null,
      "outputs": [
        {
          "output_type": "execute_result",
          "data": {
            "text/plain": [
              "73608"
            ]
          },
          "metadata": {},
          "execution_count": 29
        }
      ]
    },
    {
      "cell_type": "code",
      "source": [
        "spotify['album_name'].nunique()"
      ],
      "metadata": {
        "id": "U6Z4l_qRuX5S",
        "colab": {
          "base_uri": "https://localhost:8080/"
        },
        "outputId": "3ef57f16-90cf-4ce1-ec6f-7603f34840e1"
      },
      "execution_count": null,
      "outputs": [
        {
          "output_type": "execute_result",
          "data": {
            "text/plain": [
              "46589"
            ]
          },
          "metadata": {},
          "execution_count": 30
        }
      ]
    },
    {
      "cell_type": "code",
      "source": [
        "spotify['artists'].nunique()"
      ],
      "metadata": {
        "id": "VQoXLB7QuYOy",
        "colab": {
          "base_uri": "https://localhost:8080/"
        },
        "outputId": "3d94e198-1c48-4b98-e3c4-a17d05acf4f0"
      },
      "execution_count": null,
      "outputs": [
        {
          "output_type": "execute_result",
          "data": {
            "text/plain": [
              "31437"
            ]
          },
          "metadata": {},
          "execution_count": 31
        }
      ]
    },
    {
      "cell_type": "code",
      "source": [
        "#Percentage of explicit songs in the dataset\n",
        "\n",
        "print(spotify['explicit'].value_counts())\n",
        "print('\\nPercentage of explicit musics is:', (9747*100)/113999)"
      ],
      "metadata": {
        "id": "Ax7ew4OUuZIY",
        "colab": {
          "base_uri": "https://localhost:8080/"
        },
        "outputId": "dc2961d6-0fde-45cd-9fbe-5b25b6857e6d"
      },
      "execution_count": null,
      "outputs": [
        {
          "output_type": "stream",
          "name": "stdout",
          "text": [
            "False    104252\n",
            "True       9747\n",
            "Name: explicit, dtype: int64\n",
            "\n",
            "Percentage of explicit musics is: 8.5500750006579\n"
          ]
        }
      ]
    },
    {
      "cell_type": "code",
      "source": [
        "#Passing the milliseconds to seconds\n",
        "\n",
        "spotify.rename(columns={'duration_ms': 'duration'},\n",
        "          inplace=True, errors='raise')"
      ],
      "metadata": {
        "id": "qxLwS6aZua9u"
      },
      "execution_count": null,
      "outputs": []
    },
    {
      "cell_type": "code",
      "source": [
        "spotify['duration'] = spotify['duration'].apply(lambda time: round(time/1000))\n",
        "spotify['duration']"
      ],
      "metadata": {
        "id": "61MbeaF1uduO",
        "colab": {
          "base_uri": "https://localhost:8080/"
        },
        "outputId": "5bd370d6-7837-432d-b7c8-59848a459dbb"
      },
      "execution_count": null,
      "outputs": [
        {
          "output_type": "execute_result",
          "data": {
            "text/plain": [
              "0         231\n",
              "1         150\n",
              "2         211\n",
              "3         202\n",
              "4         199\n",
              "         ... \n",
              "113995    385\n",
              "113996    385\n",
              "113997    271\n",
              "113998    284\n",
              "113999    242\n",
              "Name: duration, Length: 113999, dtype: int64"
            ]
          },
          "metadata": {},
          "execution_count": 34
        }
      ]
    },
    {
      "cell_type": "code",
      "source": [
        "print('Mean of popularity:', spotify['popularity'].mean())\n",
        "print('Median of popularity:', spotify['popularity'].median())"
      ],
      "metadata": {
        "id": "UBgS5p5kuf4H",
        "colab": {
          "base_uri": "https://localhost:8080/"
        },
        "outputId": "c80eaac1-f2af-406d-de68-b6b96439672f"
      },
      "execution_count": null,
      "outputs": [
        {
          "output_type": "stream",
          "name": "stdout",
          "text": [
            "Mean of popularity: 33.23882665637418\n",
            "Median of popularity: 35.0\n"
          ]
        }
      ]
    },
    {
      "cell_type": "code",
      "source": [
        "print('Mean of duration:', spotify['duration'].mean())\n",
        "print('Median of duration:', spotify['duration'].median())"
      ],
      "metadata": {
        "id": "ST19oEfMugPG",
        "colab": {
          "base_uri": "https://localhost:8080/"
        },
        "outputId": "34e5ec4f-ab0d-494b-aa41-0578feea8673"
      },
      "execution_count": null,
      "outputs": [
        {
          "output_type": "stream",
          "name": "stdout",
          "text": [
            "Mean of duration: 228.0314739602979\n",
            "Median of duration: 213.0\n"
          ]
        }
      ]
    },
    {
      "cell_type": "code",
      "source": [
        "print('Mean of danceability:', spotify['danceability'].mean())\n",
        "print('Median of danceability:', spotify['danceability'].median())"
      ],
      "metadata": {
        "id": "FeBm_MCmuhJv",
        "colab": {
          "base_uri": "https://localhost:8080/"
        },
        "outputId": "18c8d974-6049-456f-d38d-2619603b09d0"
      },
      "execution_count": null,
      "outputs": [
        {
          "output_type": "stream",
          "name": "stdout",
          "text": [
            "Mean of danceability: 0.5668006429880964\n",
            "Median of danceability: 0.58\n"
          ]
        }
      ]
    },
    {
      "cell_type": "code",
      "source": [
        "print('Mean of energy:', spotify['energy'].mean())\n",
        "print('Median of energy:', spotify['energy'].median())"
      ],
      "metadata": {
        "colab": {
          "base_uri": "https://localhost:8080/"
        },
        "id": "nO0hIFDbuiKv",
        "outputId": "afdd7304-e386-4ee0-dc63-7e0455c71d86"
      },
      "execution_count": null,
      "outputs": [
        {
          "output_type": "stream",
          "name": "stdout",
          "text": [
            "Mean of energy: 0.6413832705304432\n",
            "Median of energy: 0.685\n"
          ]
        }
      ]
    },
    {
      "cell_type": "code",
      "source": [
        "spotify['track_genre'].nunique()"
      ],
      "metadata": {
        "colab": {
          "base_uri": "https://localhost:8080/"
        },
        "id": "WyCRlt89HDBG",
        "outputId": "42e9de1f-c58f-4728-f367-3aeb3d14c891"
      },
      "execution_count": null,
      "outputs": [
        {
          "output_type": "execute_result",
          "data": {
            "text/plain": [
              "114"
            ]
          },
          "metadata": {},
          "execution_count": 39
        }
      ]
    },
    {
      "cell_type": "code",
      "source": [
        "spotify['time_signature'].nunique()"
      ],
      "metadata": {
        "colab": {
          "base_uri": "https://localhost:8080/"
        },
        "id": "mSpYBVlZHbIB",
        "outputId": "d78ec5b1-2652-4e69-ea92-463b8bff8c9c"
      },
      "execution_count": null,
      "outputs": [
        {
          "output_type": "execute_result",
          "data": {
            "text/plain": [
              "5"
            ]
          },
          "metadata": {},
          "execution_count": 40
        }
      ]
    },
    {
      "cell_type": "code",
      "source": [
        "spotify['time_signature'].value_counts()"
      ],
      "metadata": {
        "colab": {
          "base_uri": "https://localhost:8080/"
        },
        "id": "EJ-b70yRHfto",
        "outputId": "5b7874e8-fc5f-489c-8844-0c1ccbea2860"
      },
      "execution_count": null,
      "outputs": [
        {
          "output_type": "execute_result",
          "data": {
            "text/plain": [
              "4    101842\n",
              "3      9195\n",
              "5      1826\n",
              "1       973\n",
              "0       163\n",
              "Name: time_signature, dtype: int64"
            ]
          },
          "metadata": {},
          "execution_count": 41
        }
      ]
    },
    {
      "cell_type": "code",
      "source": [
        "spotify['tempo'].value_counts()"
      ],
      "metadata": {
        "colab": {
          "base_uri": "https://localhost:8080/"
        },
        "id": "47FFT_tyH2Tl",
        "outputId": "70e2f68a-d599-477e-9051-a7a43b3cfe4a"
      },
      "execution_count": null,
      "outputs": [
        {
          "output_type": "execute_result",
          "data": {
            "text/plain": [
              "0.000      157\n",
              "151.925    146\n",
              "95.004      95\n",
              "87.925      76\n",
              "130.594     76\n",
              "          ... \n",
              "110.931      1\n",
              "125.227      1\n",
              "110.922      1\n",
              "106.132      1\n",
              "79.198       1\n",
              "Name: tempo, Length: 45652, dtype: int64"
            ]
          },
          "metadata": {},
          "execution_count": 42
        }
      ]
    },
    {
      "cell_type": "code",
      "source": [
        "spotify['valence'].nunique()"
      ],
      "metadata": {
        "colab": {
          "base_uri": "https://localhost:8080/"
        },
        "id": "v9pFc4ZIHkjJ",
        "outputId": "a20716f7-d1c9-4e5f-c34a-8ef3faa5dc23"
      },
      "execution_count": null,
      "outputs": [
        {
          "output_type": "execute_result",
          "data": {
            "text/plain": [
              "1790"
            ]
          },
          "metadata": {},
          "execution_count": 43
        }
      ]
    },
    {
      "cell_type": "code",
      "source": [
        "spotify['liveness'].nunique()"
      ],
      "metadata": {
        "colab": {
          "base_uri": "https://localhost:8080/"
        },
        "id": "rv2fjz7fHycT",
        "outputId": "9d68b95f-8cc0-41fa-fd3e-9ccdd070c4a2"
      },
      "execution_count": null,
      "outputs": [
        {
          "output_type": "execute_result",
          "data": {
            "text/plain": [
              "1722"
            ]
          },
          "metadata": {},
          "execution_count": 44
        }
      ]
    },
    {
      "cell_type": "code",
      "source": [
        "spotify['liveness'].value_counts()"
      ],
      "metadata": {
        "colab": {
          "base_uri": "https://localhost:8080/"
        },
        "id": "vC0iGxs6IJaa",
        "outputId": "f753c5db-0a0b-4b8a-b60b-830c57d45c98"
      },
      "execution_count": null,
      "outputs": [
        {
          "output_type": "execute_result",
          "data": {
            "text/plain": [
              "0.1080    1353\n",
              "0.1110    1318\n",
              "0.1090    1198\n",
              "0.1100    1179\n",
              "0.1050    1114\n",
              "          ... \n",
              "0.0205       1\n",
              "0.0301       1\n",
              "0.0145       1\n",
              "0.0225       1\n",
              "0.0118       1\n",
              "Name: liveness, Length: 1722, dtype: int64"
            ]
          },
          "metadata": {},
          "execution_count": 45
        }
      ]
    },
    {
      "cell_type": "code",
      "source": [
        "spotify['instrumentalness'].nunique()"
      ],
      "metadata": {
        "colab": {
          "base_uri": "https://localhost:8080/"
        },
        "id": "EgWMLKEzIQre",
        "outputId": "fae03460-7623-4cff-f77a-3ad72bfb35c5"
      },
      "execution_count": null,
      "outputs": [
        {
          "output_type": "execute_result",
          "data": {
            "text/plain": [
              "5346"
            ]
          },
          "metadata": {},
          "execution_count": 46
        }
      ]
    },
    {
      "cell_type": "code",
      "source": [
        "spotify['acousticness'].nunique()"
      ],
      "metadata": {
        "colab": {
          "base_uri": "https://localhost:8080/"
        },
        "id": "cSWv-IC2IXg3",
        "outputId": "c2b73bd0-3dba-45b2-e9be-3979cca764d5"
      },
      "execution_count": null,
      "outputs": [
        {
          "output_type": "execute_result",
          "data": {
            "text/plain": [
              "5061"
            ]
          },
          "metadata": {},
          "execution_count": 59
        }
      ]
    },
    {
      "cell_type": "code",
      "source": [
        "\n",
        "spotify['speechiness'].nunique()"
      ],
      "metadata": {
        "colab": {
          "base_uri": "https://localhost:8080/"
        },
        "id": "KHQxT5P4IgwS",
        "outputId": "b8a0dbd1-6e0a-4469-bdd0-7f3522d2acac"
      },
      "execution_count": null,
      "outputs": [
        {
          "output_type": "execute_result",
          "data": {
            "text/plain": [
              "1489"
            ]
          },
          "metadata": {},
          "execution_count": 60
        }
      ]
    },
    {
      "cell_type": "code",
      "source": [
        "spotify['speechiness'].value_counts()"
      ],
      "metadata": {
        "colab": {
          "base_uri": "https://localhost:8080/"
        },
        "id": "_w4gsLpkIrhF",
        "outputId": "9a5376f3-e6fe-4038-e603-cb2780e9cfc9"
      },
      "execution_count": null,
      "outputs": [
        {
          "output_type": "execute_result",
          "data": {
            "text/plain": [
              "0.0323    400\n",
              "0.0324    376\n",
              "0.0322    373\n",
              "0.0328    363\n",
              "0.0295    358\n",
              "         ... \n",
              "0.8150      1\n",
              "0.6730      1\n",
              "0.8030      1\n",
              "0.7750      1\n",
              "0.0229      1\n",
              "Name: speechiness, Length: 1489, dtype: int64"
            ]
          },
          "metadata": {},
          "execution_count": 61
        }
      ]
    },
    {
      "cell_type": "code",
      "source": [
        "spotify['loudness'].nunique()"
      ],
      "metadata": {
        "id": "Nwg32JhgJn_S",
        "colab": {
          "base_uri": "https://localhost:8080/"
        },
        "outputId": "67e0c48b-e3c2-4d54-d1ba-960dced33c3f"
      },
      "execution_count": null,
      "outputs": [
        {
          "output_type": "execute_result",
          "data": {
            "text/plain": [
              "19480"
            ]
          },
          "metadata": {},
          "execution_count": 64
        }
      ]
    },
    {
      "cell_type": "code",
      "source": [
        "spotify.corr()"
      ],
      "metadata": {
        "id": "8-vZ9j9UJzg7",
        "colab": {
          "base_uri": "https://localhost:8080/",
          "height": 457
        },
        "outputId": "d853080f-d91d-405a-a26e-96eb8a44d9b6"
      },
      "execution_count": null,
      "outputs": [
        {
          "output_type": "execute_result",
          "data": {
            "text/plain": [
              "                  popularity  duration  explicit  danceability    energy  \\\n",
              "popularity          1.000000 -0.007129  0.044078      0.035444  0.001053   \n",
              "duration           -0.007129  1.000000 -0.065284     -0.073432  0.058518   \n",
              "explicit            0.044078 -0.065284  1.000000      0.122506  0.096954   \n",
              "danceability        0.035444 -0.073432  0.122506      1.000000  0.134325   \n",
              "energy              0.001053  0.058518  0.096954      0.134325  1.000000   \n",
              "loudness            0.050420 -0.003469  0.108587      0.259076  0.761690   \n",
              "speechiness        -0.044930 -0.062617  0.307951      0.108625  0.142508   \n",
              "acousticness       -0.025458 -0.103767 -0.094400     -0.171531 -0.733908   \n",
              "instrumentalness   -0.095147  0.124358 -0.103405     -0.185608 -0.181880   \n",
              "liveness           -0.005397  0.010305  0.032547     -0.131620  0.184795   \n",
              "valence            -0.040522 -0.154454 -0.003378      0.477347  0.258937   \n",
              "tempo               0.013212  0.024372 -0.002815     -0.050448  0.247852   \n",
              "time_signature      0.031076  0.018234  0.038387      0.207219  0.187127   \n",
              "\n",
              "                  loudness  speechiness  acousticness  instrumentalness  \\\n",
              "popularity        0.050420    -0.044930     -0.025458         -0.095147   \n",
              "duration         -0.003469    -0.062617     -0.103767          0.124358   \n",
              "explicit          0.108587     0.307951     -0.094400         -0.103405   \n",
              "danceability      0.259076     0.108625     -0.171531         -0.185608   \n",
              "energy            0.761690     0.142508     -0.733908         -0.181880   \n",
              "loudness          1.000000     0.060826     -0.589804         -0.433478   \n",
              "speechiness       0.060826     1.000000     -0.002184         -0.089617   \n",
              "acousticness     -0.589804    -0.002184      1.000000          0.104033   \n",
              "instrumentalness -0.433478    -0.089617      0.104033          1.000000   \n",
              "liveness          0.076897     0.205218     -0.020693         -0.079896   \n",
              "valence           0.279851     0.036637     -0.107081         -0.324310   \n",
              "tempo             0.212447     0.017274     -0.208231         -0.050328   \n",
              "time_signature    0.191992    -0.000011     -0.176142         -0.082580   \n",
              "\n",
              "                  liveness   valence     tempo  time_signature  \n",
              "popularity       -0.005397 -0.040522  0.013212        0.031076  \n",
              "duration          0.010305 -0.154454  0.024372        0.018234  \n",
              "explicit          0.032547 -0.003378 -0.002815        0.038387  \n",
              "danceability     -0.131620  0.477347 -0.050448        0.207219  \n",
              "energy            0.184795  0.258937  0.247852        0.187127  \n",
              "loudness          0.076897  0.279851  0.212447        0.191992  \n",
              "speechiness       0.205218  0.036637  0.017274       -0.000011  \n",
              "acousticness     -0.020693 -0.107081 -0.208231       -0.176142  \n",
              "instrumentalness -0.079896 -0.324310 -0.050328       -0.082580  \n",
              "liveness          1.000000  0.019093  0.000603       -0.023649  \n",
              "valence           0.019093  1.000000  0.078269        0.133685  \n",
              "tempo             0.000603  0.078269  1.000000        0.066640  \n",
              "time_signature   -0.023649  0.133685  0.066640        1.000000  "
            ],
            "text/html": [
              "\n",
              "  <div id=\"df-740f5f57-0d16-423b-8e47-182c7565ba24\">\n",
              "    <div class=\"colab-df-container\">\n",
              "      <div>\n",
              "<style scoped>\n",
              "    .dataframe tbody tr th:only-of-type {\n",
              "        vertical-align: middle;\n",
              "    }\n",
              "\n",
              "    .dataframe tbody tr th {\n",
              "        vertical-align: top;\n",
              "    }\n",
              "\n",
              "    .dataframe thead th {\n",
              "        text-align: right;\n",
              "    }\n",
              "</style>\n",
              "<table border=\"1\" class=\"dataframe\">\n",
              "  <thead>\n",
              "    <tr style=\"text-align: right;\">\n",
              "      <th></th>\n",
              "      <th>popularity</th>\n",
              "      <th>duration</th>\n",
              "      <th>explicit</th>\n",
              "      <th>danceability</th>\n",
              "      <th>energy</th>\n",
              "      <th>loudness</th>\n",
              "      <th>speechiness</th>\n",
              "      <th>acousticness</th>\n",
              "      <th>instrumentalness</th>\n",
              "      <th>liveness</th>\n",
              "      <th>valence</th>\n",
              "      <th>tempo</th>\n",
              "      <th>time_signature</th>\n",
              "    </tr>\n",
              "  </thead>\n",
              "  <tbody>\n",
              "    <tr>\n",
              "      <th>popularity</th>\n",
              "      <td>1.000000</td>\n",
              "      <td>-0.007129</td>\n",
              "      <td>0.044078</td>\n",
              "      <td>0.035444</td>\n",
              "      <td>0.001053</td>\n",
              "      <td>0.050420</td>\n",
              "      <td>-0.044930</td>\n",
              "      <td>-0.025458</td>\n",
              "      <td>-0.095147</td>\n",
              "      <td>-0.005397</td>\n",
              "      <td>-0.040522</td>\n",
              "      <td>0.013212</td>\n",
              "      <td>0.031076</td>\n",
              "    </tr>\n",
              "    <tr>\n",
              "      <th>duration</th>\n",
              "      <td>-0.007129</td>\n",
              "      <td>1.000000</td>\n",
              "      <td>-0.065284</td>\n",
              "      <td>-0.073432</td>\n",
              "      <td>0.058518</td>\n",
              "      <td>-0.003469</td>\n",
              "      <td>-0.062617</td>\n",
              "      <td>-0.103767</td>\n",
              "      <td>0.124358</td>\n",
              "      <td>0.010305</td>\n",
              "      <td>-0.154454</td>\n",
              "      <td>0.024372</td>\n",
              "      <td>0.018234</td>\n",
              "    </tr>\n",
              "    <tr>\n",
              "      <th>explicit</th>\n",
              "      <td>0.044078</td>\n",
              "      <td>-0.065284</td>\n",
              "      <td>1.000000</td>\n",
              "      <td>0.122506</td>\n",
              "      <td>0.096954</td>\n",
              "      <td>0.108587</td>\n",
              "      <td>0.307951</td>\n",
              "      <td>-0.094400</td>\n",
              "      <td>-0.103405</td>\n",
              "      <td>0.032547</td>\n",
              "      <td>-0.003378</td>\n",
              "      <td>-0.002815</td>\n",
              "      <td>0.038387</td>\n",
              "    </tr>\n",
              "    <tr>\n",
              "      <th>danceability</th>\n",
              "      <td>0.035444</td>\n",
              "      <td>-0.073432</td>\n",
              "      <td>0.122506</td>\n",
              "      <td>1.000000</td>\n",
              "      <td>0.134325</td>\n",
              "      <td>0.259076</td>\n",
              "      <td>0.108625</td>\n",
              "      <td>-0.171531</td>\n",
              "      <td>-0.185608</td>\n",
              "      <td>-0.131620</td>\n",
              "      <td>0.477347</td>\n",
              "      <td>-0.050448</td>\n",
              "      <td>0.207219</td>\n",
              "    </tr>\n",
              "    <tr>\n",
              "      <th>energy</th>\n",
              "      <td>0.001053</td>\n",
              "      <td>0.058518</td>\n",
              "      <td>0.096954</td>\n",
              "      <td>0.134325</td>\n",
              "      <td>1.000000</td>\n",
              "      <td>0.761690</td>\n",
              "      <td>0.142508</td>\n",
              "      <td>-0.733908</td>\n",
              "      <td>-0.181880</td>\n",
              "      <td>0.184795</td>\n",
              "      <td>0.258937</td>\n",
              "      <td>0.247852</td>\n",
              "      <td>0.187127</td>\n",
              "    </tr>\n",
              "    <tr>\n",
              "      <th>loudness</th>\n",
              "      <td>0.050420</td>\n",
              "      <td>-0.003469</td>\n",
              "      <td>0.108587</td>\n",
              "      <td>0.259076</td>\n",
              "      <td>0.761690</td>\n",
              "      <td>1.000000</td>\n",
              "      <td>0.060826</td>\n",
              "      <td>-0.589804</td>\n",
              "      <td>-0.433478</td>\n",
              "      <td>0.076897</td>\n",
              "      <td>0.279851</td>\n",
              "      <td>0.212447</td>\n",
              "      <td>0.191992</td>\n",
              "    </tr>\n",
              "    <tr>\n",
              "      <th>speechiness</th>\n",
              "      <td>-0.044930</td>\n",
              "      <td>-0.062617</td>\n",
              "      <td>0.307951</td>\n",
              "      <td>0.108625</td>\n",
              "      <td>0.142508</td>\n",
              "      <td>0.060826</td>\n",
              "      <td>1.000000</td>\n",
              "      <td>-0.002184</td>\n",
              "      <td>-0.089617</td>\n",
              "      <td>0.205218</td>\n",
              "      <td>0.036637</td>\n",
              "      <td>0.017274</td>\n",
              "      <td>-0.000011</td>\n",
              "    </tr>\n",
              "    <tr>\n",
              "      <th>acousticness</th>\n",
              "      <td>-0.025458</td>\n",
              "      <td>-0.103767</td>\n",
              "      <td>-0.094400</td>\n",
              "      <td>-0.171531</td>\n",
              "      <td>-0.733908</td>\n",
              "      <td>-0.589804</td>\n",
              "      <td>-0.002184</td>\n",
              "      <td>1.000000</td>\n",
              "      <td>0.104033</td>\n",
              "      <td>-0.020693</td>\n",
              "      <td>-0.107081</td>\n",
              "      <td>-0.208231</td>\n",
              "      <td>-0.176142</td>\n",
              "    </tr>\n",
              "    <tr>\n",
              "      <th>instrumentalness</th>\n",
              "      <td>-0.095147</td>\n",
              "      <td>0.124358</td>\n",
              "      <td>-0.103405</td>\n",
              "      <td>-0.185608</td>\n",
              "      <td>-0.181880</td>\n",
              "      <td>-0.433478</td>\n",
              "      <td>-0.089617</td>\n",
              "      <td>0.104033</td>\n",
              "      <td>1.000000</td>\n",
              "      <td>-0.079896</td>\n",
              "      <td>-0.324310</td>\n",
              "      <td>-0.050328</td>\n",
              "      <td>-0.082580</td>\n",
              "    </tr>\n",
              "    <tr>\n",
              "      <th>liveness</th>\n",
              "      <td>-0.005397</td>\n",
              "      <td>0.010305</td>\n",
              "      <td>0.032547</td>\n",
              "      <td>-0.131620</td>\n",
              "      <td>0.184795</td>\n",
              "      <td>0.076897</td>\n",
              "      <td>0.205218</td>\n",
              "      <td>-0.020693</td>\n",
              "      <td>-0.079896</td>\n",
              "      <td>1.000000</td>\n",
              "      <td>0.019093</td>\n",
              "      <td>0.000603</td>\n",
              "      <td>-0.023649</td>\n",
              "    </tr>\n",
              "    <tr>\n",
              "      <th>valence</th>\n",
              "      <td>-0.040522</td>\n",
              "      <td>-0.154454</td>\n",
              "      <td>-0.003378</td>\n",
              "      <td>0.477347</td>\n",
              "      <td>0.258937</td>\n",
              "      <td>0.279851</td>\n",
              "      <td>0.036637</td>\n",
              "      <td>-0.107081</td>\n",
              "      <td>-0.324310</td>\n",
              "      <td>0.019093</td>\n",
              "      <td>1.000000</td>\n",
              "      <td>0.078269</td>\n",
              "      <td>0.133685</td>\n",
              "    </tr>\n",
              "    <tr>\n",
              "      <th>tempo</th>\n",
              "      <td>0.013212</td>\n",
              "      <td>0.024372</td>\n",
              "      <td>-0.002815</td>\n",
              "      <td>-0.050448</td>\n",
              "      <td>0.247852</td>\n",
              "      <td>0.212447</td>\n",
              "      <td>0.017274</td>\n",
              "      <td>-0.208231</td>\n",
              "      <td>-0.050328</td>\n",
              "      <td>0.000603</td>\n",
              "      <td>0.078269</td>\n",
              "      <td>1.000000</td>\n",
              "      <td>0.066640</td>\n",
              "    </tr>\n",
              "    <tr>\n",
              "      <th>time_signature</th>\n",
              "      <td>0.031076</td>\n",
              "      <td>0.018234</td>\n",
              "      <td>0.038387</td>\n",
              "      <td>0.207219</td>\n",
              "      <td>0.187127</td>\n",
              "      <td>0.191992</td>\n",
              "      <td>-0.000011</td>\n",
              "      <td>-0.176142</td>\n",
              "      <td>-0.082580</td>\n",
              "      <td>-0.023649</td>\n",
              "      <td>0.133685</td>\n",
              "      <td>0.066640</td>\n",
              "      <td>1.000000</td>\n",
              "    </tr>\n",
              "  </tbody>\n",
              "</table>\n",
              "</div>\n",
              "      <button class=\"colab-df-convert\" onclick=\"convertToInteractive('df-740f5f57-0d16-423b-8e47-182c7565ba24')\"\n",
              "              title=\"Convert this dataframe to an interactive table.\"\n",
              "              style=\"display:none;\">\n",
              "        \n",
              "  <svg xmlns=\"http://www.w3.org/2000/svg\" height=\"24px\"viewBox=\"0 0 24 24\"\n",
              "       width=\"24px\">\n",
              "    <path d=\"M0 0h24v24H0V0z\" fill=\"none\"/>\n",
              "    <path d=\"M18.56 5.44l.94 2.06.94-2.06 2.06-.94-2.06-.94-.94-2.06-.94 2.06-2.06.94zm-11 1L8.5 8.5l.94-2.06 2.06-.94-2.06-.94L8.5 2.5l-.94 2.06-2.06.94zm10 10l.94 2.06.94-2.06 2.06-.94-2.06-.94-.94-2.06-.94 2.06-2.06.94z\"/><path d=\"M17.41 7.96l-1.37-1.37c-.4-.4-.92-.59-1.43-.59-.52 0-1.04.2-1.43.59L10.3 9.45l-7.72 7.72c-.78.78-.78 2.05 0 2.83L4 21.41c.39.39.9.59 1.41.59.51 0 1.02-.2 1.41-.59l7.78-7.78 2.81-2.81c.8-.78.8-2.07 0-2.86zM5.41 20L4 18.59l7.72-7.72 1.47 1.35L5.41 20z\"/>\n",
              "  </svg>\n",
              "      </button>\n",
              "      \n",
              "  <style>\n",
              "    .colab-df-container {\n",
              "      display:flex;\n",
              "      flex-wrap:wrap;\n",
              "      gap: 12px;\n",
              "    }\n",
              "\n",
              "    .colab-df-convert {\n",
              "      background-color: #E8F0FE;\n",
              "      border: none;\n",
              "      border-radius: 50%;\n",
              "      cursor: pointer;\n",
              "      display: none;\n",
              "      fill: #1967D2;\n",
              "      height: 32px;\n",
              "      padding: 0 0 0 0;\n",
              "      width: 32px;\n",
              "    }\n",
              "\n",
              "    .colab-df-convert:hover {\n",
              "      background-color: #E2EBFA;\n",
              "      box-shadow: 0px 1px 2px rgba(60, 64, 67, 0.3), 0px 1px 3px 1px rgba(60, 64, 67, 0.15);\n",
              "      fill: #174EA6;\n",
              "    }\n",
              "\n",
              "    [theme=dark] .colab-df-convert {\n",
              "      background-color: #3B4455;\n",
              "      fill: #D2E3FC;\n",
              "    }\n",
              "\n",
              "    [theme=dark] .colab-df-convert:hover {\n",
              "      background-color: #434B5C;\n",
              "      box-shadow: 0px 1px 3px 1px rgba(0, 0, 0, 0.15);\n",
              "      filter: drop-shadow(0px 1px 2px rgba(0, 0, 0, 0.3));\n",
              "      fill: #FFFFFF;\n",
              "    }\n",
              "  </style>\n",
              "\n",
              "      <script>\n",
              "        const buttonEl =\n",
              "          document.querySelector('#df-740f5f57-0d16-423b-8e47-182c7565ba24 button.colab-df-convert');\n",
              "        buttonEl.style.display =\n",
              "          google.colab.kernel.accessAllowed ? 'block' : 'none';\n",
              "\n",
              "        async function convertToInteractive(key) {\n",
              "          const element = document.querySelector('#df-740f5f57-0d16-423b-8e47-182c7565ba24');\n",
              "          const dataTable =\n",
              "            await google.colab.kernel.invokeFunction('convertToInteractive',\n",
              "                                                     [key], {});\n",
              "          if (!dataTable) return;\n",
              "\n",
              "          const docLinkHtml = 'Like what you see? Visit the ' +\n",
              "            '<a target=\"_blank\" href=https://colab.research.google.com/notebooks/data_table.ipynb>data table notebook</a>'\n",
              "            + ' to learn more about interactive tables.';\n",
              "          element.innerHTML = '';\n",
              "          dataTable['output_type'] = 'display_data';\n",
              "          await google.colab.output.renderOutput(dataTable, element);\n",
              "          const docLink = document.createElement('div');\n",
              "          docLink.innerHTML = docLinkHtml;\n",
              "          element.appendChild(docLink);\n",
              "        }\n",
              "      </script>\n",
              "    </div>\n",
              "  </div>\n",
              "  "
            ]
          },
          "metadata": {},
          "execution_count": 65
        }
      ]
    },
    {
      "cell_type": "code",
      "source": [
        "list(spotify.columns)"
      ],
      "metadata": {
        "id": "OU8YvtKlKWJ0",
        "colab": {
          "base_uri": "https://localhost:8080/"
        },
        "outputId": "9b5a4dbf-d223-4323-fc93-33736aed9132"
      },
      "execution_count": null,
      "outputs": [
        {
          "output_type": "execute_result",
          "data": {
            "text/plain": [
              "['track_id',\n",
              " 'artists',\n",
              " 'album_name',\n",
              " 'track_name',\n",
              " 'popularity',\n",
              " 'duration',\n",
              " 'explicit',\n",
              " 'danceability',\n",
              " 'energy',\n",
              " 'loudness',\n",
              " 'speechiness',\n",
              " 'acousticness',\n",
              " 'instrumentalness',\n",
              " 'liveness',\n",
              " 'valence',\n",
              " 'tempo',\n",
              " 'time_signature',\n",
              " 'track_genre']"
            ]
          },
          "metadata": {},
          "execution_count": 66
        }
      ]
    },
    {
      "cell_type": "code",
      "source": [
        "spotify.describe()"
      ],
      "metadata": {
        "id": "FG5QKaNjJ71F",
        "colab": {
          "base_uri": "https://localhost:8080/",
          "height": 300
        },
        "outputId": "59c2f94e-c1cf-4cae-ee77-811ceca60fd8"
      },
      "execution_count": null,
      "outputs": [
        {
          "output_type": "execute_result",
          "data": {
            "text/plain": [
              "          popularity       duration   danceability         energy  \\\n",
              "count  113999.000000  113999.000000  113999.000000  113999.000000   \n",
              "mean       33.238827     228.031474       0.566801       0.641383   \n",
              "std        22.304959     107.296121       0.173543       0.251530   \n",
              "min         0.000000       9.000000       0.000000       0.000000   \n",
              "25%        17.000000     174.000000       0.456000       0.472000   \n",
              "50%        35.000000     213.000000       0.580000       0.685000   \n",
              "75%        50.000000     262.000000       0.695000       0.854000   \n",
              "max       100.000000    5237.000000       0.985000       1.000000   \n",
              "\n",
              "            loudness    speechiness   acousticness  instrumentalness  \\\n",
              "count  113999.000000  113999.000000  113999.000000     113999.000000   \n",
              "mean       -8.258950       0.084652       0.314907          0.156051   \n",
              "std         5.029357       0.105733       0.332522          0.309556   \n",
              "min       -49.531000       0.000000       0.000000          0.000000   \n",
              "25%       -10.013000       0.035900       0.016900          0.000000   \n",
              "50%        -7.004000       0.048900       0.169000          0.000042   \n",
              "75%        -5.003000       0.084500       0.597500          0.049000   \n",
              "max         4.532000       0.965000       0.996000          1.000000   \n",
              "\n",
              "            liveness        valence          tempo  time_signature  \n",
              "count  113999.000000  113999.000000  113999.000000   113999.000000  \n",
              "mean        0.213554       0.474066     122.147695        3.904034  \n",
              "std         0.190378       0.259261      29.978290        0.432623  \n",
              "min         0.000000       0.000000       0.000000        0.000000  \n",
              "25%         0.098000       0.260000      99.218500        4.000000  \n",
              "50%         0.132000       0.464000     122.017000        4.000000  \n",
              "75%         0.273000       0.683000     140.071000        4.000000  \n",
              "max         1.000000       0.995000     243.372000        5.000000  "
            ],
            "text/html": [
              "\n",
              "  <div id=\"df-14c906c6-306a-480f-91fa-da85e9f27b83\">\n",
              "    <div class=\"colab-df-container\">\n",
              "      <div>\n",
              "<style scoped>\n",
              "    .dataframe tbody tr th:only-of-type {\n",
              "        vertical-align: middle;\n",
              "    }\n",
              "\n",
              "    .dataframe tbody tr th {\n",
              "        vertical-align: top;\n",
              "    }\n",
              "\n",
              "    .dataframe thead th {\n",
              "        text-align: right;\n",
              "    }\n",
              "</style>\n",
              "<table border=\"1\" class=\"dataframe\">\n",
              "  <thead>\n",
              "    <tr style=\"text-align: right;\">\n",
              "      <th></th>\n",
              "      <th>popularity</th>\n",
              "      <th>duration</th>\n",
              "      <th>danceability</th>\n",
              "      <th>energy</th>\n",
              "      <th>loudness</th>\n",
              "      <th>speechiness</th>\n",
              "      <th>acousticness</th>\n",
              "      <th>instrumentalness</th>\n",
              "      <th>liveness</th>\n",
              "      <th>valence</th>\n",
              "      <th>tempo</th>\n",
              "      <th>time_signature</th>\n",
              "    </tr>\n",
              "  </thead>\n",
              "  <tbody>\n",
              "    <tr>\n",
              "      <th>count</th>\n",
              "      <td>113999.000000</td>\n",
              "      <td>113999.000000</td>\n",
              "      <td>113999.000000</td>\n",
              "      <td>113999.000000</td>\n",
              "      <td>113999.000000</td>\n",
              "      <td>113999.000000</td>\n",
              "      <td>113999.000000</td>\n",
              "      <td>113999.000000</td>\n",
              "      <td>113999.000000</td>\n",
              "      <td>113999.000000</td>\n",
              "      <td>113999.000000</td>\n",
              "      <td>113999.000000</td>\n",
              "    </tr>\n",
              "    <tr>\n",
              "      <th>mean</th>\n",
              "      <td>33.238827</td>\n",
              "      <td>228.031474</td>\n",
              "      <td>0.566801</td>\n",
              "      <td>0.641383</td>\n",
              "      <td>-8.258950</td>\n",
              "      <td>0.084652</td>\n",
              "      <td>0.314907</td>\n",
              "      <td>0.156051</td>\n",
              "      <td>0.213554</td>\n",
              "      <td>0.474066</td>\n",
              "      <td>122.147695</td>\n",
              "      <td>3.904034</td>\n",
              "    </tr>\n",
              "    <tr>\n",
              "      <th>std</th>\n",
              "      <td>22.304959</td>\n",
              "      <td>107.296121</td>\n",
              "      <td>0.173543</td>\n",
              "      <td>0.251530</td>\n",
              "      <td>5.029357</td>\n",
              "      <td>0.105733</td>\n",
              "      <td>0.332522</td>\n",
              "      <td>0.309556</td>\n",
              "      <td>0.190378</td>\n",
              "      <td>0.259261</td>\n",
              "      <td>29.978290</td>\n",
              "      <td>0.432623</td>\n",
              "    </tr>\n",
              "    <tr>\n",
              "      <th>min</th>\n",
              "      <td>0.000000</td>\n",
              "      <td>9.000000</td>\n",
              "      <td>0.000000</td>\n",
              "      <td>0.000000</td>\n",
              "      <td>-49.531000</td>\n",
              "      <td>0.000000</td>\n",
              "      <td>0.000000</td>\n",
              "      <td>0.000000</td>\n",
              "      <td>0.000000</td>\n",
              "      <td>0.000000</td>\n",
              "      <td>0.000000</td>\n",
              "      <td>0.000000</td>\n",
              "    </tr>\n",
              "    <tr>\n",
              "      <th>25%</th>\n",
              "      <td>17.000000</td>\n",
              "      <td>174.000000</td>\n",
              "      <td>0.456000</td>\n",
              "      <td>0.472000</td>\n",
              "      <td>-10.013000</td>\n",
              "      <td>0.035900</td>\n",
              "      <td>0.016900</td>\n",
              "      <td>0.000000</td>\n",
              "      <td>0.098000</td>\n",
              "      <td>0.260000</td>\n",
              "      <td>99.218500</td>\n",
              "      <td>4.000000</td>\n",
              "    </tr>\n",
              "    <tr>\n",
              "      <th>50%</th>\n",
              "      <td>35.000000</td>\n",
              "      <td>213.000000</td>\n",
              "      <td>0.580000</td>\n",
              "      <td>0.685000</td>\n",
              "      <td>-7.004000</td>\n",
              "      <td>0.048900</td>\n",
              "      <td>0.169000</td>\n",
              "      <td>0.000042</td>\n",
              "      <td>0.132000</td>\n",
              "      <td>0.464000</td>\n",
              "      <td>122.017000</td>\n",
              "      <td>4.000000</td>\n",
              "    </tr>\n",
              "    <tr>\n",
              "      <th>75%</th>\n",
              "      <td>50.000000</td>\n",
              "      <td>262.000000</td>\n",
              "      <td>0.695000</td>\n",
              "      <td>0.854000</td>\n",
              "      <td>-5.003000</td>\n",
              "      <td>0.084500</td>\n",
              "      <td>0.597500</td>\n",
              "      <td>0.049000</td>\n",
              "      <td>0.273000</td>\n",
              "      <td>0.683000</td>\n",
              "      <td>140.071000</td>\n",
              "      <td>4.000000</td>\n",
              "    </tr>\n",
              "    <tr>\n",
              "      <th>max</th>\n",
              "      <td>100.000000</td>\n",
              "      <td>5237.000000</td>\n",
              "      <td>0.985000</td>\n",
              "      <td>1.000000</td>\n",
              "      <td>4.532000</td>\n",
              "      <td>0.965000</td>\n",
              "      <td>0.996000</td>\n",
              "      <td>1.000000</td>\n",
              "      <td>1.000000</td>\n",
              "      <td>0.995000</td>\n",
              "      <td>243.372000</td>\n",
              "      <td>5.000000</td>\n",
              "    </tr>\n",
              "  </tbody>\n",
              "</table>\n",
              "</div>\n",
              "      <button class=\"colab-df-convert\" onclick=\"convertToInteractive('df-14c906c6-306a-480f-91fa-da85e9f27b83')\"\n",
              "              title=\"Convert this dataframe to an interactive table.\"\n",
              "              style=\"display:none;\">\n",
              "        \n",
              "  <svg xmlns=\"http://www.w3.org/2000/svg\" height=\"24px\"viewBox=\"0 0 24 24\"\n",
              "       width=\"24px\">\n",
              "    <path d=\"M0 0h24v24H0V0z\" fill=\"none\"/>\n",
              "    <path d=\"M18.56 5.44l.94 2.06.94-2.06 2.06-.94-2.06-.94-.94-2.06-.94 2.06-2.06.94zm-11 1L8.5 8.5l.94-2.06 2.06-.94-2.06-.94L8.5 2.5l-.94 2.06-2.06.94zm10 10l.94 2.06.94-2.06 2.06-.94-2.06-.94-.94-2.06-.94 2.06-2.06.94z\"/><path d=\"M17.41 7.96l-1.37-1.37c-.4-.4-.92-.59-1.43-.59-.52 0-1.04.2-1.43.59L10.3 9.45l-7.72 7.72c-.78.78-.78 2.05 0 2.83L4 21.41c.39.39.9.59 1.41.59.51 0 1.02-.2 1.41-.59l7.78-7.78 2.81-2.81c.8-.78.8-2.07 0-2.86zM5.41 20L4 18.59l7.72-7.72 1.47 1.35L5.41 20z\"/>\n",
              "  </svg>\n",
              "      </button>\n",
              "      \n",
              "  <style>\n",
              "    .colab-df-container {\n",
              "      display:flex;\n",
              "      flex-wrap:wrap;\n",
              "      gap: 12px;\n",
              "    }\n",
              "\n",
              "    .colab-df-convert {\n",
              "      background-color: #E8F0FE;\n",
              "      border: none;\n",
              "      border-radius: 50%;\n",
              "      cursor: pointer;\n",
              "      display: none;\n",
              "      fill: #1967D2;\n",
              "      height: 32px;\n",
              "      padding: 0 0 0 0;\n",
              "      width: 32px;\n",
              "    }\n",
              "\n",
              "    .colab-df-convert:hover {\n",
              "      background-color: #E2EBFA;\n",
              "      box-shadow: 0px 1px 2px rgba(60, 64, 67, 0.3), 0px 1px 3px 1px rgba(60, 64, 67, 0.15);\n",
              "      fill: #174EA6;\n",
              "    }\n",
              "\n",
              "    [theme=dark] .colab-df-convert {\n",
              "      background-color: #3B4455;\n",
              "      fill: #D2E3FC;\n",
              "    }\n",
              "\n",
              "    [theme=dark] .colab-df-convert:hover {\n",
              "      background-color: #434B5C;\n",
              "      box-shadow: 0px 1px 3px 1px rgba(0, 0, 0, 0.15);\n",
              "      filter: drop-shadow(0px 1px 2px rgba(0, 0, 0, 0.3));\n",
              "      fill: #FFFFFF;\n",
              "    }\n",
              "  </style>\n",
              "\n",
              "      <script>\n",
              "        const buttonEl =\n",
              "          document.querySelector('#df-14c906c6-306a-480f-91fa-da85e9f27b83 button.colab-df-convert');\n",
              "        buttonEl.style.display =\n",
              "          google.colab.kernel.accessAllowed ? 'block' : 'none';\n",
              "\n",
              "        async function convertToInteractive(key) {\n",
              "          const element = document.querySelector('#df-14c906c6-306a-480f-91fa-da85e9f27b83');\n",
              "          const dataTable =\n",
              "            await google.colab.kernel.invokeFunction('convertToInteractive',\n",
              "                                                     [key], {});\n",
              "          if (!dataTable) return;\n",
              "\n",
              "          const docLinkHtml = 'Like what you see? Visit the ' +\n",
              "            '<a target=\"_blank\" href=https://colab.research.google.com/notebooks/data_table.ipynb>data table notebook</a>'\n",
              "            + ' to learn more about interactive tables.';\n",
              "          element.innerHTML = '';\n",
              "          dataTable['output_type'] = 'display_data';\n",
              "          await google.colab.output.renderOutput(dataTable, element);\n",
              "          const docLink = document.createElement('div');\n",
              "          docLink.innerHTML = docLinkHtml;\n",
              "          element.appendChild(docLink);\n",
              "        }\n",
              "      </script>\n",
              "    </div>\n",
              "  </div>\n",
              "  "
            ]
          },
          "metadata": {},
          "execution_count": 67
        }
      ]
    },
    {
      "cell_type": "code",
      "source": [
        "print('Mean of energy:', spotify['liveness'].mean())\n",
        "print('Median of energy:', spotify['liveness'].median())"
      ],
      "metadata": {
        "id": "--WAU89xKS0V",
        "colab": {
          "base_uri": "https://localhost:8080/"
        },
        "outputId": "3f1f8521-3d43-4c7b-bc68-fa0bd5ce9ace"
      },
      "execution_count": null,
      "outputs": [
        {
          "output_type": "stream",
          "name": "stdout",
          "text": [
            "Mean of energy: 0.2135540540706497\n",
            "Median of energy: 0.132\n"
          ]
        }
      ]
    },
    {
      "cell_type": "code",
      "source": [
        "print('Mean of energy:', spotify['instrumentalness'].mean())\n",
        "print('Median of energy:', spotify['instrumentalness'].median())"
      ],
      "metadata": {
        "id": "B6taF7gLKk4c",
        "colab": {
          "base_uri": "https://localhost:8080/"
        },
        "outputId": "36337636-9f25-4f27-fc90-6b4555b4aa75"
      },
      "execution_count": null,
      "outputs": [
        {
          "output_type": "stream",
          "name": "stdout",
          "text": [
            "Mean of energy: 0.15605092335213466\n",
            "Median of energy: 4.16e-05\n"
          ]
        }
      ]
    },
    {
      "cell_type": "code",
      "source": [
        "print('Mean of energy:', spotify['acousticness'].mean())\n",
        "print('Median of energy:', spotify['acousticness'].median())  "
      ],
      "metadata": {
        "id": "KRMLtuhbKs6X",
        "colab": {
          "base_uri": "https://localhost:8080/"
        },
        "outputId": "83386198-abfd-432a-e1aa-ba1533d7b800"
      },
      "execution_count": null,
      "outputs": [
        {
          "output_type": "stream",
          "name": "stdout",
          "text": [
            "Mean of energy: 0.314906772188528\n",
            "Median of energy: 0.169\n"
          ]
        }
      ]
    },
    {
      "cell_type": "code",
      "source": [
        "print('Mean of energy:', spotify['speechiness'].mean())\n",
        "print('Median of energy:', spotify['speechiness'].median())  "
      ],
      "metadata": {
        "id": "JiFtNvbpLHoF",
        "colab": {
          "base_uri": "https://localhost:8080/"
        },
        "outputId": "0c014590-0767-4edc-9747-dcbac3ec53a6"
      },
      "execution_count": null,
      "outputs": [
        {
          "output_type": "stream",
          "name": "stdout",
          "text": [
            "Mean of energy: 0.08465232414319424\n",
            "Median of energy: 0.0489\n"
          ]
        }
      ]
    },
    {
      "cell_type": "code",
      "source": [
        "sns.heatmap(spotify.corr())"
      ],
      "metadata": {
        "id": "C_LzkTYkLoV9",
        "colab": {
          "base_uri": "https://localhost:8080/",
          "height": 363
        },
        "outputId": "feced881-77a4-4324-e6d1-38482b5f2f7f"
      },
      "execution_count": null,
      "outputs": [
        {
          "output_type": "execute_result",
          "data": {
            "text/plain": [
              "<matplotlib.axes._subplots.AxesSubplot at 0x7fa0ad425100>"
            ]
          },
          "metadata": {},
          "execution_count": 72
        },
        {
          "output_type": "display_data",
          "data": {
            "text/plain": [
              "<Figure size 432x288 with 2 Axes>"
            ],
            "image/png": "[encoded data removed]"
          },
          "metadata": {
            "needs_background": "light"
          }
        }
      ]
    },
    {
      "cell_type": "code",
      "source": [
        "spotify.columns"
      ],
      "metadata": {
        "id": "ZgMCZGPvMu8A",
        "colab": {
          "base_uri": "https://localhost:8080/"
        },
        "outputId": "2d5c4d24-299b-4402-8929-c66ecbb384a7"
      },
      "execution_count": null,
      "outputs": [
        {
          "output_type": "execute_result",
          "data": {
            "text/plain": [
              "Index(['track_id', 'artists', 'album_name', 'track_name', 'popularity',\n",
              "       'duration', 'explicit', 'danceability', 'energy', 'loudness',\n",
              "       'speechiness', 'acousticness', 'instrumentalness', 'liveness',\n",
              "       'valence', 'tempo', 'time_signature', 'track_genre'],\n",
              "      dtype='object')"
            ]
          },
          "metadata": {},
          "execution_count": 73
        }
      ]
    },
    {
      "cell_type": "code",
      "source": [
        "spotify_genre = spotify.groupby(['track_genre']).agg({'popularity': 'mean','track_id' : 'count'}).reset_index()\n",
        "s_g = spotify_genre.sort_values(by=('popularity'), ascending=False)"
      ],
      "metadata": {
        "id": "3fHIa26jMi74"
      },
      "execution_count": null,
      "outputs": []
    },
    {
      "cell_type": "code",
      "source": [
        "df_music_popularity= s_g.head(10)"
      ],
      "metadata": {
        "id": "82uRIj-fM-pa"
      },
      "execution_count": null,
      "outputs": []
    },
    {
      "cell_type": "code",
      "source": [
        "import matplotlib.pyplot as plt\n",
        "# sns.set_palette(\"pastel\")\n",
        "fig, ax = plt.subplots(figsize = (20,10))\n",
        "sns.barplot(y = 'track_genre', x = 'popularity', data = df_music_popularity, errcolor=\".5\", linewidth=3, edgecolor=\".5\", facecolor=(0, 0, 0, 0),)"
      ],
      "metadata": {
        "id": "4hW9YfeNMLkz"
      },
      "execution_count": null,
      "outputs": []
    },
    {
      "cell_type": "code",
      "source": [
        "spotify_genre_dance = spotify.groupby(['track_genre']).agg({'danceability': 'mean','track_id' : 'count'}).reset_index()\n",
        "s_g_d = spotify_genre_dance.sort_values(by=('danceability'), ascending=False)"
      ],
      "metadata": {
        "id": "30t2ivxqNo5i"
      },
      "execution_count": null,
      "outputs": []
    },
    {
      "cell_type": "code",
      "source": [
        "df_music_dance= s_g_d.head(10)"
      ],
      "metadata": {
        "id": "bfo-bXr4N656"
      },
      "execution_count": null,
      "outputs": []
    },
    {
      "cell_type": "code",
      "source": [
        "fig, ax = plt.subplots(figsize = (20,10))\n",
        "sns.barplot(y = 'track_genre', x = 'danceability', data = df_music_dance, errcolor=\".5\", linewidth=3, edgecolor=\".5\", facecolor=(0, 0, 0, 0),)"
      ],
      "metadata": {
        "id": "j4tW0gzuOAlZ"
      },
      "execution_count": null,
      "outputs": []
    },
    {
      "cell_type": "code",
      "source": [
        "spotify_genre_energy = spotify.groupby(['track_genre']).agg({'energy': 'mean','track_id' : 'count'}).reset_index()\n",
        "s_g_e = spotify_genre_energy.sort_values(by=('energy'), ascending=False)"
      ],
      "metadata": {
        "id": "KdgNEIsrOZ_R"
      },
      "execution_count": null,
      "outputs": []
    },
    {
      "cell_type": "code",
      "source": [
        "df_music_energy= s_g_e.head(10)"
      ],
      "metadata": {
        "id": "4Qh07-KDO2qk"
      },
      "execution_count": null,
      "outputs": []
    },
    {
      "cell_type": "code",
      "source": [
        "spotify_genre_instrumentalness = spotify.groupby(['track_genre']).agg({'instrumentalness': 'mean','track_id' : 'count'}).reset_index()\n",
        "s_g_i = spotify_genre_instrumentalness.sort_values(by=('instrumentalness'), ascending=False)\n",
        "df_music_i= s_g_i.head(10)\n",
        "fig, ax = plt.subplots(figsize = (20,10))\n",
        "sns.barplot(y = 'track_genre', x = 'instrumentalness', data = df_music_i, errcolor=\".5\", linewidth=3, edgecolor=\".5\", facecolor=(0, 0, 0, 0),)"
      ],
      "metadata": {
        "id": "0VyUTWI3PGDS"
      },
      "execution_count": null,
      "outputs": []
    },
    {
      "cell_type": "code",
      "source": [
        "fig, ax = plt.subplots(figsize = (20,10))\n",
        "sns.barplot(y = 'track_genre', x = 'energy', data = df_music_energy, errcolor=\".5\", linewidth=3, edgecolor=\".5\", facecolor=(0, 0, 0, 0),)"
      ],
      "metadata": {
        "id": "kL6n__ntO7gb"
      },
      "execution_count": null,
      "outputs": []
    },
    {
      "cell_type": "code",
      "source": [
        "spotify.shape"
      ],
      "metadata": {
        "colab": {
          "base_uri": "https://localhost:8080/"
        },
        "id": "fNmxMlnXNTUm",
        "outputId": "ddeaa080-511f-40c7-f4be-982c1f4e3b98"
      },
      "execution_count": null,
      "outputs": [
        {
          "output_type": "execute_result",
          "data": {
            "text/plain": [
              "(113999, 18)"
            ]
          },
          "metadata": {},
          "execution_count": 94
        }
      ]
    },
    {
      "cell_type": "markdown",
      "source": [
        "***Sample***"
      ],
      "metadata": {
        "id": "R7mrQxa9NU6v"
      }
    },
    {
      "cell_type": "code",
      "source": [
        "random_final_2= spotify.groupby(['energy','instrumentalness','track_genre','danceability','popularity']).sample(frac=0.12)"
      ],
      "metadata": {
        "id": "SsgNPhll__G5"
      },
      "execution_count": null,
      "outputs": []
    },
    {
      "cell_type": "code",
      "source": [
        "random_final_2.shape"
      ],
      "metadata": {
        "colab": {
          "base_uri": "https://localhost:8080/"
        },
        "id": "Z9V5EmTnLdUU",
        "outputId": "d0222d0e-d8c2-470d-a754-0c1d7ee24792"
      },
      "execution_count": null,
      "outputs": [
        {
          "output_type": "execute_result",
          "data": {
            "text/plain": [
              "(498, 18)"
            ]
          },
          "metadata": {},
          "execution_count": 18
        }
      ]
    },
    {
      "cell_type": "code",
      "source": [
        "spotify['popularity'].value_counts(normalize=True)"
      ],
      "metadata": {
        "colab": {
          "base_uri": "https://localhost:8080/"
        },
        "id": "uRvNnrWbNnZ8",
        "outputId": "e32e5011-27a0-4963-afba-a427f3bbeb01"
      },
      "execution_count": null,
      "outputs": [
        {
          "output_type": "execute_result",
          "data": {
            "text/plain": [
              "0      0.140519\n",
              "22     0.020649\n",
              "21     0.020562\n",
              "44     0.020070\n",
              "1      0.018772\n",
              "         ...   \n",
              "96     0.000061\n",
              "94     0.000061\n",
              "95     0.000044\n",
              "100    0.000018\n",
              "99     0.000009\n",
              "Name: popularity, Length: 101, dtype: float64"
            ]
          },
          "metadata": {},
          "execution_count": 76
        }
      ]
    },
    {
      "cell_type": "code",
      "source": [
        "popularity = spotify.groupby('popularity').sample(frac=0.12)"
      ],
      "metadata": {
        "id": "UzWTEWUrNstQ"
      },
      "execution_count": null,
      "outputs": []
    },
    {
      "cell_type": "code",
      "source": [
        "popularity['popularity'].value_counts(normalize=True)"
      ],
      "metadata": {
        "colab": {
          "base_uri": "https://localhost:8080/"
        },
        "id": "9xjLpz0xNwbo",
        "outputId": "15009893-e706-4932-ea27-70adbc0981d3"
      },
      "execution_count": null,
      "outputs": [
        {
          "output_type": "execute_result",
          "data": {
            "text/plain": [
              "0     0.140497\n",
              "22    0.020614\n",
              "21    0.020541\n",
              "44    0.020102\n",
              "1     0.018787\n",
              "        ...   \n",
              "94    0.000073\n",
              "95    0.000073\n",
              "96    0.000073\n",
              "97    0.000073\n",
              "98    0.000073\n",
              "Name: popularity, Length: 99, dtype: float64"
            ]
          },
          "metadata": {},
          "execution_count": 78
        }
      ]
    },
    {
      "cell_type": "code",
      "source": [
        "spotify['danceability'].value_counts(normalize=True)"
      ],
      "metadata": {
        "colab": {
          "base_uri": "https://localhost:8080/"
        },
        "id": "vKPGlxW6Nyov",
        "outputId": "c69b4b64-5ff3-49e6-95cb-5ef69f6bac33"
      },
      "execution_count": null,
      "outputs": [
        {
          "output_type": "execute_result",
          "data": {
            "text/plain": [
              "0.6470    0.003781\n",
              "0.6090    0.003132\n",
              "0.5790    0.003044\n",
              "0.6850    0.002939\n",
              "0.6020    0.002930\n",
              "            ...   \n",
              "0.0663    0.000009\n",
              "0.0779    0.000009\n",
              "0.0792    0.000009\n",
              "0.0569    0.000009\n",
              "0.0880    0.000009\n",
              "Name: danceability, Length: 1174, dtype: float64"
            ]
          },
          "metadata": {},
          "execution_count": 79
        }
      ]
    },
    {
      "cell_type": "code",
      "source": [
        "dance = spotify.groupby('danceability').sample(frac=0.12)"
      ],
      "metadata": {
        "id": "s5Uzpz7RN0XL"
      },
      "execution_count": null,
      "outputs": []
    },
    {
      "cell_type": "code",
      "source": [
        "dance ['danceability'].value_counts(normalize=True)"
      ],
      "metadata": {
        "colab": {
          "base_uri": "https://localhost:8080/"
        },
        "id": "gG3DGG3TN3Um",
        "outputId": "5c4b3064-993b-4e19-f791-090333f995c6"
      },
      "execution_count": null,
      "outputs": [
        {
          "output_type": "execute_result",
          "data": {
            "text/plain": [
              "0.647    0.003818\n",
              "0.609    0.003157\n",
              "0.579    0.003084\n",
              "0.602    0.002937\n",
              "0.685    0.002937\n",
              "           ...   \n",
              "0.926    0.000073\n",
              "0.928    0.000073\n",
              "0.932    0.000073\n",
              "0.933    0.000073\n",
              "0.975    0.000073\n",
              "Name: danceability, Length: 872, dtype: float64"
            ]
          },
          "metadata": {},
          "execution_count": 81
        }
      ]
    },
    {
      "cell_type": "code",
      "source": [
        "spotify['energy'].value_counts(normalize=True)"
      ],
      "metadata": {
        "colab": {
          "base_uri": "https://localhost:8080/"
        },
        "id": "ITwQcN-vN42x",
        "outputId": "89b63467-7fe6-4b96-cbbf-46d3a8e610ab"
      },
      "execution_count": null,
      "outputs": [
        {
          "output_type": "execute_result",
          "data": {
            "text/plain": [
              "0.87600    0.002789\n",
              "0.93700    0.002360\n",
              "0.93100    0.002289\n",
              "0.88600    0.002263\n",
              "0.80100    0.002263\n",
              "             ...   \n",
              "0.04280    0.000009\n",
              "0.00246    0.000009\n",
              "0.00161    0.000009\n",
              "0.00983    0.000009\n",
              "0.06180    0.000009\n",
              "Name: energy, Length: 2083, dtype: float64"
            ]
          },
          "metadata": {},
          "execution_count": 82
        }
      ]
    },
    {
      "cell_type": "code",
      "source": [
        "energy = spotify.groupby('energy').sample(frac=0.12)"
      ],
      "metadata": {
        "id": "wtFpQQx5N6Zm"
      },
      "execution_count": null,
      "outputs": []
    },
    {
      "cell_type": "code",
      "source": [
        "energy['energy'].value_counts(normalize=True)"
      ],
      "metadata": {
        "colab": {
          "base_uri": "https://localhost:8080/"
        },
        "id": "IegrVGCAOBAC",
        "outputId": "52be6d27-1ff1-4156-80cc-aeadf10e7179"
      },
      "execution_count": null,
      "outputs": [
        {
          "output_type": "execute_result",
          "data": {
            "text/plain": [
              "0.8760    0.002813\n",
              "0.9370    0.002369\n",
              "0.8010    0.002295\n",
              "0.8860    0.002295\n",
              "0.9310    0.002295\n",
              "            ...   \n",
              "0.0647    0.000074\n",
              "0.0646    0.000074\n",
              "0.0639    0.000074\n",
              "0.0630    0.000074\n",
              "0.0549    0.000074\n",
              "Name: energy, Length: 1132, dtype: float64"
            ]
          },
          "metadata": {},
          "execution_count": 84
        }
      ]
    },
    {
      "cell_type": "code",
      "source": [
        "spotify['instrumentalness'].value_counts(normalize=True)"
      ],
      "metadata": {
        "colab": {
          "base_uri": "https://localhost:8080/"
        },
        "id": "AI5lX_EIOC4Q",
        "outputId": "8f85a1ab-59a5-4742-d345-4b90306e1493"
      },
      "execution_count": null,
      "outputs": [
        {
          "output_type": "execute_result",
          "data": {
            "text/plain": [
              "0.000000    0.340029\n",
              "0.000036    0.001456\n",
              "0.895000    0.001070\n",
              "0.905000    0.001070\n",
              "0.934000    0.001061\n",
              "              ...   \n",
              "0.008730    0.000009\n",
              "0.000010    0.000009\n",
              "0.082400    0.000009\n",
              "0.070500    0.000009\n",
              "0.000072    0.000009\n",
              "Name: instrumentalness, Length: 5346, dtype: float64"
            ]
          },
          "metadata": {},
          "execution_count": 85
        }
      ]
    },
    {
      "cell_type": "code",
      "source": [
        "inst = spotify.groupby('instrumentalness').sample(frac=0.12)"
      ],
      "metadata": {
        "id": "5f-8en_pOFFh"
      },
      "execution_count": null,
      "outputs": []
    },
    {
      "cell_type": "code",
      "source": [
        "inst['instrumentalness'].value_counts(normalize=True)"
      ],
      "metadata": {
        "colab": {
          "base_uri": "https://localhost:8080/"
        },
        "id": "8vSnMTasOLcX",
        "outputId": "f55668bc-3a22-4cb3-b80a-1e88d5ef0d9c"
      },
      "execution_count": null,
      "outputs": [
        {
          "output_type": "execute_result",
          "data": {
            "text/plain": [
              "0.000000    0.343448\n",
              "0.000036    0.001477\n",
              "0.895000    0.001107\n",
              "0.934000    0.001107\n",
              "0.905000    0.001107\n",
              "              ...   \n",
              "0.007500    0.000074\n",
              "0.007520    0.000074\n",
              "0.007620    0.000074\n",
              "0.007640    0.000074\n",
              "0.003630    0.000074\n",
              "Name: instrumentalness, Length: 4232, dtype: float64"
            ]
          },
          "metadata": {},
          "execution_count": 87
        }
      ]
    },
    {
      "cell_type": "code",
      "source": [
        "spotify['track_genre'].value_counts(normalize=True)\n"
      ],
      "metadata": {
        "colab": {
          "base_uri": "https://localhost:8080/"
        },
        "id": "Vl4fHSQJOOGP",
        "outputId": "05f75b8b-b552-4d69-c15d-f88414ccb226"
      },
      "execution_count": null,
      "outputs": [
        {
          "output_type": "execute_result",
          "data": {
            "text/plain": [
              "acoustic             0.008772\n",
              "afrobeat             0.008772\n",
              "psych-rock           0.008772\n",
              "progressive-house    0.008772\n",
              "power-pop            0.008772\n",
              "                       ...   \n",
              "emo                  0.008772\n",
              "electronic           0.008772\n",
              "electro              0.008772\n",
              "world-music          0.008772\n",
              "k-pop                0.008763\n",
              "Name: track_genre, Length: 114, dtype: float64"
            ]
          },
          "metadata": {},
          "execution_count": 88
        }
      ]
    },
    {
      "cell_type": "code",
      "source": [
        "t_ge = spotify.groupby('track_genre').sample(frac=0.12)"
      ],
      "metadata": {
        "id": "5E5cbUUrOXju"
      },
      "execution_count": null,
      "outputs": []
    },
    {
      "cell_type": "code",
      "source": [
        "t_ge['track_genre'].value_counts(normalize=True)\n"
      ],
      "metadata": {
        "colab": {
          "base_uri": "https://localhost:8080/"
        },
        "id": "4ezTI3gAOcWH",
        "outputId": "dfc06d3e-fb65-4f6a-e748-2d7d21cb10d5"
      },
      "execution_count": null,
      "outputs": [
        {
          "output_type": "execute_result",
          "data": {
            "text/plain": [
              "acoustic             0.008772\n",
              "punk                 0.008772\n",
              "progressive-house    0.008772\n",
              "power-pop            0.008772\n",
              "pop-film             0.008772\n",
              "                       ...   \n",
              "folk                 0.008772\n",
              "emo                  0.008772\n",
              "electronic           0.008772\n",
              "electro              0.008772\n",
              "world-music          0.008772\n",
              "Name: track_genre, Length: 114, dtype: float64"
            ]
          },
          "metadata": {},
          "execution_count": 90
        }
      ]
    },
    {
      "cell_type": "code",
      "source": [
        "random_final_2.columns"
      ],
      "metadata": {
        "id": "zzLQjWdwk6sP",
        "outputId": "d3424ea6-77a6-4455-9aca-0edb683ba5fc",
        "colab": {
          "base_uri": "https://localhost:8080/"
        }
      },
      "execution_count": null,
      "outputs": [
        {
          "output_type": "execute_result",
          "data": {
            "text/plain": [
              "Index(['track_id', 'artists', 'album_name', 'track_name', 'popularity',\n",
              "       'duration', 'explicit', 'danceability', 'energy', 'loudness',\n",
              "       'speechiness', 'acousticness', 'instrumentalness', 'liveness',\n",
              "       'valence', 'tempo', 'time_signature', 'track_genre'],\n",
              "      dtype='object')"
            ]
          },
          "metadata": {},
          "execution_count": 96
        }
      ]
    },
    {
      "cell_type": "code",
      "source": [
        "random_final_3= spotify.groupby(['energy','danceability','track_genre','popularity']).sample(frac=0.12)"
      ],
      "metadata": {
        "id": "gct0yjK0lxZr"
      },
      "execution_count": null,
      "outputs": []
    },
    {
      "cell_type": "code",
      "source": [
        "spotify.groupby(['energy','danceability','track_genre','popularity']).count()"
      ],
      "metadata": {
        "id": "hwBsr_KS18wf",
        "outputId": "559ed068-81d2-4b27-e03a-3e7022a4d7e6",
        "colab": {
          "base_uri": "https://localhost:8080/",
          "height": 455
        }
      },
      "execution_count": null,
      "outputs": [
        {
          "output_type": "execute_result",
          "data": {
            "text/plain": [
              "                                              track_id  artists  album_name  \\\n",
              "energy   danceability track_genre popularity                                  \n",
              "0.000000 0.000        sleep       35                 1        1           1   \n",
              "0.000019 0.000        sleep       33                 1        1           1   \n",
              "0.000020 0.000        sleep       32                 2        2           2   \n",
              "                                  34                 1        1           1   \n",
              "                                  35                 1        1           1   \n",
              "...                                                ...      ...         ...   \n",
              "1.000000 0.566        industrial  25                 1        1           1   \n",
              "         0.586        party       29                 1        1           1   \n",
              "         0.660        party       27                 1        1           1   \n",
              "         0.693        disco       30                 1        1           1   \n",
              "                      party       30                 1        1           1   \n",
              "\n",
              "                                              track_name  duration  explicit  \\\n",
              "energy   danceability track_genre popularity                                   \n",
              "0.000000 0.000        sleep       35                   1         1         1   \n",
              "0.000019 0.000        sleep       33                   1         1         1   \n",
              "0.000020 0.000        sleep       32                   2         2         2   \n",
              "                                  34                   1         1         1   \n",
              "                                  35                   1         1         1   \n",
              "...                                                  ...       ...       ...   \n",
              "1.000000 0.566        industrial  25                   1         1         1   \n",
              "         0.586        party       29                   1         1         1   \n",
              "         0.660        party       27                   1         1         1   \n",
              "         0.693        disco       30                   1         1         1   \n",
              "                      party       30                   1         1         1   \n",
              "\n",
              "                                              loudness  speechiness  \\\n",
              "energy   danceability track_genre popularity                          \n",
              "0.000000 0.000        sleep       35                 1            1   \n",
              "0.000019 0.000        sleep       33                 1            1   \n",
              "0.000020 0.000        sleep       32                 2            2   \n",
              "                                  34                 1            1   \n",
              "                                  35                 1            1   \n",
              "...                                                ...          ...   \n",
              "1.000000 0.566        industrial  25                 1            1   \n",
              "         0.586        party       29                 1            1   \n",
              "         0.660        party       27                 1            1   \n",
              "         0.693        disco       30                 1            1   \n",
              "                      party       30                 1            1   \n",
              "\n",
              "                                              acousticness  instrumentalness  \\\n",
              "energy   danceability track_genre popularity                                   \n",
              "0.000000 0.000        sleep       35                     1                 1   \n",
              "0.000019 0.000        sleep       33                     1                 1   \n",
              "0.000020 0.000        sleep       32                     2                 2   \n",
              "                                  34                     1                 1   \n",
              "                                  35                     1                 1   \n",
              "...                                                    ...               ...   \n",
              "1.000000 0.566        industrial  25                     1                 1   \n",
              "         0.586        party       29                     1                 1   \n",
              "         0.660        party       27                     1                 1   \n",
              "         0.693        disco       30                     1                 1   \n",
              "                      party       30                     1                 1   \n",
              "\n",
              "                                              liveness  valence  tempo  \\\n",
              "energy   danceability track_genre popularity                             \n",
              "0.000000 0.000        sleep       35                 1        1      1   \n",
              "0.000019 0.000        sleep       33                 1        1      1   \n",
              "0.000020 0.000        sleep       32                 2        2      2   \n",
              "                                  34                 1        1      1   \n",
              "                                  35                 1        1      1   \n",
              "...                                                ...      ...    ...   \n",
              "1.000000 0.566        industrial  25                 1        1      1   \n",
              "         0.586        party       29                 1        1      1   \n",
              "         0.660        party       27                 1        1      1   \n",
              "         0.693        disco       30                 1        1      1   \n",
              "                      party       30                 1        1      1   \n",
              "\n",
              "                                              time_signature  \n",
              "energy   danceability track_genre popularity                  \n",
              "0.000000 0.000        sleep       35                       1  \n",
              "0.000019 0.000        sleep       33                       1  \n",
              "0.000020 0.000        sleep       32                       2  \n",
              "                                  34                       1  \n",
              "                                  35                       1  \n",
              "...                                                      ...  \n",
              "1.000000 0.566        industrial  25                       1  \n",
              "         0.586        party       29                       1  \n",
              "         0.660        party       27                       1  \n",
              "         0.693        disco       30                       1  \n",
              "                      party       30                       1  \n",
              "\n",
              "[106852 rows x 14 columns]"
            ],
            "text/html": [
              "\n",
              "  <div id=\"df-8976cb83-57e1-4d0f-b39f-888b63b7efcb\">\n",
              "    <div class=\"colab-df-container\">\n",
              "      <div>\n",
              "<style scoped>\n",
              "    .dataframe tbody tr th:only-of-type {\n",
              "        vertical-align: middle;\n",
              "    }\n",
              "\n",
              "    .dataframe tbody tr th {\n",
              "        vertical-align: top;\n",
              "    }\n",
              "\n",
              "    .dataframe thead th {\n",
              "        text-align: right;\n",
              "    }\n",
              "</style>\n",
              "<table border=\"1\" class=\"dataframe\">\n",
              "  <thead>\n",
              "    <tr style=\"text-align: right;\">\n",
              "      <th></th>\n",
              "      <th></th>\n",
              "      <th></th>\n",
              "      <th></th>\n",
              "      <th>track_id</th>\n",
              "      <th>artists</th>\n",
              "      <th>album_name</th>\n",
              "      <th>track_name</th>\n",
              "      <th>duration</th>\n",
              "      <th>explicit</th>\n",
              "      <th>loudness</th>\n",
              "      <th>speechiness</th>\n",
              "      <th>acousticness</th>\n",
              "      <th>instrumentalness</th>\n",
              "      <th>liveness</th>\n",
              "      <th>valence</th>\n",
              "      <th>tempo</th>\n",
              "      <th>time_signature</th>\n",
              "    </tr>\n",
              "    <tr>\n",
              "      <th>energy</th>\n",
              "      <th>danceability</th>\n",
              "      <th>track_genre</th>\n",
              "      <th>popularity</th>\n",
              "      <th></th>\n",
              "      <th></th>\n",
              "      <th></th>\n",
              "      <th></th>\n",
              "      <th></th>\n",
              "      <th></th>\n",
              "      <th></th>\n",
              "      <th></th>\n",
              "      <th></th>\n",
              "      <th></th>\n",
              "      <th></th>\n",
              "      <th></th>\n",
              "      <th></th>\n",
              "      <th></th>\n",
              "    </tr>\n",
              "  </thead>\n",
              "  <tbody>\n",
              "    <tr>\n",
              "      <th>0.000000</th>\n",
              "      <th>0.000</th>\n",
              "      <th>sleep</th>\n",
              "      <th>35</th>\n",
              "      <td>1</td>\n",
              "      <td>1</td>\n",
              "      <td>1</td>\n",
              "      <td>1</td>\n",
              "      <td>1</td>\n",
              "      <td>1</td>\n",
              "      <td>1</td>\n",
              "      <td>1</td>\n",
              "      <td>1</td>\n",
              "      <td>1</td>\n",
              "      <td>1</td>\n",
              "      <td>1</td>\n",
              "      <td>1</td>\n",
              "      <td>1</td>\n",
              "    </tr>\n",
              "    <tr>\n",
              "      <th>0.000019</th>\n",
              "      <th>0.000</th>\n",
              "      <th>sleep</th>\n",
              "      <th>33</th>\n",
              "      <td>1</td>\n",
              "      <td>1</td>\n",
              "      <td>1</td>\n",
              "      <td>1</td>\n",
              "      <td>1</td>\n",
              "      <td>1</td>\n",
              "      <td>1</td>\n",
              "      <td>1</td>\n",
              "      <td>1</td>\n",
              "      <td>1</td>\n",
              "      <td>1</td>\n",
              "      <td>1</td>\n",
              "      <td>1</td>\n",
              "      <td>1</td>\n",
              "    </tr>\n",
              "    <tr>\n",
              "      <th rowspan=\"3\" valign=\"top\">0.000020</th>\n",
              "      <th rowspan=\"3\" valign=\"top\">0.000</th>\n",
              "      <th rowspan=\"3\" valign=\"top\">sleep</th>\n",
              "      <th>32</th>\n",
              "      <td>2</td>\n",
              "      <td>2</td>\n",
              "      <td>2</td>\n",
              "      <td>2</td>\n",
              "      <td>2</td>\n",
              "      <td>2</td>\n",
              "      <td>2</td>\n",
              "      <td>2</td>\n",
              "      <td>2</td>\n",
              "      <td>2</td>\n",
              "      <td>2</td>\n",
              "      <td>2</td>\n",
              "      <td>2</td>\n",
              "      <td>2</td>\n",
              "    </tr>\n",
              "    <tr>\n",
              "      <th>34</th>\n",
              "      <td>1</td>\n",
              "      <td>1</td>\n",
              "      <td>1</td>\n",
              "      <td>1</td>\n",
              "      <td>1</td>\n",
              "      <td>1</td>\n",
              "      <td>1</td>\n",
              "      <td>1</td>\n",
              "      <td>1</td>\n",
              "      <td>1</td>\n",
              "      <td>1</td>\n",
              "      <td>1</td>\n",
              "      <td>1</td>\n",
              "      <td>1</td>\n",
              "    </tr>\n",
              "    <tr>\n",
              "      <th>35</th>\n",
              "      <td>1</td>\n",
              "      <td>1</td>\n",
              "      <td>1</td>\n",
              "      <td>1</td>\n",
              "      <td>1</td>\n",
              "      <td>1</td>\n",
              "      <td>1</td>\n",
              "      <td>1</td>\n",
              "      <td>1</td>\n",
              "      <td>1</td>\n",
              "      <td>1</td>\n",
              "      <td>1</td>\n",
              "      <td>1</td>\n",
              "      <td>1</td>\n",
              "    </tr>\n",
              "    <tr>\n",
              "      <th>...</th>\n",
              "      <th>...</th>\n",
              "      <th>...</th>\n",
              "      <th>...</th>\n",
              "      <td>...</td>\n",
              "      <td>...</td>\n",
              "      <td>...</td>\n",
              "      <td>...</td>\n",
              "      <td>...</td>\n",
              "      <td>...</td>\n",
              "      <td>...</td>\n",
              "      <td>...</td>\n",
              "      <td>...</td>\n",
              "      <td>...</td>\n",
              "      <td>...</td>\n",
              "      <td>...</td>\n",
              "      <td>...</td>\n",
              "      <td>...</td>\n",
              "    </tr>\n",
              "    <tr>\n",
              "      <th rowspan=\"5\" valign=\"top\">1.000000</th>\n",
              "      <th>0.566</th>\n",
              "      <th>industrial</th>\n",
              "      <th>25</th>\n",
              "      <td>1</td>\n",
              "      <td>1</td>\n",
              "      <td>1</td>\n",
              "      <td>1</td>\n",
              "      <td>1</td>\n",
              "      <td>1</td>\n",
              "      <td>1</td>\n",
              "      <td>1</td>\n",
              "      <td>1</td>\n",
              "      <td>1</td>\n",
              "      <td>1</td>\n",
              "      <td>1</td>\n",
              "      <td>1</td>\n",
              "      <td>1</td>\n",
              "    </tr>\n",
              "    <tr>\n",
              "      <th>0.586</th>\n",
              "      <th>party</th>\n",
              "      <th>29</th>\n",
              "      <td>1</td>\n",
              "      <td>1</td>\n",
              "      <td>1</td>\n",
              "      <td>1</td>\n",
              "      <td>1</td>\n",
              "      <td>1</td>\n",
              "      <td>1</td>\n",
              "      <td>1</td>\n",
              "      <td>1</td>\n",
              "      <td>1</td>\n",
              "      <td>1</td>\n",
              "      <td>1</td>\n",
              "      <td>1</td>\n",
              "      <td>1</td>\n",
              "    </tr>\n",
              "    <tr>\n",
              "      <th>0.660</th>\n",
              "      <th>party</th>\n",
              "      <th>27</th>\n",
              "      <td>1</td>\n",
              "      <td>1</td>\n",
              "      <td>1</td>\n",
              "      <td>1</td>\n",
              "      <td>1</td>\n",
              "      <td>1</td>\n",
              "      <td>1</td>\n",
              "      <td>1</td>\n",
              "      <td>1</td>\n",
              "      <td>1</td>\n",
              "      <td>1</td>\n",
              "      <td>1</td>\n",
              "      <td>1</td>\n",
              "      <td>1</td>\n",
              "    </tr>\n",
              "    <tr>\n",
              "      <th rowspan=\"2\" valign=\"top\">0.693</th>\n",
              "      <th>disco</th>\n",
              "      <th>30</th>\n",
              "      <td>1</td>\n",
              "      <td>1</td>\n",
              "      <td>1</td>\n",
              "      <td>1</td>\n",
              "      <td>1</td>\n",
              "      <td>1</td>\n",
              "      <td>1</td>\n",
              "      <td>1</td>\n",
              "      <td>1</td>\n",
              "      <td>1</td>\n",
              "      <td>1</td>\n",
              "      <td>1</td>\n",
              "      <td>1</td>\n",
              "      <td>1</td>\n",
              "    </tr>\n",
              "    <tr>\n",
              "      <th>party</th>\n",
              "      <th>30</th>\n",
              "      <td>1</td>\n",
              "      <td>1</td>\n",
              "      <td>1</td>\n",
              "      <td>1</td>\n",
              "      <td>1</td>\n",
              "      <td>1</td>\n",
              "      <td>1</td>\n",
              "      <td>1</td>\n",
              "      <td>1</td>\n",
              "      <td>1</td>\n",
              "      <td>1</td>\n",
              "      <td>1</td>\n",
              "      <td>1</td>\n",
              "      <td>1</td>\n",
              "    </tr>\n",
              "  </tbody>\n",
              "</table>\n",
              "<p>106852 rows × 14 columns</p>\n",
              "</div>\n",
              "      <button class=\"colab-df-convert\" onclick=\"convertToInteractive('df-8976cb83-57e1-4d0f-b39f-888b63b7efcb')\"\n",
              "              title=\"Convert this dataframe to an interactive table.\"\n",
              "              style=\"display:none;\">\n",
              "        \n",
              "  <svg xmlns=\"http://www.w3.org/2000/svg\" height=\"24px\"viewBox=\"0 0 24 24\"\n",
              "       width=\"24px\">\n",
              "    <path d=\"M0 0h24v24H0V0z\" fill=\"none\"/>\n",
              "    <path d=\"M18.56 5.44l.94 2.06.94-2.06 2.06-.94-2.06-.94-.94-2.06-.94 2.06-2.06.94zm-11 1L8.5 8.5l.94-2.06 2.06-.94-2.06-.94L8.5 2.5l-.94 2.06-2.06.94zm10 10l.94 2.06.94-2.06 2.06-.94-2.06-.94-.94-2.06-.94 2.06-2.06.94z\"/><path d=\"M17.41 7.96l-1.37-1.37c-.4-.4-.92-.59-1.43-.59-.52 0-1.04.2-1.43.59L10.3 9.45l-7.72 7.72c-.78.78-.78 2.05 0 2.83L4 21.41c.39.39.9.59 1.41.59.51 0 1.02-.2 1.41-.59l7.78-7.78 2.81-2.81c.8-.78.8-2.07 0-2.86zM5.41 20L4 18.59l7.72-7.72 1.47 1.35L5.41 20z\"/>\n",
              "  </svg>\n",
              "      </button>\n",
              "      \n",
              "  <style>\n",
              "    .colab-df-container {\n",
              "      display:flex;\n",
              "      flex-wrap:wrap;\n",
              "      gap: 12px;\n",
              "    }\n",
              "\n",
              "    .colab-df-convert {\n",
              "      background-color: #E8F0FE;\n",
              "      border: none;\n",
              "      border-radius: 50%;\n",
              "      cursor: pointer;\n",
              "      display: none;\n",
              "      fill: #1967D2;\n",
              "      height: 32px;\n",
              "      padding: 0 0 0 0;\n",
              "      width: 32px;\n",
              "    }\n",
              "\n",
              "    .colab-df-convert:hover {\n",
              "      background-color: #E2EBFA;\n",
              "      box-shadow: 0px 1px 2px rgba(60, 64, 67, 0.3), 0px 1px 3px 1px rgba(60, 64, 67, 0.15);\n",
              "      fill: #174EA6;\n",
              "    }\n",
              "\n",
              "    [theme=dark] .colab-df-convert {\n",
              "      background-color: #3B4455;\n",
              "      fill: #D2E3FC;\n",
              "    }\n",
              "\n",
              "    [theme=dark] .colab-df-convert:hover {\n",
              "      background-color: #434B5C;\n",
              "      box-shadow: 0px 1px 3px 1px rgba(0, 0, 0, 0.15);\n",
              "      filter: drop-shadow(0px 1px 2px rgba(0, 0, 0, 0.3));\n",
              "      fill: #FFFFFF;\n",
              "    }\n",
              "  </style>\n",
              "\n",
              "      <script>\n",
              "        const buttonEl =\n",
              "          document.querySelector('#df-8976cb83-57e1-4d0f-b39f-888b63b7efcb button.colab-df-convert');\n",
              "        buttonEl.style.display =\n",
              "          google.colab.kernel.accessAllowed ? 'block' : 'none';\n",
              "\n",
              "        async function convertToInteractive(key) {\n",
              "          const element = document.querySelector('#df-8976cb83-57e1-4d0f-b39f-888b63b7efcb');\n",
              "          const dataTable =\n",
              "            await google.colab.kernel.invokeFunction('convertToInteractive',\n",
              "                                                     [key], {});\n",
              "          if (!dataTable) return;\n",
              "\n",
              "          const docLinkHtml = 'Like what you see? Visit the ' +\n",
              "            '<a target=\"_blank\" href=https://colab.research.google.com/notebooks/data_table.ipynb>data table notebook</a>'\n",
              "            + ' to learn more about interactive tables.';\n",
              "          element.innerHTML = '';\n",
              "          dataTable['output_type'] = 'display_data';\n",
              "          await google.colab.output.renderOutput(dataTable, element);\n",
              "          const docLink = document.createElement('div');\n",
              "          docLink.innerHTML = docLinkHtml;\n",
              "          element.appendChild(docLink);\n",
              "        }\n",
              "      </script>\n",
              "    </div>\n",
              "  </div>\n",
              "  "
            ]
          },
          "metadata": {},
          "execution_count": 151
        }
      ]
    },
    {
      "cell_type": "code",
      "source": [
        "random_final_3.columns"
      ],
      "metadata": {
        "id": "QiGPF9U51Kjv",
        "outputId": "96c0c55a-fb62-4654-f34a-6aa35328c91e",
        "colab": {
          "base_uri": "https://localhost:8080/"
        }
      },
      "execution_count": null,
      "outputs": [
        {
          "output_type": "execute_result",
          "data": {
            "text/plain": [
              "Index(['track_id', 'artists', 'album_name', 'track_name', 'popularity',\n",
              "       'duration', 'explicit', 'danceability', 'energy', 'loudness',\n",
              "       'speechiness', 'acousticness', 'instrumentalness', 'liveness',\n",
              "       'valence', 'tempo', 'time_signature', 'track_genre'],\n",
              "      dtype='object')"
            ]
          },
          "metadata": {},
          "execution_count": 141
        }
      ]
    },
    {
      "cell_type": "code",
      "source": [
        "spotify['album_name'].value_counts()"
      ],
      "metadata": {
        "id": "uhcCw2af2Z3A",
        "outputId": "b7b154df-2615-4037-8c0e-ead3c78ce423",
        "colab": {
          "base_uri": "https://localhost:8080/"
        }
      },
      "execution_count": null,
      "outputs": [
        {
          "output_type": "execute_result",
          "data": {
            "text/plain": [
              "Alternative Christmas 2022     195\n",
              "Feliz Cumpleaños con Perreo    184\n",
              "Metal                          143\n",
              "Halloween con perreito         123\n",
              "Halloween Party 2022           115\n",
              "                              ... \n",
              "Me Alcançou                      1\n",
              "Comunhão e Adoração              1\n",
              "Força Pra Encarar                1\n",
              "The Way of the Fist              1\n",
              "Revelation Songs                 1\n",
              "Name: album_name, Length: 46589, dtype: int64"
            ]
          },
          "metadata": {},
          "execution_count": 150
        }
      ]
    },
    {
      "cell_type": "code",
      "source": [
        "spotify['track_id'].value_counts()"
      ],
      "metadata": {
        "id": "10bfAn2e3uLC",
        "outputId": "ea4967d2-5cce-4bcc-e06e-8d27d2afc38b",
        "colab": {
          "base_uri": "https://localhost:8080/"
        }
      },
      "execution_count": null,
      "outputs": [
        {
          "output_type": "execute_result",
          "data": {
            "text/plain": [
              "6S3JlDAGk3uu3NtZbPnuhS    9\n",
              "2Ey6v4Sekh3Z0RUSISRosD    8\n",
              "2kkvB3RNRzwjFdGhaUA0tz    8\n",
              "08kTa3SL9sV6Iy8KLKtGql    7\n",
              "4XYieGKSlJlHpzB3bl6WMP    7\n",
              "                         ..\n",
              "0kJ7eKX6aWl8X1W5Xrosn6    1\n",
              "4bYH5445Bn2w9UiGM0NxQw    1\n",
              "1T5C6ENvpM3IiYeezsK9uI    1\n",
              "34SatKRJgtXfL0bcgk7HMA    1\n",
              "2hETkH7cOfqmz3LqZDHZf5    1\n",
              "Name: track_id, Length: 89740, dtype: int64"
            ]
          },
          "metadata": {},
          "execution_count": 159
        }
      ]
    },
    {
      "cell_type": "code",
      "source": [
        "condition = spotify['track_id'] == '6S3JlDAGk3uu3NtZbPnuhS'\n",
        "\n",
        "x = spotify[condition][['track_id','album_name','track_name','track_genre']]\n",
        "\n",
        "x"
      ],
      "metadata": {
        "id": "YY1nqc-03zpq",
        "outputId": "07776c08-3c97-49b6-dfa9-cae7405dbf39",
        "colab": {
          "base_uri": "https://localhost:8080/",
          "height": 332
        }
      },
      "execution_count": null,
      "outputs": [
        {
          "output_type": "execute_result",
          "data": {
            "text/plain": [
              "                      track_id  \\\n",
              "8315    6S3JlDAGk3uu3NtZbPnuhS   \n",
              "19759   6S3JlDAGk3uu3NtZbPnuhS   \n",
              "34728   6S3JlDAGk3uu3NtZbPnuhS   \n",
              "62226   6S3JlDAGk3uu3NtZbPnuhS   \n",
              "63087   6S3JlDAGk3uu3NtZbPnuhS   \n",
              "82064   6S3JlDAGk3uu3NtZbPnuhS   \n",
              "84129   6S3JlDAGk3uu3NtZbPnuhS   \n",
              "99727   6S3JlDAGk3uu3NtZbPnuhS   \n",
              "102732  6S3JlDAGk3uu3NtZbPnuhS   \n",
              "\n",
              "                                            album_name  \\\n",
              "8315    Straight Up (Remastered 2010 / Deluxe Edition)   \n",
              "19759   Straight Up (Remastered 2010 / Deluxe Edition)   \n",
              "34728   Straight Up (Remastered 2010 / Deluxe Edition)   \n",
              "62226   Straight Up (Remastered 2010 / Deluxe Edition)   \n",
              "63087   Straight Up (Remastered 2010 / Deluxe Edition)   \n",
              "82064   Straight Up (Remastered 2010 / Deluxe Edition)   \n",
              "84129   Straight Up (Remastered 2010 / Deluxe Edition)   \n",
              "99727   Straight Up (Remastered 2010 / Deluxe Edition)   \n",
              "102732  Straight Up (Remastered 2010 / Deluxe Edition)   \n",
              "\n",
              "                         track_name        track_genre  \n",
              "8315    Baby Blue - Remastered 2010              blues  \n",
              "19759   Baby Blue - Remastered 2010            country  \n",
              "34728   Baby Blue - Remastered 2010               folk  \n",
              "62226   Baby Blue - Remastered 2010              j-pop  \n",
              "63087   Baby Blue - Remastered 2010             j-rock  \n",
              "82064   Baby Blue - Remastered 2010          power-pop  \n",
              "84129   Baby Blue - Remastered 2010         psych-rock  \n",
              "99727   Baby Blue - Remastered 2010  singer-songwriter  \n",
              "102732  Baby Blue - Remastered 2010         songwriter  "
            ],
            "text/html": [
              "\n",
              "  <div id=\"df-b8630bc7-0d9b-4c58-9b58-b583438a6e18\">\n",
              "    <div class=\"colab-df-container\">\n",
              "      <div>\n",
              "<style scoped>\n",
              "    .dataframe tbody tr th:only-of-type {\n",
              "        vertical-align: middle;\n",
              "    }\n",
              "\n",
              "    .dataframe tbody tr th {\n",
              "        vertical-align: top;\n",
              "    }\n",
              "\n",
              "    .dataframe thead th {\n",
              "        text-align: right;\n",
              "    }\n",
              "</style>\n",
              "<table border=\"1\" class=\"dataframe\">\n",
              "  <thead>\n",
              "    <tr style=\"text-align: right;\">\n",
              "      <th></th>\n",
              "      <th>track_id</th>\n",
              "      <th>album_name</th>\n",
              "      <th>track_name</th>\n",
              "      <th>track_genre</th>\n",
              "    </tr>\n",
              "  </thead>\n",
              "  <tbody>\n",
              "    <tr>\n",
              "      <th>8315</th>\n",
              "      <td>6S3JlDAGk3uu3NtZbPnuhS</td>\n",
              "      <td>Straight Up (Remastered 2010 / Deluxe Edition)</td>\n",
              "      <td>Baby Blue - Remastered 2010</td>\n",
              "      <td>blues</td>\n",
              "    </tr>\n",
              "    <tr>\n",
              "      <th>19759</th>\n",
              "      <td>6S3JlDAGk3uu3NtZbPnuhS</td>\n",
              "      <td>Straight Up (Remastered 2010 / Deluxe Edition)</td>\n",
              "      <td>Baby Blue - Remastered 2010</td>\n",
              "      <td>country</td>\n",
              "    </tr>\n",
              "    <tr>\n",
              "      <th>34728</th>\n",
              "      <td>6S3JlDAGk3uu3NtZbPnuhS</td>\n",
              "      <td>Straight Up (Remastered 2010 / Deluxe Edition)</td>\n",
              "      <td>Baby Blue - Remastered 2010</td>\n",
              "      <td>folk</td>\n",
              "    </tr>\n",
              "    <tr>\n",
              "      <th>62226</th>\n",
              "      <td>6S3JlDAGk3uu3NtZbPnuhS</td>\n",
              "      <td>Straight Up (Remastered 2010 / Deluxe Edition)</td>\n",
              "      <td>Baby Blue - Remastered 2010</td>\n",
              "      <td>j-pop</td>\n",
              "    </tr>\n",
              "    <tr>\n",
              "      <th>63087</th>\n",
              "      <td>6S3JlDAGk3uu3NtZbPnuhS</td>\n",
              "      <td>Straight Up (Remastered 2010 / Deluxe Edition)</td>\n",
              "      <td>Baby Blue - Remastered 2010</td>\n",
              "      <td>j-rock</td>\n",
              "    </tr>\n",
              "    <tr>\n",
              "      <th>82064</th>\n",
              "      <td>6S3JlDAGk3uu3NtZbPnuhS</td>\n",
              "      <td>Straight Up (Remastered 2010 / Deluxe Edition)</td>\n",
              "      <td>Baby Blue - Remastered 2010</td>\n",
              "      <td>power-pop</td>\n",
              "    </tr>\n",
              "    <tr>\n",
              "      <th>84129</th>\n",
              "      <td>6S3JlDAGk3uu3NtZbPnuhS</td>\n",
              "      <td>Straight Up (Remastered 2010 / Deluxe Edition)</td>\n",
              "      <td>Baby Blue - Remastered 2010</td>\n",
              "      <td>psych-rock</td>\n",
              "    </tr>\n",
              "    <tr>\n",
              "      <th>99727</th>\n",
              "      <td>6S3JlDAGk3uu3NtZbPnuhS</td>\n",
              "      <td>Straight Up (Remastered 2010 / Deluxe Edition)</td>\n",
              "      <td>Baby Blue - Remastered 2010</td>\n",
              "      <td>singer-songwriter</td>\n",
              "    </tr>\n",
              "    <tr>\n",
              "      <th>102732</th>\n",
              "      <td>6S3JlDAGk3uu3NtZbPnuhS</td>\n",
              "      <td>Straight Up (Remastered 2010 / Deluxe Edition)</td>\n",
              "      <td>Baby Blue - Remastered 2010</td>\n",
              "      <td>songwriter</td>\n",
              "    </tr>\n",
              "  </tbody>\n",
              "</table>\n",
              "</div>\n",
              "      <button class=\"colab-df-convert\" onclick=\"convertToInteractive('df-b8630bc7-0d9b-4c58-9b58-b583438a6e18')\"\n",
              "              title=\"Convert this dataframe to an interactive table.\"\n",
              "              style=\"display:none;\">\n",
              "        \n",
              "  <svg xmlns=\"http://www.w3.org/2000/svg\" height=\"24px\"viewBox=\"0 0 24 24\"\n",
              "       width=\"24px\">\n",
              "    <path d=\"M0 0h24v24H0V0z\" fill=\"none\"/>\n",
              "    <path d=\"M18.56 5.44l.94 2.06.94-2.06 2.06-.94-2.06-.94-.94-2.06-.94 2.06-2.06.94zm-11 1L8.5 8.5l.94-2.06 2.06-.94-2.06-.94L8.5 2.5l-.94 2.06-2.06.94zm10 10l.94 2.06.94-2.06 2.06-.94-2.06-.94-.94-2.06-.94 2.06-2.06.94z\"/><path d=\"M17.41 7.96l-1.37-1.37c-.4-.4-.92-.59-1.43-.59-.52 0-1.04.2-1.43.59L10.3 9.45l-7.72 7.72c-.78.78-.78 2.05 0 2.83L4 21.41c.39.39.9.59 1.41.59.51 0 1.02-.2 1.41-.59l7.78-7.78 2.81-2.81c.8-.78.8-2.07 0-2.86zM5.41 20L4 18.59l7.72-7.72 1.47 1.35L5.41 20z\"/>\n",
              "  </svg>\n",
              "      </button>\n",
              "      \n",
              "  <style>\n",
              "    .colab-df-container {\n",
              "      display:flex;\n",
              "      flex-wrap:wrap;\n",
              "      gap: 12px;\n",
              "    }\n",
              "\n",
              "    .colab-df-convert {\n",
              "      background-color: #E8F0FE;\n",
              "      border: none;\n",
              "      border-radius: 50%;\n",
              "      cursor: pointer;\n",
              "      display: none;\n",
              "      fill: #1967D2;\n",
              "      height: 32px;\n",
              "      padding: 0 0 0 0;\n",
              "      width: 32px;\n",
              "    }\n",
              "\n",
              "    .colab-df-convert:hover {\n",
              "      background-color: #E2EBFA;\n",
              "      box-shadow: 0px 1px 2px rgba(60, 64, 67, 0.3), 0px 1px 3px 1px rgba(60, 64, 67, 0.15);\n",
              "      fill: #174EA6;\n",
              "    }\n",
              "\n",
              "    [theme=dark] .colab-df-convert {\n",
              "      background-color: #3B4455;\n",
              "      fill: #D2E3FC;\n",
              "    }\n",
              "\n",
              "    [theme=dark] .colab-df-convert:hover {\n",
              "      background-color: #434B5C;\n",
              "      box-shadow: 0px 1px 3px 1px rgba(0, 0, 0, 0.15);\n",
              "      filter: drop-shadow(0px 1px 2px rgba(0, 0, 0, 0.3));\n",
              "      fill: #FFFFFF;\n",
              "    }\n",
              "  </style>\n",
              "\n",
              "      <script>\n",
              "        const buttonEl =\n",
              "          document.querySelector('#df-b8630bc7-0d9b-4c58-9b58-b583438a6e18 button.colab-df-convert');\n",
              "        buttonEl.style.display =\n",
              "          google.colab.kernel.accessAllowed ? 'block' : 'none';\n",
              "\n",
              "        async function convertToInteractive(key) {\n",
              "          const element = document.querySelector('#df-b8630bc7-0d9b-4c58-9b58-b583438a6e18');\n",
              "          const dataTable =\n",
              "            await google.colab.kernel.invokeFunction('convertToInteractive',\n",
              "                                                     [key], {});\n",
              "          if (!dataTable) return;\n",
              "\n",
              "          const docLinkHtml = 'Like what you see? Visit the ' +\n",
              "            '<a target=\"_blank\" href=https://colab.research.google.com/notebooks/data_table.ipynb>data table notebook</a>'\n",
              "            + ' to learn more about interactive tables.';\n",
              "          element.innerHTML = '';\n",
              "          dataTable['output_type'] = 'display_data';\n",
              "          await google.colab.output.renderOutput(dataTable, element);\n",
              "          const docLink = document.createElement('div');\n",
              "          docLink.innerHTML = docLinkHtml;\n",
              "          element.appendChild(docLink);\n",
              "        }\n",
              "      </script>\n",
              "    </div>\n",
              "  </div>\n",
              "  "
            ]
          },
          "metadata": {},
          "execution_count": 174
        }
      ]
    },
    {
      "cell_type": "code",
      "source": [
        "#drop genre, drop duplicates and do sample"
      ],
      "metadata": {
        "id": "OPuO03Qj602e"
      },
      "execution_count": null,
      "outputs": []
    },
    {
      "cell_type": "code",
      "source": [
        "spotify.head()"
      ],
      "metadata": {
        "id": "QQ3YI_eV3pjz",
        "outputId": "be2ef88f-19ba-483a-c301-3c582cbff65d",
        "colab": {
          "base_uri": "https://localhost:8080/",
          "height": 392
        }
      },
      "execution_count": null,
      "outputs": [
        {
          "output_type": "execute_result",
          "data": {
            "text/plain": [
              "                 track_id                 artists  \\\n",
              "0  5SuOikwiRyPMVoIQDJUgSV             Gen Hoshino   \n",
              "1  4qPNDBW1i3p13qLCt0Ki3A            Ben Woodward   \n",
              "2  1iJBSr7s7jYXzM8EGcbK5b  Ingrid Michaelson;ZAYN   \n",
              "3  6lfxq3CG4xtTiEg7opyCyx            Kina Grannis   \n",
              "4  5vjLSffimiIP26QG5WcN2K        Chord Overstreet   \n",
              "\n",
              "                                          album_name  \\\n",
              "0                                             Comedy   \n",
              "1                                   Ghost (Acoustic)   \n",
              "2                                     To Begin Again   \n",
              "3  Crazy Rich Asians (Original Motion Picture Sou...   \n",
              "4                                            Hold On   \n",
              "\n",
              "                   track_name  popularity  duration  explicit  danceability  \\\n",
              "0                      Comedy          73       231     False         0.676   \n",
              "1            Ghost - Acoustic          55       150     False         0.420   \n",
              "2              To Begin Again          57       211     False         0.438   \n",
              "3  Can't Help Falling In Love          71       202     False         0.266   \n",
              "4                     Hold On          82       199     False         0.618   \n",
              "\n",
              "   energy  loudness  speechiness  acousticness  instrumentalness  liveness  \\\n",
              "0  0.4610    -6.746       0.1430        0.0322          0.000001    0.3580   \n",
              "1  0.1660   -17.235       0.0763        0.9240          0.000006    0.1010   \n",
              "2  0.3590    -9.734       0.0557        0.2100          0.000000    0.1170   \n",
              "3  0.0596   -18.515       0.0363        0.9050          0.000071    0.1320   \n",
              "4  0.4430    -9.681       0.0526        0.4690          0.000000    0.0829   \n",
              "\n",
              "   valence    tempo  time_signature track_genre  \n",
              "0    0.715   87.917               4    acoustic  \n",
              "1    0.267   77.489               4    acoustic  \n",
              "2    0.120   76.332               4    acoustic  \n",
              "3    0.143  181.740               3    acoustic  \n",
              "4    0.167  119.949               4    acoustic  "
            ],
            "text/html": [
              "\n",
              "  <div id=\"df-4a644bc1-1ba0-481c-8d0d-c0e974e201d9\">\n",
              "    <div class=\"colab-df-container\">\n",
              "      <div>\n",
              "<style scoped>\n",
              "    .dataframe tbody tr th:only-of-type {\n",
              "        vertical-align: middle;\n",
              "    }\n",
              "\n",
              "    .dataframe tbody tr th {\n",
              "        vertical-align: top;\n",
              "    }\n",
              "\n",
              "    .dataframe thead th {\n",
              "        text-align: right;\n",
              "    }\n",
              "</style>\n",
              "<table border=\"1\" class=\"dataframe\">\n",
              "  <thead>\n",
              "    <tr style=\"text-align: right;\">\n",
              "      <th></th>\n",
              "      <th>track_id</th>\n",
              "      <th>artists</th>\n",
              "      <th>album_name</th>\n",
              "      <th>track_name</th>\n",
              "      <th>popularity</th>\n",
              "      <th>duration</th>\n",
              "      <th>explicit</th>\n",
              "      <th>danceability</th>\n",
              "      <th>energy</th>\n",
              "      <th>loudness</th>\n",
              "      <th>speechiness</th>\n",
              "      <th>acousticness</th>\n",
              "      <th>instrumentalness</th>\n",
              "      <th>liveness</th>\n",
              "      <th>valence</th>\n",
              "      <th>tempo</th>\n",
              "      <th>time_signature</th>\n",
              "      <th>track_genre</th>\n",
              "    </tr>\n",
              "  </thead>\n",
              "  <tbody>\n",
              "    <tr>\n",
              "      <th>0</th>\n",
              "      <td>5SuOikwiRyPMVoIQDJUgSV</td>\n",
              "      <td>Gen Hoshino</td>\n",
              "      <td>Comedy</td>\n",
              "      <td>Comedy</td>\n",
              "      <td>73</td>\n",
              "      <td>231</td>\n",
              "      <td>False</td>\n",
              "      <td>0.676</td>\n",
              "      <td>0.4610</td>\n",
              "      <td>-6.746</td>\n",
              "      <td>0.1430</td>\n",
              "      <td>0.0322</td>\n",
              "      <td>0.000001</td>\n",
              "      <td>0.3580</td>\n",
              "      <td>0.715</td>\n",
              "      <td>87.917</td>\n",
              "      <td>4</td>\n",
              "      <td>acoustic</td>\n",
              "    </tr>\n",
              "    <tr>\n",
              "      <th>1</th>\n",
              "      <td>4qPNDBW1i3p13qLCt0Ki3A</td>\n",
              "      <td>Ben Woodward</td>\n",
              "      <td>Ghost (Acoustic)</td>\n",
              "      <td>Ghost - Acoustic</td>\n",
              "      <td>55</td>\n",
              "      <td>150</td>\n",
              "      <td>False</td>\n",
              "      <td>0.420</td>\n",
              "      <td>0.1660</td>\n",
              "      <td>-17.235</td>\n",
              "      <td>0.0763</td>\n",
              "      <td>0.9240</td>\n",
              "      <td>0.000006</td>\n",
              "      <td>0.1010</td>\n",
              "      <td>0.267</td>\n",
              "      <td>77.489</td>\n",
              "      <td>4</td>\n",
              "      <td>acoustic</td>\n",
              "    </tr>\n",
              "    <tr>\n",
              "      <th>2</th>\n",
              "      <td>1iJBSr7s7jYXzM8EGcbK5b</td>\n",
              "      <td>Ingrid Michaelson;ZAYN</td>\n",
              "      <td>To Begin Again</td>\n",
              "      <td>To Begin Again</td>\n",
              "      <td>57</td>\n",
              "      <td>211</td>\n",
              "      <td>False</td>\n",
              "      <td>0.438</td>\n",
              "      <td>0.3590</td>\n",
              "      <td>-9.734</td>\n",
              "      <td>0.0557</td>\n",
              "      <td>0.2100</td>\n",
              "      <td>0.000000</td>\n",
              "      <td>0.1170</td>\n",
              "      <td>0.120</td>\n",
              "      <td>76.332</td>\n",
              "      <td>4</td>\n",
              "      <td>acoustic</td>\n",
              "    </tr>\n",
              "    <tr>\n",
              "      <th>3</th>\n",
              "      <td>6lfxq3CG4xtTiEg7opyCyx</td>\n",
              "      <td>Kina Grannis</td>\n",
              "      <td>Crazy Rich Asians (Original Motion Picture Sou...</td>\n",
              "      <td>Can't Help Falling In Love</td>\n",
              "      <td>71</td>\n",
              "      <td>202</td>\n",
              "      <td>False</td>\n",
              "      <td>0.266</td>\n",
              "      <td>0.0596</td>\n",
              "      <td>-18.515</td>\n",
              "      <td>0.0363</td>\n",
              "      <td>0.9050</td>\n",
              "      <td>0.000071</td>\n",
              "      <td>0.1320</td>\n",
              "      <td>0.143</td>\n",
              "      <td>181.740</td>\n",
              "      <td>3</td>\n",
              "      <td>acoustic</td>\n",
              "    </tr>\n",
              "    <tr>\n",
              "      <th>4</th>\n",
              "      <td>5vjLSffimiIP26QG5WcN2K</td>\n",
              "      <td>Chord Overstreet</td>\n",
              "      <td>Hold On</td>\n",
              "      <td>Hold On</td>\n",
              "      <td>82</td>\n",
              "      <td>199</td>\n",
              "      <td>False</td>\n",
              "      <td>0.618</td>\n",
              "      <td>0.4430</td>\n",
              "      <td>-9.681</td>\n",
              "      <td>0.0526</td>\n",
              "      <td>0.4690</td>\n",
              "      <td>0.000000</td>\n",
              "      <td>0.0829</td>\n",
              "      <td>0.167</td>\n",
              "      <td>119.949</td>\n",
              "      <td>4</td>\n",
              "      <td>acoustic</td>\n",
              "    </tr>\n",
              "  </tbody>\n",
              "</table>\n",
              "</div>\n",
              "      <button class=\"colab-df-convert\" onclick=\"convertToInteractive('df-4a644bc1-1ba0-481c-8d0d-c0e974e201d9')\"\n",
              "              title=\"Convert this dataframe to an interactive table.\"\n",
              "              style=\"display:none;\">\n",
              "        \n",
              "  <svg xmlns=\"http://www.w3.org/2000/svg\" height=\"24px\"viewBox=\"0 0 24 24\"\n",
              "       width=\"24px\">\n",
              "    <path d=\"M0 0h24v24H0V0z\" fill=\"none\"/>\n",
              "    <path d=\"M18.56 5.44l.94 2.06.94-2.06 2.06-.94-2.06-.94-.94-2.06-.94 2.06-2.06.94zm-11 1L8.5 8.5l.94-2.06 2.06-.94-2.06-.94L8.5 2.5l-.94 2.06-2.06.94zm10 10l.94 2.06.94-2.06 2.06-.94-2.06-.94-.94-2.06-.94 2.06-2.06.94z\"/><path d=\"M17.41 7.96l-1.37-1.37c-.4-.4-.92-.59-1.43-.59-.52 0-1.04.2-1.43.59L10.3 9.45l-7.72 7.72c-.78.78-.78 2.05 0 2.83L4 21.41c.39.39.9.59 1.41.59.51 0 1.02-.2 1.41-.59l7.78-7.78 2.81-2.81c.8-.78.8-2.07 0-2.86zM5.41 20L4 18.59l7.72-7.72 1.47 1.35L5.41 20z\"/>\n",
              "  </svg>\n",
              "      </button>\n",
              "      \n",
              "  <style>\n",
              "    .colab-df-container {\n",
              "      display:flex;\n",
              "      flex-wrap:wrap;\n",
              "      gap: 12px;\n",
              "    }\n",
              "\n",
              "    .colab-df-convert {\n",
              "      background-color: #E8F0FE;\n",
              "      border: none;\n",
              "      border-radius: 50%;\n",
              "      cursor: pointer;\n",
              "      display: none;\n",
              "      fill: #1967D2;\n",
              "      height: 32px;\n",
              "      padding: 0 0 0 0;\n",
              "      width: 32px;\n",
              "    }\n",
              "\n",
              "    .colab-df-convert:hover {\n",
              "      background-color: #E2EBFA;\n",
              "      box-shadow: 0px 1px 2px rgba(60, 64, 67, 0.3), 0px 1px 3px 1px rgba(60, 64, 67, 0.15);\n",
              "      fill: #174EA6;\n",
              "    }\n",
              "\n",
              "    [theme=dark] .colab-df-convert {\n",
              "      background-color: #3B4455;\n",
              "      fill: #D2E3FC;\n",
              "    }\n",
              "\n",
              "    [theme=dark] .colab-df-convert:hover {\n",
              "      background-color: #434B5C;\n",
              "      box-shadow: 0px 1px 3px 1px rgba(0, 0, 0, 0.15);\n",
              "      filter: drop-shadow(0px 1px 2px rgba(0, 0, 0, 0.3));\n",
              "      fill: #FFFFFF;\n",
              "    }\n",
              "  </style>\n",
              "\n",
              "      <script>\n",
              "        const buttonEl =\n",
              "          document.querySelector('#df-4a644bc1-1ba0-481c-8d0d-c0e974e201d9 button.colab-df-convert');\n",
              "        buttonEl.style.display =\n",
              "          google.colab.kernel.accessAllowed ? 'block' : 'none';\n",
              "\n",
              "        async function convertToInteractive(key) {\n",
              "          const element = document.querySelector('#df-4a644bc1-1ba0-481c-8d0d-c0e974e201d9');\n",
              "          const dataTable =\n",
              "            await google.colab.kernel.invokeFunction('convertToInteractive',\n",
              "                                                     [key], {});\n",
              "          if (!dataTable) return;\n",
              "\n",
              "          const docLinkHtml = 'Like what you see? Visit the ' +\n",
              "            '<a target=\"_blank\" href=https://colab.research.google.com/notebooks/data_table.ipynb>data table notebook</a>'\n",
              "            + ' to learn more about interactive tables.';\n",
              "          element.innerHTML = '';\n",
              "          dataTable['output_type'] = 'display_data';\n",
              "          await google.colab.output.renderOutput(dataTable, element);\n",
              "          const docLink = document.createElement('div');\n",
              "          docLink.innerHTML = docLinkHtml;\n",
              "          element.appendChild(docLink);\n",
              "        }\n",
              "      </script>\n",
              "    </div>\n",
              "  </div>\n",
              "  "
            ]
          },
          "metadata": {},
          "execution_count": 158
        }
      ]
    },
    {
      "cell_type": "code",
      "source": [
        "album_name = spotify.groupby(['track_genre']).agg({'danceability': 'mean','album_name' : 'count', 'track_id' : 'count'}).reset_index()\n",
        "top50_order_dance = album_name.sort_values(by=('danceability'), ascending=False)\n"
      ],
      "metadata": {
        "id": "YlvVog5T3Q-b"
      },
      "execution_count": null,
      "outputs": []
    },
    {
      "cell_type": "code",
      "source": [
        "top50_order_dance"
      ],
      "metadata": {
        "id": "I22PfgiD3ZeF",
        "outputId": "69f518e6-547d-49cd-ffb5-584aba71c21c",
        "colab": {
          "base_uri": "https://localhost:8080/",
          "height": 424
        }
      },
      "execution_count": null,
      "outputs": [
        {
          "output_type": "execute_result",
          "data": {
            "text/plain": [
              "       track_genre  danceability  album_name  track_id\n",
              "66            kids      0.778906        1000      1000\n",
              "13   chicago-house      0.766176        1000      1000\n",
              "89       reggaeton      0.758521        1000      1000\n",
              "68          latino      0.757057        1000      1000\n",
              "88          reggae      0.745331        1000      1000\n",
              "..             ...           ...         ...       ...\n",
              "76           opera      0.313563        1000      1000\n",
              "59         iranian      0.300686        1000      1000\n",
              "6      black-metal      0.296411        1000      1000\n",
              "42       grindcore      0.271854        1000      1000\n",
              "101          sleep      0.167923        1000      1000\n",
              "\n",
              "[114 rows x 4 columns]"
            ],
            "text/html": [
              "\n",
              "  <div id=\"df-cddcf31f-0e8b-4181-8766-0e884b739188\">\n",
              "    <div class=\"colab-df-container\">\n",
              "      <div>\n",
              "<style scoped>\n",
              "    .dataframe tbody tr th:only-of-type {\n",
              "        vertical-align: middle;\n",
              "    }\n",
              "\n",
              "    .dataframe tbody tr th {\n",
              "        vertical-align: top;\n",
              "    }\n",
              "\n",
              "    .dataframe thead th {\n",
              "        text-align: right;\n",
              "    }\n",
              "</style>\n",
              "<table border=\"1\" class=\"dataframe\">\n",
              "  <thead>\n",
              "    <tr style=\"text-align: right;\">\n",
              "      <th></th>\n",
              "      <th>track_genre</th>\n",
              "      <th>danceability</th>\n",
              "      <th>album_name</th>\n",
              "      <th>track_id</th>\n",
              "    </tr>\n",
              "  </thead>\n",
              "  <tbody>\n",
              "    <tr>\n",
              "      <th>66</th>\n",
              "      <td>kids</td>\n",
              "      <td>0.778906</td>\n",
              "      <td>1000</td>\n",
              "      <td>1000</td>\n",
              "    </tr>\n",
              "    <tr>\n",
              "      <th>13</th>\n",
              "      <td>chicago-house</td>\n",
              "      <td>0.766176</td>\n",
              "      <td>1000</td>\n",
              "      <td>1000</td>\n",
              "    </tr>\n",
              "    <tr>\n",
              "      <th>89</th>\n",
              "      <td>reggaeton</td>\n",
              "      <td>0.758521</td>\n",
              "      <td>1000</td>\n",
              "      <td>1000</td>\n",
              "    </tr>\n",
              "    <tr>\n",
              "      <th>68</th>\n",
              "      <td>latino</td>\n",
              "      <td>0.757057</td>\n",
              "      <td>1000</td>\n",
              "      <td>1000</td>\n",
              "    </tr>\n",
              "    <tr>\n",
              "      <th>88</th>\n",
              "      <td>reggae</td>\n",
              "      <td>0.745331</td>\n",
              "      <td>1000</td>\n",
              "      <td>1000</td>\n",
              "    </tr>\n",
              "    <tr>\n",
              "      <th>...</th>\n",
              "      <td>...</td>\n",
              "      <td>...</td>\n",
              "      <td>...</td>\n",
              "      <td>...</td>\n",
              "    </tr>\n",
              "    <tr>\n",
              "      <th>76</th>\n",
              "      <td>opera</td>\n",
              "      <td>0.313563</td>\n",
              "      <td>1000</td>\n",
              "      <td>1000</td>\n",
              "    </tr>\n",
              "    <tr>\n",
              "      <th>59</th>\n",
              "      <td>iranian</td>\n",
              "      <td>0.300686</td>\n",
              "      <td>1000</td>\n",
              "      <td>1000</td>\n",
              "    </tr>\n",
              "    <tr>\n",
              "      <th>6</th>\n",
              "      <td>black-metal</td>\n",
              "      <td>0.296411</td>\n",
              "      <td>1000</td>\n",
              "      <td>1000</td>\n",
              "    </tr>\n",
              "    <tr>\n",
              "      <th>42</th>\n",
              "      <td>grindcore</td>\n",
              "      <td>0.271854</td>\n",
              "      <td>1000</td>\n",
              "      <td>1000</td>\n",
              "    </tr>\n",
              "    <tr>\n",
              "      <th>101</th>\n",
              "      <td>sleep</td>\n",
              "      <td>0.167923</td>\n",
              "      <td>1000</td>\n",
              "      <td>1000</td>\n",
              "    </tr>\n",
              "  </tbody>\n",
              "</table>\n",
              "<p>114 rows × 4 columns</p>\n",
              "</div>\n",
              "      <button class=\"colab-df-convert\" onclick=\"convertToInteractive('df-cddcf31f-0e8b-4181-8766-0e884b739188')\"\n",
              "              title=\"Convert this dataframe to an interactive table.\"\n",
              "              style=\"display:none;\">\n",
              "        \n",
              "  <svg xmlns=\"http://www.w3.org/2000/svg\" height=\"24px\"viewBox=\"0 0 24 24\"\n",
              "       width=\"24px\">\n",
              "    <path d=\"M0 0h24v24H0V0z\" fill=\"none\"/>\n",
              "    <path d=\"M18.56 5.44l.94 2.06.94-2.06 2.06-.94-2.06-.94-.94-2.06-.94 2.06-2.06.94zm-11 1L8.5 8.5l.94-2.06 2.06-.94-2.06-.94L8.5 2.5l-.94 2.06-2.06.94zm10 10l.94 2.06.94-2.06 2.06-.94-2.06-.94-.94-2.06-.94 2.06-2.06.94z\"/><path d=\"M17.41 7.96l-1.37-1.37c-.4-.4-.92-.59-1.43-.59-.52 0-1.04.2-1.43.59L10.3 9.45l-7.72 7.72c-.78.78-.78 2.05 0 2.83L4 21.41c.39.39.9.59 1.41.59.51 0 1.02-.2 1.41-.59l7.78-7.78 2.81-2.81c.8-.78.8-2.07 0-2.86zM5.41 20L4 18.59l7.72-7.72 1.47 1.35L5.41 20z\"/>\n",
              "  </svg>\n",
              "      </button>\n",
              "      \n",
              "  <style>\n",
              "    .colab-df-container {\n",
              "      display:flex;\n",
              "      flex-wrap:wrap;\n",
              "      gap: 12px;\n",
              "    }\n",
              "\n",
              "    .colab-df-convert {\n",
              "      background-color: #E8F0FE;\n",
              "      border: none;\n",
              "      border-radius: 50%;\n",
              "      cursor: pointer;\n",
              "      display: none;\n",
              "      fill: #1967D2;\n",
              "      height: 32px;\n",
              "      padding: 0 0 0 0;\n",
              "      width: 32px;\n",
              "    }\n",
              "\n",
              "    .colab-df-convert:hover {\n",
              "      background-color: #E2EBFA;\n",
              "      box-shadow: 0px 1px 2px rgba(60, 64, 67, 0.3), 0px 1px 3px 1px rgba(60, 64, 67, 0.15);\n",
              "      fill: #174EA6;\n",
              "    }\n",
              "\n",
              "    [theme=dark] .colab-df-convert {\n",
              "      background-color: #3B4455;\n",
              "      fill: #D2E3FC;\n",
              "    }\n",
              "\n",
              "    [theme=dark] .colab-df-convert:hover {\n",
              "      background-color: #434B5C;\n",
              "      box-shadow: 0px 1px 3px 1px rgba(0, 0, 0, 0.15);\n",
              "      filter: drop-shadow(0px 1px 2px rgba(0, 0, 0, 0.3));\n",
              "      fill: #FFFFFF;\n",
              "    }\n",
              "  </style>\n",
              "\n",
              "      <script>\n",
              "        const buttonEl =\n",
              "          document.querySelector('#df-cddcf31f-0e8b-4181-8766-0e884b739188 button.colab-df-convert');\n",
              "        buttonEl.style.display =\n",
              "          google.colab.kernel.accessAllowed ? 'block' : 'none';\n",
              "\n",
              "        async function convertToInteractive(key) {\n",
              "          const element = document.querySelector('#df-cddcf31f-0e8b-4181-8766-0e884b739188');\n",
              "          const dataTable =\n",
              "            await google.colab.kernel.invokeFunction('convertToInteractive',\n",
              "                                                     [key], {});\n",
              "          if (!dataTable) return;\n",
              "\n",
              "          const docLinkHtml = 'Like what you see? Visit the ' +\n",
              "            '<a target=\"_blank\" href=https://colab.research.google.com/notebooks/data_table.ipynb>data table notebook</a>'\n",
              "            + ' to learn more about interactive tables.';\n",
              "          element.innerHTML = '';\n",
              "          dataTable['output_type'] = 'display_data';\n",
              "          await google.colab.output.renderOutput(dataTable, element);\n",
              "          const docLink = document.createElement('div');\n",
              "          docLink.innerHTML = docLinkHtml;\n",
              "          element.appendChild(docLink);\n",
              "        }\n",
              "      </script>\n",
              "    </div>\n",
              "  </div>\n",
              "  "
            ]
          },
          "metadata": {},
          "execution_count": 157
        }
      ]
    },
    {
      "cell_type": "code",
      "source": [
        "dfp= spotify.groupby('track_genre')['album_name'].count()\n",
        "dfp"
      ],
      "metadata": {
        "id": "w-8u1og05GeN",
        "outputId": "92f0c0d5-c30d-4106-ac4f-262d72d70a09",
        "colab": {
          "base_uri": "https://localhost:8080/"
        }
      },
      "execution_count": null,
      "outputs": [
        {
          "output_type": "execute_result",
          "data": {
            "text/plain": [
              "track_genre\n",
              "acoustic       1000\n",
              "afrobeat       1000\n",
              "alt-rock       1000\n",
              "alternative    1000\n",
              "ambient        1000\n",
              "               ... \n",
              "techno         1000\n",
              "trance         1000\n",
              "trip-hop       1000\n",
              "turkish        1000\n",
              "world-music    1000\n",
              "Name: album_name, Length: 114, dtype: int64"
            ]
          },
          "metadata": {},
          "execution_count": 168
        }
      ]
    },
    {
      "cell_type": "code",
      "source": [
        "dfp_id= spotify.groupby('track_genre')['track_name'].count()\n",
        "dfp_id"
      ],
      "metadata": {
        "id": "xse1tOou5VtT",
        "outputId": "249098c7-1cdc-42b8-daa2-d618254d670d",
        "colab": {
          "base_uri": "https://localhost:8080/"
        }
      },
      "execution_count": null,
      "outputs": [
        {
          "output_type": "execute_result",
          "data": {
            "text/plain": [
              "track_genre\n",
              "acoustic       1000\n",
              "afrobeat       1000\n",
              "alt-rock       1000\n",
              "alternative    1000\n",
              "ambient        1000\n",
              "               ... \n",
              "techno         1000\n",
              "trance         1000\n",
              "trip-hop       1000\n",
              "turkish        1000\n",
              "world-music    1000\n",
              "Name: track_name, Length: 114, dtype: int64"
            ]
          },
          "metadata": {},
          "execution_count": 171
        }
      ]
    },
    {
      "cell_type": "code",
      "source": [
        "random_final_3['album_name'].value_counts()"
      ],
      "metadata": {
        "id": "ZEI_r72YmNLY",
        "outputId": "9a657926-c85f-429a-9acf-ca51b54e091e",
        "colab": {
          "base_uri": "https://localhost:8080/"
        }
      },
      "execution_count": null,
      "outputs": [
        {
          "output_type": "execute_result",
          "data": {
            "text/plain": [
              "Christmas Classics                     12\n",
              "Santa Claus Is Coming To Town          10\n",
              "Christmas 2022                          9\n",
              "Christmas Music - Holiday Hits          9\n",
              "Hit After Hit                           8\n",
              "                                       ..\n",
              "Internet Sensations                     1\n",
              "For the Girls: Summer Hits              1\n",
              "US Pop 20s                              1\n",
              "Loki- The Complete Fantasy Playlist     1\n",
              "Halloween Scary Party                   1\n",
              "Name: album_name, Length: 193, dtype: int64"
            ]
          },
          "metadata": {},
          "execution_count": 146
        }
      ]
    },
    {
      "cell_type": "code",
      "source": [
        "random_final_3['popularity'].value_counts()"
      ],
      "metadata": {
        "id": "4VKDyhkEysks",
        "outputId": "a10e176d-72cf-4b5f-b58a-25fbb28e953d",
        "colab": {
          "base_uri": "https://localhost:8080/"
        }
      },
      "execution_count": null,
      "outputs": [
        {
          "output_type": "execute_result",
          "data": {
            "text/plain": [
              "0     1012\n",
              "44     103\n",
              "43      98\n",
              "45      96\n",
              "1       92\n",
              "      ... \n",
              "84       2\n",
              "85       1\n",
              "86       1\n",
              "87       1\n",
              "88       1\n",
              "Name: popularity, Length: 89, dtype: int64"
            ]
          },
          "metadata": {},
          "execution_count": 135
        }
      ]
    },
    {
      "cell_type": "code",
      "source": [
        "random_final_2['popularity'].value_counts()"
      ],
      "metadata": {
        "id": "cnoRvqMEzUmL",
        "outputId": "bb7c009e-b6ef-4289-b324-f1e525b1046c",
        "colab": {
          "base_uri": "https://localhost:8080/"
        }
      },
      "execution_count": null,
      "outputs": [
        {
          "output_type": "execute_result",
          "data": {
            "text/plain": [
              "0    493\n",
              "2      3\n",
              "1      2\n",
              "Name: popularity, dtype: int64"
            ]
          },
          "metadata": {},
          "execution_count": 137
        }
      ]
    },
    {
      "cell_type": "code",
      "source": [
        "spotify['popularity'].value_counts()"
      ],
      "metadata": {
        "id": "cqACk_BUzPV4",
        "outputId": "183f55e7-14ae-4ee7-ab39-6354a9d61833",
        "colab": {
          "base_uri": "https://localhost:8080/"
        }
      },
      "execution_count": null,
      "outputs": [
        {
          "output_type": "execute_result",
          "data": {
            "text/plain": [
              "0      16019\n",
              "22      2354\n",
              "21      2344\n",
              "44      2288\n",
              "1       2140\n",
              "       ...  \n",
              "96         7\n",
              "94         7\n",
              "95         5\n",
              "100        2\n",
              "99         1\n",
              "Name: popularity, Length: 101, dtype: int64"
            ]
          },
          "metadata": {},
          "execution_count": 136
        }
      ]
    },
    {
      "cell_type": "code",
      "source": [
        "sns.histplot(data=random_final_3, x=\"popularity\")"
      ],
      "metadata": {
        "id": "GkYtzvnxuyv_",
        "outputId": "78bec183-56d2-4af7-c4e7-57ed1e83107f",
        "colab": {
          "base_uri": "https://localhost:8080/",
          "height": 296
        }
      },
      "execution_count": null,
      "outputs": [
        {
          "output_type": "execute_result",
          "data": {
            "text/plain": [
              "<matplotlib.axes._subplots.AxesSubplot at 0x7fa0b6a68f40>"
            ]
          },
          "metadata": {},
          "execution_count": 123
        },
        {
          "output_type": "display_data",
          "data": {
            "text/plain": [
              "<Figure size 432x288 with 1 Axes>"
            ],
            "image/png": "[encoded data removed]"
          },
          "metadata": {
            "needs_background": "light"
          }
        }
      ]
    },
    {
      "cell_type": "code",
      "source": [
        "sns.histplot(data=random_final_2, x=\"popularity\")"
      ],
      "metadata": {
        "id": "NLntPPp7vzcp",
        "outputId": "93ad1456-a70e-4dce-e350-9a057a3394d2",
        "colab": {
          "base_uri": "https://localhost:8080/",
          "height": 296
        }
      },
      "execution_count": null,
      "outputs": [
        {
          "output_type": "execute_result",
          "data": {
            "text/plain": [
              "<matplotlib.axes._subplots.AxesSubplot at 0x7fa0b9ea9ca0>"
            ]
          },
          "metadata": {},
          "execution_count": 116
        },
        {
          "output_type": "display_data",
          "data": {
            "text/plain": [
              "<Figure size 432x288 with 1 Axes>"
            ],
            "image/png": "[encoded data removed]"
          },
          "metadata": {
            "needs_background": "light"
          }
        }
      ]
    },
    {
      "cell_type": "code",
      "source": [
        "sns.histplot(data=spotify, x=\"popularity\")"
      ],
      "metadata": {
        "id": "ss6O2e90vLnj",
        "outputId": "6efaadd5-b0de-4f72-e966-797fa6846193",
        "colab": {
          "base_uri": "https://localhost:8080/",
          "height": 296
        }
      },
      "execution_count": null,
      "outputs": [
        {
          "output_type": "execute_result",
          "data": {
            "text/plain": [
              "<matplotlib.axes._subplots.AxesSubplot at 0x7fa0ba8b6640>"
            ]
          },
          "metadata": {},
          "execution_count": 113
        },
        {
          "output_type": "display_data",
          "data": {
            "text/plain": [
              "<Figure size 432x288 with 1 Axes>"
            ],
            "image/png": "[encoded data removed]"
          },
          "metadata": {
            "needs_background": "light"
          }
        }
      ]
    },
    {
      "cell_type": "code",
      "source": [
        "sns.histplot(data=spotify, x=\"track_genre\")\n"
      ],
      "metadata": {
        "id": "1GUu1Gm6w1ah",
        "outputId": "df9ba1d0-3035-49b9-b916-1bfd8b018ba5",
        "colab": {
          "base_uri": "https://localhost:8080/",
          "height": 297
        }
      },
      "execution_count": null,
      "outputs": [
        {
          "output_type": "execute_result",
          "data": {
            "text/plain": [
              "<matplotlib.axes._subplots.AxesSubplot at 0x7fa09e5e1c10>"
            ]
          },
          "metadata": {},
          "execution_count": 124
        },
        {
          "output_type": "display_data",
          "data": {
            "text/plain": [
              "<Figure size 432x288 with 1 Axes>"
            ],
            "image/png": "[encoded data removed]"
          },
          "metadata": {
            "needs_background": "light"
          }
        }
      ]
    },
    {
      "cell_type": "code",
      "source": [
        "sns.histplot(data=random_final_2, x=\"track_genre\")\n"
      ],
      "metadata": {
        "id": "zHkB3d8cw78T",
        "outputId": "ac639b74-e5b9-4bfa-a1ed-333fafc720ed",
        "colab": {
          "base_uri": "https://localhost:8080/",
          "height": 297
        }
      },
      "execution_count": null,
      "outputs": [
        {
          "output_type": "execute_result",
          "data": {
            "text/plain": [
              "<matplotlib.axes._subplots.AxesSubplot at 0x7fa0ba9efb80>"
            ]
          },
          "metadata": {},
          "execution_count": 125
        },
        {
          "output_type": "display_data",
          "data": {
            "text/plain": [
              "<Figure size 432x288 with 1 Axes>"
            ],
            "image/png": "[encoded data removed]"
          },
          "metadata": {
            "needs_background": "light"
          }
        }
      ]
    },
    {
      "cell_type": "code",
      "source": [
        "sns.histplot(data=random_final_3, x=\"track_genre\")"
      ],
      "metadata": {
        "id": "y9F8Ix4rw_rm",
        "outputId": "a8b940f5-a52e-4843-a395-9a85be1095b5",
        "colab": {
          "base_uri": "https://localhost:8080/",
          "height": 297
        }
      },
      "execution_count": null,
      "outputs": [
        {
          "output_type": "execute_result",
          "data": {
            "text/plain": [
              "<matplotlib.axes._subplots.AxesSubplot at 0x7fa0ba9ec520>"
            ]
          },
          "metadata": {},
          "execution_count": 126
        },
        {
          "output_type": "display_data",
          "data": {
            "text/plain": [
              "<Figure size 432x288 with 1 Axes>"
            ],
            "image/png": "[encoded data removed]"
          },
          "metadata": {
            "needs_background": "light"
          }
        }
      ]
    },
    {
      "cell_type": "code",
      "source": [
        "sns.histplot(data=random_final_3, x=\"instrumentalness\")"
      ],
      "metadata": {
        "id": "ennXGFgCxHCk",
        "outputId": "9d6d6873-4672-4677-994c-db6233b17fb7",
        "colab": {
          "base_uri": "https://localhost:8080/",
          "height": 296
        }
      },
      "execution_count": null,
      "outputs": [
        {
          "output_type": "execute_result",
          "data": {
            "text/plain": [
              "<matplotlib.axes._subplots.AxesSubplot at 0x7fa0bc382c10>"
            ]
          },
          "metadata": {},
          "execution_count": 127
        },
        {
          "output_type": "display_data",
          "data": {
            "text/plain": [
              "<Figure size 432x288 with 1 Axes>"
            ],
            "image/png": "[encoded data removed]"
          },
          "metadata": {
            "needs_background": "light"
          }
        }
      ]
    },
    {
      "cell_type": "code",
      "source": [
        "fig, ax = plt.subplots(figsize=(25,8))\n",
        "sns.histplot(data=random_final_2, x=\"instrumentalness\")"
      ],
      "metadata": {
        "id": "0iQWZ6UIxLOS",
        "outputId": "901593db-284d-4bbe-8eda-fb4937c675ba",
        "colab": {
          "base_uri": "https://localhost:8080/",
          "height": 514
        }
      },
      "execution_count": null,
      "outputs": [
        {
          "output_type": "execute_result",
          "data": {
            "text/plain": [
              "<matplotlib.axes._subplots.AxesSubplot at 0x7fa0730c0100>"
            ]
          },
          "metadata": {},
          "execution_count": 134
        },
        {
          "output_type": "display_data",
          "data": {
            "text/plain": [
              "<Figure size 1800x576 with 1 Axes>"
            ],
            "image/png": "[encoded data removed]"
          },
          "metadata": {
            "needs_background": "light"
          }
        }
      ]
    },
    {
      "cell_type": "code",
      "source": [
        "import matplotlib.pyplot as plt \n",
        "\n",
        "fig, ax = plt.subplots(figsize=(25,8))\n",
        "\n",
        "sns.histplot(data=spotify, x=\"instrumentalness\")"
      ],
      "metadata": {
        "id": "Nt9Kl-iXx9fR",
        "outputId": "7471bfaa-3296-41d6-b42b-8a083f57b0b4",
        "colab": {
          "base_uri": "https://localhost:8080/",
          "height": 514
        }
      },
      "execution_count": null,
      "outputs": [
        {
          "output_type": "execute_result",
          "data": {
            "text/plain": [
              "<matplotlib.axes._subplots.AxesSubplot at 0x7fa0751e4a30>"
            ]
          },
          "metadata": {},
          "execution_count": 133
        },
        {
          "output_type": "display_data",
          "data": {
            "text/plain": [
              "<Figure size 1800x576 with 1 Axes>"
            ],
            "image/png": "[encoded data removed]"
          },
          "metadata": {
            "needs_background": "light"
          }
        }
      ]
    },
    {
      "cell_type": "code",
      "source": [
        "spotify['instrumentalness'].value_counts()"
      ],
      "metadata": {
        "id": "vXm3FjOA0pSv",
        "outputId": "cefb0b60-d5a3-4c30-cb34-192862c7b3ac",
        "colab": {
          "base_uri": "https://localhost:8080/"
        }
      },
      "execution_count": null,
      "outputs": [
        {
          "output_type": "execute_result",
          "data": {
            "text/plain": [
              "0.000000    38763\n",
              "0.000036      166\n",
              "0.895000      122\n",
              "0.905000      122\n",
              "0.934000      121\n",
              "            ...  \n",
              "0.008730        1\n",
              "0.000010        1\n",
              "0.082400        1\n",
              "0.070500        1\n",
              "0.000072        1\n",
              "Name: instrumentalness, Length: 5346, dtype: int64"
            ]
          },
          "metadata": {},
          "execution_count": 138
        }
      ]
    },
    {
      "cell_type": "code",
      "source": [
        "random_final_2['instrumentalness'].value_counts()"
      ],
      "metadata": {
        "id": "-1TNhs4J0uBz",
        "outputId": "164998c7-c456-41f3-ca01-e72f80f97d5c",
        "colab": {
          "base_uri": "https://localhost:8080/"
        }
      },
      "execution_count": null,
      "outputs": [
        {
          "output_type": "execute_result",
          "data": {
            "text/plain": [
              "0.000000    269\n",
              "0.000036     16\n",
              "0.000141      7\n",
              "0.000001      6\n",
              "0.099600      5\n",
              "           ... \n",
              "0.000060      1\n",
              "0.085900      1\n",
              "0.000001      1\n",
              "0.002610      1\n",
              "0.002300      1\n",
              "Name: instrumentalness, Length: 109, dtype: int64"
            ]
          },
          "metadata": {},
          "execution_count": 139
        }
      ]
    },
    {
      "cell_type": "code",
      "source": [
        "random_final_3['instrumentalness'].value_counts()"
      ],
      "metadata": {
        "id": "OoHVzXk40xQE",
        "outputId": "b6a61eef-410a-4882-f739-844f7535b53c",
        "colab": {
          "base_uri": "https://localhost:8080/"
        }
      },
      "execution_count": null,
      "outputs": [
        {
          "output_type": "execute_result",
          "data": {
            "text/plain": [
              "0.000000    4142\n",
              "0.000036      16\n",
              "0.000141       7\n",
              "0.000001       6\n",
              "0.099600       5\n",
              "            ... \n",
              "0.000021       1\n",
              "0.000018       1\n",
              "0.002300       1\n",
              "0.000088       1\n",
              "0.934000       1\n",
              "Name: instrumentalness, Length: 125, dtype: int64"
            ]
          },
          "metadata": {},
          "execution_count": 140
        }
      ]
    },
    {
      "cell_type": "code",
      "source": [
        "sns.histplot(data=spotify, x=\"energy\")"
      ],
      "metadata": {
        "id": "mBnIN0ZX1iyd",
        "outputId": "f22df1be-2b6f-432d-a892-f9e100668b12",
        "colab": {
          "base_uri": "https://localhost:8080/",
          "height": 298
        }
      },
      "execution_count": null,
      "outputs": [
        {
          "output_type": "execute_result",
          "data": {
            "text/plain": [
              "<matplotlib.axes._subplots.AxesSubplot at 0x7fa074700310>"
            ]
          },
          "metadata": {},
          "execution_count": 143
        },
        {
          "output_type": "display_data",
          "data": {
            "text/plain": [
              "<Figure size 432x288 with 1 Axes>"
            ],
            "image/png": "[encoded data removed]"
          },
          "metadata": {
            "needs_background": "light"
          }
        }
      ]
    },
    {
      "cell_type": "code",
      "source": [
        "sns.histplot(data=random_final_3, x=\"energy\")"
      ],
      "metadata": {
        "id": "nmXNt9TP1nm1",
        "outputId": "5870d61c-50cf-4abd-b453-c4f307160a2f",
        "colab": {
          "base_uri": "https://localhost:8080/",
          "height": 296
        }
      },
      "execution_count": null,
      "outputs": [
        {
          "output_type": "execute_result",
          "data": {
            "text/plain": [
              "<matplotlib.axes._subplots.AxesSubplot at 0x7fa033a15850>"
            ]
          },
          "metadata": {},
          "execution_count": 144
        },
        {
          "output_type": "display_data",
          "data": {
            "text/plain": [
              "<Figure size 432x288 with 1 Axes>"
            ],
            "image/png": "[encoded data removed]"
          },
          "metadata": {
            "needs_background": "light"
          }
        }
      ]
    },
    {
      "cell_type": "code",
      "source": [
        "sns.histplot(data=random_final_2, x=\"energy\")"
      ],
      "metadata": {
        "id": "bjKgEYFU1pp9",
        "outputId": "73312848-74c7-4da5-8358-de97c343ef97",
        "colab": {
          "base_uri": "https://localhost:8080/",
          "height": 296
        }
      },
      "execution_count": null,
      "outputs": [
        {
          "output_type": "execute_result",
          "data": {
            "text/plain": [
              "<matplotlib.axes._subplots.AxesSubplot at 0x7fa036bea220>"
            ]
          },
          "metadata": {},
          "execution_count": 145
        },
        {
          "output_type": "display_data",
          "data": {
            "text/plain": [
              "<Figure size 432x288 with 1 Axes>"
            ],
            "image/png": "[encoded data removed]"
          },
          "metadata": {
            "needs_background": "light"
          }
        }
      ]
    }
  ]
}