{
 "cells": [
  {
   "cell_type": "code",
   "execution_count": 52,
   "metadata": {},
   "outputs": [],
   "source": [
    "import pandas as pd"
   ]
  },
  {
   "cell_type": "code",
   "execution_count": 53,
   "metadata": {},
   "outputs": [
    {
     "name": "stdout",
     "output_type": "stream",
     "text": [
      "<!DOCTYPE html>\n",
      "<html itemscope=\"\" itemtype=\"http://schema.org/WebPage\" lang=\"pt-PT\">\n",
      " <head>\n",
      "  <meta content=\"text/html; charset=utf-8\" http-equiv=\"Content-Type\"/>\n",
      "  <meta content=\"/images/branding/googleg/1x/googleg_standard_color_128dp.png\" itemprop=\"image\"/>\n",
      "  <title>\n",
      "   Google\n",
      "  </title>\n",
      "  <script nonce=\"-fLWeJVv3DQccRJDjnj3pg\">\n",
      "   (function(){window.google={kEI:'K7SQY4y3H5Ks0PEPqI6y4Ak',kEXPI:'0,1359409,6059,206,2415,2389,2316,383,246,5,5367,1123753,1197747,380744,16114,19398,9286,22430,1362,12313,4751,12835,4998,13228,3847,10622,22741,5081,1593,1279,2742,149,1103,840,2196,4101,109,3405,606,2023,2297,6342,8328,3227,2845,7,33770,1851,2614,13142,3,576,6460,148,13975,4,1528,2304,7039,27731,7356,13659,4437,16786,5803,2554,4094,17,4035,3,3541,1,8710,5552,27892,2,14022,6249,1397,18093,5679,1020,2380,28743,4567,6259,23418,1252,5835,14967,4333,5,7479,25076,2006,8155,6680,701,15969,874,19633,7,1922,5784,3995,5864,15915,9543,4832,26503,5797,11,3073,11352,3890,751,8609,1255,4280,1421,221,1401,1778,1887,321,1644,1119,6,8121,3,785,327,1959,3696,1742,813,3820,40,82,1419,565,404,587,1388,707,171,269,399,155,367,1034,333,3392,144,12,289,81,400,470,960,3,261,524,2,216,1474,500,1537,342,764,98,334,1,843,1273,14,89,947,857,306,13,1479,1640,234,41,12,4,3,458,43,12,39,597,2,567,482,771,83,818,1609,168,184,902,5,1164,355,108,3,18,109,67,67,614,5,172,78,125,446,147,27,339,316,242,1574,424,1,506,59,945,679,441,262,5,3,647,4,6,4,14,39,30,507,117,675,337,123,279,282,156,288,388,281,681,24,2,499,226,263,534,1276,211,182,378,5280059,5918,17,127,19,82,62,8798886,3452,795,2,19734,1,298,48,1755,1004,41,395,10,1,2,124,25,7,4,3,1,4,2,3,1,2,2,2,2,3,4,1,3,2,1,3,2,23947075,512,19,13,4041599,1964,3094,13578,3406,5595,11,3834,2175,2384,1510747',kBL:'ASTa'};google.sn='webhp';google.kHL='pt-PT';})();(function(){\n",
      "var f=this||self;var h,k=[];function l(a){for(var b;a&&(!a.getAttribute||!(b=a.getAttribute(\"eid\")));)a=a.parentNode;return b||h}function m(a){for(var b=null;a&&(!a.getAttribute||!(b=a.getAttribute(\"leid\")));)a=a.parentNode;return b}\n",
      "function n(a,b,c,d,g){var e=\"\";c||-1!==b.search(\"&ei=\")||(e=\"&ei=\"+l(d),-1===b.search(\"&lei=\")&&(d=m(d))&&(e+=\"&lei=\"+d));d=\"\";!c&&f._cshid&&-1===b.search(\"&cshid=\")&&\"slh\"!==a&&(d=\"&cshid=\"+f._cshid);c=c||\"/\"+(g||\"gen_204\")+\"?atyp=i&ct=\"+a+\"&cad=\"+b+e+\"&zx=\"+Date.now()+d;/^http:/i.test(c)&&\"https:\"===window.location.protocol&&(google.ml&&google.ml(Error(\"a\"),!1,{src:c,glmm:1}),c=\"\");return c};h=google.kEI;google.getEI=l;google.getLEI=m;google.ml=function(){return null};google.log=function(a,b,c,d,g){if(c=n(a,b,c,d,g)){a=new Image;var e=k.length;k[e]=a;a.onerror=a.onload=a.onabort=function(){delete k[e]};a.src=c}};google.logUrl=n;}).call(this);(function(){google.y={};google.sy=[];google.x=function(a,b){if(a)var c=a.id;else{do c=Math.random();while(google.y[c])}google.y[c]=[a,b];return!1};google.sx=function(a){google.sy.push(a)};google.lm=[];google.plm=function(a){google.lm.push.apply(google.lm,a)};google.lq=[];google.load=function(a,b,c){google.lq.push([[a],b,c])};google.loadAll=function(a,b){google.lq.push([a,b])};google.bx=!1;google.lx=function(){};}).call(this);google.f={};(function(){\n",
      "document.documentElement.addEventListener(\"submit\",function(b){var a;if(a=b.target){var c=a.getAttribute(\"data-submitfalse\");a=\"1\"===c||\"q\"===c&&!a.elements.q.value?!0:!1}else a=!1;a&&(b.preventDefault(),b.stopPropagation())},!0);document.documentElement.addEventListener(\"click\",function(b){var a;a:{for(a=b.target;a&&a!==document.documentElement;a=a.parentElement)if(\"A\"===a.tagName){a=\"1\"===a.getAttribute(\"data-nohref\");break a}a=!1}a&&b.preventDefault()},!0);}).call(this);\n",
      "  </script>\n",
      "  <style>\n",
      "   #gbar,#guser{font-size:13px;padding-top:1px !important;}#gbar{height:22px}#guser{padding-bottom:7px !important;text-align:right}.gbh,.gbd{border-top:1px solid #c9d7f1;font-size:1px}.gbh{height:0;position:absolute;top:24px;width:100%}@media all{.gb1{height:22px;margin-right:.5em;vertical-align:top}#gbar{float:left}}a.gb1,a.gb4{text-decoration:underline !important}a.gb1,a.gb4{color:#00c !important}.gbi .gb4{color:#dd8e27 !important}.gbf .gb4{color:#900 !important}\n",
      "  </style>\n",
      "  <style>\n",
      "   body,td,a,p,.h{font-family:arial,sans-serif}body{margin:0;overflow-y:scroll}#gog{padding:3px 8px 0}td{line-height:.8em}.gac_m td{line-height:17px}form{margin-bottom:20px}.h{color:#1558d6}em{font-weight:bold;font-style:normal}.lst{height:25px;width:496px}.gsfi,.lst{font:18px arial,sans-serif}.gsfs{font:17px arial,sans-serif}.ds{display:inline-box;display:inline-block;margin:3px 0 4px;margin-left:4px}input{font-family:inherit}body{background:#fff;color:#000}a{color:#4b11a8;text-decoration:none}a:hover,a:active{text-decoration:underline}.fl a{color:#1558d6}a:visited{color:#4b11a8}.sblc{padding-top:5px}.sblc a{display:block;margin:2px 0;margin-left:13px;font-size:11px}.lsbb{background:#f8f9fa;border:solid 1px;border-color:#dadce0 #70757a #70757a #dadce0;height:30px}.lsbb{display:block}#WqQANb a{display:inline-block;margin:0 12px}.lsb{background:url(/images/nav_logo229.png) 0 -261px repeat-x;border:none;color:#000;cursor:pointer;height:30px;margin:0;outline:0;font:15px arial,sans-serif;vertical-align:top}.lsb:active{background:#dadce0}.lst:focus{outline:none}.Ucigb{width:458px}\n",
      "  </style>\n",
      "  <script nonce=\"-fLWeJVv3DQccRJDjnj3pg\">\n",
      "   (function(){window.google.erd={jsr:1,bv:1699,de:true};\n",
      "var h=this||self;var k,l=null!=(k=h.mei)?k:1,n,p=null!=(n=h.sdo)?n:!0,q=0,r,t=google.erd,v=t.jsr;google.ml=function(a,b,d,m,e){e=void 0===e?2:e;b&&(r=a&&a.message);if(google.dl)return google.dl(a,e,d),null;if(0>v){window.console&&console.error(a,d);if(-2===v)throw a;b=!1}else b=!a||!a.message||\"Error loading script\"===a.message||q>=l&&!m?!1:!0;if(!b)return null;q++;d=d||{};b=encodeURIComponent;var c=\"/gen_204?atyp=i&ei=\"+b(google.kEI);google.kEXPI&&(c+=\"&jexpid=\"+b(google.kEXPI));c+=\"&srcpg=\"+b(google.sn)+\"&jsr=\"+b(t.jsr)+\"&bver=\"+b(t.bv);var f=a.lineNumber;void 0!==f&&(c+=\"&line=\"+f);var g=\n",
      "a.fileName;g&&(0<g.indexOf(\"-extension:/\")&&(e=3),c+=\"&script=\"+b(g),f&&g===window.location.href&&(f=document.documentElement.outerHTML.split(\"\\n\")[f],c+=\"&cad=\"+b(f?f.substring(0,300):\"No script found.\")));c+=\"&jsel=\"+e;for(var u in d)c+=\"&\",c+=b(u),c+=\"=\",c+=b(d[u]);c=c+\"&emsg=\"+b(a.name+\": \"+a.message);c=c+\"&jsst=\"+b(a.stack||\"N/A\");12288<=c.length&&(c=c.substr(0,12288));a=c;m||google.log(0,\"\",a);return a};window.onerror=function(a,b,d,m,e){r!==a&&(a=e instanceof Error?e:Error(a),void 0===d||\"lineNumber\"in a||(a.lineNumber=d),void 0===b||\"fileName\"in a||(a.fileName=b),google.ml(a,!1,void 0,!1,\"SyntaxError\"===a.name||\"SyntaxError\"===a.message.substring(0,11)||-1!==a.message.indexOf(\"Script error\")?3:0));r=null;p&&q>=l&&(window.onerror=null)};})();\n",
      "  </script>\n",
      " </head>\n",
      " <body bgcolor=\"#fff\">\n",
      "  <script nonce=\"-fLWeJVv3DQccRJDjnj3pg\">\n",
      "   (function(){var src='/images/nav_logo229.png';var iesg=false;document.body.onload = function(){window.n && window.n();if (document.images){new Image().src=src;}\n",
      "if (!iesg){document.f&&document.f.q.focus();document.gbqf&&document.gbqf.q.focus();}\n",
      "}\n",
      "})();\n",
      "  </script>\n",
      "  <div id=\"mngb\">\n",
      "   <div id=\"gbar\">\n",
      "    <nobr>\n",
      "     <b class=\"gb1\">\n",
      "      Pesquisa\n",
      "     </b>\n",
      "     <a class=\"gb1\" href=\"https://www.google.pt/imghp?hl=pt-PT&amp;tab=wi\">\n",
      "      Imagens\n",
      "     </a>\n",
      "     <a class=\"gb1\" href=\"https://maps.google.pt/maps?hl=pt-PT&amp;tab=wl\">\n",
      "      Maps\n",
      "     </a>\n",
      "     <a class=\"gb1\" href=\"https://play.google.com/?hl=pt-PT&amp;tab=w8\">\n",
      "      Play\n",
      "     </a>\n",
      "     <a class=\"gb1\" href=\"https://www.youtube.com/?tab=w1\">\n",
      "      YouTube\n",
      "     </a>\n",
      "     <a class=\"gb1\" href=\"https://news.google.com/?tab=wn\">\n",
      "      Notícias\n",
      "     </a>\n",
      "     <a class=\"gb1\" href=\"https://mail.google.com/mail/?tab=wm\">\n",
      "      Gmail\n",
      "     </a>\n",
      "     <a class=\"gb1\" href=\"https://drive.google.com/?tab=wo\">\n",
      "      Drive\n",
      "     </a>\n",
      "     <a class=\"gb1\" href=\"https://www.google.pt/intl/pt-PT/about/products?tab=wh\" style=\"text-decoration:none\">\n",
      "      <u>\n",
      "       Mais\n",
      "      </u>\n",
      "      »\n",
      "     </a>\n",
      "    </nobr>\n",
      "   </div>\n",
      "   <div id=\"guser\" width=\"100%\">\n",
      "    <nobr>\n",
      "     <span class=\"gbi\" id=\"gbn\">\n",
      "     </span>\n",
      "     <span class=\"gbf\" id=\"gbf\">\n",
      "     </span>\n",
      "     <span id=\"gbe\">\n",
      "     </span>\n",
      "     <a class=\"gb4\" href=\"http://www.google.pt/history/optout?hl=pt-PT\">\n",
      "      Histórico da Web\n",
      "     </a>\n",
      "     |\n",
      "     <a class=\"gb4\" href=\"/preferences?hl=pt-PT\">\n",
      "      Definições\n",
      "     </a>\n",
      "     |\n",
      "     <a class=\"gb4\" href=\"https://accounts.google.com/ServiceLogin?hl=pt-PT&amp;passive=true&amp;continue=https://www.google.com/&amp;ec=GAZAAQ\" id=\"gb_70\" target=\"_top\">\n",
      "      Entrar\n",
      "     </a>\n",
      "    </nobr>\n",
      "   </div>\n",
      "   <div class=\"gbh\" style=\"left:0\">\n",
      "   </div>\n",
      "   <div class=\"gbh\" style=\"right:0\">\n",
      "   </div>\n",
      "  </div>\n",
      "  <center>\n",
      "   <br clear=\"all\" id=\"lgpd\"/>\n",
      "   <div id=\"lga\">\n",
      "    <img alt=\"Google\" height=\"92\" id=\"hplogo\" src=\"/images/branding/googlelogo/1x/googlelogo_white_background_color_272x92dp.png\" style=\"padding:28px 0 14px\" width=\"272\"/>\n",
      "    <br/>\n",
      "    <br/>\n",
      "   </div>\n",
      "   <form action=\"/search\" name=\"f\">\n",
      "    <table cellpadding=\"0\" cellspacing=\"0\">\n",
      "     <tr valign=\"top\">\n",
      "      <td width=\"25%\">\n",
      "      </td>\n",
      "      <td align=\"center\" nowrap=\"\">\n",
      "       <input name=\"ie\" type=\"hidden\" value=\"ISO-8859-1\"/>\n",
      "       <input name=\"hl\" type=\"hidden\" value=\"pt-PT\"/>\n",
      "       <input name=\"source\" type=\"hidden\" value=\"hp\"/>\n",
      "       <input name=\"biw\" type=\"hidden\"/>\n",
      "       <input name=\"bih\" type=\"hidden\"/>\n",
      "       <div class=\"ds\" style=\"height:32px;margin:4px 0\">\n",
      "        <div style=\"position:relative;zoom:1\">\n",
      "         <input autocomplete=\"off\" class=\"lst Ucigb\" maxlength=\"2048\" name=\"q\" size=\"57\" style=\"margin:0;padding:5px 8px 0 6px;vertical-align:top;color:#000;padding-right:38px\" title=\"Pesquisa Google\" value=\"\"/>\n",
      "         <img alt=\"\" data-script-url=\"/textinputassistant/11/pt-PT_tia.js\" height=\"23\" id=\"tsuid_1\" src=\"/textinputassistant/tia.png\" style=\"position:absolute;cursor:pointer;right:5px;top:4px;z-index:300\" width=\"27\"/>\n",
      "         <script nonce=\"-fLWeJVv3DQccRJDjnj3pg\">\n",
      "          (function(){var id='tsuid_1';document.getElementById(id).onclick = function(){var s = document.createElement('script');s.src = this.getAttribute('data-script-url');(document.getElementById('xjsc')||document.body).appendChild(s);};})();\n",
      "         </script>\n",
      "        </div>\n",
      "       </div>\n",
      "       <br style=\"line-height:0\"/>\n",
      "       <span class=\"ds\">\n",
      "        <span class=\"lsbb\">\n",
      "         <input class=\"lsb\" name=\"btnG\" type=\"submit\" value=\"Pesquisa Google\"/>\n",
      "        </span>\n",
      "       </span>\n",
      "       <span class=\"ds\">\n",
      "        <span class=\"lsbb\">\n",
      "         <input class=\"lsb\" id=\"tsuid_2\" name=\"btnI\" type=\"submit\" value=\"Sinto-me com sorte\"/>\n",
      "         <script nonce=\"-fLWeJVv3DQccRJDjnj3pg\">\n",
      "          (function(){var id='tsuid_2';document.getElementById(id).onclick = function(){if (this.form.q.value){this.checked = 1;if (this.form.iflsig)this.form.iflsig.disabled = false;}\n",
      "else top.location='/doodles/';};})();\n",
      "         </script>\n",
      "         <input name=\"iflsig\" type=\"hidden\" value=\"AJiK0e8AAAAAY5DCO41mWaxyY7uputtWuHjNoJVfr0jV\"/>\n",
      "        </span>\n",
      "       </span>\n",
      "      </td>\n",
      "      <td align=\"left\" class=\"fl sblc\" nowrap=\"\" width=\"25%\">\n",
      "       <a href=\"/advanced_search?hl=pt-PT&amp;authuser=0\">\n",
      "        Pesquisa avançada\n",
      "       </a>\n",
      "      </td>\n",
      "     </tr>\n",
      "    </table>\n",
      "    <input id=\"gbv\" name=\"gbv\" type=\"hidden\" value=\"1\"/>\n",
      "    <script nonce=\"-fLWeJVv3DQccRJDjnj3pg\">\n",
      "     (function(){var a,b=\"1\";if(document&&document.getElementById)if(\"undefined\"!=typeof XMLHttpRequest)b=\"2\";else if(\"undefined\"!=typeof ActiveXObject){var c,d,e=[\"MSXML2.XMLHTTP.6.0\",\"MSXML2.XMLHTTP.3.0\",\"MSXML2.XMLHTTP\",\"Microsoft.XMLHTTP\"];for(c=0;d=e[c++];)try{new ActiveXObject(d),b=\"2\"}catch(h){}}a=b;if(\"2\"==a&&-1==location.search.indexOf(\"&gbv=2\")){var f=google.gbvu,g=document.getElementById(\"gbv\");g&&(g.value=a);f&&window.setTimeout(function(){location.href=f},0)};}).call(this);\n",
      "    </script>\n",
      "   </form>\n",
      "   <div id=\"gac_scont\">\n",
      "   </div>\n",
      "   <div style=\"font-size:83%;min-height:3.5em\">\n",
      "    <br/>\n",
      "   </div>\n",
      "   <span id=\"footer\">\n",
      "    <div style=\"font-size:10pt\">\n",
      "     <div id=\"WqQANb\" style=\"margin:19px auto;text-align:center\">\n",
      "      <a href=\"/intl/pt-PT/ads/\">\n",
      "       Soluções de publicidade\n",
      "      </a>\n",
      "      <a href=\"http://www.google.pt/intl/pt-PT/services/\">\n",
      "       Soluções empresariais\n",
      "      </a>\n",
      "      <a href=\"/intl/pt-PT/about.html\">\n",
      "       Tudo sobre a Google\n",
      "      </a>\n",
      "      <a href=\"https://www.google.com/setprefdomain?prefdom=PT&amp;prev=https://www.google.pt/&amp;sig=K_H1DaqmYV1Way3_rZFDiH_V3vVSk%3D\">\n",
      "       Google.pt\n",
      "      </a>\n",
      "     </div>\n",
      "    </div>\n",
      "    <p style=\"font-size:8pt;color:#70757a\">\n",
      "     © 2022 -\n",
      "     <a href=\"/intl/pt-PT/policies/privacy/\">\n",
      "      Privacidade\n",
      "     </a>\n",
      "     -\n",
      "     <a href=\"/intl/pt-PT/policies/terms/\">\n",
      "      Termos\n",
      "     </a>\n",
      "    </p>\n",
      "   </span>\n",
      "  </center>\n",
      "  <script nonce=\"-fLWeJVv3DQccRJDjnj3pg\">\n",
      "   (function(){window.google.cdo={height:757,width:1440};(function(){var a=window.innerWidth,b=window.innerHeight;if(!a||!b){var c=window.document,d=\"CSS1Compat\"==c.compatMode?c.documentElement:c.body;a=d.clientWidth;b=d.clientHeight}a&&b&&(a!=google.cdo.width||b!=google.cdo.height)&&google.log(\"\",\"\",\"/client_204?&atyp=i&biw=\"+a+\"&bih=\"+b+\"&ei=\"+google.kEI);}).call(this);})();\n",
      "  </script>\n",
      "  <script nonce=\"-fLWeJVv3DQccRJDjnj3pg\">\n",
      "   (function(){google.xjs={ck:'xjs.hp.JRDAiPnp180.L.X.O',cs:'ACT90oHPyWvaeMxTrdCzp5wKkwKtrxSdCw',excm:[]};})();\n",
      "  </script>\n",
      "  <script nonce=\"-fLWeJVv3DQccRJDjnj3pg\">\n",
      "   (function(){var u='/xjs/_/js/k\\x3dxjs.hp.en.UfODvAsspjM.O/am\\x3dAADoBABQAGAB/d\\x3d1/ed\\x3d1/rs\\x3dACT90oHJsGhAL3w7SvpJW9DYzudTjuqNBg/m\\x3dsb_he,d';var amd=0;\n",
      "var d=this||self,e=function(a){return a};var g;var l=function(a,b){this.g=b===h?a:\"\"};l.prototype.toString=function(){return this.g+\"\"};var h={};\n",
      "function m(){var a=u;google.lx=function(){p(a);google.lx=function(){}};google.bx||google.lx()}\n",
      "function p(a){google.timers&&google.timers.load&&google.tick&&google.tick(\"load\",\"xjsls\");var b=document;var c=\"SCRIPT\";\"application/xhtml+xml\"===b.contentType&&(c=c.toLowerCase());c=b.createElement(c);if(void 0===g){b=null;var k=d.trustedTypes;if(k&&k.createPolicy){try{b=k.createPolicy(\"goog#html\",{createHTML:e,createScript:e,createScriptURL:e})}catch(q){d.console&&d.console.error(q.message)}g=b}else g=b}a=(b=g)?b.createScriptURL(a):a;a=new l(a,h);c.src=a instanceof l&&a.constructor===l?a.g:\"type_error:TrustedResourceUrl\";var f,n;(f=(a=null==(n=(f=(c.ownerDocument&&c.ownerDocument.defaultView||window).document).querySelector)?void 0:n.call(f,\"script[nonce]\"))?a.nonce||a.getAttribute(\"nonce\")||\"\":\"\")&&c.setAttribute(\"nonce\",f);document.body.appendChild(c);google.psa=!0};google.xjsu=u;setTimeout(function(){0<amd?google.caft(function(){return m()},amd):m()},0);})();function _DumpException(e){throw e;}\n",
      "function _F_installCss(c){}\n",
      "(function(){google.jl={blt:'none',chnk:0,dw:false,dwu:true,emtn:0,end:0,ico:false,ikb:0,ine:false,injs:'none',injt:0,injth:0,injv2:false,lls:'default',pdt:0,rep:0,snet:true,strt:0,ubm:false,uwp:true};})();(function(){var pmc='{\\x22d\\x22:{},\\x22sb_he\\x22:{\\x22agen\\x22:true,\\x22cgen\\x22:true,\\x22client\\x22:\\x22heirloom-hp\\x22,\\x22dh\\x22:true,\\x22ds\\x22:\\x22\\x22,\\x22fl\\x22:true,\\x22host\\x22:\\x22google.com\\x22,\\x22jsonp\\x22:true,\\x22msgs\\x22:{\\x22cibl\\x22:\\x22Limpar pesquisa\\x22,\\x22dym\\x22:\\x22Será que quis dizer:\\x22,\\x22lcky\\x22:\\x22Sinto-me com sorte\\x22,\\x22lml\\x22:\\x22Saiba mais\\x22,\\x22psrc\\x22:\\x22Esta pesquisa foi removida do seu \\\\u003Ca href\\x3d\\\\\\x22/history\\\\\\x22\\\\u003Ehistórico da Web\\\\u003C/a\\\\u003E\\x22,\\x22psrl\\x22:\\x22Remover\\x22,\\x22sbit\\x22:\\x22Pesquisar por imagem\\x22,\\x22srch\\x22:\\x22Pesquisa Google\\x22},\\x22ovr\\x22:{},\\x22pq\\x22:\\x22\\x22,\\x22rfs\\x22:[],\\x22sbas\\x22:\\x220 3px 8px 0 rgba(0,0,0,0.2),0 0 0 1px rgba(0,0,0,0.08)\\x22,\\x22stok\\x22:\\x22GN_nGQkWa41U2cBEdhG1QRJsu_8\\x22}}';google.pmc=JSON.parse(pmc);})();\n",
      "  </script>\n",
      " </body>\n",
      "</html>\n"
     ]
    }
   ],
   "source": [
    "# Importing libraries\n",
    "import requests\n",
    "from bs4 import BeautifulSoup\n",
    "\n",
    "# Grab page with request\n",
    "# url = \"https://www.wildcodeschool.com/en-GB\"                           #Sometimes the data is in the code!!\n",
    "# url = \"https://www.farfetch.com/pt/shopping/women/clothing-1/items.aspx?page=1&view=90&sort=3&category=136227\"  #If you don't scroll down nothing happens\n",
    "# url = \"https://www.linkedin.com/feed/\"                                   #How are you going to get access?\n",
    "# url = \"https://www.glassdoor.com/Job/portugal-jobs-SRCH_IL.0,8_IN195.htm\"         #You need to insert info to get what you want\n",
    "url = \"https://www.google.com/\"\n",
    "html = requests.get(url)\n",
    "\n",
    "# Turn into BS page\n",
    "soup = BeautifulSoup(html.text, 'html.parser')\n",
    "print(soup.prettify())"
   ]
  },
  {
   "cell_type": "code",
   "execution_count": 54,
   "metadata": {},
   "outputs": [
    {
     "name": "stdout",
     "output_type": "stream",
     "text": [
      "Requirement already satisfied: webdriver-manager in c:\\users\\sebas\\appdata\\roaming\\python\\python39\\site-packages (3.8.5)\n",
      "Requirement already satisfied: packaging in c:\\users\\sebas\\.conda\\envs\\data\\lib\\site-packages (from webdriver-manager) (21.3)\n",
      "Requirement already satisfied: tqdm in c:\\users\\sebas\\.conda\\envs\\data\\lib\\site-packages (from webdriver-manager) (4.64.1)\n",
      "Requirement already satisfied: python-dotenv in c:\\users\\sebas\\appdata\\roaming\\python\\python39\\site-packages (from webdriver-manager) (0.21.0)\n",
      "Requirement already satisfied: requests in c:\\users\\sebas\\.conda\\envs\\data\\lib\\site-packages (from webdriver-manager) (2.28.1)\n",
      "Requirement already satisfied: pyparsing!=3.0.5,>=2.0.2 in c:\\users\\sebas\\.conda\\envs\\data\\lib\\site-packages (from packaging->webdriver-manager) (3.0.9)\n",
      "Requirement already satisfied: certifi>=2017.4.17 in c:\\users\\sebas\\.conda\\envs\\data\\lib\\site-packages (from requests->webdriver-manager) (2022.9.14)\n",
      "Requirement already satisfied: charset-normalizer<3,>=2 in c:\\users\\sebas\\.conda\\envs\\data\\lib\\site-packages (from requests->webdriver-manager) (2.0.4)\n",
      "Requirement already satisfied: urllib3<1.27,>=1.21.1 in c:\\users\\sebas\\.conda\\envs\\data\\lib\\site-packages (from requests->webdriver-manager) (1.26.11)\n",
      "Requirement already satisfied: idna<4,>=2.5 in c:\\users\\sebas\\.conda\\envs\\data\\lib\\site-packages (from requests->webdriver-manager) (3.3)\n",
      "Requirement already satisfied: colorama in c:\\users\\sebas\\.conda\\envs\\data\\lib\\site-packages (from tqdm->webdriver-manager) (0.4.5)\n"
     ]
    }
   ],
   "source": [
    "!pip install webdriver-manager"
   ]
  },
  {
   "cell_type": "code",
   "execution_count": 55,
   "metadata": {},
   "outputs": [],
   "source": [
    "from bs4 import BeautifulSoup\n",
    "\n",
    "from getpass import getpass\n",
    "from selenium import webdriver\n",
    "from webdriver_manager.chrome import ChromeDriverManager\n",
    "from selenium.webdriver.common.keys import Keys\n",
    "import pandas as pd\n",
    "import re"
   ]
  },
  {
   "cell_type": "code",
   "execution_count": null,
   "metadata": {},
   "outputs": [],
   "source": [
    "https://www.google.com/search?q=yellow+submarine+lyrics&rlz=1C1JZAP_pt-BRPT1014PT1014&sxsrf=ALiCzsbbdJDmHvg6Uve3Rr019ockA8ocAw%3A1670339371517&ei=K1uPY_eLH4GLur4PorWcsAQ&ved=0ahUKEwi3zZKHo-X7AhWBhc4BHaIaB0YQ4dUDCA8&uact=5&oq=yellow+submarine+lyrics&gs_lcp=Cgxnd3Mtd2l6LXNlcnAQAzIFCAAQgAQyCAgAEIAEEMsBMggIABCABBDLATIICAAQgAQQywEyCAgAEIAEEMsBMggIABCABBDLATIICAAQgAQQywEyCAgAEIAEEMsBMggIABCABBDLATIICAAQgAQQywE6BAgAEEc6BAgAEEM6BQguEIAEOgQILhBDOggILhCABBDLAToHCAAQgAQQDToGCAAQHhANSgQIQRgASgQIRhgAUPsBWNkPYJcRaAFwAngAgAGWAYgBqAeSAQMzLjWYAQCgAQHIAQjAAQE&sclient=gws-wiz-serp\n",
    "Come Together \n",
    "https://www.google.com/search?q=come+together+lyrics\n",
    "https://www.google.com/search?q=yellow+submarine+lyrics\n",
    "https://www.google.com/search?q=(x)\n",
    "# x = (name music).lowerCase() split(+) + lyrics"
   ]
  },
  {
   "cell_type": "code",
   "execution_count": 56,
   "metadata": {},
   "outputs": [
    {
     "data": {
      "text/html": [
       "<div>\n",
       "<style scoped>\n",
       "    .dataframe tbody tr th:only-of-type {\n",
       "        vertical-align: middle;\n",
       "    }\n",
       "\n",
       "    .dataframe tbody tr th {\n",
       "        vertical-align: top;\n",
       "    }\n",
       "\n",
       "    .dataframe thead th {\n",
       "        text-align: right;\n",
       "    }\n",
       "</style>\n",
       "<table border=\"1\" class=\"dataframe\">\n",
       "  <thead>\n",
       "    <tr style=\"text-align: right;\">\n",
       "      <th></th>\n",
       "      <th>Unnamed: 0</th>\n",
       "      <th>track_id</th>\n",
       "      <th>artists</th>\n",
       "      <th>album_name</th>\n",
       "      <th>track_name</th>\n",
       "      <th>popularity</th>\n",
       "      <th>duration_ms</th>\n",
       "      <th>explicit</th>\n",
       "      <th>danceability</th>\n",
       "      <th>energy</th>\n",
       "      <th>loudness</th>\n",
       "      <th>speechiness</th>\n",
       "      <th>acousticness</th>\n",
       "      <th>instrumentalness</th>\n",
       "      <th>liveness</th>\n",
       "      <th>valence</th>\n",
       "      <th>tempo</th>\n",
       "      <th>time_signature</th>\n",
       "      <th>track_genre</th>\n",
       "    </tr>\n",
       "  </thead>\n",
       "  <tbody>\n",
       "    <tr>\n",
       "      <th>0</th>\n",
       "      <td>0</td>\n",
       "      <td>5SuOikwiRyPMVoIQDJUgSV</td>\n",
       "      <td>Gen Hoshino</td>\n",
       "      <td>Comedy</td>\n",
       "      <td>Comedy</td>\n",
       "      <td>73</td>\n",
       "      <td>230666</td>\n",
       "      <td>False</td>\n",
       "      <td>0.676</td>\n",
       "      <td>0.4610</td>\n",
       "      <td>-6.746</td>\n",
       "      <td>0.1430</td>\n",
       "      <td>0.0322</td>\n",
       "      <td>0.000001</td>\n",
       "      <td>0.3580</td>\n",
       "      <td>0.715</td>\n",
       "      <td>87.917</td>\n",
       "      <td>4</td>\n",
       "      <td>acoustic</td>\n",
       "    </tr>\n",
       "    <tr>\n",
       "      <th>1</th>\n",
       "      <td>1</td>\n",
       "      <td>4qPNDBW1i3p13qLCt0Ki3A</td>\n",
       "      <td>Ben Woodward</td>\n",
       "      <td>Ghost (Acoustic)</td>\n",
       "      <td>Ghost - Acoustic</td>\n",
       "      <td>55</td>\n",
       "      <td>149610</td>\n",
       "      <td>False</td>\n",
       "      <td>0.420</td>\n",
       "      <td>0.1660</td>\n",
       "      <td>-17.235</td>\n",
       "      <td>0.0763</td>\n",
       "      <td>0.9240</td>\n",
       "      <td>0.000006</td>\n",
       "      <td>0.1010</td>\n",
       "      <td>0.267</td>\n",
       "      <td>77.489</td>\n",
       "      <td>4</td>\n",
       "      <td>acoustic</td>\n",
       "    </tr>\n",
       "    <tr>\n",
       "      <th>2</th>\n",
       "      <td>2</td>\n",
       "      <td>1iJBSr7s7jYXzM8EGcbK5b</td>\n",
       "      <td>Ingrid Michaelson;ZAYN</td>\n",
       "      <td>To Begin Again</td>\n",
       "      <td>To Begin Again</td>\n",
       "      <td>57</td>\n",
       "      <td>210826</td>\n",
       "      <td>False</td>\n",
       "      <td>0.438</td>\n",
       "      <td>0.3590</td>\n",
       "      <td>-9.734</td>\n",
       "      <td>0.0557</td>\n",
       "      <td>0.2100</td>\n",
       "      <td>0.000000</td>\n",
       "      <td>0.1170</td>\n",
       "      <td>0.120</td>\n",
       "      <td>76.332</td>\n",
       "      <td>4</td>\n",
       "      <td>acoustic</td>\n",
       "    </tr>\n",
       "    <tr>\n",
       "      <th>3</th>\n",
       "      <td>3</td>\n",
       "      <td>6lfxq3CG4xtTiEg7opyCyx</td>\n",
       "      <td>Kina Grannis</td>\n",
       "      <td>Crazy Rich Asians (Original Motion Picture Sou...</td>\n",
       "      <td>Can't Help Falling In Love</td>\n",
       "      <td>71</td>\n",
       "      <td>201933</td>\n",
       "      <td>False</td>\n",
       "      <td>0.266</td>\n",
       "      <td>0.0596</td>\n",
       "      <td>-18.515</td>\n",
       "      <td>0.0363</td>\n",
       "      <td>0.9050</td>\n",
       "      <td>0.000071</td>\n",
       "      <td>0.1320</td>\n",
       "      <td>0.143</td>\n",
       "      <td>181.740</td>\n",
       "      <td>3</td>\n",
       "      <td>acoustic</td>\n",
       "    </tr>\n",
       "    <tr>\n",
       "      <th>4</th>\n",
       "      <td>4</td>\n",
       "      <td>5vjLSffimiIP26QG5WcN2K</td>\n",
       "      <td>Chord Overstreet</td>\n",
       "      <td>Hold On</td>\n",
       "      <td>Hold On</td>\n",
       "      <td>82</td>\n",
       "      <td>198853</td>\n",
       "      <td>False</td>\n",
       "      <td>0.618</td>\n",
       "      <td>0.4430</td>\n",
       "      <td>-9.681</td>\n",
       "      <td>0.0526</td>\n",
       "      <td>0.4690</td>\n",
       "      <td>0.000000</td>\n",
       "      <td>0.0829</td>\n",
       "      <td>0.167</td>\n",
       "      <td>119.949</td>\n",
       "      <td>4</td>\n",
       "      <td>acoustic</td>\n",
       "    </tr>\n",
       "  </tbody>\n",
       "</table>\n",
       "</div>"
      ],
      "text/plain": [
       "   Unnamed: 0                track_id                 artists  \\\n",
       "0           0  5SuOikwiRyPMVoIQDJUgSV             Gen Hoshino   \n",
       "1           1  4qPNDBW1i3p13qLCt0Ki3A            Ben Woodward   \n",
       "2           2  1iJBSr7s7jYXzM8EGcbK5b  Ingrid Michaelson;ZAYN   \n",
       "3           3  6lfxq3CG4xtTiEg7opyCyx            Kina Grannis   \n",
       "4           4  5vjLSffimiIP26QG5WcN2K        Chord Overstreet   \n",
       "\n",
       "                                          album_name  \\\n",
       "0                                             Comedy   \n",
       "1                                   Ghost (Acoustic)   \n",
       "2                                     To Begin Again   \n",
       "3  Crazy Rich Asians (Original Motion Picture Sou...   \n",
       "4                                            Hold On   \n",
       "\n",
       "                   track_name  popularity  duration_ms  explicit  \\\n",
       "0                      Comedy          73       230666     False   \n",
       "1            Ghost - Acoustic          55       149610     False   \n",
       "2              To Begin Again          57       210826     False   \n",
       "3  Can't Help Falling In Love          71       201933     False   \n",
       "4                     Hold On          82       198853     False   \n",
       "\n",
       "   danceability  energy  loudness  speechiness  acousticness  \\\n",
       "0         0.676  0.4610    -6.746       0.1430        0.0322   \n",
       "1         0.420  0.1660   -17.235       0.0763        0.9240   \n",
       "2         0.438  0.3590    -9.734       0.0557        0.2100   \n",
       "3         0.266  0.0596   -18.515       0.0363        0.9050   \n",
       "4         0.618  0.4430    -9.681       0.0526        0.4690   \n",
       "\n",
       "   instrumentalness  liveness  valence    tempo  time_signature track_genre  \n",
       "0          0.000001    0.3580    0.715   87.917               4    acoustic  \n",
       "1          0.000006    0.1010    0.267   77.489               4    acoustic  \n",
       "2          0.000000    0.1170    0.120   76.332               4    acoustic  \n",
       "3          0.000071    0.1320    0.143  181.740               3    acoustic  \n",
       "4          0.000000    0.0829    0.167  119.949               4    acoustic  "
      ]
     },
     "execution_count": 56,
     "metadata": {},
     "output_type": "execute_result"
    }
   ],
   "source": [
    "spotify = pd.read_csv('https://raw.githubusercontent.com/Sebastiao199/Project4WebScrapStats/main/output.csv')\n",
    "spotify.head()"
   ]
  },
  {
   "cell_type": "code",
   "execution_count": 57,
   "metadata": {},
   "outputs": [
    {
     "name": "stdout",
     "output_type": "stream",
     "text": [
      "come together\n",
      "come+together\n",
      "come+together+lyrics\n",
      "https://www.google.com/search?q=come+together+lyrics\n"
     ]
    }
   ],
   "source": [
    "url_base = 'https://www.google.com/search?q='\n",
    "input_music = str(input('Enter a music name: '))\n",
    "input_music_lower = input_music.lower()\n",
    "print(input_music_lower)\n",
    "input_music_lower_plus = input_music_lower.replace(' ', '+')\n",
    "print(input_music_lower_plus)\n",
    "input_music_final = input_music_lower_plus + '+lyrics'\n",
    "print(input_music_final)\n",
    "url_final = url_base + input_music_final\n",
    "print(url_final)"
   ]
  },
  {
   "cell_type": "code",
   "execution_count": 66,
   "metadata": {},
   "outputs": [
    {
     "name": "stdout",
     "output_type": "stream",
     "text": [
      "<class 'list'>\n"
     ]
    }
   ],
   "source": [
    "list_track_names = spotify['track_name'].tolist()\n",
    "print(type(list_track_names))\n",
    "# print(list_tack_names)"
   ]
  },
  {
   "cell_type": "code",
   "execution_count": 60,
   "metadata": {},
   "outputs": [
    {
     "name": "stderr",
     "output_type": "stream",
     "text": [
      "C:\\Users\\sebas\\AppData\\Local\\Temp\\ipykernel_4728\\1503906442.py:1: DeprecationWarning: executable_path has been deprecated, please pass in a Service object\n",
      "  driver = webdriver.Chrome(ChromeDriverManager().install())\n"
     ]
    }
   ],
   "source": [
    "driver = webdriver.Chrome(ChromeDriverManager().install())"
   ]
  },
  {
   "cell_type": "code",
   "execution_count": 72,
   "metadata": {},
   "outputs": [
    {
     "ename": "KeyboardInterrupt",
     "evalue": "",
     "output_type": "error",
     "traceback": [
      "\u001b[1;31m---------------------------------------------------------------------------\u001b[0m",
      "\u001b[1;31mKeyboardInterrupt\u001b[0m                         Traceback (most recent call last)",
      "\u001b[1;32mc:\\Users\\sebas\\Desktop\\WildCodeSchool\\Project4\\Project4WebScrapStats\\Project4-webscraping.ipynb Cell 10\u001b[0m in \u001b[0;36m<cell line: 16>\u001b[1;34m()\u001b[0m\n\u001b[0;32m     <a href='vscode-notebook-cell:/c%3A/Users/sebas/Desktop/WildCodeSchool/Project4/Project4WebScrapStats/Project4-webscraping.ipynb#X34sZmlsZQ%3D%3D?line=12'>13</a>\u001b[0m     str1 \u001b[39m=\u001b[39m \u001b[39m\"\u001b[39m\u001b[39m \u001b[39m\u001b[39m\"\u001b[39m\u001b[39m.\u001b[39mjoin((\u001b[39mlist\u001b[39m(l)))\n\u001b[0;32m     <a href='vscode-notebook-cell:/c%3A/Users/sebas/Desktop/WildCodeSchool/Project4/Project4WebScrapStats/Project4-webscraping.ipynb#X34sZmlsZQ%3D%3D?line=13'>14</a>\u001b[0m     \u001b[39mreturn\u001b[39;00m str1\n\u001b[1;32m---> <a href='vscode-notebook-cell:/c%3A/Users/sebas/Desktop/WildCodeSchool/Project4/Project4WebScrapStats/Project4-webscraping.ipynb#X34sZmlsZQ%3D%3D?line=15'>16</a>\u001b[0m result_scraping_lyrics \u001b[39m=\u001b[39m \u001b[39mlist\u001b[39;49m(\u001b[39mmap\u001b[39;49m(scraping_lyrics, list_track_names))\n\u001b[0;32m     <a href='vscode-notebook-cell:/c%3A/Users/sebas/Desktop/WildCodeSchool/Project4/Project4WebScrapStats/Project4-webscraping.ipynb#X34sZmlsZQ%3D%3D?line=16'>17</a>\u001b[0m result_scraping_lyrics\n",
      "\u001b[1;32mc:\\Users\\sebas\\Desktop\\WildCodeSchool\\Project4\\Project4WebScrapStats\\Project4-webscraping.ipynb Cell 10\u001b[0m in \u001b[0;36mscraping_lyrics\u001b[1;34m(track_name)\u001b[0m\n\u001b[0;32m      <a href='vscode-notebook-cell:/c%3A/Users/sebas/Desktop/WildCodeSchool/Project4/Project4WebScrapStats/Project4-webscraping.ipynb#X34sZmlsZQ%3D%3D?line=4'>5</a>\u001b[0m input_music_final \u001b[39m=\u001b[39m input_music_lower_plus \u001b[39m+\u001b[39m \u001b[39m'\u001b[39m\u001b[39m+lyrics\u001b[39m\u001b[39m'\u001b[39m\n\u001b[0;32m      <a href='vscode-notebook-cell:/c%3A/Users/sebas/Desktop/WildCodeSchool/Project4/Project4WebScrapStats/Project4-webscraping.ipynb#X34sZmlsZQ%3D%3D?line=5'>6</a>\u001b[0m url_final \u001b[39m=\u001b[39m url_base \u001b[39m+\u001b[39m input_music_final\n\u001b[1;32m----> <a href='vscode-notebook-cell:/c%3A/Users/sebas/Desktop/WildCodeSchool/Project4/Project4WebScrapStats/Project4-webscraping.ipynb#X34sZmlsZQ%3D%3D?line=6'>7</a>\u001b[0m driver\u001b[39m.\u001b[39;49mget(url_final)\n\u001b[0;32m      <a href='vscode-notebook-cell:/c%3A/Users/sebas/Desktop/WildCodeSchool/Project4/Project4WebScrapStats/Project4-webscraping.ipynb#X34sZmlsZQ%3D%3D?line=7'>8</a>\u001b[0m soup_selenium \u001b[39m=\u001b[39m BeautifulSoup(driver\u001b[39m.\u001b[39mpage_source, \u001b[39m'\u001b[39m\u001b[39mhtml.parser\u001b[39m\u001b[39m'\u001b[39m)\n\u001b[0;32m      <a href='vscode-notebook-cell:/c%3A/Users/sebas/Desktop/WildCodeSchool/Project4/Project4WebScrapStats/Project4-webscraping.ipynb#X34sZmlsZQ%3D%3D?line=8'>9</a>\u001b[0m items \u001b[39m=\u001b[39m soup_selenium\u001b[39m.\u001b[39mfind_all(\u001b[39m'\u001b[39m\u001b[39ma\u001b[39m\u001b[39m'\u001b[39m, href\u001b[39m=\u001b[39m\u001b[39mTrue\u001b[39;00m)\n",
      "File \u001b[1;32mc:\\Users\\sebas\\.conda\\envs\\data\\lib\\site-packages\\selenium\\webdriver\\remote\\webdriver.py:455\u001b[0m, in \u001b[0;36mWebDriver.get\u001b[1;34m(self, url)\u001b[0m\n\u001b[0;32m    451\u001b[0m \u001b[39mdef\u001b[39;00m \u001b[39mget\u001b[39m(\u001b[39mself\u001b[39m, url: \u001b[39mstr\u001b[39m) \u001b[39m-\u001b[39m\u001b[39m>\u001b[39m \u001b[39mNone\u001b[39;00m:\n\u001b[0;32m    452\u001b[0m     \u001b[39m\"\"\"\u001b[39;00m\n\u001b[0;32m    453\u001b[0m \u001b[39m    Loads a web page in the current browser session.\u001b[39;00m\n\u001b[0;32m    454\u001b[0m \u001b[39m    \"\"\"\u001b[39;00m\n\u001b[1;32m--> 455\u001b[0m     \u001b[39mself\u001b[39;49m\u001b[39m.\u001b[39;49mexecute(Command\u001b[39m.\u001b[39;49mGET, {\u001b[39m\"\u001b[39;49m\u001b[39murl\u001b[39;49m\u001b[39m\"\u001b[39;49m: url})\n",
      "File \u001b[1;32mc:\\Users\\sebas\\.conda\\envs\\data\\lib\\site-packages\\selenium\\webdriver\\remote\\webdriver.py:442\u001b[0m, in \u001b[0;36mWebDriver.execute\u001b[1;34m(self, driver_command, params)\u001b[0m\n\u001b[0;32m    439\u001b[0m     \u001b[39melif\u001b[39;00m \u001b[39m\"\u001b[39m\u001b[39msessionId\u001b[39m\u001b[39m\"\u001b[39m \u001b[39mnot\u001b[39;00m \u001b[39min\u001b[39;00m params:\n\u001b[0;32m    440\u001b[0m         params[\u001b[39m\"\u001b[39m\u001b[39msessionId\u001b[39m\u001b[39m\"\u001b[39m] \u001b[39m=\u001b[39m \u001b[39mself\u001b[39m\u001b[39m.\u001b[39msession_id\n\u001b[1;32m--> 442\u001b[0m response \u001b[39m=\u001b[39m \u001b[39mself\u001b[39;49m\u001b[39m.\u001b[39;49mcommand_executor\u001b[39m.\u001b[39;49mexecute(driver_command, params)\n\u001b[0;32m    443\u001b[0m \u001b[39mif\u001b[39;00m response:\n\u001b[0;32m    444\u001b[0m     \u001b[39mself\u001b[39m\u001b[39m.\u001b[39merror_handler\u001b[39m.\u001b[39mcheck_response(response)\n",
      "File \u001b[1;32mc:\\Users\\sebas\\.conda\\envs\\data\\lib\\site-packages\\selenium\\webdriver\\remote\\remote_connection.py:294\u001b[0m, in \u001b[0;36mRemoteConnection.execute\u001b[1;34m(self, command, params)\u001b[0m\n\u001b[0;32m    292\u001b[0m data \u001b[39m=\u001b[39m utils\u001b[39m.\u001b[39mdump_json(params)\n\u001b[0;32m    293\u001b[0m url \u001b[39m=\u001b[39m \u001b[39mf\u001b[39m\u001b[39m\"\u001b[39m\u001b[39m{\u001b[39;00m\u001b[39mself\u001b[39m\u001b[39m.\u001b[39m_url\u001b[39m}\u001b[39;00m\u001b[39m{\u001b[39;00mpath\u001b[39m}\u001b[39;00m\u001b[39m\"\u001b[39m\n\u001b[1;32m--> 294\u001b[0m \u001b[39mreturn\u001b[39;00m \u001b[39mself\u001b[39;49m\u001b[39m.\u001b[39;49m_request(command_info[\u001b[39m0\u001b[39;49m], url, body\u001b[39m=\u001b[39;49mdata)\n",
      "File \u001b[1;32mc:\\Users\\sebas\\.conda\\envs\\data\\lib\\site-packages\\selenium\\webdriver\\remote\\remote_connection.py:316\u001b[0m, in \u001b[0;36mRemoteConnection._request\u001b[1;34m(self, method, url, body)\u001b[0m\n\u001b[0;32m    313\u001b[0m     body \u001b[39m=\u001b[39m \u001b[39mNone\u001b[39;00m\n\u001b[0;32m    315\u001b[0m \u001b[39mif\u001b[39;00m \u001b[39mself\u001b[39m\u001b[39m.\u001b[39mkeep_alive:\n\u001b[1;32m--> 316\u001b[0m     response \u001b[39m=\u001b[39m \u001b[39mself\u001b[39;49m\u001b[39m.\u001b[39;49m_conn\u001b[39m.\u001b[39;49mrequest(method, url, body\u001b[39m=\u001b[39;49mbody, headers\u001b[39m=\u001b[39;49mheaders)\n\u001b[0;32m    317\u001b[0m     statuscode \u001b[39m=\u001b[39m response\u001b[39m.\u001b[39mstatus\n\u001b[0;32m    318\u001b[0m \u001b[39melse\u001b[39;00m:\n",
      "File \u001b[1;32mc:\\Users\\sebas\\.conda\\envs\\data\\lib\\site-packages\\urllib3\\request.py:78\u001b[0m, in \u001b[0;36mRequestMethods.request\u001b[1;34m(self, method, url, fields, headers, **urlopen_kw)\u001b[0m\n\u001b[0;32m     74\u001b[0m     \u001b[39mreturn\u001b[39;00m \u001b[39mself\u001b[39m\u001b[39m.\u001b[39mrequest_encode_url(\n\u001b[0;32m     75\u001b[0m         method, url, fields\u001b[39m=\u001b[39mfields, headers\u001b[39m=\u001b[39mheaders, \u001b[39m*\u001b[39m\u001b[39m*\u001b[39murlopen_kw\n\u001b[0;32m     76\u001b[0m     )\n\u001b[0;32m     77\u001b[0m \u001b[39melse\u001b[39;00m:\n\u001b[1;32m---> 78\u001b[0m     \u001b[39mreturn\u001b[39;00m \u001b[39mself\u001b[39m\u001b[39m.\u001b[39mrequest_encode_body(\n\u001b[0;32m     79\u001b[0m         method, url, fields\u001b[39m=\u001b[39mfields, headers\u001b[39m=\u001b[39mheaders, \u001b[39m*\u001b[39m\u001b[39m*\u001b[39murlopen_kw\n\u001b[0;32m     80\u001b[0m     )\n",
      "File \u001b[1;32mc:\\Users\\sebas\\.conda\\envs\\data\\lib\\site-packages\\urllib3\\request.py:170\u001b[0m, in \u001b[0;36mRequestMethods.request_encode_body\u001b[1;34m(self, method, url, fields, headers, encode_multipart, multipart_boundary, **urlopen_kw)\u001b[0m\n\u001b[0;32m    167\u001b[0m extra_kw[\u001b[39m\"\u001b[39m\u001b[39mheaders\u001b[39m\u001b[39m\"\u001b[39m]\u001b[39m.\u001b[39mupdate(headers)\n\u001b[0;32m    168\u001b[0m extra_kw\u001b[39m.\u001b[39mupdate(urlopen_kw)\n\u001b[1;32m--> 170\u001b[0m \u001b[39mreturn\u001b[39;00m \u001b[39mself\u001b[39m\u001b[39m.\u001b[39murlopen(method, url, \u001b[39m*\u001b[39m\u001b[39m*\u001b[39mextra_kw)\n",
      "File \u001b[1;32mc:\\Users\\sebas\\.conda\\envs\\data\\lib\\site-packages\\urllib3\\poolmanager.py:376\u001b[0m, in \u001b[0;36mPoolManager.urlopen\u001b[1;34m(self, method, url, redirect, **kw)\u001b[0m\n\u001b[0;32m    374\u001b[0m     response \u001b[39m=\u001b[39m conn\u001b[39m.\u001b[39murlopen(method, url, \u001b[39m*\u001b[39m\u001b[39m*\u001b[39mkw)\n\u001b[0;32m    375\u001b[0m \u001b[39melse\u001b[39;00m:\n\u001b[1;32m--> 376\u001b[0m     response \u001b[39m=\u001b[39m conn\u001b[39m.\u001b[39murlopen(method, u\u001b[39m.\u001b[39mrequest_uri, \u001b[39m*\u001b[39m\u001b[39m*\u001b[39mkw)\n\u001b[0;32m    378\u001b[0m redirect_location \u001b[39m=\u001b[39m redirect \u001b[39mand\u001b[39;00m response\u001b[39m.\u001b[39mget_redirect_location()\n\u001b[0;32m    379\u001b[0m \u001b[39mif\u001b[39;00m \u001b[39mnot\u001b[39;00m redirect_location:\n",
      "File \u001b[1;32mc:\\Users\\sebas\\.conda\\envs\\data\\lib\\site-packages\\urllib3\\connectionpool.py:703\u001b[0m, in \u001b[0;36mHTTPConnectionPool.urlopen\u001b[1;34m(self, method, url, body, headers, retries, redirect, assert_same_host, timeout, pool_timeout, release_conn, chunked, body_pos, **response_kw)\u001b[0m\n\u001b[0;32m    700\u001b[0m     \u001b[39mself\u001b[39m\u001b[39m.\u001b[39m_prepare_proxy(conn)\n\u001b[0;32m    702\u001b[0m \u001b[39m# Make the request on the httplib connection object.\u001b[39;00m\n\u001b[1;32m--> 703\u001b[0m httplib_response \u001b[39m=\u001b[39m \u001b[39mself\u001b[39;49m\u001b[39m.\u001b[39;49m_make_request(\n\u001b[0;32m    704\u001b[0m     conn,\n\u001b[0;32m    705\u001b[0m     method,\n\u001b[0;32m    706\u001b[0m     url,\n\u001b[0;32m    707\u001b[0m     timeout\u001b[39m=\u001b[39;49mtimeout_obj,\n\u001b[0;32m    708\u001b[0m     body\u001b[39m=\u001b[39;49mbody,\n\u001b[0;32m    709\u001b[0m     headers\u001b[39m=\u001b[39;49mheaders,\n\u001b[0;32m    710\u001b[0m     chunked\u001b[39m=\u001b[39;49mchunked,\n\u001b[0;32m    711\u001b[0m )\n\u001b[0;32m    713\u001b[0m \u001b[39m# If we're going to release the connection in ``finally:``, then\u001b[39;00m\n\u001b[0;32m    714\u001b[0m \u001b[39m# the response doesn't need to know about the connection. Otherwise\u001b[39;00m\n\u001b[0;32m    715\u001b[0m \u001b[39m# it will also try to release it and we'll have a double-release\u001b[39;00m\n\u001b[0;32m    716\u001b[0m \u001b[39m# mess.\u001b[39;00m\n\u001b[0;32m    717\u001b[0m response_conn \u001b[39m=\u001b[39m conn \u001b[39mif\u001b[39;00m \u001b[39mnot\u001b[39;00m release_conn \u001b[39melse\u001b[39;00m \u001b[39mNone\u001b[39;00m\n",
      "File \u001b[1;32mc:\\Users\\sebas\\.conda\\envs\\data\\lib\\site-packages\\urllib3\\connectionpool.py:449\u001b[0m, in \u001b[0;36mHTTPConnectionPool._make_request\u001b[1;34m(self, conn, method, url, timeout, chunked, **httplib_request_kw)\u001b[0m\n\u001b[0;32m    444\u001b[0m             httplib_response \u001b[39m=\u001b[39m conn\u001b[39m.\u001b[39mgetresponse()\n\u001b[0;32m    445\u001b[0m         \u001b[39mexcept\u001b[39;00m \u001b[39mBaseException\u001b[39;00m \u001b[39mas\u001b[39;00m e:\n\u001b[0;32m    446\u001b[0m             \u001b[39m# Remove the TypeError from the exception chain in\u001b[39;00m\n\u001b[0;32m    447\u001b[0m             \u001b[39m# Python 3 (including for exceptions like SystemExit).\u001b[39;00m\n\u001b[0;32m    448\u001b[0m             \u001b[39m# Otherwise it looks like a bug in the code.\u001b[39;00m\n\u001b[1;32m--> 449\u001b[0m             six\u001b[39m.\u001b[39;49mraise_from(e, \u001b[39mNone\u001b[39;49;00m)\n\u001b[0;32m    450\u001b[0m \u001b[39mexcept\u001b[39;00m (SocketTimeout, BaseSSLError, SocketError) \u001b[39mas\u001b[39;00m e:\n\u001b[0;32m    451\u001b[0m     \u001b[39mself\u001b[39m\u001b[39m.\u001b[39m_raise_timeout(err\u001b[39m=\u001b[39me, url\u001b[39m=\u001b[39murl, timeout_value\u001b[39m=\u001b[39mread_timeout)\n",
      "File \u001b[1;32m<string>:3\u001b[0m, in \u001b[0;36mraise_from\u001b[1;34m(value, from_value)\u001b[0m\n",
      "File \u001b[1;32mc:\\Users\\sebas\\.conda\\envs\\data\\lib\\site-packages\\urllib3\\connectionpool.py:444\u001b[0m, in \u001b[0;36mHTTPConnectionPool._make_request\u001b[1;34m(self, conn, method, url, timeout, chunked, **httplib_request_kw)\u001b[0m\n\u001b[0;32m    441\u001b[0m \u001b[39mexcept\u001b[39;00m \u001b[39mTypeError\u001b[39;00m:\n\u001b[0;32m    442\u001b[0m     \u001b[39m# Python 3\u001b[39;00m\n\u001b[0;32m    443\u001b[0m     \u001b[39mtry\u001b[39;00m:\n\u001b[1;32m--> 444\u001b[0m         httplib_response \u001b[39m=\u001b[39m conn\u001b[39m.\u001b[39;49mgetresponse()\n\u001b[0;32m    445\u001b[0m     \u001b[39mexcept\u001b[39;00m \u001b[39mBaseException\u001b[39;00m \u001b[39mas\u001b[39;00m e:\n\u001b[0;32m    446\u001b[0m         \u001b[39m# Remove the TypeError from the exception chain in\u001b[39;00m\n\u001b[0;32m    447\u001b[0m         \u001b[39m# Python 3 (including for exceptions like SystemExit).\u001b[39;00m\n\u001b[0;32m    448\u001b[0m         \u001b[39m# Otherwise it looks like a bug in the code.\u001b[39;00m\n\u001b[0;32m    449\u001b[0m         six\u001b[39m.\u001b[39mraise_from(e, \u001b[39mNone\u001b[39;00m)\n",
      "File \u001b[1;32mc:\\Users\\sebas\\.conda\\envs\\data\\lib\\http\\client.py:1377\u001b[0m, in \u001b[0;36mHTTPConnection.getresponse\u001b[1;34m(self)\u001b[0m\n\u001b[0;32m   1375\u001b[0m \u001b[39mtry\u001b[39;00m:\n\u001b[0;32m   1376\u001b[0m     \u001b[39mtry\u001b[39;00m:\n\u001b[1;32m-> 1377\u001b[0m         response\u001b[39m.\u001b[39;49mbegin()\n\u001b[0;32m   1378\u001b[0m     \u001b[39mexcept\u001b[39;00m \u001b[39mConnectionError\u001b[39;00m:\n\u001b[0;32m   1379\u001b[0m         \u001b[39mself\u001b[39m\u001b[39m.\u001b[39mclose()\n",
      "File \u001b[1;32mc:\\Users\\sebas\\.conda\\envs\\data\\lib\\http\\client.py:320\u001b[0m, in \u001b[0;36mHTTPResponse.begin\u001b[1;34m(self)\u001b[0m\n\u001b[0;32m    318\u001b[0m \u001b[39m# read until we get a non-100 response\u001b[39;00m\n\u001b[0;32m    319\u001b[0m \u001b[39mwhile\u001b[39;00m \u001b[39mTrue\u001b[39;00m:\n\u001b[1;32m--> 320\u001b[0m     version, status, reason \u001b[39m=\u001b[39m \u001b[39mself\u001b[39;49m\u001b[39m.\u001b[39;49m_read_status()\n\u001b[0;32m    321\u001b[0m     \u001b[39mif\u001b[39;00m status \u001b[39m!=\u001b[39m CONTINUE:\n\u001b[0;32m    322\u001b[0m         \u001b[39mbreak\u001b[39;00m\n",
      "File \u001b[1;32mc:\\Users\\sebas\\.conda\\envs\\data\\lib\\http\\client.py:281\u001b[0m, in \u001b[0;36mHTTPResponse._read_status\u001b[1;34m(self)\u001b[0m\n\u001b[0;32m    280\u001b[0m \u001b[39mdef\u001b[39;00m \u001b[39m_read_status\u001b[39m(\u001b[39mself\u001b[39m):\n\u001b[1;32m--> 281\u001b[0m     line \u001b[39m=\u001b[39m \u001b[39mstr\u001b[39m(\u001b[39mself\u001b[39;49m\u001b[39m.\u001b[39;49mfp\u001b[39m.\u001b[39;49mreadline(_MAXLINE \u001b[39m+\u001b[39;49m \u001b[39m1\u001b[39;49m), \u001b[39m\"\u001b[39m\u001b[39miso-8859-1\u001b[39m\u001b[39m\"\u001b[39m)\n\u001b[0;32m    282\u001b[0m     \u001b[39mif\u001b[39;00m \u001b[39mlen\u001b[39m(line) \u001b[39m>\u001b[39m _MAXLINE:\n\u001b[0;32m    283\u001b[0m         \u001b[39mraise\u001b[39;00m LineTooLong(\u001b[39m\"\u001b[39m\u001b[39mstatus line\u001b[39m\u001b[39m\"\u001b[39m)\n",
      "File \u001b[1;32mc:\\Users\\sebas\\.conda\\envs\\data\\lib\\socket.py:704\u001b[0m, in \u001b[0;36mSocketIO.readinto\u001b[1;34m(self, b)\u001b[0m\n\u001b[0;32m    702\u001b[0m \u001b[39mwhile\u001b[39;00m \u001b[39mTrue\u001b[39;00m:\n\u001b[0;32m    703\u001b[0m     \u001b[39mtry\u001b[39;00m:\n\u001b[1;32m--> 704\u001b[0m         \u001b[39mreturn\u001b[39;00m \u001b[39mself\u001b[39;49m\u001b[39m.\u001b[39;49m_sock\u001b[39m.\u001b[39;49mrecv_into(b)\n\u001b[0;32m    705\u001b[0m     \u001b[39mexcept\u001b[39;00m timeout:\n\u001b[0;32m    706\u001b[0m         \u001b[39mself\u001b[39m\u001b[39m.\u001b[39m_timeout_occurred \u001b[39m=\u001b[39m \u001b[39mTrue\u001b[39;00m\n",
      "\u001b[1;31mKeyboardInterrupt\u001b[0m: "
     ]
    }
   ],
   "source": [
    "def scraping_lyrics(track_name):\n",
    "    url_base = 'https://www.google.com/search?q='\n",
    "    input_music_lower = track_name.lower()\n",
    "    input_music_lower_plus = input_music_lower.replace(' ', '+')\n",
    "    input_music_final = input_music_lower_plus + '+lyrics'\n",
    "    url_final = url_base + input_music_final\n",
    "    driver.get(url_final)\n",
    "    soup_selenium = BeautifulSoup(driver.page_source, 'html.parser')\n",
    "    items = soup_selenium.find_all('a', href=True)\n",
    "    beatles = soup_selenium.find_all('div', {'class': 'xaAUmb'})\n",
    "    span_l = soup_selenium.find_all('span', {'jsname': \"YS01Ge\"})\n",
    "    l = list(map(lambda item: item.text, span_l))\n",
    "    str1 = \" \".join((list(l)))\n",
    "    return str1\n",
    "\n",
    "result_scraping_lyrics = list(map(scraping_lyrics, list_track_names))\n",
    "result_scraping_lyrics\n"
   ]
  },
  {
   "cell_type": "code",
   "execution_count": 71,
   "metadata": {},
   "outputs": [
    {
     "ename": "TypeError",
     "evalue": "unhashable type: 'list'",
     "output_type": "error",
     "traceback": [
      "\u001b[1;31m---------------------------------------------------------------------------\u001b[0m",
      "\u001b[1;31mTypeError\u001b[0m                                 Traceback (most recent call last)",
      "\u001b[1;32mc:\\Users\\sebas\\Desktop\\WildCodeSchool\\Project4\\Project4WebScrapStats\\Project4-webscraping.ipynb Cell 11\u001b[0m in \u001b[0;36m<cell line: 1>\u001b[1;34m()\u001b[0m\n\u001b[1;32m----> <a href='vscode-notebook-cell:/c%3A/Users/sebas/Desktop/WildCodeSchool/Project4/Project4WebScrapStats/Project4-webscraping.ipynb#X33sZmlsZQ%3D%3D?line=0'>1</a>\u001b[0m spotify[\u001b[39m'\u001b[39m\u001b[39mlyrics\u001b[39m\u001b[39m'\u001b[39m] \u001b[39m=\u001b[39m spotify\u001b[39m.\u001b[39;49mapply(scraping_lyrics, list_track_names)\n\u001b[0;32m      <a href='vscode-notebook-cell:/c%3A/Users/sebas/Desktop/WildCodeSchool/Project4/Project4WebScrapStats/Project4-webscraping.ipynb#X33sZmlsZQ%3D%3D?line=1'>2</a>\u001b[0m spotify[\u001b[39m'\u001b[39m\u001b[39mlyrics\u001b[39m\u001b[39m'\u001b[39m]\n",
      "File \u001b[1;32mc:\\Users\\sebas\\.conda\\envs\\data\\lib\\site-packages\\pandas\\core\\frame.py:8839\u001b[0m, in \u001b[0;36mDataFrame.apply\u001b[1;34m(self, func, axis, raw, result_type, args, **kwargs)\u001b[0m\n\u001b[0;32m   8700\u001b[0m \u001b[39m\"\"\"\u001b[39;00m\n\u001b[0;32m   8701\u001b[0m \u001b[39mApply a function along an axis of the DataFrame.\u001b[39;00m\n\u001b[0;32m   8702\u001b[0m \n\u001b[1;32m   (...)\u001b[0m\n\u001b[0;32m   8835\u001b[0m \u001b[39m2  1  2\u001b[39;00m\n\u001b[0;32m   8836\u001b[0m \u001b[39m\"\"\"\u001b[39;00m\n\u001b[0;32m   8837\u001b[0m \u001b[39mfrom\u001b[39;00m \u001b[39mpandas\u001b[39;00m\u001b[39m.\u001b[39;00m\u001b[39mcore\u001b[39;00m\u001b[39m.\u001b[39;00m\u001b[39mapply\u001b[39;00m \u001b[39mimport\u001b[39;00m frame_apply\n\u001b[1;32m-> 8839\u001b[0m op \u001b[39m=\u001b[39m frame_apply(\n\u001b[0;32m   8840\u001b[0m     \u001b[39mself\u001b[39;49m,\n\u001b[0;32m   8841\u001b[0m     func\u001b[39m=\u001b[39;49mfunc,\n\u001b[0;32m   8842\u001b[0m     axis\u001b[39m=\u001b[39;49maxis,\n\u001b[0;32m   8843\u001b[0m     raw\u001b[39m=\u001b[39;49mraw,\n\u001b[0;32m   8844\u001b[0m     result_type\u001b[39m=\u001b[39;49mresult_type,\n\u001b[0;32m   8845\u001b[0m     args\u001b[39m=\u001b[39;49margs,\n\u001b[0;32m   8846\u001b[0m     kwargs\u001b[39m=\u001b[39;49mkwargs,\n\u001b[0;32m   8847\u001b[0m )\n\u001b[0;32m   8848\u001b[0m \u001b[39mreturn\u001b[39;00m op\u001b[39m.\u001b[39mapply()\u001b[39m.\u001b[39m__finalize__(\u001b[39mself\u001b[39m, method\u001b[39m=\u001b[39m\u001b[39m\"\u001b[39m\u001b[39mapply\u001b[39m\u001b[39m\"\u001b[39m)\n",
      "File \u001b[1;32mc:\\Users\\sebas\\.conda\\envs\\data\\lib\\site-packages\\pandas\\core\\apply.py:88\u001b[0m, in \u001b[0;36mframe_apply\u001b[1;34m(obj, func, axis, raw, result_type, args, kwargs)\u001b[0m\n\u001b[0;32m     78\u001b[0m \u001b[39mdef\u001b[39;00m \u001b[39mframe_apply\u001b[39m(\n\u001b[0;32m     79\u001b[0m     obj: DataFrame,\n\u001b[0;32m     80\u001b[0m     func: AggFuncType,\n\u001b[1;32m   (...)\u001b[0m\n\u001b[0;32m     85\u001b[0m     kwargs\u001b[39m=\u001b[39m\u001b[39mNone\u001b[39;00m,\n\u001b[0;32m     86\u001b[0m ) \u001b[39m-\u001b[39m\u001b[39m>\u001b[39m FrameApply:\n\u001b[0;32m     87\u001b[0m     \u001b[39m\"\"\"construct and return a row or column based frame apply object\"\"\"\u001b[39;00m\n\u001b[1;32m---> 88\u001b[0m     axis \u001b[39m=\u001b[39m obj\u001b[39m.\u001b[39;49m_get_axis_number(axis)\n\u001b[0;32m     89\u001b[0m     klass: \u001b[39mtype\u001b[39m[FrameApply]\n\u001b[0;32m     90\u001b[0m     \u001b[39mif\u001b[39;00m axis \u001b[39m==\u001b[39m \u001b[39m0\u001b[39m:\n",
      "File \u001b[1;32mc:\\Users\\sebas\\.conda\\envs\\data\\lib\\site-packages\\pandas\\core\\generic.py:550\u001b[0m, in \u001b[0;36mNDFrame._get_axis_number\u001b[1;34m(cls, axis)\u001b[0m\n\u001b[0;32m    546\u001b[0m \u001b[39m@final\u001b[39m\n\u001b[0;32m    547\u001b[0m \u001b[39m@classmethod\u001b[39m\n\u001b[0;32m    548\u001b[0m \u001b[39mdef\u001b[39;00m \u001b[39m_get_axis_number\u001b[39m(\u001b[39mcls\u001b[39m, axis: Axis) \u001b[39m-\u001b[39m\u001b[39m>\u001b[39m \u001b[39mint\u001b[39m:\n\u001b[0;32m    549\u001b[0m     \u001b[39mtry\u001b[39;00m:\n\u001b[1;32m--> 550\u001b[0m         \u001b[39mreturn\u001b[39;00m \u001b[39mcls\u001b[39;49m\u001b[39m.\u001b[39;49m_AXIS_TO_AXIS_NUMBER[axis]\n\u001b[0;32m    551\u001b[0m     \u001b[39mexcept\u001b[39;00m \u001b[39mKeyError\u001b[39;00m:\n\u001b[0;32m    552\u001b[0m         \u001b[39mraise\u001b[39;00m \u001b[39mValueError\u001b[39;00m(\u001b[39mf\u001b[39m\u001b[39m\"\u001b[39m\u001b[39mNo axis named \u001b[39m\u001b[39m{\u001b[39;00maxis\u001b[39m}\u001b[39;00m\u001b[39m for object type \u001b[39m\u001b[39m{\u001b[39;00m\u001b[39mcls\u001b[39m\u001b[39m.\u001b[39m\u001b[39m__name__\u001b[39m\u001b[39m}\u001b[39;00m\u001b[39m\"\u001b[39m)\n",
      "\u001b[1;31mTypeError\u001b[0m: unhashable type: 'list'"
     ]
    }
   ],
   "source": [
    "spotify['lyrics'] = spotify.apply(scraping_lyrics, list_track_names)\n",
    "spotify['lyrics']"
   ]
  },
  {
   "cell_type": "code",
   "execution_count": 30,
   "metadata": {},
   "outputs": [
    {
     "name": "stderr",
     "output_type": "stream",
     "text": [
      "C:\\Users\\sebas\\AppData\\Local\\Temp\\ipykernel_4728\\72930180.py:1: DeprecationWarning: executable_path has been deprecated, please pass in a Service object\n",
      "  driver = webdriver.Chrome(ChromeDriverManager().install())\n"
     ]
    }
   ],
   "source": [
    "driver = webdriver.Chrome(ChromeDriverManager().install())\n",
    "driver.get(url_final)"
   ]
  },
  {
   "cell_type": "code",
   "execution_count": 33,
   "metadata": {},
   "outputs": [
    {
     "data": {
      "text/plain": [
       "[<a href=\"/search?q=come+together+lyrics&amp;gbv=1&amp;sei=-6SQY8PNMJajlwStpaz4BQ\">aqui</a>,\n",
       " <a class=\"gyPpGe\" href=\"https://support.google.com/websearch/answer/181196?hl=pt-PT\" jsname=\"KI37ad\" ping=\"/url?sa=t&amp;source=web&amp;rct=j&amp;url=https://support.google.com/websearch/answer/181196%3Fhl%3Dpt-PT&amp;ved=0ahUKEwiDt8zL3ef7AhWW0YUKHa0SC18QwcMDCAY\">Ajuda de acessibilidade</a>,\n",
       " <a class=\"F4a1l\" href=\"https://policies.google.com/technologies/cookies?utm_source=ucbs&amp;hl=pt-PT\" target=\"_blank\">cookies</a>,\n",
       " <a class=\"peRL2e\" data-ved=\"0ahUKEwiDt8zL3ef7AhWW0YUKHa0SC18Qj5AHCBE\" href=\"https://policies.google.com/privacy?hl=pt-PT&amp;fg=1&amp;utm_source=ucbs\" id=\"RP3V5c\">Privacidade</a>,\n",
       " <a class=\"peRL2e\" data-ved=\"0ahUKEwiDt8zL3ef7AhWW0YUKHa0SC18QkJAHCBI\" href=\"https://policies.google.com/terms?hl=pt-PT&amp;fg=1&amp;utm_source=ucbs\" id=\"HQ1lb\">Termos</a>,\n",
       " <a data-hveid=\"19\" href=\"https://www.google.com/webhp?hl=pt-PT&amp;sa=X&amp;ved=0ahUKEwiDt8zL3ef7AhWW0YUKHa0SC18QPAgT\" id=\"logo\" title=\"Ir para a página inicial do Google\"><img alt=\"Google\" class=\"jfN4p\" data-atf=\"1\" data-frt=\"0\" height=\"30\" src=\"/images/branding/googlelogo/2x/googlelogo_color_92x30dp.png\" style=\"background:none\" width=\"92\"/></a>,\n",
       " <a class=\"oBa0Fe aciXEb\" data-async-trigger=\"duf3-46\" data-ved=\"0ahUKEwiDt8zL3ef7AhWW0YUKHa0SC18Qtw8IHA\" href=\"#\" id=\"sbfblt\" jsaction=\"trigger.szjOR\" role=\"button\">Denunciar previsões impróprias</a>,\n",
       " <a aria-expanded=\"false\" aria-label=\"Google Apps\" class=\"gb_d\" href=\"https://www.google.pt/intl/pt-PT/about/products?tab=wh\" role=\"button\" tabindex=\"0\"><svg class=\"gb_0e\" focusable=\"false\" viewbox=\"0 0 24 24\"><path d=\"M6,8c1.1,0 2,-0.9 2,-2s-0.9,-2 -2,-2 -2,0.9 -2,2 0.9,2 2,2zM12,20c1.1,0 2,-0.9 2,-2s-0.9,-2 -2,-2 -2,0.9 -2,2 0.9,2 2,2zM6,20c1.1,0 2,-0.9 2,-2s-0.9,-2 -2,-2 -2,0.9 -2,2 0.9,2 2,2zM6,14c1.1,0 2,-0.9 2,-2s-0.9,-2 -2,-2 -2,0.9 -2,2 0.9,2 2,2zM12,14c1.1,0 2,-0.9 2,-2s-0.9,-2 -2,-2 -2,0.9 -2,2 0.9,2 2,2zM16,6c0,1.1 0.9,2 2,2s2,-0.9 2,-2 -0.9,-2 -2,-2 -2,0.9 -2,2zM12,8c1.1,0 2,-0.9 2,-2s-0.9,-2 -2,-2 -2,0.9 -2,2 0.9,2 2,2zM18,14c1.1,0 2,-0.9 2,-2s-0.9,-2 -2,-2 -2,0.9 -2,2 0.9,2 2,2zM18,20c1.1,0 2,-0.9 2,-2s-0.9,-2 -2,-2 -2,0.9 -2,2 0.9,2 2,2z\"></path></svg></a>,\n",
       " <a class=\"gb_7 gb_8 gb_de gb_dd\" href=\"https://accounts.google.com/ServiceLogin?hl=pt-PT&amp;passive=true&amp;continue=https://www.google.com/search%3Fq%3Dcome%2Btogether%2Blyrics&amp;ec=GAZAAQ\" target=\"_top\">Entrar</a>,\n",
       " <a data-hveid=\"CAIQAw\" href=\"/search?q=come+together+lyrics&amp;source=lnms&amp;tbm=vid&amp;sa=X&amp;ved=2ahUKEwiDt8zL3ef7AhWW0YUKHa0SC18Q_AUoAXoECAIQAw\"><span class=\"bmaJhd iJddsb\" style=\"height:16px;width:16px\"><svg focusable=\"false\" viewbox=\"0 0 24 24\"><path d=\"M10 16.5l6-4.5-6-4.5v9zM5 20h14a1 1 0 0 0 1-1V5a1 1 0 0 0-1-1H5a1 1 0 0 0-1 1v14a1 1 0 0 0 1 1zm14.5 2H5a3 3 0 0 1-3-3V4.4A2.4 2.4 0 0 1 4.4 2h15.2A2.4 2.4 0 0 1 22 4.4v15.1a2.5 2.5 0 0 1-2.5 2.5\"></path></svg></span>Vídeos</a>,\n",
       " <a data-hveid=\"CAIQBA\" href=\"/search?q=come+together+lyrics&amp;source=lnms&amp;tbm=isch&amp;sa=X&amp;ved=2ahUKEwiDt8zL3ef7AhWW0YUKHa0SC18Q_AUoAnoECAIQBA\"><span class=\"bmaJhd iJddsb\" style=\"height:16px;width:16px\"><svg focusable=\"false\" viewbox=\"0 0 24 24\"><path d=\"M14 13l4 5H6l4-4 1.79 1.78L14 13zm-6.01-2.99A2 2 0 0 0 8 6a2 2 0 0 0-.01 4.01zM22 5v14a3 3 0 0 1-3 2.99H5c-1.64 0-3-1.36-3-3V5c0-1.64 1.36-3 3-3h14c1.65 0 3 1.36 3 3zm-2.01 0a1 1 0 0 0-1-1H5a1 1 0 0 0-1 1v14a1 1 0 0 0 1 1h7v-.01h7a1 1 0 0 0 1-1V5\"></path></svg></span>Imagens</a>,\n",
       " <a data-hveid=\"CAIQBQ\" href=\"/search?q=come+together+lyrics&amp;source=lnms&amp;tbm=nws&amp;sa=X&amp;ved=2ahUKEwiDt8zL3ef7AhWW0YUKHa0SC18Q_AUoA3oECAIQBQ\"><span class=\"bmaJhd iJddsb\" style=\"height:16px;width:16px\"><svg focusable=\"false\" viewbox=\"0 0 24 24\"><path d=\"M12 11h6v2h-6v-2zm-6 6h12v-2H6v2zm0-4h4V7H6v6zm16-7.22v12.44c0 1.54-1.34 2.78-3 2.78H5c-1.64 0-3-1.25-3-2.78V5.78C2 4.26 3.36 3 5 3h14c1.64 0 3 1.25 3 2.78zM19.99 12V5.78c0-.42-.46-.78-1-.78H5c-.54 0-1 .36-1 .78v12.44c0 .42.46.78 1 .78h14c.54 0 1-.36 1-.78V12zM12 9h6V7h-6v2\"></path></svg></span>Notícias</a>,\n",
       " <a data-hveid=\"CAIQBg\" href=\"/search?q=come+together+lyrics&amp;source=lnms&amp;tbm=shop&amp;sa=X&amp;ved=2ahUKEwiDt8zL3ef7AhWW0YUKHa0SC18Q_AUoBHoECAIQBg\"><span class=\"bmaJhd iJddsb\" style=\"height:16px;width:16px\"><svg focusable=\"false\" viewbox=\"0 0 24 24\"><path d=\"M21.11 2.89A3.02 3.02 0 0 0 18.95 2h-5.8c-.81 0-1.58.31-2.16.89L7.25 6.63 2.9 10.98a3.06 3.06 0 0 0 0 4.32l5.79 5.8a3.05 3.05 0 0 0 4.32.01l8.09-8.1c.58-.58.9-1.34.9-2.16v-5.8c0-.81-.32-1.59-.89-2.16zM20 10.85c0 .28-.12.54-.32.74l-3.73 3.74-4.36 4.36c-.41.41-1.08.41-1.49 0l-2.89-2.9-2.9-2.9a1.06 1.06 0 0 1 0-1.49l8.1-8.1c.2-.2.46-.3.74-.3l5.8-.01A1.05 1.05 0 0 1 20 5.05v5.8zM16 6c1.1 0 2 .9 2 2s-.9 2-2 2-2-.9-2-2 .9-2 2-2\"></path></svg></span>Compras</a>,\n",
       " <a href=\"https://maps.google.com/maps?q=come+together+lyrics&amp;um=1&amp;ie=UTF-8&amp;sa=X&amp;ved=2ahUKEwiDt8zL3ef7AhWW0YUKHa0SC18Q_AUoAHoECAIQCg\" role=\"menuitem\" tabindex=\"-1\"><span class=\"bmaJhd iJddsb\" style=\"height:16px;width:16px\"><svg focusable=\"false\" viewbox=\"0 0 16 16\"><path d=\"M7.503 0c3.09 0 5.502 2.487 5.502 5.427 0 2.337-1.13 3.694-2.26 5.05-.454.528-.906 1.13-1.358 1.734-.452.603-.754 1.508-.98 1.96-.226.452-.377.829-.904.829-.528 0-.678-.377-.905-.83-.226-.451-.527-1.356-.98-1.959-.452-.603-.904-1.206-1.356-1.734C3.132 9.121 2 7.764 2 5.427 2 2.487 4.412 0 7.503 0zm0 1.364c-2.283 0-4.14 1.822-4.14 4.063 0 1.843.86 2.873 1.946 4.177.468.547.942 1.178 1.4 1.79.34.452.596.99.794 1.444.198-.455.453-.992.793-1.445.459-.61.931-1.242 1.413-1.803 1.074-1.29 1.933-2.32 1.933-4.163 0-2.24-1.858-4.063-4.139-4.063zm0 2.734a1.33 1.33 0 11-.001 2.658 1.33 1.33 0 010-2.658\"></path></svg></span>Maps</a>,\n",
       " <a href=\"/search?q=come+together+lyrics&amp;source=lnms&amp;tbm=bks&amp;sa=X&amp;ved=2ahUKEwiDt8zL3ef7AhWW0YUKHa0SC18Q_AUoAXoECAIQCw\" role=\"menuitem\" tabindex=\"-1\"><span class=\"bmaJhd iJddsb\" style=\"height:16px;width:16px\"><svg focusable=\"false\" viewbox=\"0 0 24 24\"><path d=\"M18 2H6a2 2 0 0 0-2 2v16c0 1.1.9 2 2 2h12a2 2 0 0 0 2-2V4a2 2 0 0 0-2-2zm0 18H6V4h2v8l2.5-1.5L13 12V4h5v16\"></path></svg></span>Livros</a>,\n",
       " <a href=\"https://www.google.com/flights?q=come+together+lyrics&amp;source=lnms&amp;tbm=flm&amp;sa=X&amp;ved=2ahUKEwiDt8zL3ef7AhWW0YUKHa0SC18Q_AUoAnoECAIQDA\" role=\"menuitem\" tabindex=\"-1\"><span class=\"bmaJhd iJddsb\" style=\"height:16px;width:16px\"><svg focusable=\"false\" viewbox=\"0 0 24 24\"><path d=\"M12.98 12.89l-4.03 4.03.42 2.95L8.24 21l-1.87-3.37L3 15.76l1.12-1.12 2.95.42 4.03-4.03L3 6.77l1.5-1.5 10.04 2.32 4.2-4.2a1.32 1.32 0 0 1 1.87 0c.52.52.52 1.36 0 1.87l-4.2 4.2 2.32 10.04-1.5 1.5-4.25-8.11\"></path></svg></span>Voos</a>,\n",
       " <a href=\"https://www.google.com/finance?sa=X&amp;ved=2ahUKEwiDt8zL3ef7AhWW0YUKHa0SC18Q_AUoA3oECAIQDQ\" role=\"menuitem\" tabindex=\"-1\"><span class=\"bmaJhd iJddsb\" style=\"height:16px;width:16px\"><svg focusable=\"false\" viewbox=\"0 0 24 24\"><path d=\"M6 15.5l-3 2.94V10h3v5.5zm5-1.84l-1.57-1.34L8 13.64V6h3v7.66zM16 12l-3 3V2h3v10zm2.81-.19L17 10h5v5l-1.79-1.79L13 20.36l-3.47-3.02L5.75 21H3l6.47-6.34L13 17.64l5.81-5.83\"></path></svg></span>Finanças</a>,\n",
       " <a aria-checked=\"false\" href=\"/search?q=come+together+lyrics&amp;source=lnt&amp;tbs=lr:lang_1pt&amp;lr=lang_pt&amp;sa=X&amp;ved=2ahUKEwiDt8zL3ef7AhWW0YUKHa0SC18QpwV6BAgCEBU\" role=\"menuitemradio\">Pesquisar páginas em Português</a>,\n",
       " <a aria-checked=\"false\" href=\"/search?q=come+together+lyrics&amp;source=lnt&amp;tbs=qdr:h&amp;sa=X&amp;ved=2ahUKEwiDt8zL3ef7AhWW0YUKHa0SC18QpwV6BAgCEBo\" role=\"menuitemradio\"> Na última hora</a>,\n",
       " <a aria-checked=\"false\" href=\"/search?q=come+together+lyrics&amp;source=lnt&amp;tbs=qdr:d&amp;sa=X&amp;ved=2ahUKEwiDt8zL3ef7AhWW0YUKHa0SC18QpwV6BAgCEBs\" role=\"menuitemradio\"> Nas últimas 24 horas</a>,\n",
       " <a aria-checked=\"false\" href=\"/search?q=come+together+lyrics&amp;source=lnt&amp;tbs=qdr:w&amp;sa=X&amp;ved=2ahUKEwiDt8zL3ef7AhWW0YUKHa0SC18QpwV6BAgCEBw\" role=\"menuitemradio\"> Na última semana</a>,\n",
       " <a aria-checked=\"false\" href=\"/search?q=come+together+lyrics&amp;source=lnt&amp;tbs=qdr:m&amp;sa=X&amp;ved=2ahUKEwiDt8zL3ef7AhWW0YUKHa0SC18QpwV6BAgCEB0\" role=\"menuitemradio\"> No último mês</a>,\n",
       " <a aria-checked=\"false\" href=\"/search?q=come+together+lyrics&amp;source=lnt&amp;tbs=qdr:y&amp;sa=X&amp;ved=2ahUKEwiDt8zL3ef7AhWW0YUKHa0SC18QpwV6BAgCEB4\" role=\"menuitemradio\"> No último ano</a>,\n",
       " <a aria-checked=\"false\" href=\"/search?q=come+together+lyrics&amp;source=lnt&amp;tbs=li:1&amp;sa=X&amp;ved=2ahUKEwiDt8zL3ef7AhWW0YUKHa0SC18QpwV6BAgCECU\" role=\"menuitemradio\">Ipsis Verbis</a>,\n",
       " <a data-uri=\"/setprefs?sig=0_ysBnAvHpdsO_cefOcU_yCdvDCkE%3D&amp;source=en_ignored_notification&amp;prev=https://www.google.com/search?q%3Dcome%2Btogether%2Blyrics&amp;hideein=1\" data-ved=\"2ahUKEwiDt8zL3ef7AhWW0YUKHa0SC18Q4R0oAHoECAQQAg\" href=\"#\" jsaction=\"IYtByb\" style=\"position:absolute;right:11px;top:13px;color:inherit\"><span class=\"z1asCe wuXmqc\" style=\"width:20px;height:20px\"><svg focusable=\"false\" viewbox=\"0 0 24 24\" xmlns=\"http://www.w3.org/2000/svg\"><path d=\"M19 6.41L17.59 5 12 10.59 6.41 5 5 6.41 10.59 12 5 17.59 6.41 19 12 13.41 17.59 19 19 17.59 13.41 12z\"></path></svg></span></a>,\n",
       " <a href=\"/setprefs?sig=0_ysBnAvHpdsO_cefOcU_yCdvDCkE%3D&amp;source=en_ignored_notification&amp;prev=https://www.google.com/search?q%3Dcome%2Btogether%2Blyrics&amp;hl=en&amp;sa=X&amp;ved=2ahUKEwiDt8zL3ef7AhWW0YUKHa0SC18QhoQCKAF6BAgEEAM\" style=\"display:inline-block;line-height:18px;margin-top:8px;padding:0;font-size:13px\">Change to English</a>,\n",
       " <a data-uri=\"/setprefs?sig=0_ysBnAvHpdsO_cefOcU_yCdvDCkE%3D&amp;source=en_ignored_notification&amp;prev=https://www.google.com/search?q%3Dcome%2Btogether%2Blyrics&amp;hl=pt-PT\" data-ved=\"2ahUKEwiDt8zL3ef7AhWW0YUKHa0SC18Qh4QCKAJ6BAgEEAQ\" href=\"#\" jsaction=\"IYtByb\" style=\"display:inline-block;line-height:18px;margin-top:5px\">Manter em <span>Português</span></a>,\n",
       " <a class=\"fl\" href=\"/preferences?sa=X&amp;ved=2ahUKEwiDt8zL3ef7AhWW0YUKHa0SC18QiIQCKAN6BAgEEAU#languages\">Definições do idioma</a>,\n",
       " <a class=\"tGS0Nc\" href=\"/preferences?hl=pt-PT&amp;prev=https://www.google.com/search?q%3Dcome%2Btogether%2Blyrics\" ping=\"/url?sa=t&amp;source=web&amp;rct=j&amp;url=/preferences%3Fhl%3Dpt-PT%26prev%3Dhttps://www.google.com/search%3Fq%253Dcome%252Btogether%252Blyrics&amp;ved=2ahUKEwiDt8zL3ef7AhWW0YUKHa0SC18Q65sIegQIBBAJ\" tabindex=\"0\">Ver todas as definições da Pesquisa</a>,\n",
       " <a href=\"/history/optout?hl=pt-PT\" ping=\"/url?sa=t&amp;source=web&amp;rct=j&amp;url=/history/optout%3Fhl%3Dpt-PT&amp;ved=2ahUKEwiDt8zL3ef7AhWW0YUKHa0SC18Q7JsIegQIBBAK\"><span class=\"ZI7elf\">Histórico de pesquisas</span><div class=\"ogD9ue\"><span class=\"z1asCe eznrjd\" style=\"color:#5f6368\"><svg focusable=\"false\" viewbox=\"0 0 24 24\" xmlns=\"http://www.w3.org/2000/svg\"><path d=\"M19 19H5V5h7V3H5c-1.11 0-2 .9-2 2v14c0 1.1.89 2 2 2h14c1.1 0 2-.9 2-2v-7h-2v7zM14 3v2h3.59l-9.83 9.83 1.41 1.41L19 6.41V10h2V3h-7z\"></path></svg></span></div></a>,\n",
       " <a class=\"SknMB\" href=\"/history/privacyadvisor/search/unauth?utm_source=googlemenu\" ping=\"/url?sa=t&amp;source=web&amp;rct=j&amp;url=/history/privacyadvisor/search/unauth%3Futm_source%3Dgooglemenu&amp;ved=2ahUKEwiDt8zL3ef7AhWW0YUKHa0SC18Q7ZsIegQIBBAL\"><span class=\"tkWDZc\">Saiba mais sobre os seus dados na Pesquisa</span></a>,\n",
       " <a class=\"W2x9Sc\" href=\"/safesearch?prev=https://www.google.com/search?q%3Dcome%2Btogether%2Blyrics&amp;sa=X&amp;ved=2ahUKEwiDt8zL3ef7AhWW0YUKHa0SC18Q8JsIegQIBBAM\">Gerir definição da Pesquisa segura</a>,\n",
       " <a href=\"/preferences?hl=pt-PT&amp;prev=https://www.google.com/search?q%3Dcome%2Btogether%2Blyrics#languages\" ping=\"/url?sa=t&amp;source=web&amp;rct=j&amp;url=/preferences%3Fhl%3Dpt-PT%26prev%3Dhttps://www.google.com/search%3Fq%253Dcome%252Btogether%252Blyrics%23languages&amp;ved=2ahUKEwiDt8zL3ef7AhWW0YUKHa0SC18Q8ZsIegQIBBAP\" style=\"display:flex\"><div class=\"ZI7elf UCGAnb\"><span>Idiomas</span><span style=\"font-size:12px\"> (Languages)</span></div><span class=\"kQEH5b\" style=\"color:#70757a\">português (Portugal)</span></a>,\n",
       " <a href=\"/advanced_search?q=come+together+lyrics&amp;hl=pt-PT\" ping=\"/url?sa=t&amp;source=web&amp;rct=j&amp;url=/advanced_search%3Fq%3Dcome%2Btogether%2Blyrics%26hl%3Dpt-PT&amp;ved=2ahUKEwiDt8zL3ef7AhWW0YUKHa0SC18Q7psIegQIBBAQ\"><span class=\"ZI7elf\">Pesquisa avançada</span><span class=\"z1asCe eznrjd\" style=\"color:#5f6368\"><svg focusable=\"false\" viewbox=\"0 0 24 24\" xmlns=\"http://www.w3.org/2000/svg\"><path d=\"M19 19H5V5h7V3H5c-1.11 0-2 .9-2 2v14c0 1.1.89 2 2 2h14c1.1 0 2-.9 2-2v-7h-2v7zM14 3v2h3.59l-9.83 9.83 1.41 1.41L19 6.41V10h2V3h-7z\"></path></svg></span></a>,\n",
       " <a href=\"https://support.google.com/websearch/?p=dsrp_search_hc&amp;hl=pt-PT\" ping=\"/url?sa=t&amp;source=web&amp;rct=j&amp;url=https://support.google.com/websearch/%3Fp%3Ddsrp_search_hc%26hl%3Dpt-PT&amp;ved=2ahUKEwiDt8zL3ef7AhWW0YUKHa0SC18Q8psIegQIBBAU\"><span class=\"ZI7elf\">Pesquisar na ajuda</span><span class=\"z1asCe eznrjd\" style=\"color:#5f6368\"><svg focusable=\"false\" viewbox=\"0 0 24 24\" xmlns=\"http://www.w3.org/2000/svg\"><path d=\"M19 19H5V5h7V3H5c-1.11 0-2 .9-2 2v14c0 1.1.89 2 2 2h14c1.1 0 2-.9 2-2v-7h-2v7zM14 3v2h3.59l-9.83 9.83 1.41 1.41L19 6.41V10h2V3h-7z\"></path></svg></span></a>,\n",
       " <a href=\"/search?q=come+together+lyrics&amp;lr=lang_pt&amp;sa=X&amp;ved=2ahUKEwiDt8zL3ef7AhWW0YUKHa0SC18QuAF6BAgGEAE\">Pesquisar apenas resultados em <em>português</em></a>,\n",
       " <a href=\"/preferences?hl=pt-PT#languages\" ping=\"/url?sa=t&amp;source=web&amp;rct=j&amp;url=/preferences%3Fhl%3Dpt-PT%23languages&amp;ved=2ahUKEwiDt8zL3ef7AhWW0YUKHa0SC18QtwF6BAgGEAI\">Preferências</a>,\n",
       " <a data-ved=\"2ahUKEwiDt8zL3ef7AhWW0YUKHa0SC18Ql4kGegQIDhAE\" href=\"#\" jsaction=\"fT3Ybb\">forneça feedback geral</a>,\n",
       " <a class=\"DQc04b wHYlTd eJtrMc Wt5Tfe\" href=\"#\" jsaction=\"rT2OA\" jsname=\"RgELLe\" role=\"link\" tabindex=\"0\"><div class=\"bQkCTc xTWltf\"><img alt=\"\" class=\"fTE6nf\" src=\"https://www.gstatic.com/kpui/social/fb_32x32.png\"/></div>Facebook</a>,\n",
       " <a class=\"DQc04b wHYlTd eJtrMc Wt5Tfe\" href=\"#\" jsaction=\"re2RZb\" jsname=\"P8lkFb\" role=\"link\" tabindex=\"0\"><div class=\"bQkCTc xTWltf\"><img alt=\"\" class=\"fTE6nf\" src=\"https://www.gstatic.com/kpui/social/twitter_32x32.png\"/></div>Twitter</a>,\n",
       " <a class=\"DQc04b wHYlTd Q7PwXb eJtrMc Wt5Tfe\" href=\"#\" jsaction=\"NmUBTc\" jsname=\"bVp1N\" role=\"link\" tabindex=\"0\"><div class=\"bQkCTc xTWltf\"><img alt=\"\" class=\"fTE6nf\" src=\"/images/icons/material/system/1x/email_grey600_24dp.png\"/></div><span class=\"tW0dvd\">Partilhar por email</span></a>,\n",
       " <a data-ved=\"2ahUKEwiDt8zL3ef7AhWW0YUKHa0SC18Q5s4FegQIFhAI\" href=\"https://www.musixmatch.com/\" ping=\"/url?sa=t&amp;source=web&amp;rct=j&amp;url=https://www.musixmatch.com/&amp;ved=2ahUKEwiDt8zL3ef7AhWW0YUKHa0SC18Q5s4FegQIFhAI\">Musixmatch</a>,\n",
       " <a data-ved=\"2ahUKEwiDt8zL3ef7AhWW0YUKHa0SC18QFnoECAoQAQ\" href=\"https://genius.com/The-beatles-come-together-lyrics\" ping=\"/url?sa=t&amp;source=web&amp;rct=j&amp;url=https://genius.com/The-beatles-come-together-lyrics&amp;ved=2ahUKEwiDt8zL3ef7AhWW0YUKHa0SC18QFnoECAoQAQ\"><br/><h3 class=\"LC20lb MBeuO DKV0Md\">The Beatles – Come Together Lyrics - Genius</h3><div class=\"TbwUpd NJjxre\"><cite class=\"iUh30 qLRx3b tjvcx\" role=\"text\">https://genius.com<span class=\"dyjrff qzEoUe\" role=\"text\"> › The-beatles-co...</span></cite></div></a>,\n",
       " <a class=\"fl iUh30\" href=\"https://translate.google.com/translate?hl=pt-PT&amp;sl=en&amp;u=https://genius.com/The-beatles-come-together-lyrics&amp;prev=search&amp;pto=aue\" ping=\"/url?sa=t&amp;source=web&amp;rct=j&amp;url=https://translate.google.com/translate%3Fhl%3Dpt-PT%26sl%3Den%26u%3Dhttps://genius.com/The-beatles-come-together-lyrics%26prev%3Dsearch%26pto%3Daue&amp;ved=2ahUKEwiDt8zL3ef7AhWW0YUKHa0SC18Q7gF6BAgKEAU\"><span>Traduzir esta página</span></a>,\n",
       " <a data-ved=\"2ahUKEwiDt8zL3ef7AhWW0YUKHa0SC18QFnoECCQQAQ\" href=\"https://www.letras.mus.br/the-beatles/199/\" ping=\"/url?sa=t&amp;source=web&amp;rct=j&amp;url=https://www.letras.mus.br/the-beatles/199/&amp;ved=2ahUKEwiDt8zL3ef7AhWW0YUKHa0SC18QFnoECCQQAQ\"><br/><h3 class=\"LC20lb MBeuO DKV0Md\">Come Together - The Beatles - LETRAS.MUS.BR</h3><div class=\"TbwUpd NJjxre\"><cite class=\"iUh30 qLRx3b tjvcx\" role=\"text\">https://www.letras.mus.br<span class=\"dyjrff qzEoUe\" role=\"text\"> › the-beatles</span></cite></div></a>,\n",
       " <a data-ved=\"2ahUKEwiDt8zL3ef7AhWW0YUKHa0SC18QFnoECDkQAQ\" href=\"https://www.letras.mus.br/the-beatles/199/traducao.html\" ping=\"/url?sa=t&amp;source=web&amp;rct=j&amp;url=https://www.letras.mus.br/the-beatles/199/traducao.html&amp;ved=2ahUKEwiDt8zL3ef7AhWW0YUKHa0SC18QFnoECDkQAQ\"><br/><h3 class=\"LC20lb MBeuO DKV0Md\">COME TOGETHER (TRADUÇÃO) - The Beatles - Letras</h3><div class=\"TbwUpd NJjxre\"><cite class=\"iUh30 qLRx3b tjvcx\" role=\"text\">https://www.letras.mus.br<span class=\"dyjrff qzEoUe\" role=\"text\"> › the-beatles › traducao</span></cite></div></a>,\n",
       " <a data-ved=\"2ahUKEwiDt8zL3ef7AhWW0YUKHa0SC18QFnoECD8QAw\" href=\"https://www.beatlesbible.com/songs/come-together/\" ping=\"/url?sa=t&amp;source=web&amp;rct=j&amp;url=https://www.beatlesbible.com/songs/come-together/&amp;ved=2ahUKEwiDt8zL3ef7AhWW0YUKHa0SC18QFnoECD8QAw\"><br/><h3 class=\"LC20lb MBeuO DKV0Md\">Come Together – song facts, recording info and more!</h3><div class=\"TbwUpd NJjxre\"><cite class=\"iUh30 qLRx3b tjvcx\" role=\"text\">https://www.beatlesbible.com<span class=\"dyjrff qzEoUe\" role=\"text\"> › songs › come-together</span></cite></div></a>,\n",
       " <a href=\"/search?q=What+is+the+meaning+behind+Come+Together+by+the+Beatles%3F&amp;sa=X&amp;ved=2ahUKEwiDt8zL3ef7AhWW0YUKHa0SC18Qzmd6BAhQEAY\">What is the meaning behind Come Together by the Beatles?</a>,\n",
       " <a data-ved=\"2ahUKEwiDt8zL3ef7AhWW0YUKHa0SC18QFnoECEAQAw\" href=\"https://www.recmusicbeatles.com/public/files/faqs/britguide.html\" ping=\"/url?sa=t&amp;source=web&amp;rct=j&amp;url=https://www.recmusicbeatles.com/public/files/faqs/britguide.html&amp;ved=2ahUKEwiDt8zL3ef7AhWW0YUKHa0SC18QFnoECEAQAw\"><br/><h3 class=\"LC20lb MBeuO DKV0Md\">BRITGUIDE---an introduction to Britishisms in the Beatles' Lyrics</h3><div class=\"TbwUpd NJjxre\"><cite class=\"iUh30 qLRx3b tjvcx\" role=\"text\">https://www.recmusicbeatles.com<span class=\"dyjrff qzEoUe\" role=\"text\"> › public › files › faqs</span></cite></div></a>,\n",
       " <a href=\"/search?q=What+does+walrus+gumboot+mean%3F&amp;sa=X&amp;ved=2ahUKEwiDt8zL3ef7AhWW0YUKHa0SC18Qzmd6BAhOEAY\">What does walrus gumboot mean?</a>,\n",
       " <a data-ved=\"2ahUKEwiDt8zL3ef7AhWW0YUKHa0SC18QFnoECEoQAw\" href=\"https://en.wikipedia.org/wiki/Come_Together\" ping=\"/url?sa=t&amp;source=web&amp;rct=j&amp;url=https://en.wikipedia.org/wiki/Come_Together&amp;ved=2ahUKEwiDt8zL3ef7AhWW0YUKHa0SC18QFnoECEoQAw\"><br/><h3 class=\"LC20lb MBeuO DKV0Md\">Come Together - Wikipedia</h3><div class=\"TbwUpd NJjxre\"><cite class=\"iUh30 qLRx3b tjvcx\" role=\"text\">https://en.wikipedia.org<span class=\"dyjrff qzEoUe\" role=\"text\"> › wiki › Come_Together</span></cite></div></a>,\n",
       " <a href=\"https://webcache.googleusercontent.com/search?q=cache:ztWXQBVryO0J:https://en.wikipedia.org/wiki/Come_Together&amp;cd=13&amp;hl=pt-PT&amp;ct=clnk&amp;gl=pt\" ping=\"/url?sa=t&amp;source=web&amp;rct=j&amp;url=https://webcache.googleusercontent.com/search%3Fq%3Dcache:ztWXQBVryO0J:https://en.wikipedia.org/wiki/Come_Together%26cd%3D13%26hl%3Dpt-PT%26ct%3Dclnk%26gl%3Dpt&amp;ved=2ahUKEwiDt8zL3ef7AhWW0YUKHa0SC18QIHoECEoQCg\"><span>Em cache</span></a>,\n",
       " <a href=\"/search?q=related:https://en.wikipedia.org/wiki/Come_Together+come+together+lyrics&amp;sa=X&amp;ved=2ahUKEwiDt8zL3ef7AhWW0YUKHa0SC18QH3oECEoQCw\"><span>Semelhante</span></a>,\n",
       " <a href=\"/search?q=Is+Come+Together+originally+a+Beatles+song%3F&amp;sa=X&amp;ved=2ahUKEwiDt8zL3ef7AhWW0YUKHa0SC18Qzmd6BAhREAY\">Is Come Together originally a Beatles song?</a>,\n",
       " <a data-ved=\"2ahUKEwiDt8zL3ef7AhWW0YUKHa0SC18QFnoECE0QAw\" href=\"https://ig.ft.com/life-of-a-song/come-together.html\" ping=\"/url?sa=t&amp;source=web&amp;rct=j&amp;url=https://ig.ft.com/life-of-a-song/come-together.html&amp;ved=2ahUKEwiDt8zL3ef7AhWW0YUKHa0SC18QFnoECE0QAw\"><br/><h3 class=\"LC20lb MBeuO DKV0Md\">Come Together — how The Beatles' song became one of their most ...</h3><div class=\"TbwUpd NJjxre\"><cite class=\"iUh30 qLRx3b tjvcx\" role=\"text\">https://ig.ft.com<span class=\"dyjrff qzEoUe\" role=\"text\"> › life-of-a-song › come-together</span></cite></div></a>,\n",
       " <a href=\"/search?q=What+Chuck+Berry+song+is+Come+Together+based+on%3F&amp;sa=X&amp;ved=2ahUKEwiDt8zL3ef7AhWW0YUKHa0SC18Qzmd6BAhUEAY\">What Chuck Berry song is Come Together based on?</a>,\n",
       " <a class=\"oBa0Fe\" data-async-trigger=\"duf3-44\" data-ved=\"2ahUKEwiDt8zL3ef7AhWW0YUKHa0SC18Qtw96BAhPEAc\" href=\"#\" jsaction=\"trigger.szjOR\" role=\"button\">Feedback</a>,\n",
       " <a class=\"X5OiLe\" data-hveid=\"CCMQAQ\" data-ved=\"2ahUKEwiDt8zL3ef7AhWW0YUKHa0SC18QwqsBegQIIxAB\" href=\"https://www.youtube.com/watch?v=45cYwDMibGo\" ping=\"/url?sa=t&amp;source=web&amp;rct=j&amp;url=https://www.youtube.com/watch%3Fv%3D45cYwDMibGo&amp;ved=2ahUKEwiDt8zL3ef7AhWW0YUKHa0SC18QwqsBegQIIxAB\"><div class=\"sI5x9c\" jsname=\"tX7jT\"><div aria-hidden=\"true\" class=\"WM9LLd\"><div jsslot=\"1\"><g-img jsname=\"zccVWc\"><img alt=\"\" class=\"YQ4gaf zr758c\" data-atf=\"4\" data-frt=\"0\" height=\"70\" id=\"dimg_1\" src=\"data:image/jpeg;base64,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\" width=\"124\"/></g-img></div><div aria-hidden=\"true\" class=\"z9RGvc\" jsname=\"DwcXhb\" style=\"border-radius:5px\"><div id=\"_-6SQY8PNMJajlwStpaz4BQ_37\"><div class=\"V1Ddwd\"><div jsaction=\"M5KdSb:dB6bid;FS4Ybf:FhYbAb;g5vUBf:QnYmUe;hhJgv:sAbFSb;rcuQ6b:npT2md\" jscontroller=\"yuKjYb\" jsdata=\"ZQsE3e;_;BpFlJc\"><div class=\"V1Ddwd\" data-hveid=\"CCMQAw\" data-ved=\"2ahUKEwiDt8zL3ef7AhWW0YUKHa0SC18QnLQBegQIIxAD\" jsname=\"haAclf\"></div><div class=\"YAcjHf\" data-text-opacity-off=\"0.87\" data-text-opacity-on=\"0.36\" data-ved=\"2ahUKEwiDt8zL3ef7AhWW0YUKHa0SC18QnbQBegQIIxAE\" jsaction=\"rcuQ6b:npT2md\" jscontroller=\"dBuwMe\" jsname=\"kyCLBb\" style=\"right:-4px;bottom:2px\"><div aria-hidden=\"true\" class=\"WPQVp sIXqsb OvQkSb n9iHLc\" jsname=\"NQBQ7d\">Pré-visualização</div><div aria-hidden=\"true\" class=\"WPQVp pveGH OvQkSb n9iHLc\" jsname=\"pwYex\">Pré-visualização</div></div></div></div></div><div class=\"Woharf\"></div></div><div aria-hidden=\"true\" class=\"NqpkQc\" style=\"border-radius:5px\"></div><div aria-hidden=\"true\" class=\"i5w0Le\"><span class=\"z1asCe UIgqBe\" style=\"height:35px;line-height:35px;width:35px\"><svg focusable=\"false\" viewbox=\"0 0 24 24\" xmlns=\"http://www.w3.org/2000/svg\"><path d=\"M12 2C6.48 2 2 6.48 2 12s4.48 10 10 10 10-4.48 10-10S17.52 2 12 2zm-2 14.5v-9l6 4.5-6 4.5z\"></path></svg></span></div><div class=\"ZWiQ5\" style=\"bottom:0px\"><div class=\"lR1utd\"><span class=\"R4Cuhd\"><div class=\"J1mWY\"><div aria-label=\"4 minutos e 19 segundos\" role=\"presentation\">4:19</div></div></span></div></div></div><div aria-level=\"3\" class=\"WZIVy\" role=\"heading\"><div class=\"uOId3b\"><div class=\"fc9yUc tNxQIb ynAwRc OSrXXb\"><span class=\"cHaqb\">The Beatles - Come Together</span></div></div><div class=\"FzCfme\"><span class=\"pcJO7e\"><cite>YouTube</cite><span><span aria-hidden=\"true\"> ·</span> TheBeatlesVEVO</span></span><div><div class=\"ruktOc\">4 minutos e 19 segundos</div></div><div class=\"hMJ0yc\"><span>21/06/2018</span></div></div></div></div></a>,\n",
       " <a class=\"X5OiLe\" data-hveid=\"CDMQAQ\" data-ved=\"2ahUKEwiDt8zL3ef7AhWW0YUKHa0SC18QwqsBegQIMxAB\" href=\"https://www.youtube.com/watch?v=aSbM1nMdra0\" ping=\"/url?sa=t&amp;source=web&amp;rct=j&amp;url=https://www.youtube.com/watch%3Fv%3DaSbM1nMdra0&amp;ved=2ahUKEwiDt8zL3ef7AhWW0YUKHa0SC18QwqsBegQIMxAB\"><div class=\"sI5x9c\" jsname=\"tX7jT\"><div aria-hidden=\"true\" class=\"WM9LLd\"><div jsslot=\"1\"><g-img jsname=\"zccVWc\"><img alt=\"\" class=\"YQ4gaf zr758c\" data-atf=\"4\" data-frt=\"0\" height=\"70\" id=\"dimg_5\" src=\"data:image/jpeg;base64,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\" width=\"124\"/></g-img></div><div aria-hidden=\"true\" class=\"NqpkQc\" style=\"border-radius:5px\"></div><div aria-hidden=\"true\" class=\"i5w0Le\"><span class=\"z1asCe UIgqBe\" style=\"height:35px;line-height:35px;width:35px\"><svg focusable=\"false\" viewbox=\"0 0 24 24\" xmlns=\"http://www.w3.org/2000/svg\"><path d=\"M12 2C6.48 2 2 6.48 2 12s4.48 10 10 10 10-4.48 10-10S17.52 2 12 2zm-2 14.5v-9l6 4.5-6 4.5z\"></path></svg></span></div><div class=\"ZWiQ5\" style=\"bottom:0px\"><div class=\"lR1utd\"><span class=\"R4Cuhd\"><div class=\"J1mWY\"><div aria-label=\"4 minutos e 24 segundos\" role=\"presentation\">4:24</div></div></span></div></div></div><div aria-level=\"3\" class=\"WZIVy\" role=\"heading\"><div class=\"uOId3b\"><div class=\"fc9yUc tNxQIb ynAwRc OSrXXb\"><span class=\"cHaqb\">The Beatles - Come Together (Lyrics)</span></div></div><div class=\"FzCfme\"><span class=\"pcJO7e\"><cite>YouTube</cite><span><span aria-hidden=\"true\"> ·</span> LF12</span></span><div><div class=\"ruktOc\">4 minutos e 24 segundos</div></div><div class=\"hMJ0yc\"><span>13/12/2019</span></div></div></div></div></a>,\n",
       " <a class=\"X5OiLe\" data-hveid=\"CDEQAQ\" data-ved=\"2ahUKEwiDt8zL3ef7AhWW0YUKHa0SC18QwqsBegQIMRAB\" href=\"https://www.youtube.com/watch?v=tW-daYDX9XE\" ping=\"/url?sa=t&amp;source=web&amp;rct=j&amp;url=https://www.youtube.com/watch%3Fv%3DtW-daYDX9XE&amp;ved=2ahUKEwiDt8zL3ef7AhWW0YUKHa0SC18QwqsBegQIMRAB\"><div class=\"sI5x9c\" jsname=\"tX7jT\"><div aria-hidden=\"true\" class=\"WM9LLd\"><div jsslot=\"1\"><g-img jsname=\"zccVWc\"><img alt=\"\" class=\"YQ4gaf zr758c\" data-atf=\"4\" data-frt=\"0\" height=\"70\" id=\"dimg_3\" src=\"data:image/jpeg;base64,/9j/4AAQSkZJRgABAQAAAQABAAD/2wCEAAkGBwgHBgkIBwgKCgkLDRYPDQwMDRsUFRAWIB0iIiAdHx8kKDQsJCYxJx8fLT0tMTU3Ojo6Iys/RD84QzQ5OjcBCgoKDQwNGg8PGjclHyU3Nzc3Nzc3Nzc3Nzc3Nzc3Nzc3Nzc3Nzc3Nzc3Nzc3Nzc3Nzc3Nzc3Nzc3Nzc3Nzc3N//AABEIAEYAfAMBIgACEQEDEQH/xAAcAAACAgMBAQAAAAAAAAAAAAAFBgACAwQHAQj/xABHEAABAgUCAQYICggGAwAAAAABAgMABAUGERIhMQcTIkFRlBUWMmFxs9LiFBcjQlJidIGRoSQzQ0VTZHWxNVVyc8HRJSY2/8QAGQEAAwEBAQAAAAAAAAAAAAAAAQIDAAQF/8QAKREAAgEDAwIFBQEAAAAAAAAAAQIAAxESITFRBEETYXGx4SMygcHwIv/aAAwDAQACEQMRAD8AVLuuuuUyuuSklOhthLTSglUu0s5U2kndSSTuTxMCBfNzHhUUd0Y9iK39g3Q9n+Ax6pMAgjsiZM7UpgiMKb4uQ7eEUA/ZGPYjIm97jOxqCM/ZGfYheSM41DEZAnt+4wpYyy0l4jAm9LjOyqgjP2Rn2IsLzuPOPCCfN+iM+xAJKM4B49RjKEFQ+sIUsZdaC8Rut6tzlUE8qqoanHZdtt9lSktN6NC9040dIKKgCOwcYZGp9tSXJV2hUd1TSlKShSgnorW8EoPye4CSkbb9DPWI5glODkY37Ug/3j0hSwkEIwBgfJpH/EUSottTPP6joqpa6L7R5r8+pFBmXpemsMPJmmnm5orZLiCA3sUpbAJySMHsVnhusm87j058II34fojPsQKLZI4Dc42SBFSjr+4Qr1ATpL9L0jIp8QQsq9LjGAKgjP2Rn2Iqq9bjSP8AEEd0Z9iBBTjjuoxiUnHHc9kDIyzUV4hk3vco3NQR3Rj2Ixm+bl6qgjujHsQFUn6X4RjUCerEMDImkvEOG+7lH7xR3Rj2IwXnUJubXSJp99ReepyVOFICATzjg4JwBwHVAVQAgjdH6ih/0xPrXIdTOasthCV+Y8Z38/wGPVJgEkADKTsIP32D4zvY/gMeqTAMDIwUwjHWdVMaCPMvyXXG75RkUJ069SnVYI0oOR0d/wBYB6QeyA9vW1OV1U2JJ+UbRKBPOrmHClPSVpTjYk5MMlCvm7qlNLlpBuSecDC1lDjW2hKEasdLsbTt257Y2qJRbztJU/OMStLZaUAt9U063zaNCyQR0hjCuH3QLA7Qh6ighiL9oOZ5N60tMsfhFMQJkfJpXMkHOjnMeTx0Aq9AMC6Fbs1W3ZtMm9KBMojW4664UoKdWAQQDn8IZ6ZXbvr8q1OSbMipqmrKlOFsIweYWnK8q3w3q+/EeU+1ruoUtPNy6WZNLzIbeeVNpQUoSUnZeoY8pP44hSAdhLq7qCHYAzT+LyspSpSnZABLIfV8qvopOMfM8/VAqq0CYpcxJsPPyjy5xtLrRl3SsaFnoknA4w9OzN6NMvqmGqIlDUqgTBWtA0tkDTr6ex2GIVpKRrNxfBZqWabdEg01KIOQnCW0KWnIPXhJ3hWA2AlaNSobl2FhNr4s6+pwoS7TTg6dQmTgq1FOnyeOUkRRPJlcKw2pIkdLmNBL5wc6cfN+sPzhkqlWvqkS70/OS1MQy0NayhCFBB18cBWdWpz84H1uv3nbrMkxU1SaG8BLIGlf6pIG+FbHCwT90MQg5kQ/UNoCsT3LUqabjYoBDCZ99KVJ1LOkZTqAJxtsOzjBNzkxr6Nucp4JeSyPl1ZUpQSR83byhxg45Rr3euhiurYkvCTWAhSnUBCsANjbVvnVt2mKVu5b2o8m3OVGVpiGTMtlCubCilzm0rSAAr6KRBAHeI9SobBSL/uLNJ5PK1VpFuclFyIbdcU2hLr5SolLgbJxpO2oj8YGXTaFUtluVXVuYAmSQ2lpwk7JSTnYfTH35h8E3fktRTNy8hSWJFnE2FMtoToThMwQBq4HSCR1+mEK6Lqql0GWNXW258GLha0I0+WoE9fmAHmENoBJA1GbtaLigkRvXT+pof8ATE+tcjTV5kx2G07QotwWvS5uqSvOvIY5sK1EdEKJxt5yYKyPUbTn19AeM7+/7Bj1SYCJx9L84NX2R4zv5H7Bj1SYCI8yYVt50UvtEYbNmqpK1tPgBCXag6w602lRxgFBKiDqTghIJG/V1x0RyqcoLrin3aDS0q5p0Fal6UhC9KlZy/j56ePm88cytqsvW/WpaqS6G3HWNelCiQOkhSOrs1Zhy+NKfdmm5l6lyzi20rHSfcCVakoSdSQcKGEDY5G8YEW3hqIzNdVB/vWalkTlwtU+oyFvyMvOS6kc5OJeHFGhSMeWnIwScDJyBDe/WuUFxrD1FkVIWy4roE50dFSt0v5GxTtxweuF6yRdVvNuO063vhSai226kuYwppOTlO/A84N/RBty77spzLc5M2820y00Chwk4DXyQOcHcHSnc/SjDQakxqgyc4qp/PzLLnr5Mysu0WnCYCRJYW4etKeiEl/B2Uk7DG+YF28zd1Ep7optPbMuvQ64pxQOoLbKU5w4MghecdoB2xGeUuys1p5iaYt5idmJOYQ4h1DiwUOFATuM4OUtnj543Jq6rqkKct+o0FtMuAlDz72cqVpSkEnOc8Dt2wuh1uY/1FGGC69r/Mw3BWLuRSpldZolKTIrJaeykkFRWBkgPE51I48NoHVpq67wakX3aVK81hTjKpZSWw5zg3J1uHfDJ22xg56o2qnU7pueglpFCKpGZdDjbrP0g4tRxvuMkjf6MYqUq7qZIyEsmgOPS0ip6YCXVYCkuoUk5wdgApRHpMY6nc2hUYLkAoYHny9ZddRvahIM3N0mTLcrJMskzB1gNsLBSs6XclWpackcdttoGVWZuu7qBItqpkiZNcykMOskIcedSnmsYU4c7HfCQOvhBmr1W7a1TJiRVawQJqXJS4hSgUNKKDtk4PkJ47wCRWalaUvRmapbzQfkluvSL0y6sHp41dFKsHiOIhvK+kiBf/WIy9fmE5yqX9KW/UJSYo0i3INyq5aZXxKEBpCSdneIRpIIHWfRHLFZ+kIfqpymVKfpU9T1yEmhudZU26pBUNyhCNQHAYCOHnhAWe1I+6MTeampUG4tMS89ojv3Jqf/AEynf6D/AHj5/Xp7MR3OwqrJyNo01qZdKFlrUBpJ2yf+oZJz9TtOV36T4zvY/gMeqTAJJHWT6IN3/wD/AFD3+wx6pEAUkCA0pTOgmyhXYMRlSRwOVGNZKifMIulXUnbzwk6VadBp3KI9KPMFylMOtNUxuQDYWlKiE6crK9BJzpHROQN8RmmeUFickjKTNBSplUomVXpnSkqCdGDkIz8wdvGOepV1Dh1mMiV536hwjZNAKNK97RvtC8HrXamW25REx8IUhSypzTjSlQxwPHVx80bNfvYVumTEk7SkIW8624l5UwXOYKQkHQCkadQTg4PWYSQvh9YxOc2z9aFu1rS2FIvmRrH+g8oi6LSpWRRSW3lS6dBeVMlOsalKA06dt1nrj0co7QkVyq6ChfOyyZZx5c3qccCfJ1KLe+MnGeGeMIBXuR2xQr2yeHXDBmiNRokk2950aZ5URMrHwq32VthpxnmTNHm3EKCdlpKCFY0/nCxed0m55qWmFSKZNxlvm1Yd1hzhg+SOzz8YXSvGx3HVGNSsbHcQcid5PwqanJRIojrGPRGJRPUcxFHA2OR2RiUQeG0YQM0i1doxHS6XqNBpOEE/oo4HHzlRzBSj1x9HclRb8R6frQpR0ncIJiizjrm4nPbhs0VequThqRYJQhBbEtqwUJCeOsZ4dkD08nKRv4YPdPfiRIawkg5Et8XgP74PdPfi3xfDGBVz3T34kSNiJQVG5lvi/HAVY4+ye/FjYI4eFj3X348iQMRGFZ+ZbxB6WfCx2/lffieIPRx4WPdffiRIGIh8epzIqwskHwse6+/HhsDc/wDljv8AyvvxIkbETGvU5nniAMYNXPdPfiniABt4XPdPfj2JBxEXxn5lDyeDP+LnunvxU8naT+9z3T34kSCFEU1Glfi6H+cHunvw+UCuu2rSJakMy6JtLKd3lqLZJP1d/wC8SJBtJkk7z//Z\" width=\"124\"/></g-img></div><div aria-hidden=\"true\" class=\"NqpkQc\" style=\"border-radius:5px\"></div><div aria-hidden=\"true\" class=\"i5w0Le\"><span class=\"z1asCe UIgqBe\" style=\"height:35px;line-height:35px;width:35px\"><svg focusable=\"false\" viewbox=\"0 0 24 24\" xmlns=\"http://www.w3.org/2000/svg\"><path d=\"M12 2C6.48 2 2 6.48 2 12s4.48 10 10 10 10-4.48 10-10S17.52 2 12 2zm-2 14.5v-9l6 4.5-6 4.5z\"></path></svg></span></div><div class=\"ZWiQ5\" style=\"bottom:0px\"><div class=\"lR1utd\"><span class=\"R4Cuhd\"><div class=\"J1mWY\"><div aria-label=\"3 minutos e 49 segundos\" role=\"presentation\">3:49</div></div></span></div></div></div><div aria-level=\"3\" class=\"WZIVy\" role=\"heading\"><div class=\"uOId3b\"><div class=\"fc9yUc tNxQIb ynAwRc OSrXXb\"><span class=\"cHaqb\">Come Together - The Beatles tribute - Lyrics</span></div></div><div class=\"FzCfme\"><span class=\"pcJO7e\"><cite>YouTube</cite><span><span aria-hidden=\"true\"> ·</span> lyrics2stream</span></span><div><div class=\"ruktOc\">3 minutos e 49 segundos</div></div><div class=\"hMJ0yc\"><span>09/07/2015</span></div></div></div></div></a>,\n",
       " <a class=\"X5OiLe\" data-hveid=\"CDQQAQ\" data-ved=\"2ahUKEwiDt8zL3ef7AhWW0YUKHa0SC18QwqsBegQINBAB\" href=\"https://www.youtube.com/watch?v=rx-JLbt24sc\" ping=\"/url?sa=t&amp;source=web&amp;rct=j&amp;url=https://www.youtube.com/watch%3Fv%3Drx-JLbt24sc&amp;ved=2ahUKEwiDt8zL3ef7AhWW0YUKHa0SC18QwqsBegQINBAB\"><div class=\"sI5x9c\" jsname=\"tX7jT\"><div aria-hidden=\"true\" class=\"WM9LLd\"><div jsslot=\"1\"><g-img jsname=\"zccVWc\"><img alt=\"\" class=\"YQ4gaf zr758c\" data-atf=\"4\" data-frt=\"0\" height=\"70\" id=\"dimg_7\" src=\"data:image/jpeg;base64,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\" width=\"124\"/></g-img></div><div aria-hidden=\"true\" class=\"z9RGvc\" jsname=\"DwcXhb\" style=\"border-radius:5px\"><div id=\"_-6SQY8PNMJajlwStpaz4BQ_44\"><div class=\"V1Ddwd\"><div jsaction=\"M5KdSb:dB6bid;FS4Ybf:FhYbAb;g5vUBf:QnYmUe;hhJgv:sAbFSb;rcuQ6b:npT2md\" jscontroller=\"yuKjYb\" jsdata=\"ZQsE3e;_;BpFlJs\"><div class=\"V1Ddwd\" data-hveid=\"CDQQAw\" data-ved=\"2ahUKEwiDt8zL3ef7AhWW0YUKHa0SC18QnLQBegQINBAD\" jsname=\"haAclf\"></div><div class=\"YAcjHf\" data-text-opacity-off=\"0.87\" data-text-opacity-on=\"0.36\" data-ved=\"2ahUKEwiDt8zL3ef7AhWW0YUKHa0SC18QnbQBegQINBAE\" jsaction=\"rcuQ6b:npT2md\" jscontroller=\"dBuwMe\" jsname=\"kyCLBb\" style=\"right:-4px;bottom:2px\"><div aria-hidden=\"true\" class=\"WPQVp sIXqsb OvQkSb n9iHLc\" jsname=\"NQBQ7d\">Pré-visualização</div><div aria-hidden=\"true\" class=\"WPQVp pveGH OvQkSb n9iHLc\" jsname=\"pwYex\">Pré-visualização</div></div></div></div></div><div class=\"Woharf\"></div></div><div aria-hidden=\"true\" class=\"NqpkQc\" style=\"border-radius:5px\"></div><div aria-hidden=\"true\" class=\"i5w0Le\"><span class=\"z1asCe UIgqBe\" style=\"height:35px;line-height:35px;width:35px\"><svg focusable=\"false\" viewbox=\"0 0 24 24\" xmlns=\"http://www.w3.org/2000/svg\"><path d=\"M12 2C6.48 2 2 6.48 2 12s4.48 10 10 10 10-4.48 10-10S17.52 2 12 2zm-2 14.5v-9l6 4.5-6 4.5z\"></path></svg></span></div><div class=\"ZWiQ5\" style=\"bottom:0px\"><div class=\"lR1utd\"><span class=\"R4Cuhd\"><div class=\"J1mWY\"><div aria-label=\"3 minutos e 36 segundos\" role=\"presentation\">3:36</div></div></span></div></div></div><div aria-level=\"3\" class=\"WZIVy\" role=\"heading\"><div class=\"uOId3b\"><div class=\"fc9yUc tNxQIb ynAwRc OSrXXb\"><span class=\"cHaqb\">Now United - Come Together (Official Lyric Video)</span></div></div><div class=\"FzCfme\"><span class=\"pcJO7e\"><cite>YouTube</cite><span><span aria-hidden=\"true\"> ·</span> NOW UNITED</span></span><div><div class=\"ruktOc\">3 minutos e 36 segundos</div></div><div class=\"hMJ0yc\"><span>26/05/2021</span></div></div></div></div></a>,\n",
       " <a class=\"tiS4rf Q2MMlc\" href=\"/search?tbm=vid&amp;q=come+together+lyrics&amp;sa=X&amp;ved=2ahUKEwiDt8zL3ef7AhWW0YUKHa0SC18Q8ccDegQINRAF\"><hr aria-hidden=\"true\" class=\"pb5vrc\"/><div class=\"MXl0lf tKtwEb wHYlTd\"><span aria-hidden=\"true\" class=\"EZRelc HbX59e\"><span class=\"z1asCe lYxQe\"><svg focusable=\"false\" viewbox=\"0 0 24 24\" xmlns=\"http://www.w3.org/2000/svg\"><path d=\"M12 4l-1.41 1.41L16.17 11H4v2h12.17l-5.58 5.59L12 20l8-8z\"></path></svg></span></span><span class=\"wUrVib OSrXXb\"><span>Ver tudo</span></span></div></a>,\n",
       " <a data-ved=\"2ahUKEwiDt8zL3ef7AhWW0YUKHa0SC18QFnoECB4QAQ\" href=\"https://www.azlyrics.com/lyrics/beatles/cometogether.html\" ping=\"/url?sa=t&amp;source=web&amp;rct=j&amp;url=https://www.azlyrics.com/lyrics/beatles/cometogether.html&amp;ved=2ahUKEwiDt8zL3ef7AhWW0YUKHa0SC18QFnoECB4QAQ\"><br/><h3 class=\"LC20lb MBeuO DKV0Md\">The Beatles - Come Together Lyrics | AZLyrics.com</h3><div class=\"TbwUpd NJjxre\"><cite class=\"iUh30 qLRx3b tjvcx\" role=\"text\">https://www.azlyrics.com<span class=\"dyjrff qzEoUe\" role=\"text\"> › lyrics</span></cite></div></a>,\n",
       " <a class=\"fl iUh30\" href=\"https://translate.google.com/translate?hl=pt-PT&amp;sl=en&amp;u=https://www.azlyrics.com/lyrics/beatles/cometogether.html&amp;prev=search&amp;pto=aue\" ping=\"/url?sa=t&amp;source=web&amp;rct=j&amp;url=https://translate.google.com/translate%3Fhl%3Dpt-PT%26sl%3Den%26u%3Dhttps://www.azlyrics.com/lyrics/beatles/cometogether.html%26prev%3Dsearch%26pto%3Daue&amp;ved=2ahUKEwiDt8zL3ef7AhWW0YUKHa0SC18Q7gF6BAgeEAU\"><span>Traduzir esta página</span></a>,\n",
       " <a data-ved=\"2ahUKEwiDt8zL3ef7AhWW0YUKHa0SC18QFnoECB8QAQ\" href=\"https://songmeanings.com/songs/view/159/\" ping=\"/url?sa=t&amp;source=web&amp;rct=j&amp;url=https://songmeanings.com/songs/view/159/&amp;ved=2ahUKEwiDt8zL3ef7AhWW0YUKHa0SC18QFnoECB8QAQ\"><br/><h3 class=\"LC20lb MBeuO DKV0Md\">The Beatles - Come Together Lyrics | SongMeanings</h3><div class=\"TbwUpd NJjxre\"><cite class=\"iUh30 qLRx3b tjvcx\" role=\"text\">https://songmeanings.com<span class=\"dyjrff qzEoUe\" role=\"text\"> › view</span></cite></div></a>,\n",
       " <a class=\"fl iUh30\" href=\"https://translate.google.com/translate?hl=pt-PT&amp;sl=en&amp;u=https://songmeanings.com/songs/view/159/&amp;prev=search&amp;pto=aue\" ping=\"/url?sa=t&amp;source=web&amp;rct=j&amp;url=https://translate.google.com/translate%3Fhl%3Dpt-PT%26sl%3Den%26u%3Dhttps://songmeanings.com/songs/view/159/%26prev%3Dsearch%26pto%3Daue&amp;ved=2ahUKEwiDt8zL3ef7AhWW0YUKHa0SC18Q7gF6BAgfEAU\"><span>Traduzir esta página</span></a>,\n",
       " <a data-ved=\"2ahUKEwiDt8zL3ef7AhWW0YUKHa0SC18QFnoECCEQAQ\" href=\"https://en.wikipedia.org/wiki/Come_Together\" ping=\"/url?sa=t&amp;source=web&amp;rct=j&amp;url=https://en.wikipedia.org/wiki/Come_Together&amp;ved=2ahUKEwiDt8zL3ef7AhWW0YUKHa0SC18QFnoECCEQAQ\"><br/><h3 class=\"LC20lb MBeuO DKV0Md\">Come Together - Wikipedia</h3><div class=\"TbwUpd NJjxre\"><cite class=\"iUh30 qLRx3b tjvcx\" role=\"text\">https://en.wikipedia.org<span class=\"dyjrff qzEoUe\" role=\"text\"> › wiki › Co...</span></cite></div></a>,\n",
       " <a class=\"fl iUh30\" href=\"https://translate.google.com/translate?hl=pt-PT&amp;sl=en&amp;u=https://en.wikipedia.org/wiki/Come_Together&amp;prev=search&amp;pto=aue\" ping=\"/url?sa=t&amp;source=web&amp;rct=j&amp;url=https://translate.google.com/translate%3Fhl%3Dpt-PT%26sl%3Den%26u%3Dhttps://en.wikipedia.org/wiki/Come_Together%26prev%3Dsearch%26pto%3Daue&amp;ved=2ahUKEwiDt8zL3ef7AhWW0YUKHa0SC18Q7gF6BAghEAU\"><span>Traduzir esta página</span></a>,\n",
       " <a href=\"http://en.wikipedia.org/wiki/Something_(Beatles_song)\" ping=\"/url?sa=t&amp;source=web&amp;rct=j&amp;url=http://en.wikipedia.org/wiki/Something_(Beatles_song)&amp;ved=2ahUKEwiDt8zL3ef7AhWW0YUKHa0SC18Qs2YoAHoECCUQAw\">Something</a>,\n",
       " <a href=\"http://en.wikipedia.org/wiki/Blues_rock\" ping=\"/url?sa=t&amp;source=web&amp;rct=j&amp;url=http://en.wikipedia.org/wiki/Blues_rock&amp;ved=2ahUKEwiDt8zL3ef7AhWW0YUKHa0SC18Qs2YoAHoECCUQBg\">Blues rock</a>,\n",
       " <a href=\"http://en.wikipedia.org/wiki/Swamp_rock\" ping=\"/url?sa=t&amp;source=web&amp;rct=j&amp;url=http://en.wikipedia.org/wiki/Swamp_rock&amp;ved=2ahUKEwiDt8zL3ef7AhWW0YUKHa0SC18Qs2YoAXoECCUQBw\">swamp rock</a>,\n",
       " <a data-ved=\"2ahUKEwiDt8zL3ef7AhWW0YUKHa0SC18QFnoECCAQAQ\" href=\"https://musicaroo.com/come-together-lyrics-meaning/\" ping=\"/url?sa=t&amp;source=web&amp;rct=j&amp;url=https://musicaroo.com/come-together-lyrics-meaning/&amp;ved=2ahUKEwiDt8zL3ef7AhWW0YUKHa0SC18QFnoECCAQAQ\"><br/><h3 class=\"LC20lb MBeuO DKV0Md\">\"Come Together\" Lyrics &amp; Meaning (The Beatles) - Musicaroo</h3><div class=\"TbwUpd NJjxre\"><cite class=\"iUh30 qLRx3b tjvcx\" role=\"text\">https://musicaroo.com<span class=\"dyjrff qzEoUe\" role=\"text\"> › come-toget...</span></cite></div></a>,\n",
       " <a class=\"fl iUh30\" href=\"https://translate.google.com/translate?hl=pt-PT&amp;sl=en&amp;u=https://musicaroo.com/come-together-lyrics-meaning/&amp;prev=search&amp;pto=aue\" ping=\"/url?sa=t&amp;source=web&amp;rct=j&amp;url=https://translate.google.com/translate%3Fhl%3Dpt-PT%26sl%3Den%26u%3Dhttps://musicaroo.com/come-together-lyrics-meaning/%26prev%3Dsearch%26pto%3Daue&amp;ved=2ahUKEwiDt8zL3ef7AhWW0YUKHa0SC18Q7gF6BAggEAU\"><span>Traduzir esta página</span></a>,\n",
       " <a class=\"ekf0x hSQtef\" href=\"/search?source=univ&amp;tbm=isch&amp;q=come+together+lyrics&amp;fir=QjpIFkVoyh-EWM%252CuU4KjGKhKs_6rM%252C_%253B5ef8KwGMq1ayFM%252CTIeDly8hxi4nHM%252C_%253Be_5Lv6FJPXWtfM%252ChWCj-Zhizwhw8M%252C_%253BstcozlzFc0C0nM%252CRvKNO9n-1M3H-M%252C_%253BWci9yRHDbNCYEM%252C6hNlGmrU_GgYtM%252C_%253BHmJ8RxjBa8YQIM%252ClUrAAkg5NXQpBM%252C_%253BsJGjUMPPYEmxRM%252Cea7E3C5FNJumrM%252C_%253Bl2CsEt7LftuaYM%252C1vCkatfTgCAkaM%252C_%253BeUk33y-BFJF0hM%252CHiuX7HEYON_BAM%252C_%253BUgUFAkxmArUY1M%252CL4XArNRAwMz6pM%252C_&amp;usg=AI4_-kRG9aUCGqVLR_FgnZRApgdlgU16Sg&amp;sa=X&amp;ved=2ahUKEwiDt8zL3ef7AhWW0YUKHa0SC18QjJkEegQIIhAC\"><div class=\"iv236 kNmTT\"><span class=\"iJddsb\" style=\"height:20px;width:20px\"><svg focusable=\"false\" viewbox=\"0 0 24 24\"><path d=\"M14 13l4 5H6l4-4 1.79 1.78L14 13zm-6.01-2.99A2 2 0 0 0 8 6a2 2 0 0 0-.01 4.01zM22 5v14a3 3 0 0 1-3 2.99H5c-1.64 0-3-1.36-3-3V5c0-1.64 1.36-3 3-3h14c1.65 0 3 1.36 3 3zm-2.01 0a1 1 0 0 0-1-1H5a1 1 0 0 0-1 1v14a1 1 0 0 0 1 1h7v-.01h7a1 1 0 0 0 1-1V5\"></path></svg></span></div><div class=\"dtIg1b\"><span class=\"iJddsb\" style=\"height:20px;width:20px\"><svg clip-rule=\"evenodd\" fill-rule=\"evenodd\" focusable=\"false\" viewbox=\"0 0 24 24\"><path d=\"M19 22h-7v-2h7c.55 0 1-.46 1-1V5a1 1 0 0 0-1-.99L12 4V2h7c1.66 0 3 1.36 3 3v14c0 1.65-1.35 3-3 3\" fill=\"#4285f4\"></path><path d=\"M12 22H5c-1.64 0-3-1.36-3-3V5c0-1.64 1.36-3 3-3h7v2H5c-.55 0-.99.45-.99 1L4 19c0 .55.45 1 1 1h7v2\" fill=\"#ea4335\"></path><path d=\"M14 13l-2.25 2.75L10 14l-4 4h12\" fill=\"#34a853\"></path><path d=\"M10 8c0 1.1-.9 2-2 2s-2-.9-2-2c0-1.09.9-2 2-2s2 .9 2 2\" fill=\"#fbbc04\"></path></svg></span></div><div class=\"iJ1Kvb\"><h3 aria-level=\"2\" class=\"GmE3X kWYf3c\" role=\"heading\">Imagens de come together lyrics</h3></div></a>,\n",
       " <a aria-hidden=\"false\" class=\"dgdd6c\" href=\"/search?q=come+together+lyrics&amp;tbm=isch&amp;chips=q:come+together+lyrics,online_chips:now+united:ePa1D9m7mAM%3D&amp;usg=AI4_-kR8Xviccau9QCFF-WcNWUd8ZTr23w&amp;sa=X&amp;ved=2ahUKEwiDt8zL3ef7AhWW0YUKHa0SC18QgIoDKAB6BAgiEBE\" role=\"button\"><div class=\"ZkkK1e yUTMj k1U36b\"><div class=\"POUQwd z27Mgd\"><g-img class=\"gymTod\"><img alt=\"\" class=\"YQ4gaf zr758c\" data-atf=\"4\" height=\"34\" id=\"dimg_9\" src=\"data:image/gif;base64,R0lGODlhAQABAIAAAP///////yH5BAEKAAEALAAAAAABAAEAAAICTAEAOw==\" width=\"34\"/></g-img></div><div class=\"xlY4q VDgVie VIZLse\">now united</div></div></a>,\n",
       " <a aria-hidden=\"false\" class=\"dgdd6c\" href=\"/search?q=come+together+lyrics&amp;tbm=isch&amp;chips=q:come+together+lyrics,online_chips:laurel:jLidVMD09J4%3D&amp;usg=AI4_-kQn0UMh4EnRCDNcRPRk7tMcCD-NkQ&amp;sa=X&amp;ved=2ahUKEwiDt8zL3ef7AhWW0YUKHa0SC18QgIoDKAF6BAgiEBU\" role=\"button\"><div class=\"ZkkK1e yUTMj k1U36b\"><div class=\"POUQwd z27Mgd\"><g-img class=\"gymTod\"><img alt=\"\" class=\"YQ4gaf zr758c\" data-atf=\"4\" height=\"34\" id=\"dimg_11\" src=\"data:image/gif;base64,R0lGODlhAQABAIAAAP///////yH5BAEKAAEALAAAAAABAAEAAAICTAEAOw==\" width=\"34\"/></g-img></div><div class=\"xlY4q VDgVie VIZLse\">laurel</div></div></a>,\n",
       " <a aria-hidden=\"false\" class=\"dgdd6c\" href=\"/search?q=come+together+lyrics&amp;tbm=isch&amp;chips=q:come+together+lyrics,online_chips:michael+jackson:dZt15YbIhXg%3D&amp;usg=AI4_-kQI8_D7SHL5gZFOByZ6Koccc1C7dw&amp;sa=X&amp;ved=2ahUKEwiDt8zL3ef7AhWW0YUKHa0SC18QgIoDKAJ6BAgiEBk\" role=\"button\"><div class=\"ZkkK1e yUTMj k1U36b\"><div class=\"POUQwd z27Mgd\"><g-img class=\"gymTod\"><img alt=\"\" class=\"YQ4gaf zr758c\" data-atf=\"4\" height=\"34\" id=\"dimg_13\" src=\"data:image/gif;base64,R0lGODlhAQABAIAAAP///////yH5BAEKAAEALAAAAAABAAEAAAICTAEAOw==\" width=\"34\"/></g-img></div><div class=\"xlY4q VDgVie VIZLse\">michael jackson</div></div></a>,\n",
       " <a aria-hidden=\"false\" class=\"dgdd6c\" href=\"/search?q=come+together+lyrics&amp;tbm=isch&amp;chips=q:come+together+lyrics,online_chips:the+beatles:V8jfsOJot2Y%3D&amp;usg=AI4_-kR6p5qtJqiYcbPnpBkGUB_eK-EW2g&amp;sa=X&amp;ved=2ahUKEwiDt8zL3ef7AhWW0YUKHa0SC18QgIoDKAN6BAgiEB0\" role=\"button\"><div class=\"ZkkK1e yUTMj k1U36b\"><div class=\"POUQwd z27Mgd\"><g-img class=\"gymTod\"><img alt=\"\" class=\"YQ4gaf zr758c\" data-atf=\"4\" height=\"34\" id=\"dimg_15\" src=\"data:image/gif;base64,R0lGODlhAQABAIAAAP///////yH5BAEKAAEALAAAAAABAAEAAAICTAEAOw==\" width=\"34\"/></g-img></div><div class=\"xlY4q VDgVie VIZLse\">the beatles</div></div></a>,\n",
       " <a aria-hidden=\"false\" class=\"dgdd6c\" href=\"/search?q=come+together+lyrics&amp;tbm=isch&amp;chips=q:come+together+lyrics,online_chips:quotes:QHPFXM4o17I%3D&amp;usg=AI4_-kTBK00MuCHIjh0Mk6SJNprQyaEn-Q&amp;sa=X&amp;ved=2ahUKEwiDt8zL3ef7AhWW0YUKHa0SC18QgIoDKAR6BAgiECE\" role=\"button\"><div class=\"ZkkK1e yUTMj k1U36b\"><div class=\"POUQwd z27Mgd\"><g-img class=\"gymTod\"><img alt=\"\" class=\"YQ4gaf zr758c\" data-atf=\"4\" height=\"34\" id=\"dimg_17\" src=\"data:image/gif;base64,R0lGODlhAQABAIAAAP///////yH5BAEKAAEALAAAAAABAAEAAAICTAEAOw==\" width=\"34\"/></g-img></div><div class=\"xlY4q VDgVie VIZLse\">quotes</div></div></a>,\n",
       " <a aria-hidden=\"true\" class=\"dgdd6c\" href=\"/search?q=come+together+lyrics&amp;tbm=isch&amp;chips=q:come+together+lyrics,online_chips:shivani+paliwal:FBGoMQ2dRfc%3D&amp;usg=AI4_-kSBcEp7rhW5lXyoOxT9dgeqo1nEHA&amp;sa=X&amp;ved=2ahUKEwiDt8zL3ef7AhWW0YUKHa0SC18QgIoDKAV6BAgiECU\" role=\"button\"><div class=\"ZkkK1e yUTMj k1U36b\"><div class=\"POUQwd z27Mgd\"><g-img class=\"gymTod\"><img alt=\"\" class=\"YQ4gaf zr758c\" data-atf=\"0\" height=\"34\" id=\"dimg_19\" src=\"data:image/gif;base64,R0lGODlhAQABAIAAAP///////yH5BAEKAAEALAAAAAABAAEAAAICTAEAOw==\" width=\"34\"/></g-img></div><div class=\"xlY4q VDgVie VIZLse\">shivani paliwal</div></div></a>,\n",
       " <a aria-hidden=\"true\" class=\"dgdd6c\" href=\"/search?q=come+together+lyrics&amp;tbm=isch&amp;chips=q:come+together+lyrics,online_chips:godsmack:wJ6SK980CrA%3D&amp;usg=AI4_-kSPPt_SK3qJ5FlG_AE0Li6_D8t1UQ&amp;sa=X&amp;ved=2ahUKEwiDt8zL3ef7AhWW0YUKHa0SC18QgIoDKAZ6BAgiECk\" role=\"button\"><div class=\"ZkkK1e yUTMj k1U36b\"><div class=\"POUQwd z27Mgd\"><g-img class=\"gymTod\"><img alt=\"\" class=\"YQ4gaf zr758c\" data-atf=\"0\" height=\"34\" id=\"dimg_21\" src=\"data:image/gif;base64,R0lGODlhAQABAIAAAP///////yH5BAEKAAEALAAAAAABAAEAAAICTAEAOw==\" width=\"34\"/></g-img></div><div class=\"xlY4q VDgVie VIZLse\">godsmack</div></div></a>,\n",
       " <a aria-hidden=\"true\" class=\"dgdd6c\" href=\"/search?q=come+together+lyrics&amp;tbm=isch&amp;chips=q:come+together+lyrics,online_chips:abbey+road:q_lJ8-it2Nw%3D&amp;usg=AI4_-kQ4nihf1XUbtoYQCcYdoX-86ipbCQ&amp;sa=X&amp;ved=2ahUKEwiDt8zL3ef7AhWW0YUKHa0SC18QgIoDKAd6BAgiEC0\" role=\"button\"><div class=\"ZkkK1e yUTMj k1U36b\"><div class=\"POUQwd z27Mgd\"><g-img class=\"gymTod\"><img alt=\"\" class=\"YQ4gaf zr758c\" data-atf=\"0\" height=\"34\" id=\"dimg_23\" src=\"data:image/gif;base64,R0lGODlhAQABAIAAAP///////yH5BAEKAAEALAAAAAABAAEAAAICTAEAOw==\" width=\"34\"/></g-img></div><div class=\"xlY4q VDgVie VIZLse\">abbey road</div></div></a>,\n",
       " <a aria-hidden=\"true\" class=\"dgdd6c\" href=\"/search?q=come+together+lyrics&amp;tbm=isch&amp;chips=q:come+together+lyrics,online_chips:john+lennon:SWDPw1CjkbA%3D&amp;usg=AI4_-kQAX8WQTyDHI4KGDf3ddM7sYEGhFw&amp;sa=X&amp;ved=2ahUKEwiDt8zL3ef7AhWW0YUKHa0SC18QgIoDKAh6BAgiEDE\" id=\"tsuid_46\" role=\"button\"><div class=\"ZkkK1e yUTMj k1U36b\"><div class=\"POUQwd z27Mgd\"><g-img class=\"gymTod\"><img alt=\"\" class=\"YQ4gaf zr758c\" data-src=\"https://encrypted-tbn0.gstatic.com/images?q=tbn:ANd9GcSm7GD353ZQdd5IoXunP7myMOZShW49pBUvSDDXUIBJ5g&amp;s\" height=\"34\" jsaction=\"load:K1e2pe;BUYwVb:eNYuKb;LsLGHf:KpWyKc;rcuQ6b:npT2md\" jscontroller=\"TSZEqd\" width=\"34\"/></g-img></div><div class=\"xlY4q VDgVie VIZLse\">john lennon</div></div></a>,\n",
       " <a aria-hidden=\"true\" class=\"dgdd6c\" href=\"/search?q=come+together+lyrics&amp;tbm=isch&amp;chips=q:come+together+lyrics,online_chips:george+harrison:GgYN7eIy5CQ%3D&amp;usg=AI4_-kSzuBVjhsQnsp3-DZ1u8OyIHexunw&amp;sa=X&amp;ved=2ahUKEwiDt8zL3ef7AhWW0YUKHa0SC18QgIoDKAl6BAgiEDU\" id=\"tsuid_50\" role=\"button\"><div class=\"ZkkK1e yUTMj k1U36b\"><div class=\"POUQwd z27Mgd\"><g-img class=\"gymTod\"><img alt=\"\" class=\"YQ4gaf zr758c\" data-src=\"https://encrypted-tbn0.gstatic.com/images?q=tbn:ANd9GcTvmflBPCxDq9cSYv3amnIwGCfyiZYlL7tDB-vISNt2XQ&amp;s\" height=\"34\" jsaction=\"load:K1e2pe;BUYwVb:eNYuKb;LsLGHf:KpWyKc;rcuQ6b:npT2md\" jscontroller=\"TSZEqd\" width=\"34\"/></g-img></div><div class=\"xlY4q VDgVie VIZLse\">george harrison</div></div></a>,\n",
       " <a class=\"ZZGZKb\" href=\"/search?source=univ&amp;tbm=isch&amp;q=come+together+lyrics&amp;fir=QjpIFkVoyh-EWM%252CuU4KjGKhKs_6rM%252C_%253B5ef8KwGMq1ayFM%252CTIeDly8hxi4nHM%252C_%253Be_5Lv6FJPXWtfM%252ChWCj-Zhizwhw8M%252C_%253BstcozlzFc0C0nM%252CRvKNO9n-1M3H-M%252C_%253BWci9yRHDbNCYEM%252C6hNlGmrU_GgYtM%252C_%253BHmJ8RxjBa8YQIM%252ClUrAAkg5NXQpBM%252C_%253BsJGjUMPPYEmxRM%252Cea7E3C5FNJumrM%252C_%253Bl2CsEt7LftuaYM%252C1vCkatfTgCAkaM%252C_%253BeUk33y-BFJF0hM%252CHiuX7HEYON_BAM%252C_%253BUgUFAkxmArUY1M%252CL4XArNRAwMz6pM%252C_&amp;usg=AI4_-kRG9aUCGqVLR_FgnZRApgdlgU16Sg&amp;sa=X&amp;ved=2ahUKEwiDt8zL3ef7AhWW0YUKHa0SC18Q420oAHoECCIQPQ\" jsaction=\"rcuQ6b:npT2md;qWWJ8e:.CLIENT\" jscontroller=\"E19wJb\" style=\"height:130px\"><div class=\"j4hJ8c\"><g-more-button class=\"BlGWBd\"><g-fab class=\"YsiKr r2fjmd X3BRhe CNf3nf OvQkSb wecD1d\" style=\"background-color:#fff;color:#4285f4\"><span class=\"PUDfGe S3PB2d\"><span class=\"z1asCe lYxQe\"><svg focusable=\"false\" viewbox=\"0 0 24 24\" xmlns=\"http://www.w3.org/2000/svg\"><path d=\"M12 4l-1.41 1.41L16.17 11H4v2h12.17l-5.58 5.59L12 20l8-8z\"></path></svg></span></span></g-fab><div class=\"EUjJDc nlNnsd VDgVie wHYlTd RES9jf\">Ver tudo</div></g-more-button></div></a>,\n",
       " <a class=\"tiS4rf Q2MMlc\" href=\"/search?source=univ&amp;tbm=isch&amp;q=come+together+lyrics&amp;fir=QjpIFkVoyh-EWM%252CuU4KjGKhKs_6rM%252C_%253B5ef8KwGMq1ayFM%252CTIeDly8hxi4nHM%252C_%253Be_5Lv6FJPXWtfM%252ChWCj-Zhizwhw8M%252C_%253BstcozlzFc0C0nM%252CRvKNO9n-1M3H-M%252C_%253BWci9yRHDbNCYEM%252C6hNlGmrU_GgYtM%252C_%253BHmJ8RxjBa8YQIM%252ClUrAAkg5NXQpBM%252C_%253BsJGjUMPPYEmxRM%252Cea7E3C5FNJumrM%252C_%253Bl2CsEt7LftuaYM%252C1vCkatfTgCAkaM%252C_%253BeUk33y-BFJF0hM%252CHiuX7HEYON_BAM%252C_%253BUgUFAkxmArUY1M%252CL4XArNRAwMz6pM%252C_&amp;usg=AI4_-kRG9aUCGqVLR_FgnZRApgdlgU16Sg&amp;sa=X&amp;ved=2ahUKEwiDt8zL3ef7AhWW0YUKHa0SC18Q7Al6BAgiEEY\"><hr aria-hidden=\"true\" class=\"pb5vrc\"/><div aria-label=\"Mais imagens\" class=\"MXl0lf tKtwEb wHYlTd\"><span aria-hidden=\"true\" class=\"EZRelc HbX59e\"><span class=\"z1asCe lYxQe\"><svg focusable=\"false\" viewbox=\"0 0 24 24\" xmlns=\"http://www.w3.org/2000/svg\"><path d=\"M12 4l-1.41 1.41L16.17 11H4v2h12.17l-5.58 5.59L12 20l8-8z\"></path></svg></span></span><span class=\"wUrVib OSrXXb\">Ver tudo</span></div></a>,\n",
       " <a class=\"oBa0Fe\" data-async-trigger=\"duf3-44\" data-ved=\"2ahUKEwiDt8zL3ef7AhWW0YUKHa0SC18Qtw96BAgZEAc\" href=\"#\" jsaction=\"trigger.szjOR\" role=\"button\">Feedback</a>,\n",
       " <a class=\"k8XOCe R0xfCb VCOFK s8bAkb\" data-xbu=\"true\" href=\"/search?q=Come+Together&amp;sa=X&amp;ved=2ahUKEwiDt8zL3ef7AhWW0YUKHa0SC18Q1QJ6BAhIEAE\"><div class=\"aXBZVd unhzXb\"></div><div class=\"s75CSd OhScic AB4Wff\"><b>Come Together</b></div></a>,\n",
       " <a class=\"k8XOCe R0xfCb VCOFK s8bAkb\" data-xbu=\"true\" href=\"/search?q=Come+together+(tradu%C3%A7%C3%A3o)&amp;sa=X&amp;ved=2ahUKEwiDt8zL3ef7AhWW0YUKHa0SC18Q1QJ6BAhEEAE\"><div class=\"aXBZVd unhzXb\"></div><div class=\"s75CSd OhScic AB4Wff\"><b>Come</b> together <b>(tradução)</b></div></a>,\n",
       " <a class=\"k8XOCe R0xfCb VCOFK s8bAkb\" data-xbu=\"true\" href=\"/search?q=Across+the+universe+lyrics&amp;sa=X&amp;ved=2ahUKEwiDt8zL3ef7AhWW0YUKHa0SC18Q1QJ6BAhDEAE\"><div class=\"aXBZVd unhzXb\"></div><div class=\"s75CSd OhScic AB4Wff\"><b>Across the universe</b> lyrics</div></a>,\n",
       " <a class=\"k8XOCe R0xfCb VCOFK s8bAkb\" data-xbu=\"true\" href=\"/search?q=Abbey+road+lyrics&amp;sa=X&amp;ved=2ahUKEwiDt8zL3ef7AhWW0YUKHa0SC18Q1QJ6BAhCEAE\"><div class=\"aXBZVd unhzXb\"></div><div class=\"s75CSd OhScic AB4Wff\"><b>Abbey road</b> lyrics</div></a>,\n",
       " <a class=\"k8XOCe R0xfCb VCOFK s8bAkb\" data-xbu=\"true\" href=\"/search?q=Let+it+be+lyrics&amp;sa=X&amp;ved=2ahUKEwiDt8zL3ef7AhWW0YUKHa0SC18Q1QJ6BAhBEAE\"><div class=\"aXBZVd unhzXb\"></div><div class=\"s75CSd OhScic AB4Wff\"><b>Let it be</b> lyrics</div></a>,\n",
       " <a class=\"k8XOCe R0xfCb VCOFK s8bAkb\" data-xbu=\"true\" href=\"/search?q=Come+together+az+lyrics&amp;sa=X&amp;ved=2ahUKEwiDt8zL3ef7AhWW0YUKHa0SC18Q1QJ6BAg-EAE\"><div class=\"aXBZVd unhzXb\"></div><div class=\"s75CSd OhScic AB4Wff\"><b>Come</b> together <b>az</b> lyrics</div></a>,\n",
       " <a class=\"k8XOCe R0xfCb VCOFK s8bAkb\" data-xbu=\"true\" href=\"/search?q=While+my+guitar+gently+weeps+lyrics&amp;sa=X&amp;ved=2ahUKEwiDt8zL3ef7AhWW0YUKHa0SC18Q1QJ6BAg9EAE\"><div class=\"aXBZVd unhzXb\"></div><div class=\"s75CSd OhScic AB4Wff\"><b>While my guitar gently weeps</b> lyrics</div></a>,\n",
       " <a class=\"k8XOCe R0xfCb VCOFK s8bAkb\" data-xbu=\"true\" href=\"/search?q=Come+Together+cifra&amp;sa=X&amp;ved=2ahUKEwiDt8zL3ef7AhWW0YUKHa0SC18Q1QJ6BAg6EAE\"><div class=\"aXBZVd unhzXb\"></div><div class=\"s75CSd OhScic AB4Wff\"><b>Come Together cifra</b></div></a>,\n",
       " <a aria-label=\"Page 2\" class=\"fl\" href=\"/search?q=come+together+lyrics&amp;ei=-6SQY8PNMJajlwStpaz4BQ&amp;start=10&amp;sa=N&amp;ved=2ahUKEwiDt8zL3ef7AhWW0YUKHa0SC18Q8tMDegQIARAE\"><span class=\"SJajHc NVbCr\" style=\"background:url(/images/nav_logo321.webp) no-repeat;background-position:-74px 0;background-size:167px;width:20px\"></span>2</a>,\n",
       " <a aria-label=\"Page 3\" class=\"fl\" href=\"/search?q=come+together+lyrics&amp;ei=-6SQY8PNMJajlwStpaz4BQ&amp;start=20&amp;sa=N&amp;ved=2ahUKEwiDt8zL3ef7AhWW0YUKHa0SC18Q8tMDegQIARAG\"><span class=\"SJajHc NVbCr\" style=\"background:url(/images/nav_logo321.webp) no-repeat;background-position:-74px 0;background-size:167px;width:20px\"></span>3</a>,\n",
       " <a aria-label=\"Page 4\" class=\"fl\" href=\"/search?q=come+together+lyrics&amp;ei=-6SQY8PNMJajlwStpaz4BQ&amp;start=30&amp;sa=N&amp;ved=2ahUKEwiDt8zL3ef7AhWW0YUKHa0SC18Q8tMDegQIARAI\"><span class=\"SJajHc NVbCr\" style=\"background:url(/images/nav_logo321.webp) no-repeat;background-position:-74px 0;background-size:167px;width:20px\"></span>4</a>,\n",
       " <a aria-label=\"Page 5\" class=\"fl\" href=\"/search?q=come+together+lyrics&amp;ei=-6SQY8PNMJajlwStpaz4BQ&amp;start=40&amp;sa=N&amp;ved=2ahUKEwiDt8zL3ef7AhWW0YUKHa0SC18Q8tMDegQIARAK\"><span class=\"SJajHc NVbCr\" style=\"background:url(/images/nav_logo321.webp) no-repeat;background-position:-74px 0;background-size:167px;width:20px\"></span>5</a>,\n",
       " <a aria-label=\"Page 6\" class=\"fl\" href=\"/search?q=come+together+lyrics&amp;ei=-6SQY8PNMJajlwStpaz4BQ&amp;start=50&amp;sa=N&amp;ved=2ahUKEwiDt8zL3ef7AhWW0YUKHa0SC18Q8tMDegQIARAM\"><span class=\"SJajHc NVbCr\" style=\"background:url(/images/nav_logo321.webp) no-repeat;background-position:-74px 0;background-size:167px;width:20px\"></span>6</a>,\n",
       " <a aria-label=\"Page 7\" class=\"fl\" href=\"/search?q=come+together+lyrics&amp;ei=-6SQY8PNMJajlwStpaz4BQ&amp;start=60&amp;sa=N&amp;ved=2ahUKEwiDt8zL3ef7AhWW0YUKHa0SC18Q8tMDegQIARAO\"><span class=\"SJajHc NVbCr\" style=\"background:url(/images/nav_logo321.webp) no-repeat;background-position:-74px 0;background-size:167px;width:20px\"></span>7</a>,\n",
       " <a aria-label=\"Page 8\" class=\"fl\" href=\"/search?q=come+together+lyrics&amp;ei=-6SQY8PNMJajlwStpaz4BQ&amp;start=70&amp;sa=N&amp;ved=2ahUKEwiDt8zL3ef7AhWW0YUKHa0SC18Q8tMDegQIARAQ\"><span class=\"SJajHc NVbCr\" style=\"background:url(/images/nav_logo321.webp) no-repeat;background-position:-74px 0;background-size:167px;width:20px\"></span>8</a>,\n",
       " <a aria-label=\"Page 9\" class=\"fl\" href=\"/search?q=come+together+lyrics&amp;ei=-6SQY8PNMJajlwStpaz4BQ&amp;start=80&amp;sa=N&amp;ved=2ahUKEwiDt8zL3ef7AhWW0YUKHa0SC18Q8tMDegQIARAS\"><span class=\"SJajHc NVbCr\" style=\"background:url(/images/nav_logo321.webp) no-repeat;background-position:-74px 0;background-size:167px;width:20px\"></span>9</a>,\n",
       " <a aria-label=\"Page 10\" class=\"fl\" href=\"/search?q=come+together+lyrics&amp;ei=-6SQY8PNMJajlwStpaz4BQ&amp;start=90&amp;sa=N&amp;ved=2ahUKEwiDt8zL3ef7AhWW0YUKHa0SC18Q8tMDegQIARAU\"><span class=\"SJajHc NVbCr\" style=\"background:url(/images/nav_logo321.webp) no-repeat;background-position:-74px 0;background-size:167px;width:20px\"></span>10</a>,\n",
       " <a href=\"/search?q=come+together+lyrics&amp;ei=-6SQY8PNMJajlwStpaz4BQ&amp;start=10&amp;sa=N&amp;ved=2ahUKEwiDt8zL3ef7AhWW0YUKHa0SC18Q8NMDegQIARAW\" id=\"pnnext\" style=\"text-align:left\"><span class=\"SJajHc NVbCr\" style=\"background:url(/images/nav_logo321.webp) no-repeat;background-position:-96px 0;background-size:167px;width:71px\"></span><span style=\"display:block;margin-left:53px\">Próximo</span></a>,\n",
       " <a data-biw=\"1440\" data-ved=\"2ahUKEwiDt8zL3ef7AhWW0YUKHa0SC18QuZ0HegQIAxAC\" href=\"#\" jsaction=\"click:HTIlC\" jsname=\"gXWYVe\" role=\"button\" style=\"white-space:normal\" tabindex=\"0\"><div class=\"GNm3Qb\"><span class=\"EYqSq unknown_loc\"></span><span class=\"dfB0uf\">1700, Lisboa</span></div><div class=\"GNm3Qb\"><span id=\"VdZal\"> - </span><span class=\"KwU3F\"><span>Com base no seu endereço IP</span></span></div></a>,\n",
       " <a class=\"Fx4vi wHYlTd ZYHQ7e\" href=\"https://support.google.com/websearch/?p=ws_results_help&amp;hl=pt-PT&amp;fg=1\" ping=\"/url?sa=t&amp;source=web&amp;rct=j&amp;url=https://support.google.com/websearch/%3Fp%3Dws_results_help%26hl%3Dpt-PT%26fg%3D1&amp;ved=2ahUKEwiDt8zL3ef7AhWW0YUKHa0SC18Q8KwCegQIAxAK\">Ajuda</a>,\n",
       " <a class=\"Fx4vi\" data-bucket=\"websearch\" data-psd-ssc=\"0\" data-ved=\"2ahUKEwiDt8zL3ef7AhWW0YUKHa0SC18QLnoECAMQCw\" href=\"#\" id=\"dk2qOd\" jsaction=\"trigger.YcfJ\" target=\"_blank\">Enviar feedback</a>,\n",
       " <a class=\"Fx4vi wHYlTd ZYHQ7e\" href=\"https://policies.google.com/privacy?hl=pt-PT&amp;fg=1\" ping=\"/url?sa=t&amp;source=web&amp;rct=j&amp;url=https://policies.google.com/privacy%3Fhl%3Dpt-PT%26fg%3D1&amp;ved=2ahUKEwiDt8zL3ef7AhWW0YUKHa0SC18Q8awCegQIAxAM\">Privacidade</a>,\n",
       " <a class=\"Fx4vi wHYlTd ZYHQ7e\" href=\"https://policies.google.com/terms?hl=pt-PT&amp;fg=1\" ping=\"/url?sa=t&amp;source=web&amp;rct=j&amp;url=https://policies.google.com/terms%3Fhl%3Dpt-PT%26fg%3D1&amp;ved=2ahUKEwiDt8zL3ef7AhWW0YUKHa0SC18Q8qwCegQIAxAN\">Termos</a>]"
      ]
     },
     "execution_count": 33,
     "metadata": {},
     "output_type": "execute_result"
    }
   ],
   "source": [
    "soup_selenium = BeautifulSoup(driver.page_source, 'html.parser')\n",
    "items = soup_selenium.find_all('a', href=True)\n",
    "items"
   ]
  },
  {
   "cell_type": "code",
   "execution_count": 34,
   "metadata": {},
   "outputs": [],
   "source": [
    "beatles = soup_selenium.find_all('div', {'class': 'xaAUmb'})"
   ]
  },
  {
   "cell_type": "code",
   "execution_count": 35,
   "metadata": {},
   "outputs": [
    {
     "data": {
      "text/plain": [
       "[<div class=\"xaAUmb\"><div jsname=\"Vinbg\"></div><div jsname=\"WbKHeb\"><div class=\"ujudUb\" jsname=\"U8S5sf\"><span jsname=\"YS01Ge\">Here come old flat top</span><br aria-hidden=\"true\"/><span jsname=\"YS01Ge\">He come grooving up slowly</span><br aria-hidden=\"true\"/><span jsname=\"YS01Ge\">He got joo joo eyeball</span><br aria-hidden=\"true\"/><span jsname=\"YS01Ge\">He one holy roller</span><br aria-hidden=\"true\"/><span jsname=\"YS01Ge\">He got hair down to his knee</span><br aria-hidden=\"true\"/><span jsname=\"YS01Ge\">Got to be a joker he just do what he please</span></div><div class=\"ujudUb\" jsname=\"U8S5sf\"><span jsname=\"YS01Ge\">He wear no shoe shine</span><br aria-hidden=\"true\"/><span jsname=\"YS01Ge\">He got toe jam football</span><br aria-hidden=\"true\"/><span jsname=\"YS01Ge\">He got monkey finger</span><br aria-hidden=\"true\"/><span jsname=\"YS01Ge\">He shoot Coca-Cola</span><br aria-hidden=\"true\"/><span jsname=\"YS01Ge\">He say I know you, you know me</span><br aria-hidden=\"true\"/><span jsname=\"YS01Ge\">One thing I can tell you is you got to be free</span></div><div class=\"ujudUb\" jsname=\"U8S5sf\"><span jsname=\"YS01Ge\">Come together, right now, over me</span></div><div class=\"ujudUb\" jsname=\"U8S5sf\"><span jsname=\"YS01Ge\">He bag production</span><br aria-hidden=\"true\"/><span jsname=\"YS01Ge\">He got walrus gumboot</span><br aria-hidden=\"true\"/><span jsname=\"YS01Ge\">He got Ono sideboard</span><br aria-hidden=\"true\"/><span jsname=\"YS01Ge\">He one spinal cracker</span><br aria-hidden=\"true\"/><span jsname=\"YS01Ge\">He got feet down below his knee</span><br aria-hidden=\"true\"/><span jsname=\"YS01Ge\">Hold you in his armchair you can feel his disease</span></div><div class=\"ujudUb\" jsname=\"U8S5sf\"><span jsname=\"YS01Ge\">Come together, right now, over me</span></div><div class=\"ujudUb\" jsname=\"U8S5sf\"><span jsname=\"YS01Ge\">He roller coaster</span><br aria-hidden=\"true\"/><span jsname=\"YS01Ge\">He got early warning</span><br aria-hidden=\"true\"/><span jsname=\"YS01Ge\">He got muddy water</span><br aria-hidden=\"true\"/><span jsname=\"YS01Ge\">He one mojo filter</span><br aria-hidden=\"true\"/><span jsname=\"YS01Ge\">He say, \"one and one and one is three\"</span><br aria-hidden=\"true\"/><span jsname=\"YS01Ge\">Got to be good looking 'cause he's so hard to see</span></div><div class=\"ujudUb\" jsname=\"U8S5sf\"><span jsname=\"YS01Ge\">Come together, right now, over me</span></div><div class=\"ujudUb\" jsname=\"U8S5sf\"><span jsname=\"YS01Ge\">Oh</span></div><div class=\"ujudUb\" jsname=\"U8S5sf\"><span jsname=\"YS01Ge\">Come together, yeah</span><br aria-hidden=\"true\"/><span jsname=\"YS01Ge\">Come together, yeah</span><br aria-hidden=\"true\"/><span jsname=\"YS01Ge\">Come together, yeah</span><br aria-hidden=\"true\"/><span jsname=\"YS01Ge\">Come together, yeah</span></div><div class=\"ujudUb\" jsname=\"U8S5sf\"><span jsname=\"YS01Ge\">Come together, yeah</span><br aria-hidden=\"true\"/><span jsname=\"YS01Ge\">Come together, yeah</span><br aria-hidden=\"true\"/><span jsname=\"YS01Ge\">Come together, yeah</span><br aria-hidden=\"true\"/><span jsname=\"YS01Ge\">Oh</span></div><div class=\"ujudUb WRZytc\" jsname=\"U8S5sf\"><span jsname=\"YS01Ge\">Come together, yeah</span><br aria-hidden=\"true\"/><span jsname=\"YS01Ge\">Come together, yeah</span></div></div><div class=\"yp\" data-async-type=\"lyrics_translate\" data-jiis=\"up\" data-ved=\"2ahUKEwiDt8zL3ef7AhWW0YUKHa0SC18QqP0CegQIFhAC\" id=\"gws-plugins-knowledge-verticals-music__translated-lyrics-container\" jsname=\"pQs4Gd\"></div><div data-ved=\"2ahUKEwiDt8zL3ef7AhWW0YUKHa0SC18Qnc4DegQIFhAD\" jsname=\"IspWMb\"><g-snackbar __is_owner=\"true\" id=\"ow42\" jsaction=\"rcuQ6b:npT2md\" jscontroller=\"OZLguc\" jsname=\"L72fD\" jsshadow=\"\" style=\"display:none\"><div class=\"FEXCIb\" data-ved=\"2ahUKEwiDt8zL3ef7AhWW0YUKHa0SC18Q4G96BAgWEAQ\" jsname=\"Ng57nc\" jsowner=\"ow42\"><div class=\"EA3l1b\"><div class=\"Xb004\" jsslot=\"\"><span class=\"awHmMb wHYlTd yUTMj\"><span>Ocorreu um erro. Tente novamente.</span></span></div></div></div></g-snackbar><div class=\"CLFhDc\" jsname=\"un4m9d\" style=\"display:none\"><g-loading-icon class=\"v5nPIf GuPFE VDgVie\" style=\"height:30px;min-width:30px\"><div aria-valuetext=\"A carregar...\" class=\"pSFfp fY2Z0\" role=\"progressbar\" style=\"height:30px;width:30px\"><div class=\"yiqufc jg5aPd\"><div class=\"r1glSd\"><div class=\"wgim3c jWrfPe unqUac ZvZqlb\"></div></div><div class=\"YvBkFd\"><div class=\"wgim3c jWrfPe m0HFif\"></div></div><div class=\"r1glSd\"><div class=\"wgim3c jWrfPe unqUac tJdqHd\"></div></div></div><div class=\"e3Nvve jg5aPd\"><div class=\"r1glSd\"><div class=\"wgim3c jWrfPe unqUac ZvZqlb\"></div></div><div class=\"YvBkFd\"><div class=\"wgim3c jWrfPe m0HFif\"></div></div><div class=\"r1glSd\"><div class=\"wgim3c jWrfPe unqUac tJdqHd\"></div></div></div><div class=\"kpjGNb jg5aPd\"><div class=\"r1glSd\"><div class=\"wgim3c jWrfPe unqUac ZvZqlb\"></div></div><div class=\"YvBkFd\"><div class=\"wgim3c jWrfPe m0HFif\"></div></div><div class=\"r1glSd\"><div class=\"wgim3c jWrfPe unqUac tJdqHd\"></div></div></div><div class=\"Ft8sDf jg5aPd\"><div class=\"r1glSd\"><div class=\"wgim3c jWrfPe unqUac ZvZqlb\"></div></div><div class=\"YvBkFd\"><div class=\"wgim3c jWrfPe m0HFif\"></div></div><div class=\"r1glSd\"><div class=\"wgim3c jWrfPe unqUac tJdqHd\"></div></div></div></div></g-loading-icon></div><div class=\"Z5umpb\" data-ite=\"false\" jsname=\"TGx6Ie\"><div class=\"XEByrf\"><g-raised-button class=\"Gfzyee VDgVie jREHUb R1smN Pjsr7c\" data-ved=\"2ahUKEwiDt8zL3ef7AhWW0YUKHa0SC18Qqf0CegQIFhAG\" jsaction=\"R3cSEe\" jsname=\"LnRv2c\" role=\"button\" style=\"color:#3c4043\" tabindex=\"0\"><div class=\"fSXkBc\"><div class=\"CAe8ic\"><span class=\"LDxkYb z1asCe cidbAc\" style=\"height:20px;line-height:20px;width:20px\"><svg focusable=\"false\" viewbox=\"0 0 24 24\" xmlns=\"http://www.w3.org/2000/svg\"><path d=\"M12.87 15.07l-2.54-2.51.03-.03c1.74-1.94 2.98-4.17 3.71-6.53H17V4h-7V2H8v2H1v1.99h11.17C11.5 7.92 10.44 9.75 9 11.35 8.07 10.32 7.3 9.19 6.69 8h-2c.73 1.63 1.73 3.17 2.98 4.56l-5.09 5.02L4 19l5-5 3.11 3.11.76-2.04zM18.5 10h-2L12 22h2l1.12-3h4.75L21 22h2l-4.5-12zm-2.62 7l1.62-4.33L19.12 17h-3.24z\"></path></svg></span><span>Traduzir para português</span></div></div></g-raised-button></div></div></div></div>]"
      ]
     },
     "execution_count": 35,
     "metadata": {},
     "output_type": "execute_result"
    }
   ],
   "source": [
    "beatles"
   ]
  },
  {
   "cell_type": "code",
   "execution_count": 36,
   "metadata": {},
   "outputs": [],
   "source": [
    "span_l = soup_selenium.find_all('span', {'jsname': \"YS01Ge\"})"
   ]
  },
  {
   "cell_type": "code",
   "execution_count": 37,
   "metadata": {},
   "outputs": [],
   "source": [
    "l = list(map(lambda item: item.text, span_l))\n",
    "\n",
    "str1 = \" \".join((list(l)))"
   ]
  },
  {
   "cell_type": "code",
   "execution_count": 38,
   "metadata": {},
   "outputs": [
    {
     "data": {
      "text/plain": [
       "'Here come old flat top He come grooving up slowly He got joo joo eyeball He one holy roller He got hair down to his knee Got to be a joker he just do what he please He wear no shoe shine He got toe jam football He got monkey finger He shoot Coca-Cola He say I know you, you know me One thing I can tell you is you got to be free Come together, right now, over me He bag production He got walrus gumboot He got Ono sideboard He one spinal cracker He got feet down below his knee Hold you in his armchair you can feel his disease Come together, right now, over me He roller coaster He got early warning He got muddy water He one mojo filter He say, \"one and one and one is three\" Got to be good looking \\'cause he\\'s so hard to see Come together, right now, over me Oh Come together, yeah Come together, yeah Come together, yeah Come together, yeah Come together, yeah Come together, yeah Come together, yeah Oh Come together, yeah Come together, yeah'"
      ]
     },
     "execution_count": 38,
     "metadata": {},
     "output_type": "execute_result"
    }
   ],
   "source": [
    "str1"
   ]
  },
  {
   "cell_type": "code",
   "execution_count": 17,
   "metadata": {},
   "outputs": [
    {
     "ename": "IndentationError",
     "evalue": "expected an indented block (2468779441.py, line 3)",
     "output_type": "error",
     "traceback": [
      "\u001b[1;36m  Input \u001b[1;32mIn [17]\u001b[1;36m\u001b[0m\n\u001b[1;33m    def choose_music (music):\u001b[0m\n\u001b[1;37m                             ^\u001b[0m\n\u001b[1;31mIndentationError\u001b[0m\u001b[1;31m:\u001b[0m expected an indented block\n"
     ]
    }
   ],
   "source": [
    "# music= str(input(\"Enter a music:\"))\n",
    "\n",
    "# def choose_music (music):"
   ]
  },
  {
   "cell_type": "code",
   "execution_count": 18,
   "metadata": {},
   "outputs": [],
   "source": [
    "# span_lytircs = beatles[0].span\n",
    "\n",
    "span_lytircs =  list(map(lambda item: item.span, beatles[0]))"
   ]
  },
  {
   "cell_type": "code",
   "execution_count": 19,
   "metadata": {},
   "outputs": [
    {
     "data": {
      "text/plain": [
       "[None,\n",
       " <span jsname=\"YS01Ge\">In the town where I was born</span>,\n",
       " None,\n",
       " <span class=\"awHmMb wHYlTd yUTMj\"><span>Ocorreu um erro. Tente novamente.</span></span>]"
      ]
     },
     "execution_count": 19,
     "metadata": {},
     "output_type": "execute_result"
    }
   ],
   "source": [
    "span_lytircs"
   ]
  },
  {
   "cell_type": "code",
   "execution_count": 20,
   "metadata": {},
   "outputs": [
    {
     "data": {
      "text/plain": [
       "\"In the town where I was bornLived a man who sailed to seaAnd he told us of his lifeIn the land of submarinesSo we sailed on to the sun'Til we found a sea of greenAnd we lived beneath the wavesIn our yellow submarineWe all live in a yellow submarineYellow submarine, yellow submarineWe all live in a yellow submarineYellow submarine, yellow submarineAnd our friends are all aboardMany more of them live next doorAnd the band begins to playWe all live in a yellow submarineYellow submarine, yellow submarineWe all live in a yellow submarineYellow submarine, yellow submarineFull steam ahead, Mister Boatswain, full steam aheadFull steam ahead it is, Sergeant(Cut the cable, drop the cable)Aye-aye, sir, aye-ayeCaptain, captainAs we live a life of ease (a life of ease)Every one of us (every one of us)Has all we need (has all we need)Sky of blue (sky of blue)And sea of green (sea of green)In our yellow (in our yellow)Submarine (submarine, aha)We all live in a yellow submarineA yellow submarine, yellow submarineWe all live in a yellow submarineA yellow submarine, yellow submarineWe all live in a yellow submarineYellow submarine, yellow submarineWe all live in a yellow submarineYellow submarine, yellow submarineOcorreu um erro. Tente novamente.Traduzir para português\""
      ]
     },
     "execution_count": 20,
     "metadata": {},
     "output_type": "execute_result"
    }
   ],
   "source": [
    "beatles[0].text"
   ]
  },
  {
   "cell_type": "code",
   "execution_count": 21,
   "metadata": {},
   "outputs": [
    {
     "data": {
      "text/plain": [
       "[\"In the town where I was bornLived a man who sailed to seaAnd he told us of his lifeIn the land of submarinesSo we sailed on to the sun'Til we found a sea of greenAnd we lived beneath the wavesIn our yellow submarineWe all live in a yellow submarineYellow submarine, yellow submarineWe all live in a yellow submarineYellow submarine, yellow submarineAnd our friends are all aboardMany more of them live next doorAnd the band begins to playWe all live in a yellow submarineYellow submarine, yellow submarineWe all live in a yellow submarineYellow submarine, yellow submarineFull steam ahead, Mister Boatswain, full steam aheadFull steam ahead it is, Sergeant(Cut the cable, drop the cable)Aye-aye, sir, aye-ayeCaptain, captainAs we live a life of ease (a life of ease)Every one of us (every one of us)Has all we need (has all we need)Sky of blue (sky of blue)And sea of green (sea of green)In our yellow (in our yellow)Submarine (submarine, aha)We all live in a yellow submarineA yellow submarine, yellow submarineWe all live in a yellow submarineA yellow submarine, yellow submarineWe all live in a yellow submarineYellow submarine, yellow submarineWe all live in a yellow submarineYellow submarine, yellow submarineOcorreu um erro. Tente novamente.Traduzir para português\"]"
      ]
     },
     "execution_count": 21,
     "metadata": {},
     "output_type": "execute_result"
    }
   ],
   "source": [
    "list(map(lambda item: item.text, beatles))"
   ]
  },
  {
   "cell_type": "code",
   "execution_count": 22,
   "metadata": {},
   "outputs": [
    {
     "name": "stderr",
     "output_type": "stream",
     "text": [
      "C:\\Users\\sebas\\AppData\\Local\\Temp\\ipykernel_4728\\3480314948.py:1: DeprecationWarning: executable_path has been deprecated, please pass in a Service object\n",
      "  driver2 = webdriver.Chrome(ChromeDriverManager().install())\n"
     ]
    }
   ],
   "source": [
    "driver2 = webdriver.Chrome(ChromeDriverManager().install())\n",
    "driver2.get(\"https://www.google.com/\")"
   ]
  },
  {
   "cell_type": "code",
   "execution_count": 23,
   "metadata": {},
   "outputs": [
    {
     "ename": "AttributeError",
     "evalue": "'WebDriver' object has no attribute 'find_element_by_id'",
     "output_type": "error",
     "traceback": [
      "\u001b[1;31m---------------------------------------------------------------------------\u001b[0m",
      "\u001b[1;31mAttributeError\u001b[0m                            Traceback (most recent call last)",
      "\u001b[1;32mc:\\Users\\sebas\\Desktop\\WildCodeSchool\\Project4\\Project4WebScrapStats\\Project4-webscraping.ipynb Cell 17\u001b[0m in \u001b[0;36m<cell line: 2>\u001b[1;34m()\u001b[0m\n\u001b[0;32m      <a href='vscode-notebook-cell:/c%3A/Users/sebas/Desktop/WildCodeSchool/Project4/Project4WebScrapStats/Project4-webscraping.ipynb#X22sZmlsZQ%3D%3D?line=0'>1</a>\u001b[0m \u001b[39m# Write in the boxes and press buttons\u001b[39;00m\n\u001b[1;32m----> <a href='vscode-notebook-cell:/c%3A/Users/sebas/Desktop/WildCodeSchool/Project4/Project4WebScrapStats/Project4-webscraping.ipynb#X22sZmlsZQ%3D%3D?line=1'>2</a>\u001b[0m search_box \u001b[39m=\u001b[39m driver2\u001b[39m.\u001b[39;49mfind_element_by_id(\u001b[39m'\u001b[39m\u001b[39mtwotabsearchtextbox\u001b[39m\u001b[39m'\u001b[39m)\n\u001b[0;32m      <a href='vscode-notebook-cell:/c%3A/Users/sebas/Desktop/WildCodeSchool/Project4/Project4WebScrapStats/Project4-webscraping.ipynb#X22sZmlsZQ%3D%3D?line=3'>4</a>\u001b[0m search \u001b[39m=\u001b[39m \u001b[39m'\u001b[39m\u001b[39mlyrics yellow submarine\u001b[39m\u001b[39m'\u001b[39m\n\u001b[0;32m      <a href='vscode-notebook-cell:/c%3A/Users/sebas/Desktop/WildCodeSchool/Project4/Project4WebScrapStats/Project4-webscraping.ipynb#X22sZmlsZQ%3D%3D?line=5'>6</a>\u001b[0m \u001b[39m# send_keys() to simulate key strokes\u001b[39;00m\n",
      "\u001b[1;31mAttributeError\u001b[0m: 'WebDriver' object has no attribute 'find_element_by_id'"
     ]
    }
   ],
   "source": [
    "# Write in the boxes and press buttons\n",
    "search_box = driver2.find_element_by_id('twotabsearchtextbox')\n",
    "\n",
    "search = 'lyrics yellow submarine'\n",
    "\n",
    "# send_keys() to simulate key strokes\n",
    "search_box.send_keys(search)\n",
    "\n",
    "\n",
    "\n",
    "# # locate submit button by_class_name\n",
    "search_button = driver.find_element_by_id(\"nav-search-submit-button\")  #TODO: fix. Says the button is not there.\n",
    "\n",
    "# # .click() to mimic button click\n",
    "search_button.click()"
   ]
  },
  {
   "cell_type": "code",
   "execution_count": null,
   "metadata": {},
   "outputs": [],
   "source": []
  }
 ],
 "metadata": {
  "kernelspec": {
   "display_name": "Python 3.9.13 ('data')",
   "language": "python",
   "name": "python3"
  },
  "language_info": {
   "codemirror_mode": {
    "name": "ipython",
    "version": 3
   },
   "file_extension": ".py",
   "mimetype": "text/x-python",
   "name": "python",
   "nbconvert_exporter": "python",
   "pygments_lexer": "ipython3",
   "version": "3.9.13"
  },
  "orig_nbformat": 4,
  "vscode": {
   "interpreter": {
    "hash": "a1a309976f40221a4d9c5ee4120d5c998cc1550a57c70eb64e3478c1b2cccad8"
   }
  }
 },
 "nbformat": 4,
 "nbformat_minor": 2
}
